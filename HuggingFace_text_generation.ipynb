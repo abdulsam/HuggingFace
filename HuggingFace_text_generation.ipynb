{
  "cells": [
    {
      "cell_type": "code",
      "execution_count": null,
      "metadata": {
        "id": "oshCPxGR2B2k",
        "colab": {
          "base_uri": "https://localhost:8080/"
        },
        "outputId": "022f93ba-2dae-4ce0-de41-bf1d5e669b09"
      },
      "outputs": [
        {
          "output_type": "stream",
          "name": "stdout",
          "text": [
            "Cloning into 'notebooks'...\n",
            "remote: Enumerating objects: 526, done.\u001b[K\n",
            "remote: Counting objects: 100% (173/173), done.\u001b[K\n",
            "remote: Compressing objects: 100% (47/47), done.\u001b[K\n",
            "remote: Total 526 (delta 143), reused 135 (delta 126), pack-reused 353\u001b[K\n",
            "Receiving objects: 100% (526/526), 28.62 MiB | 16.02 MiB/s, done.\n",
            "Resolving deltas: 100% (250/250), done.\n",
            "/content/notebooks\n",
            "⏳ Installing base requirements ...\n",
            "✅ Base requirements installed!\n",
            "⏳ Installing Git LFS ...\n",
            "✅ Git LFS installed!\n"
          ]
        }
      ],
      "source": [
        "!git clone https://github.com/nlp-with-transformers/notebooks.git\n",
        "%cd notebooks\n",
        "from install import *\n",
        "install_requirements()"
      ]
    },
    {
      "cell_type": "code",
      "source": [
        "!pip install wandb"
      ],
      "metadata": {
        "colab": {
          "base_uri": "https://localhost:8080/"
        },
        "id": "1L0YQb8720So",
        "outputId": "da9f1a4a-7c44-4fdd-9235-2b80ca13d7e4"
      },
      "execution_count": null,
      "outputs": [
        {
          "output_type": "stream",
          "name": "stdout",
          "text": [
            "Collecting wandb\n",
            "  Downloading wandb-0.15.10-py3-none-any.whl (2.1 MB)\n",
            "\u001b[2K     \u001b[90m━━━━━━━━━━━━━━━━━━━━━━━━━━━━━━━━━━━━━━━━\u001b[0m \u001b[32m2.1/2.1 MB\u001b[0m \u001b[31m18.6 MB/s\u001b[0m eta \u001b[36m0:00:00\u001b[0m\n",
            "\u001b[?25hRequirement already satisfied: Click!=8.0.0,>=7.1 in /usr/local/lib/python3.10/dist-packages (from wandb) (8.1.7)\n",
            "Collecting GitPython!=3.1.29,>=1.0.0 (from wandb)\n",
            "  Downloading GitPython-3.1.36-py3-none-any.whl (189 kB)\n",
            "\u001b[2K     \u001b[90m━━━━━━━━━━━━━━━━━━━━━━━━━━━━━━━━━━━━━━\u001b[0m \u001b[32m189.5/189.5 kB\u001b[0m \u001b[31m19.9 MB/s\u001b[0m eta \u001b[36m0:00:00\u001b[0m\n",
            "\u001b[?25hRequirement already satisfied: requests<3,>=2.0.0 in /usr/local/lib/python3.10/dist-packages (from wandb) (2.31.0)\n",
            "Requirement already satisfied: psutil>=5.0.0 in /usr/local/lib/python3.10/dist-packages (from wandb) (5.9.5)\n",
            "Collecting sentry-sdk>=1.0.0 (from wandb)\n",
            "  Downloading sentry_sdk-1.31.0-py2.py3-none-any.whl (224 kB)\n",
            "\u001b[2K     \u001b[90m━━━━━━━━━━━━━━━━━━━━━━━━━━━━━━━━━━━━━━\u001b[0m \u001b[32m224.8/224.8 kB\u001b[0m \u001b[31m19.9 MB/s\u001b[0m eta \u001b[36m0:00:00\u001b[0m\n",
            "\u001b[?25hCollecting docker-pycreds>=0.4.0 (from wandb)\n",
            "  Downloading docker_pycreds-0.4.0-py2.py3-none-any.whl (9.0 kB)\n",
            "Requirement already satisfied: PyYAML in /usr/local/lib/python3.10/dist-packages (from wandb) (6.0.1)\n",
            "Collecting pathtools (from wandb)\n",
            "  Downloading pathtools-0.1.2.tar.gz (11 kB)\n",
            "  Preparing metadata (setup.py) ... \u001b[?25l\u001b[?25hdone\n",
            "Collecting setproctitle (from wandb)\n",
            "  Downloading setproctitle-1.3.2-cp310-cp310-manylinux_2_5_x86_64.manylinux1_x86_64.manylinux_2_17_x86_64.manylinux2014_x86_64.whl (30 kB)\n",
            "Requirement already satisfied: setuptools in /usr/local/lib/python3.10/dist-packages (from wandb) (67.7.2)\n",
            "Requirement already satisfied: appdirs>=1.4.3 in /usr/local/lib/python3.10/dist-packages (from wandb) (1.4.4)\n",
            "Requirement already satisfied: protobuf!=4.21.0,<5,>=3.19.0 in /usr/local/lib/python3.10/dist-packages (from wandb) (3.20.3)\n",
            "Requirement already satisfied: six>=1.4.0 in /usr/local/lib/python3.10/dist-packages (from docker-pycreds>=0.4.0->wandb) (1.16.0)\n",
            "Collecting gitdb<5,>=4.0.1 (from GitPython!=3.1.29,>=1.0.0->wandb)\n",
            "  Downloading gitdb-4.0.10-py3-none-any.whl (62 kB)\n",
            "\u001b[2K     \u001b[90m━━━━━━━━━━━━━━━━━━━━━━━━━━━━━━━━━━━━━━━━\u001b[0m \u001b[32m62.7/62.7 kB\u001b[0m \u001b[31m7.4 MB/s\u001b[0m eta \u001b[36m0:00:00\u001b[0m\n",
            "\u001b[?25hRequirement already satisfied: charset-normalizer<4,>=2 in /usr/local/lib/python3.10/dist-packages (from requests<3,>=2.0.0->wandb) (3.2.0)\n",
            "Requirement already satisfied: idna<4,>=2.5 in /usr/local/lib/python3.10/dist-packages (from requests<3,>=2.0.0->wandb) (3.4)\n",
            "Requirement already satisfied: urllib3<3,>=1.21.1 in /usr/local/lib/python3.10/dist-packages (from requests<3,>=2.0.0->wandb) (1.26.16)\n",
            "Requirement already satisfied: certifi>=2017.4.17 in /usr/local/lib/python3.10/dist-packages (from requests<3,>=2.0.0->wandb) (2023.7.22)\n",
            "Collecting smmap<6,>=3.0.1 (from gitdb<5,>=4.0.1->GitPython!=3.1.29,>=1.0.0->wandb)\n",
            "  Downloading smmap-5.0.1-py3-none-any.whl (24 kB)\n",
            "Building wheels for collected packages: pathtools\n",
            "  Building wheel for pathtools (setup.py) ... \u001b[?25l\u001b[?25hdone\n",
            "  Created wheel for pathtools: filename=pathtools-0.1.2-py3-none-any.whl size=8791 sha256=7584b21730dc70ab31bfc4bd12740be4ff70abcd493dca172ceab455640d09f5\n",
            "  Stored in directory: /root/.cache/pip/wheels/e7/f3/22/152153d6eb222ee7a56ff8617d80ee5207207a8c00a7aab794\n",
            "Successfully built pathtools\n",
            "Installing collected packages: pathtools, smmap, setproctitle, sentry-sdk, docker-pycreds, gitdb, GitPython, wandb\n",
            "Successfully installed GitPython-3.1.36 docker-pycreds-0.4.0 gitdb-4.0.10 pathtools-0.1.2 sentry-sdk-1.31.0 setproctitle-1.3.2 smmap-5.0.1 wandb-0.15.10\n"
          ]
        }
      ]
    },
    {
      "cell_type": "code",
      "source": [
        "!wandb login"
      ],
      "metadata": {
        "colab": {
          "base_uri": "https://localhost:8080/"
        },
        "id": "RJ4z8_o62zXp",
        "outputId": "dc120fa5-a2ec-4101-bb35-a9e6ad735215"
      },
      "execution_count": null,
      "outputs": [
        {
          "output_type": "stream",
          "name": "stdout",
          "text": [
            "\u001b[34m\u001b[1mwandb\u001b[0m: Logging into wandb.ai. (Learn how to deploy a W&B server locally: https://wandb.me/wandb-server)\n",
            "\u001b[34m\u001b[1mwandb\u001b[0m: You can find your API key in your browser here: https://wandb.ai/authorize\n",
            "\u001b[34m\u001b[1mwandb\u001b[0m: Paste an API key from your profile and hit enter, or press ctrl+c to quit: \n",
            "\u001b[34m\u001b[1mwandb\u001b[0m: Appending key for api.wandb.ai to your netrc file: /root/.netrc\n"
          ]
        }
      ]
    },
    {
      "cell_type": "code",
      "execution_count": null,
      "metadata": {
        "id": "4TD_AtMs2B3B",
        "outputId": "3b6331fc-0211-443a-8ca7-b59eee4a45cc",
        "colab": {
          "base_uri": "https://localhost:8080/"
        }
      },
      "outputs": [
        {
          "output_type": "stream",
          "name": "stdout",
          "text": [
            "Using transformers v4.16.2\n",
            "Using datasets v1.16.1\n"
          ]
        }
      ],
      "source": [
        "# hide\n",
        "from utils import *\n",
        "setup_chapter()"
      ]
    },
    {
      "cell_type": "code",
      "source": [
        "import wandb\n",
        "import random\n",
        "\n",
        "# start a new wandb run to track this script\n",
        "wandb.init(\n",
        "    # set the wandb project where this run will be logged\n",
        "    project=\"HuggingFace_TextGeneration\")"
      ],
      "metadata": {
        "colab": {
          "base_uri": "https://localhost:8080/",
          "height": 164
        },
        "id": "6CyBhWoc3mHx",
        "outputId": "c2154ec1-c1c0-4761-91ed-1f90a676cded"
      },
      "execution_count": null,
      "outputs": [
        {
          "output_type": "stream",
          "name": "stderr",
          "text": [
            "\u001b[34m\u001b[1mwandb\u001b[0m: Currently logged in as: \u001b[33mabdussamad\u001b[0m. Use \u001b[1m`wandb login --relogin`\u001b[0m to force relogin\n",
            "\u001b[34m\u001b[1mwandb\u001b[0m: Tracking run with wandb version 0.15.10\n",
            "\u001b[34m\u001b[1mwandb\u001b[0m: Run data is saved locally in \u001b[35m\u001b[1m/content/notebooks/wandb/run-20230920_100241-4tz6x2r0\u001b[0m\n",
            "\u001b[34m\u001b[1mwandb\u001b[0m: Run \u001b[1m`wandb offline`\u001b[0m to turn off syncing.\n",
            "\u001b[34m\u001b[1mwandb\u001b[0m: Syncing run \u001b[33mchocolate-firebrand-2\u001b[0m\n",
            "\u001b[34m\u001b[1mwandb\u001b[0m: ⭐️ View project at \u001b[34m\u001b[4mhttps://wandb.ai/abdussamad/HuggingFace_TextGeneration\u001b[0m\n",
            "\u001b[34m\u001b[1mwandb\u001b[0m: 🚀 View run at \u001b[34m\u001b[4mhttps://wandb.ai/abdussamad/HuggingFace_TextGeneration/runs/4tz6x2r0\u001b[0m\n"
          ]
        },
        {
          "output_type": "execute_result",
          "data": {
            "text/html": [
              "<button onClick=\"this.nextSibling.style.display='block';this.style.display='none';\">Display W&B run</button><iframe src='https://wandb.ai/abdussamad/HuggingFace_TextGeneration/runs/4tz6x2r0?jupyter=true' style='border:none;width:100%;height:420px;display:none;'></iframe>"
            ],
            "text/plain": [
              "<wandb.sdk.wandb_run.Run at 0x79b0a58e8370>"
            ]
          },
          "metadata": {},
          "execution_count": 6
        }
      ]
    },
    {
      "cell_type": "markdown",
      "metadata": {
        "id": "_ZeQ7crn2B3G"
      },
      "source": [
        "# Text Generation"
      ]
    },
    {
      "cell_type": "markdown",
      "metadata": {
        "id": "DWce9iKC2B3m"
      },
      "source": [
        "## Greedy Search Decoding"
      ]
    },
    {
      "cell_type": "code",
      "execution_count": null,
      "metadata": {
        "id": "ZPoBjIZ42B32"
      },
      "outputs": [],
      "source": [
        "import pandas as pd\n",
        "\n",
        "# hide_output\n",
        "def greedy_search_decoding(tokenizer, model):\n",
        "    input_txt = \"Transformers are the\"\n",
        "    input_ids = tokenizer(input_txt, return_tensors=\"pt\")[\"input_ids\"].to(device)\n",
        "    iterations = []\n",
        "    n_steps = 8\n",
        "    choices_per_step = 5\n",
        "\n",
        "    with torch.no_grad():\n",
        "        for _ in range(n_steps):\n",
        "            iteration = dict()\n",
        "            iteration[\"Input\"] = tokenizer.decode(input_ids[0])\n",
        "            output = model(input_ids=input_ids)\n",
        "            # Select logits of the first batch and the last token and apply softmax\n",
        "            next_token_logits = output.logits[0, -1, :]\n",
        "            next_token_probs = torch.softmax(next_token_logits, dim=-1)\n",
        "            sorted_ids = torch.argsort(next_token_probs, dim=-1, descending=True)\n",
        "            # Store tokens with highest probabilities\n",
        "            for choice_idx in range(choices_per_step):\n",
        "                token_id = sorted_ids[choice_idx]\n",
        "                token_prob = next_token_probs[token_id].cpu().numpy()\n",
        "                token_choice = (\n",
        "                    f\"{tokenizer.decode(token_id)} ({100 * token_prob:.2f}%)\"\n",
        "                )\n",
        "                iteration[f\"Choice {choice_idx+1}\"] = token_choice\n",
        "            # Append predicted next token to input\n",
        "            input_ids = torch.cat([input_ids, sorted_ids[None, 0, None]], dim=-1)\n",
        "            iterations.append(iteration)\n",
        "\n",
        "    return pd.DataFrame(iterations)"
      ]
    },
    {
      "cell_type": "markdown",
      "source": [
        "###GPT-2 -- Medium"
      ],
      "metadata": {
        "id": "zn1yx4MtHtGh"
      }
    },
    {
      "cell_type": "markdown",
      "source": [
        "Loading GPT-2 Medium Model"
      ],
      "metadata": {
        "id": "VOc4yghvW0CK"
      }
    },
    {
      "cell_type": "code",
      "execution_count": null,
      "metadata": {
        "id": "PJHmPIDB2B3r",
        "colab": {
          "base_uri": "https://localhost:8080/",
          "height": 177,
          "referenced_widgets": [
            "82c5f68d39ce49c883c7903ee532c4f0",
            "827f4ddef54a47fea7b0edd71d62c8e1",
            "092487c8c47e4c8e8592c9912fad6941",
            "829d36c5f4834bc9bffb530a9dec0af5",
            "dc3596a69ddf4aaa97c2caf6219189bb",
            "d37588b6720b401db0c4ef7a680ff175",
            "9014da9c3b5f47589d8f2c890512773b",
            "127f5c69d6e74190a2f6be1029f63abd",
            "1f675e7cfd3946ee8204435ff778c903",
            "e7b98b14308e469882ef5003443e23ae",
            "3a0a7ca3b8a74af09ec92349667e7b47",
            "c223c7353377451c9380719bcf3e9a2d",
            "9ed92fd1d7104ef3a425cd93debc18bd",
            "cdca0d7650ba4d41be76257fb8e6f380",
            "245c60a3785c4614af5c8bf22bc365bb",
            "28dae8ebf82f427cb54a4ba42f84cf3a",
            "c0002158de254c1c9e2b7dd1d8e1b5a2",
            "9eb3543c64c24e00a1fb4a2b2d4ccf0b",
            "080e5f4394e649cea5ff34713a911a68",
            "682f5faf7e3b4855bef52269643db96a",
            "aa68cedcc3054d8a9af9e02d9d5d75bc",
            "1dade3e1351f4b35893dbf9aa3df8e16",
            "766bc824e083459793b9dffc65066fea",
            "218c52a954324308afd90b78b5c93af5",
            "cb3ceb76a3754a9686a160c7768edd47",
            "bd99f85b940a4041b7d77d0aa73f4bf3",
            "6554a2c3f7974856b6ebfb7ff71382fa",
            "f2b03d4f81564892838b6323eb5d1272",
            "9ad4c59882fb4a5585ca30674a64fa63",
            "13430921143a4b34890221d8032a2661",
            "80a7e17aca604ad88b7c0585e8a41ba8",
            "6e0b7b42e1b84ff8b095b787791c59cc",
            "9448bdd5da9b4bce9a19279c2f4798d1",
            "479a01c111ec4a05bee056478aca7ae9",
            "70475e9529e348f08bef213c7ff21fd4",
            "442dd1530b514b1aa9cec21b7cf01e76",
            "dca66ef063ec4bb5ac9fee69af49adb9",
            "d9685b8cfa44472a8b2d796fd9483f5e",
            "32f63e2aac6143718589f761818d8851",
            "d3389704e53b45bc9f8a6efd2d3350e4",
            "7c3301ebf4184a159976f24f581f91b7",
            "d05068c3696e4e4aa642a9c62d3a4f3f",
            "6b16a3ef222e48b4ac3de96fe8d5177e",
            "3a7ef577357042f3af337090baff2cff",
            "927082aac830482494a972c4ae9561be",
            "fb2c5f198d30477898cb288c1b27b501",
            "2d21d2653beb4617b5f5f9449ea0ae4d",
            "9998960e41644f2ba25b4b48212c78e0",
            "4e3ee4220d304b54b736ffb48d5b723d",
            "b62811e395a44be7998f7afc50adb5bf",
            "507aa18e2cde4e07884dc0779664c9dd",
            "f88490001e8a43b19d106ad025cba47c",
            "c038f34f5b3845b39901cae1d53a222c",
            "b8b6b5c0fbf8414fa09f7b0ac7253538",
            "2f41fb6a2c0943b1bd38e4134ebca767"
          ]
        },
        "outputId": "d0e865f9-8db1-4011-dff5-562922e935a7"
      },
      "outputs": [
        {
          "output_type": "display_data",
          "data": {
            "text/plain": [
              "Downloading:   0%|          | 0.00/718 [00:00<?, ?B/s]"
            ],
            "application/vnd.jupyter.widget-view+json": {
              "version_major": 2,
              "version_minor": 0,
              "model_id": "82c5f68d39ce49c883c7903ee532c4f0"
            }
          },
          "metadata": {}
        },
        {
          "output_type": "display_data",
          "data": {
            "text/plain": [
              "Downloading:   0%|          | 0.00/0.99M [00:00<?, ?B/s]"
            ],
            "application/vnd.jupyter.widget-view+json": {
              "version_major": 2,
              "version_minor": 0,
              "model_id": "c223c7353377451c9380719bcf3e9a2d"
            }
          },
          "metadata": {}
        },
        {
          "output_type": "display_data",
          "data": {
            "text/plain": [
              "Downloading:   0%|          | 0.00/446k [00:00<?, ?B/s]"
            ],
            "application/vnd.jupyter.widget-view+json": {
              "version_major": 2,
              "version_minor": 0,
              "model_id": "766bc824e083459793b9dffc65066fea"
            }
          },
          "metadata": {}
        },
        {
          "output_type": "display_data",
          "data": {
            "text/plain": [
              "Downloading:   0%|          | 0.00/1.29M [00:00<?, ?B/s]"
            ],
            "application/vnd.jupyter.widget-view+json": {
              "version_major": 2,
              "version_minor": 0,
              "model_id": "479a01c111ec4a05bee056478aca7ae9"
            }
          },
          "metadata": {}
        },
        {
          "output_type": "display_data",
          "data": {
            "text/plain": [
              "Downloading:   0%|          | 0.00/1.42G [00:00<?, ?B/s]"
            ],
            "application/vnd.jupyter.widget-view+json": {
              "version_major": 2,
              "version_minor": 0,
              "model_id": "927082aac830482494a972c4ae9561be"
            }
          },
          "metadata": {}
        }
      ],
      "source": [
        "# hide_output\n",
        "import torch\n",
        "from transformers import AutoTokenizer, AutoModelForCausalLM\n",
        "\n",
        "device = \"cuda\" if torch.cuda.is_available() else \"cpu\"\n",
        "\n",
        "# GPT2-XL is Model\n",
        "model_name_medium = \"gpt2-medium\"\n",
        "tokenizer_medium = AutoTokenizer.from_pretrained(model_name_medium)\n",
        "model_medium = AutoModelForCausalLM.from_pretrained(model_name_medium).to(device)"
      ]
    },
    {
      "cell_type": "code",
      "source": [
        "itr = greedy_search_decoding(tokenizer_medium, model_medium)\n",
        "pd.DataFrame(itr)"
      ],
      "metadata": {
        "colab": {
          "base_uri": "https://localhost:8080/",
          "height": 405
        },
        "id": "e2y63n93HnLc",
        "outputId": "36a523e1-8b09-4030-8fbb-6a5d902f0c1c"
      },
      "execution_count": null,
      "outputs": [
        {
          "output_type": "execute_result",
          "data": {
            "text/plain": [
              "                                               Input            Choice 1  \\\n",
              "0                               Transformers are the        most (8.37%)   \n",
              "1                          Transformers are the most   powerful (20.77%)   \n",
              "2                 Transformers are the most powerful      beings (9.43%)   \n",
              "3          Transformers are the most powerful beings         in (56.15%)   \n",
              "4       Transformers are the most powerful beings in        the (72.89%)   \n",
              "5   Transformers are the most powerful beings in the   universe (67.94%)   \n",
              "6  Transformers are the most powerful beings in t...          . (35.28%)   \n",
              "7  Transformers are the most powerful beings in t...       They (32.09%)   \n",
              "\n",
              "              Choice 2          Choice 3               Choice 4  \\\n",
              "0         only (3.35%)      best (2.75%)          first (2.54%)   \n",
              "1       common (7.09%)   popular (5.09%)      important (3.29%)   \n",
              "2          and (8.35%)        of (4.61%)   Transformers (4.34%)   \n",
              "3          on (18.99%)     known (3.12%)             of (3.09%)   \n",
              "4   existence (11.20%)       all (3.40%)       creation (1.81%)   \n",
              "5     Universe (5.41%)    Marvel (4.40%)   Transformers (3.49%)   \n",
              "6           , (34.16%)      and (12.94%)              ; (1.55%)   \n",
              "7           \\n (4.97%)     Their (4.93%)            The (3.85%)   \n",
              "\n",
              "                Choice 5  \n",
              "0       ultimate (2.20%)  \n",
              "1       advanced (2.72%)  \n",
              "2              , (3.83%)  \n",
              "3             to (2.18%)  \n",
              "4   Transformers (1.18%)  \n",
              "5           mult (3.47%)  \n",
              "6              ! (1.34%)  \n",
              "7            But (2.88%)  "
            ],
            "text/html": [
              "\n",
              "  <div id=\"df-6bf1e2d5-3d85-44db-95ae-af6f4b86571e\" class=\"colab-df-container\">\n",
              "    <div>\n",
              "<style scoped>\n",
              "    .dataframe tbody tr th:only-of-type {\n",
              "        vertical-align: middle;\n",
              "    }\n",
              "\n",
              "    .dataframe tbody tr th {\n",
              "        vertical-align: top;\n",
              "    }\n",
              "\n",
              "    .dataframe thead th {\n",
              "        text-align: right;\n",
              "    }\n",
              "</style>\n",
              "<table border=\"1\" class=\"dataframe\">\n",
              "  <thead>\n",
              "    <tr style=\"text-align: right;\">\n",
              "      <th></th>\n",
              "      <th>Input</th>\n",
              "      <th>Choice 1</th>\n",
              "      <th>Choice 2</th>\n",
              "      <th>Choice 3</th>\n",
              "      <th>Choice 4</th>\n",
              "      <th>Choice 5</th>\n",
              "    </tr>\n",
              "  </thead>\n",
              "  <tbody>\n",
              "    <tr>\n",
              "      <th>0</th>\n",
              "      <td>Transformers are the</td>\n",
              "      <td>most (8.37%)</td>\n",
              "      <td>only (3.35%)</td>\n",
              "      <td>best (2.75%)</td>\n",
              "      <td>first (2.54%)</td>\n",
              "      <td>ultimate (2.20%)</td>\n",
              "    </tr>\n",
              "    <tr>\n",
              "      <th>1</th>\n",
              "      <td>Transformers are the most</td>\n",
              "      <td>powerful (20.77%)</td>\n",
              "      <td>common (7.09%)</td>\n",
              "      <td>popular (5.09%)</td>\n",
              "      <td>important (3.29%)</td>\n",
              "      <td>advanced (2.72%)</td>\n",
              "    </tr>\n",
              "    <tr>\n",
              "      <th>2</th>\n",
              "      <td>Transformers are the most powerful</td>\n",
              "      <td>beings (9.43%)</td>\n",
              "      <td>and (8.35%)</td>\n",
              "      <td>of (4.61%)</td>\n",
              "      <td>Transformers (4.34%)</td>\n",
              "      <td>, (3.83%)</td>\n",
              "    </tr>\n",
              "    <tr>\n",
              "      <th>3</th>\n",
              "      <td>Transformers are the most powerful beings</td>\n",
              "      <td>in (56.15%)</td>\n",
              "      <td>on (18.99%)</td>\n",
              "      <td>known (3.12%)</td>\n",
              "      <td>of (3.09%)</td>\n",
              "      <td>to (2.18%)</td>\n",
              "    </tr>\n",
              "    <tr>\n",
              "      <th>4</th>\n",
              "      <td>Transformers are the most powerful beings in</td>\n",
              "      <td>the (72.89%)</td>\n",
              "      <td>existence (11.20%)</td>\n",
              "      <td>all (3.40%)</td>\n",
              "      <td>creation (1.81%)</td>\n",
              "      <td>Transformers (1.18%)</td>\n",
              "    </tr>\n",
              "    <tr>\n",
              "      <th>5</th>\n",
              "      <td>Transformers are the most powerful beings in the</td>\n",
              "      <td>universe (67.94%)</td>\n",
              "      <td>Universe (5.41%)</td>\n",
              "      <td>Marvel (4.40%)</td>\n",
              "      <td>Transformers (3.49%)</td>\n",
              "      <td>mult (3.47%)</td>\n",
              "    </tr>\n",
              "    <tr>\n",
              "      <th>6</th>\n",
              "      <td>Transformers are the most powerful beings in t...</td>\n",
              "      <td>. (35.28%)</td>\n",
              "      <td>, (34.16%)</td>\n",
              "      <td>and (12.94%)</td>\n",
              "      <td>; (1.55%)</td>\n",
              "      <td>! (1.34%)</td>\n",
              "    </tr>\n",
              "    <tr>\n",
              "      <th>7</th>\n",
              "      <td>Transformers are the most powerful beings in t...</td>\n",
              "      <td>They (32.09%)</td>\n",
              "      <td>\\n (4.97%)</td>\n",
              "      <td>Their (4.93%)</td>\n",
              "      <td>The (3.85%)</td>\n",
              "      <td>But (2.88%)</td>\n",
              "    </tr>\n",
              "  </tbody>\n",
              "</table>\n",
              "</div>\n",
              "    <div class=\"colab-df-buttons\">\n",
              "\n",
              "  <div class=\"colab-df-container\">\n",
              "    <button class=\"colab-df-convert\" onclick=\"convertToInteractive('df-6bf1e2d5-3d85-44db-95ae-af6f4b86571e')\"\n",
              "            title=\"Convert this dataframe to an interactive table.\"\n",
              "            style=\"display:none;\">\n",
              "\n",
              "  <svg xmlns=\"http://www.w3.org/2000/svg\" height=\"24px\" viewBox=\"0 -960 960 960\">\n",
              "    <path d=\"M120-120v-720h720v720H120Zm60-500h600v-160H180v160Zm220 220h160v-160H400v160Zm0 220h160v-160H400v160ZM180-400h160v-160H180v160Zm440 0h160v-160H620v160ZM180-180h160v-160H180v160Zm440 0h160v-160H620v160Z\"/>\n",
              "  </svg>\n",
              "    </button>\n",
              "\n",
              "  <style>\n",
              "    .colab-df-container {\n",
              "      display:flex;\n",
              "      gap: 12px;\n",
              "    }\n",
              "\n",
              "    .colab-df-convert {\n",
              "      background-color: #E8F0FE;\n",
              "      border: none;\n",
              "      border-radius: 50%;\n",
              "      cursor: pointer;\n",
              "      display: none;\n",
              "      fill: #1967D2;\n",
              "      height: 32px;\n",
              "      padding: 0 0 0 0;\n",
              "      width: 32px;\n",
              "    }\n",
              "\n",
              "    .colab-df-convert:hover {\n",
              "      background-color: #E2EBFA;\n",
              "      box-shadow: 0px 1px 2px rgba(60, 64, 67, 0.3), 0px 1px 3px 1px rgba(60, 64, 67, 0.15);\n",
              "      fill: #174EA6;\n",
              "    }\n",
              "\n",
              "    .colab-df-buttons div {\n",
              "      margin-bottom: 4px;\n",
              "    }\n",
              "\n",
              "    [theme=dark] .colab-df-convert {\n",
              "      background-color: #3B4455;\n",
              "      fill: #D2E3FC;\n",
              "    }\n",
              "\n",
              "    [theme=dark] .colab-df-convert:hover {\n",
              "      background-color: #434B5C;\n",
              "      box-shadow: 0px 1px 3px 1px rgba(0, 0, 0, 0.15);\n",
              "      filter: drop-shadow(0px 1px 2px rgba(0, 0, 0, 0.3));\n",
              "      fill: #FFFFFF;\n",
              "    }\n",
              "  </style>\n",
              "\n",
              "    <script>\n",
              "      const buttonEl =\n",
              "        document.querySelector('#df-6bf1e2d5-3d85-44db-95ae-af6f4b86571e button.colab-df-convert');\n",
              "      buttonEl.style.display =\n",
              "        google.colab.kernel.accessAllowed ? 'block' : 'none';\n",
              "\n",
              "      async function convertToInteractive(key) {\n",
              "        const element = document.querySelector('#df-6bf1e2d5-3d85-44db-95ae-af6f4b86571e');\n",
              "        const dataTable =\n",
              "          await google.colab.kernel.invokeFunction('convertToInteractive',\n",
              "                                                    [key], {});\n",
              "        if (!dataTable) return;\n",
              "\n",
              "        const docLinkHtml = 'Like what you see? Visit the ' +\n",
              "          '<a target=\"_blank\" href=https://colab.research.google.com/notebooks/data_table.ipynb>data table notebook</a>'\n",
              "          + ' to learn more about interactive tables.';\n",
              "        element.innerHTML = '';\n",
              "        dataTable['output_type'] = 'display_data';\n",
              "        await google.colab.output.renderOutput(dataTable, element);\n",
              "        const docLink = document.createElement('div');\n",
              "        docLink.innerHTML = docLinkHtml;\n",
              "        element.appendChild(docLink);\n",
              "      }\n",
              "    </script>\n",
              "  </div>\n",
              "\n",
              "\n",
              "<div id=\"df-b80470be-128b-4ee5-9a9e-fd20a0587bb1\">\n",
              "  <button class=\"colab-df-quickchart\" onclick=\"quickchart('df-b80470be-128b-4ee5-9a9e-fd20a0587bb1')\"\n",
              "            title=\"Suggest charts.\"\n",
              "            style=\"display:none;\">\n",
              "\n",
              "<svg xmlns=\"http://www.w3.org/2000/svg\" height=\"24px\"viewBox=\"0 0 24 24\"\n",
              "     width=\"24px\">\n",
              "    <g>\n",
              "        <path d=\"M19 3H5c-1.1 0-2 .9-2 2v14c0 1.1.9 2 2 2h14c1.1 0 2-.9 2-2V5c0-1.1-.9-2-2-2zM9 17H7v-7h2v7zm4 0h-2V7h2v10zm4 0h-2v-4h2v4z\"/>\n",
              "    </g>\n",
              "</svg>\n",
              "  </button>\n",
              "\n",
              "<style>\n",
              "  .colab-df-quickchart {\n",
              "      --bg-color: #E8F0FE;\n",
              "      --fill-color: #1967D2;\n",
              "      --hover-bg-color: #E2EBFA;\n",
              "      --hover-fill-color: #174EA6;\n",
              "      --disabled-fill-color: #AAA;\n",
              "      --disabled-bg-color: #DDD;\n",
              "  }\n",
              "\n",
              "  [theme=dark] .colab-df-quickchart {\n",
              "      --bg-color: #3B4455;\n",
              "      --fill-color: #D2E3FC;\n",
              "      --hover-bg-color: #434B5C;\n",
              "      --hover-fill-color: #FFFFFF;\n",
              "      --disabled-bg-color: #3B4455;\n",
              "      --disabled-fill-color: #666;\n",
              "  }\n",
              "\n",
              "  .colab-df-quickchart {\n",
              "    background-color: var(--bg-color);\n",
              "    border: none;\n",
              "    border-radius: 50%;\n",
              "    cursor: pointer;\n",
              "    display: none;\n",
              "    fill: var(--fill-color);\n",
              "    height: 32px;\n",
              "    padding: 0;\n",
              "    width: 32px;\n",
              "  }\n",
              "\n",
              "  .colab-df-quickchart:hover {\n",
              "    background-color: var(--hover-bg-color);\n",
              "    box-shadow: 0 1px 2px rgba(60, 64, 67, 0.3), 0 1px 3px 1px rgba(60, 64, 67, 0.15);\n",
              "    fill: var(--button-hover-fill-color);\n",
              "  }\n",
              "\n",
              "  .colab-df-quickchart-complete:disabled,\n",
              "  .colab-df-quickchart-complete:disabled:hover {\n",
              "    background-color: var(--disabled-bg-color);\n",
              "    fill: var(--disabled-fill-color);\n",
              "    box-shadow: none;\n",
              "  }\n",
              "\n",
              "  .colab-df-spinner {\n",
              "    border: 2px solid var(--fill-color);\n",
              "    border-color: transparent;\n",
              "    border-bottom-color: var(--fill-color);\n",
              "    animation:\n",
              "      spin 1s steps(1) infinite;\n",
              "  }\n",
              "\n",
              "  @keyframes spin {\n",
              "    0% {\n",
              "      border-color: transparent;\n",
              "      border-bottom-color: var(--fill-color);\n",
              "      border-left-color: var(--fill-color);\n",
              "    }\n",
              "    20% {\n",
              "      border-color: transparent;\n",
              "      border-left-color: var(--fill-color);\n",
              "      border-top-color: var(--fill-color);\n",
              "    }\n",
              "    30% {\n",
              "      border-color: transparent;\n",
              "      border-left-color: var(--fill-color);\n",
              "      border-top-color: var(--fill-color);\n",
              "      border-right-color: var(--fill-color);\n",
              "    }\n",
              "    40% {\n",
              "      border-color: transparent;\n",
              "      border-right-color: var(--fill-color);\n",
              "      border-top-color: var(--fill-color);\n",
              "    }\n",
              "    60% {\n",
              "      border-color: transparent;\n",
              "      border-right-color: var(--fill-color);\n",
              "    }\n",
              "    80% {\n",
              "      border-color: transparent;\n",
              "      border-right-color: var(--fill-color);\n",
              "      border-bottom-color: var(--fill-color);\n",
              "    }\n",
              "    90% {\n",
              "      border-color: transparent;\n",
              "      border-bottom-color: var(--fill-color);\n",
              "    }\n",
              "  }\n",
              "</style>\n",
              "\n",
              "  <script>\n",
              "    async function quickchart(key) {\n",
              "      const quickchartButtonEl =\n",
              "        document.querySelector('#' + key + ' button');\n",
              "      quickchartButtonEl.disabled = true;  // To prevent multiple clicks.\n",
              "      quickchartButtonEl.classList.add('colab-df-spinner');\n",
              "      try {\n",
              "        const charts = await google.colab.kernel.invokeFunction(\n",
              "            'suggestCharts', [key], {});\n",
              "      } catch (error) {\n",
              "        console.error('Error during call to suggestCharts:', error);\n",
              "      }\n",
              "      quickchartButtonEl.classList.remove('colab-df-spinner');\n",
              "      quickchartButtonEl.classList.add('colab-df-quickchart-complete');\n",
              "    }\n",
              "    (() => {\n",
              "      let quickchartButtonEl =\n",
              "        document.querySelector('#df-b80470be-128b-4ee5-9a9e-fd20a0587bb1 button');\n",
              "      quickchartButtonEl.style.display =\n",
              "        google.colab.kernel.accessAllowed ? 'block' : 'none';\n",
              "    })();\n",
              "  </script>\n",
              "</div>\n",
              "    </div>\n",
              "  </div>\n"
            ]
          },
          "metadata": {},
          "execution_count": 14
        }
      ]
    },
    {
      "cell_type": "code",
      "source": [
        "input_ids = tokenizer_medium(\"Transformers are the\", return_tensors=\"pt\")[\"input_ids\"].to(device)\n",
        "output = model_medium.generate(input_ids, max_new_tokens=8, do_sample=False)\n",
        "print(tokenizer_medium.decode(output[0]))"
      ],
      "metadata": {
        "colab": {
          "base_uri": "https://localhost:8080/"
        },
        "id": "vHKL2ld59uU4",
        "outputId": "81605f85-a52c-491e-e11d-122a881a3558"
      },
      "execution_count": null,
      "outputs": [
        {
          "output_type": "stream",
          "name": "stdout",
          "text": [
            "Transformers are the most powerful beings in the universe. They\n"
          ]
        }
      ]
    },
    {
      "cell_type": "code",
      "execution_count": null,
      "metadata": {
        "id": "CyM8XPy02B4a",
        "outputId": "27b5f71d-e64c-447f-e281-9caffbd4b4d1",
        "colab": {
          "base_uri": "https://localhost:8080/"
        }
      },
      "outputs": [
        {
          "output_type": "stream",
          "name": "stdout",
          "text": [
            "In a shocking finding, scientist discovered a herd of unicorns living in a\n",
            "remote, previously unexplored valley, in the Andes Mountains. Even more\n",
            "surprising to the researchers was the fact that the unicorns spoke perfect\n",
            "English.\n",
            "\n",
            "\n",
            "The researchers, led by Dr. David M. Koehler, a professor of anthropology at the\n",
            "University of Colorado, Boulder, discovered the unicorns in the remote valley of\n",
            "La Paz, in the Andes Mountains.\n",
            "\n",
            "\n",
            "\"We were surprised to find that the unicorns spoke perfect English,\" said\n",
            "Koehler. \"They were very friendly and friendly with us. They were very friendly\n",
            "with\n"
          ]
        }
      ],
      "source": [
        "max_length = 128\n",
        "input_txt = \"\"\"In a shocking finding, scientist discovered \\\n",
        "a herd of unicorns living in a remote, previously unexplored \\\n",
        "valley, in the Andes Mountains. Even more surprising to the \\\n",
        "researchers was the fact that the unicorns spoke perfect English.\\n\\n\n",
        "\"\"\"\n",
        "input_ids = tokenizer_medium(input_txt, return_tensors=\"pt\")[\"input_ids\"].to(device)\n",
        "output_greedy = model_medium.generate(input_ids, max_length=max_length,\n",
        "                               do_sample=False)\n",
        "print(tokenizer_medium.decode(output_greedy[0]))"
      ]
    },
    {
      "cell_type": "markdown",
      "source": [
        "###GPT-2 -- Large"
      ],
      "metadata": {
        "id": "DIshjXR0HzNp"
      }
    },
    {
      "cell_type": "markdown",
      "source": [
        "Loading GPT-2 Large Model"
      ],
      "metadata": {
        "id": "KyudxA29W6pX"
      }
    },
    {
      "cell_type": "code",
      "source": [
        "model_name_large = \"gpt2-large\"\n",
        "tokenizer_large = AutoTokenizer.from_pretrained(model_name_large)\n",
        "model_large = AutoModelForCausalLM.from_pretrained(model_name_large).to(device)"
      ],
      "metadata": {
        "colab": {
          "base_uri": "https://localhost:8080/",
          "height": 177,
          "referenced_widgets": [
            "700fce8ef748492186352283ba585331",
            "cf6527e83c4a43cc8c444ea4a17a1812",
            "6ec40adc1b3b42c2be0c96653e7cd3cb",
            "3b9fd7c0c49d4c9ea4463d54256704dd",
            "26e91e18875940e28b694f0ff5da9287",
            "8d2d5fa22f3f41cbadb2a5d393160bf8",
            "5ab5d8ada85148b0be8a6f7d2067b36d",
            "8ee0e5fef1814315ae757b96b02d2442",
            "c4aaebf916d74747b18cf6b8015b3a6f",
            "cd9436ee3b9b4b8baf6b242b66b4b9bf",
            "8b795916ac1f4dd3a958315a2e4837d5",
            "8fe49ffeb3ec43d3b6dbaae062b51378",
            "d178b6e3bcf041fca233abf3fb07b1d6",
            "d6428a3fed0944929cd641a16bfbfb5f",
            "51b7056fafba4e26a539616c42568824",
            "009cc1b8439444fd87b5c49a60d7bed6",
            "7af711743cae4e1b95e3402c7214acb4",
            "e8a49785ddff46a78bcc94de99ea3a36",
            "fc27d040b8cc4d989743d3bf25f9af0d",
            "28197f0de53b45fcae5eafbd20aebcfb",
            "bd7d35050e5d4ef486b8736938e439f2",
            "f78d1dde31654d61880e60b1fe88ad67",
            "34595063c757430791388d5e43d1b1f0",
            "5819c479c9b34cd386db5bc84387900f",
            "bf3301b9893647bca006c9f54c9204bb",
            "0432d919526642018da4c83f539f7b9d",
            "faa96391f2b446ef87b1a750d05fd6c3",
            "eeb4b1058f2b4a65b8a3599993abf38e",
            "9e1c9384cf5c44e2beed91b26deee1e2",
            "1cbafd4785ad43f4b720090ecbf0d3da",
            "688ff622c85c40509ec4839ea9194f46",
            "d0753094fcde4936b1c41743a18707d1",
            "281d9198e61342388713f3aa21fbd35a",
            "78e85f092552499ea58ee861982f15fc",
            "59d458ae24e249dc947f8403defb8aeb",
            "af892a335f8a4fb3adaab97ff95cc0d0",
            "b64858eb48c849fca8533dec0f8817ba",
            "295098aeee1b4d7cae5b80e65251327e",
            "e71136744ab64506aed75ff20d01a25b",
            "d64d992bc39a4cbb9b4768a1c2010118",
            "78a6e6453e0245dcbaf84741a7fadf4f",
            "b1348517155e4d29a337972dda97cb89",
            "6cd9a5eb915b493a97f52830b75cc5e1",
            "3b6037edbec14a22a7adbcdaa484a996",
            "d0b04601e1944c58bf7733246612b0ad",
            "4e8a0e4a548c4e918b3ce9770f6c301f",
            "391ab36b29cf41808389a4262c3d9e4d",
            "06fe90a935144b8786c132b770a5043a",
            "3ef9defaf876457e8bb13221a1f25539",
            "50b3b5cbd7d04dce81ac5624f733999c",
            "a83258b3a9ab4ea1babf8128b65f31a6",
            "aa0c10cfc8a44cbdbaf5ac164caf5fc7",
            "699f315b24ad4a71822962795aae108c",
            "f02d0f1db0e948bab9b3a5b1c319fbaa",
            "26221c6bdfef4fe0998b0be6228c11bb"
          ]
        },
        "id": "Vskqcm5g7y7m",
        "outputId": "be42c2c5-308b-42eb-8d0f-20142e97e43c"
      },
      "execution_count": null,
      "outputs": [
        {
          "output_type": "display_data",
          "data": {
            "text/plain": [
              "Downloading:   0%|          | 0.00/666 [00:00<?, ?B/s]"
            ],
            "application/vnd.jupyter.widget-view+json": {
              "version_major": 2,
              "version_minor": 0,
              "model_id": "700fce8ef748492186352283ba585331"
            }
          },
          "metadata": {}
        },
        {
          "output_type": "display_data",
          "data": {
            "text/plain": [
              "Downloading:   0%|          | 0.00/0.99M [00:00<?, ?B/s]"
            ],
            "application/vnd.jupyter.widget-view+json": {
              "version_major": 2,
              "version_minor": 0,
              "model_id": "8fe49ffeb3ec43d3b6dbaae062b51378"
            }
          },
          "metadata": {}
        },
        {
          "output_type": "display_data",
          "data": {
            "text/plain": [
              "Downloading:   0%|          | 0.00/446k [00:00<?, ?B/s]"
            ],
            "application/vnd.jupyter.widget-view+json": {
              "version_major": 2,
              "version_minor": 0,
              "model_id": "34595063c757430791388d5e43d1b1f0"
            }
          },
          "metadata": {}
        },
        {
          "output_type": "display_data",
          "data": {
            "text/plain": [
              "Downloading:   0%|          | 0.00/1.29M [00:00<?, ?B/s]"
            ],
            "application/vnd.jupyter.widget-view+json": {
              "version_major": 2,
              "version_minor": 0,
              "model_id": "78e85f092552499ea58ee861982f15fc"
            }
          },
          "metadata": {}
        },
        {
          "output_type": "display_data",
          "data": {
            "text/plain": [
              "Downloading:   0%|          | 0.00/3.02G [00:00<?, ?B/s]"
            ],
            "application/vnd.jupyter.widget-view+json": {
              "version_major": 2,
              "version_minor": 0,
              "model_id": "d0b04601e1944c58bf7733246612b0ad"
            }
          },
          "metadata": {}
        }
      ]
    },
    {
      "cell_type": "code",
      "source": [
        "itr = greedy_search_decoding(tokenizer_large, model_large)\n",
        "pd.DataFrame(itr)"
      ],
      "metadata": {
        "colab": {
          "base_uri": "https://localhost:8080/",
          "height": 370
        },
        "id": "SIpb-vipIEJn",
        "outputId": "58f4c42e-14af-4cdb-abdb-cbaa4955dad4"
      },
      "execution_count": null,
      "outputs": [
        {
          "output_type": "execute_result",
          "data": {
            "text/plain": [
              "                                               Input           Choice 1  \\\n",
              "0                               Transformers are the      most (11.78%)   \n",
              "1                          Transformers are the most   popular (22.63%)   \n",
              "2                  Transformers are the most popular       toys (8.87%)   \n",
              "3             Transformers are the most popular toys        of (31.69%)   \n",
              "4          Transformers are the most popular toys of       all (57.47%)   \n",
              "5      Transformers are the most popular toys of all      time (94.71%)   \n",
              "6  Transformers are the most popular toys of all ...         . (34.98%)   \n",
              "7  Transformers are the most popular toys of all ...      They (10.93%)   \n",
              "\n",
              "              Choice 2         Choice 3               Choice 4  \\\n",
              "0         best (6.66%)     only (5.62%)          first (2.91%)   \n",
              "1   successful (5.55%)   famous (3.38%)       powerful (3.14%)   \n",
              "2          toy (7.88%)       of (5.03%)   Transformers (4.69%)   \n",
              "3          in (23.73%)     ever (4.85%)              , (4.50%)   \n",
              "4         the (21.30%)     2015 (2.34%)          their (1.66%)   \n",
              "5            - (1.86%)        . (0.66%)              , (0.56%)   \n",
              "6           , (33.86%)      and (7.03%)              ! (2.16%)   \n",
              "7           \\n (9.23%)      The (6.63%)             In (2.91%)   \n",
              "\n",
              "             Choice 5  \n",
              "0    ultimate (2.23%)  \n",
              "1   important (2.54%)  \n",
              "2   franchise (3.88%)  \n",
              "3         for (3.58%)  \n",
              "4        2014 (1.54%)  \n",
              "5       times (0.52%)  \n",
              "6          in (1.73%)  \n",
              "7         And (2.68%)  "
            ],
            "text/html": [
              "\n",
              "  <div id=\"df-2f6d6d1b-e03f-40ad-978c-1ccb87fbddee\" class=\"colab-df-container\">\n",
              "    <div>\n",
              "<style scoped>\n",
              "    .dataframe tbody tr th:only-of-type {\n",
              "        vertical-align: middle;\n",
              "    }\n",
              "\n",
              "    .dataframe tbody tr th {\n",
              "        vertical-align: top;\n",
              "    }\n",
              "\n",
              "    .dataframe thead th {\n",
              "        text-align: right;\n",
              "    }\n",
              "</style>\n",
              "<table border=\"1\" class=\"dataframe\">\n",
              "  <thead>\n",
              "    <tr style=\"text-align: right;\">\n",
              "      <th></th>\n",
              "      <th>Input</th>\n",
              "      <th>Choice 1</th>\n",
              "      <th>Choice 2</th>\n",
              "      <th>Choice 3</th>\n",
              "      <th>Choice 4</th>\n",
              "      <th>Choice 5</th>\n",
              "    </tr>\n",
              "  </thead>\n",
              "  <tbody>\n",
              "    <tr>\n",
              "      <th>0</th>\n",
              "      <td>Transformers are the</td>\n",
              "      <td>most (11.78%)</td>\n",
              "      <td>best (6.66%)</td>\n",
              "      <td>only (5.62%)</td>\n",
              "      <td>first (2.91%)</td>\n",
              "      <td>ultimate (2.23%)</td>\n",
              "    </tr>\n",
              "    <tr>\n",
              "      <th>1</th>\n",
              "      <td>Transformers are the most</td>\n",
              "      <td>popular (22.63%)</td>\n",
              "      <td>successful (5.55%)</td>\n",
              "      <td>famous (3.38%)</td>\n",
              "      <td>powerful (3.14%)</td>\n",
              "      <td>important (2.54%)</td>\n",
              "    </tr>\n",
              "    <tr>\n",
              "      <th>2</th>\n",
              "      <td>Transformers are the most popular</td>\n",
              "      <td>toys (8.87%)</td>\n",
              "      <td>toy (7.88%)</td>\n",
              "      <td>of (5.03%)</td>\n",
              "      <td>Transformers (4.69%)</td>\n",
              "      <td>franchise (3.88%)</td>\n",
              "    </tr>\n",
              "    <tr>\n",
              "      <th>3</th>\n",
              "      <td>Transformers are the most popular toys</td>\n",
              "      <td>of (31.69%)</td>\n",
              "      <td>in (23.73%)</td>\n",
              "      <td>ever (4.85%)</td>\n",
              "      <td>, (4.50%)</td>\n",
              "      <td>for (3.58%)</td>\n",
              "    </tr>\n",
              "    <tr>\n",
              "      <th>4</th>\n",
              "      <td>Transformers are the most popular toys of</td>\n",
              "      <td>all (57.47%)</td>\n",
              "      <td>the (21.30%)</td>\n",
              "      <td>2015 (2.34%)</td>\n",
              "      <td>their (1.66%)</td>\n",
              "      <td>2014 (1.54%)</td>\n",
              "    </tr>\n",
              "    <tr>\n",
              "      <th>5</th>\n",
              "      <td>Transformers are the most popular toys of all</td>\n",
              "      <td>time (94.71%)</td>\n",
              "      <td>- (1.86%)</td>\n",
              "      <td>. (0.66%)</td>\n",
              "      <td>, (0.56%)</td>\n",
              "      <td>times (0.52%)</td>\n",
              "    </tr>\n",
              "    <tr>\n",
              "      <th>6</th>\n",
              "      <td>Transformers are the most popular toys of all ...</td>\n",
              "      <td>. (34.98%)</td>\n",
              "      <td>, (33.86%)</td>\n",
              "      <td>and (7.03%)</td>\n",
              "      <td>! (2.16%)</td>\n",
              "      <td>in (1.73%)</td>\n",
              "    </tr>\n",
              "    <tr>\n",
              "      <th>7</th>\n",
              "      <td>Transformers are the most popular toys of all ...</td>\n",
              "      <td>They (10.93%)</td>\n",
              "      <td>\\n (9.23%)</td>\n",
              "      <td>The (6.63%)</td>\n",
              "      <td>In (2.91%)</td>\n",
              "      <td>And (2.68%)</td>\n",
              "    </tr>\n",
              "  </tbody>\n",
              "</table>\n",
              "</div>\n",
              "    <div class=\"colab-df-buttons\">\n",
              "\n",
              "  <div class=\"colab-df-container\">\n",
              "    <button class=\"colab-df-convert\" onclick=\"convertToInteractive('df-2f6d6d1b-e03f-40ad-978c-1ccb87fbddee')\"\n",
              "            title=\"Convert this dataframe to an interactive table.\"\n",
              "            style=\"display:none;\">\n",
              "\n",
              "  <svg xmlns=\"http://www.w3.org/2000/svg\" height=\"24px\" viewBox=\"0 -960 960 960\">\n",
              "    <path d=\"M120-120v-720h720v720H120Zm60-500h600v-160H180v160Zm220 220h160v-160H400v160Zm0 220h160v-160H400v160ZM180-400h160v-160H180v160Zm440 0h160v-160H620v160ZM180-180h160v-160H180v160Zm440 0h160v-160H620v160Z\"/>\n",
              "  </svg>\n",
              "    </button>\n",
              "\n",
              "  <style>\n",
              "    .colab-df-container {\n",
              "      display:flex;\n",
              "      gap: 12px;\n",
              "    }\n",
              "\n",
              "    .colab-df-convert {\n",
              "      background-color: #E8F0FE;\n",
              "      border: none;\n",
              "      border-radius: 50%;\n",
              "      cursor: pointer;\n",
              "      display: none;\n",
              "      fill: #1967D2;\n",
              "      height: 32px;\n",
              "      padding: 0 0 0 0;\n",
              "      width: 32px;\n",
              "    }\n",
              "\n",
              "    .colab-df-convert:hover {\n",
              "      background-color: #E2EBFA;\n",
              "      box-shadow: 0px 1px 2px rgba(60, 64, 67, 0.3), 0px 1px 3px 1px rgba(60, 64, 67, 0.15);\n",
              "      fill: #174EA6;\n",
              "    }\n",
              "\n",
              "    .colab-df-buttons div {\n",
              "      margin-bottom: 4px;\n",
              "    }\n",
              "\n",
              "    [theme=dark] .colab-df-convert {\n",
              "      background-color: #3B4455;\n",
              "      fill: #D2E3FC;\n",
              "    }\n",
              "\n",
              "    [theme=dark] .colab-df-convert:hover {\n",
              "      background-color: #434B5C;\n",
              "      box-shadow: 0px 1px 3px 1px rgba(0, 0, 0, 0.15);\n",
              "      filter: drop-shadow(0px 1px 2px rgba(0, 0, 0, 0.3));\n",
              "      fill: #FFFFFF;\n",
              "    }\n",
              "  </style>\n",
              "\n",
              "    <script>\n",
              "      const buttonEl =\n",
              "        document.querySelector('#df-2f6d6d1b-e03f-40ad-978c-1ccb87fbddee button.colab-df-convert');\n",
              "      buttonEl.style.display =\n",
              "        google.colab.kernel.accessAllowed ? 'block' : 'none';\n",
              "\n",
              "      async function convertToInteractive(key) {\n",
              "        const element = document.querySelector('#df-2f6d6d1b-e03f-40ad-978c-1ccb87fbddee');\n",
              "        const dataTable =\n",
              "          await google.colab.kernel.invokeFunction('convertToInteractive',\n",
              "                                                    [key], {});\n",
              "        if (!dataTable) return;\n",
              "\n",
              "        const docLinkHtml = 'Like what you see? Visit the ' +\n",
              "          '<a target=\"_blank\" href=https://colab.research.google.com/notebooks/data_table.ipynb>data table notebook</a>'\n",
              "          + ' to learn more about interactive tables.';\n",
              "        element.innerHTML = '';\n",
              "        dataTable['output_type'] = 'display_data';\n",
              "        await google.colab.output.renderOutput(dataTable, element);\n",
              "        const docLink = document.createElement('div');\n",
              "        docLink.innerHTML = docLinkHtml;\n",
              "        element.appendChild(docLink);\n",
              "      }\n",
              "    </script>\n",
              "  </div>\n",
              "\n",
              "\n",
              "<div id=\"df-d51ee713-2c1e-4358-9a1c-75a7d0bb4047\">\n",
              "  <button class=\"colab-df-quickchart\" onclick=\"quickchart('df-d51ee713-2c1e-4358-9a1c-75a7d0bb4047')\"\n",
              "            title=\"Suggest charts.\"\n",
              "            style=\"display:none;\">\n",
              "\n",
              "<svg xmlns=\"http://www.w3.org/2000/svg\" height=\"24px\"viewBox=\"0 0 24 24\"\n",
              "     width=\"24px\">\n",
              "    <g>\n",
              "        <path d=\"M19 3H5c-1.1 0-2 .9-2 2v14c0 1.1.9 2 2 2h14c1.1 0 2-.9 2-2V5c0-1.1-.9-2-2-2zM9 17H7v-7h2v7zm4 0h-2V7h2v10zm4 0h-2v-4h2v4z\"/>\n",
              "    </g>\n",
              "</svg>\n",
              "  </button>\n",
              "\n",
              "<style>\n",
              "  .colab-df-quickchart {\n",
              "      --bg-color: #E8F0FE;\n",
              "      --fill-color: #1967D2;\n",
              "      --hover-bg-color: #E2EBFA;\n",
              "      --hover-fill-color: #174EA6;\n",
              "      --disabled-fill-color: #AAA;\n",
              "      --disabled-bg-color: #DDD;\n",
              "  }\n",
              "\n",
              "  [theme=dark] .colab-df-quickchart {\n",
              "      --bg-color: #3B4455;\n",
              "      --fill-color: #D2E3FC;\n",
              "      --hover-bg-color: #434B5C;\n",
              "      --hover-fill-color: #FFFFFF;\n",
              "      --disabled-bg-color: #3B4455;\n",
              "      --disabled-fill-color: #666;\n",
              "  }\n",
              "\n",
              "  .colab-df-quickchart {\n",
              "    background-color: var(--bg-color);\n",
              "    border: none;\n",
              "    border-radius: 50%;\n",
              "    cursor: pointer;\n",
              "    display: none;\n",
              "    fill: var(--fill-color);\n",
              "    height: 32px;\n",
              "    padding: 0;\n",
              "    width: 32px;\n",
              "  }\n",
              "\n",
              "  .colab-df-quickchart:hover {\n",
              "    background-color: var(--hover-bg-color);\n",
              "    box-shadow: 0 1px 2px rgba(60, 64, 67, 0.3), 0 1px 3px 1px rgba(60, 64, 67, 0.15);\n",
              "    fill: var(--button-hover-fill-color);\n",
              "  }\n",
              "\n",
              "  .colab-df-quickchart-complete:disabled,\n",
              "  .colab-df-quickchart-complete:disabled:hover {\n",
              "    background-color: var(--disabled-bg-color);\n",
              "    fill: var(--disabled-fill-color);\n",
              "    box-shadow: none;\n",
              "  }\n",
              "\n",
              "  .colab-df-spinner {\n",
              "    border: 2px solid var(--fill-color);\n",
              "    border-color: transparent;\n",
              "    border-bottom-color: var(--fill-color);\n",
              "    animation:\n",
              "      spin 1s steps(1) infinite;\n",
              "  }\n",
              "\n",
              "  @keyframes spin {\n",
              "    0% {\n",
              "      border-color: transparent;\n",
              "      border-bottom-color: var(--fill-color);\n",
              "      border-left-color: var(--fill-color);\n",
              "    }\n",
              "    20% {\n",
              "      border-color: transparent;\n",
              "      border-left-color: var(--fill-color);\n",
              "      border-top-color: var(--fill-color);\n",
              "    }\n",
              "    30% {\n",
              "      border-color: transparent;\n",
              "      border-left-color: var(--fill-color);\n",
              "      border-top-color: var(--fill-color);\n",
              "      border-right-color: var(--fill-color);\n",
              "    }\n",
              "    40% {\n",
              "      border-color: transparent;\n",
              "      border-right-color: var(--fill-color);\n",
              "      border-top-color: var(--fill-color);\n",
              "    }\n",
              "    60% {\n",
              "      border-color: transparent;\n",
              "      border-right-color: var(--fill-color);\n",
              "    }\n",
              "    80% {\n",
              "      border-color: transparent;\n",
              "      border-right-color: var(--fill-color);\n",
              "      border-bottom-color: var(--fill-color);\n",
              "    }\n",
              "    90% {\n",
              "      border-color: transparent;\n",
              "      border-bottom-color: var(--fill-color);\n",
              "    }\n",
              "  }\n",
              "</style>\n",
              "\n",
              "  <script>\n",
              "    async function quickchart(key) {\n",
              "      const quickchartButtonEl =\n",
              "        document.querySelector('#' + key + ' button');\n",
              "      quickchartButtonEl.disabled = true;  // To prevent multiple clicks.\n",
              "      quickchartButtonEl.classList.add('colab-df-spinner');\n",
              "      try {\n",
              "        const charts = await google.colab.kernel.invokeFunction(\n",
              "            'suggestCharts', [key], {});\n",
              "      } catch (error) {\n",
              "        console.error('Error during call to suggestCharts:', error);\n",
              "      }\n",
              "      quickchartButtonEl.classList.remove('colab-df-spinner');\n",
              "      quickchartButtonEl.classList.add('colab-df-quickchart-complete');\n",
              "    }\n",
              "    (() => {\n",
              "      let quickchartButtonEl =\n",
              "        document.querySelector('#df-d51ee713-2c1e-4358-9a1c-75a7d0bb4047 button');\n",
              "      quickchartButtonEl.style.display =\n",
              "        google.colab.kernel.accessAllowed ? 'block' : 'none';\n",
              "    })();\n",
              "  </script>\n",
              "</div>\n",
              "    </div>\n",
              "  </div>\n"
            ]
          },
          "metadata": {},
          "execution_count": 16
        }
      ]
    },
    {
      "cell_type": "code",
      "source": [
        "input_ids = tokenizer_large(\"Transformers are the\", return_tensors=\"pt\")[\"input_ids\"].to(device)\n",
        "output = model_large.generate(input_ids, max_new_tokens=8, do_sample=False)\n",
        "print(tokenizer_large.decode(output[0]))"
      ],
      "metadata": {
        "colab": {
          "base_uri": "https://localhost:8080/"
        },
        "id": "TQKGKguo7yoz",
        "outputId": "e3eabdd1-224f-46fe-f148-8a575cc06dca"
      },
      "execution_count": null,
      "outputs": [
        {
          "output_type": "stream",
          "name": "stdout",
          "text": [
            "Transformers are the most popular toys of all time. They\n"
          ]
        }
      ]
    },
    {
      "cell_type": "code",
      "source": [
        "max_length = 128\n",
        "input_txt = \"\"\"In a shocking finding, scientist discovered \\\n",
        "a herd of unicorns living in a remote, previously unexplored \\\n",
        "valley, in the Andes Mountains. Even more surprising to the \\\n",
        "researchers was the fact that the unicorns spoke perfect English.\\n\\n\n",
        "\"\"\"\n",
        "input_ids = tokenizer_large(input_txt, return_tensors=\"pt\")[\"input_ids\"].to(device)\n",
        "output_greedy = model_large.generate(input_ids, max_length=max_length,\n",
        "                               do_sample=False)\n",
        "print(tokenizer_large.decode(output_greedy[0]))"
      ],
      "metadata": {
        "colab": {
          "base_uri": "https://localhost:8080/"
        },
        "id": "eHRU9eVHKxqs",
        "outputId": "fd531ce5-6802-4742-9b8a-4422222a499a"
      },
      "execution_count": null,
      "outputs": [
        {
          "output_type": "stream",
          "name": "stdout",
          "text": [
            "In a shocking finding, scientist discovered a herd of unicorns living in a\n",
            "remote, previously unexplored valley, in the Andes Mountains. Even more\n",
            "surprising to the researchers was the fact that the unicorns spoke perfect\n",
            "English.\n",
            "\n",
            "\n",
            "The researchers, led by Dr. David R. Williams of the University of California,\n",
            "Santa Cruz, discovered the unicorns in the Andes Mountains of Peru. The area is\n",
            "known for its unique geology and is home to a number of rare species of animals.\n",
            "\n",
            "\n",
            "The researchers found the unicorns in the Andes Mountains of Peru. The area is\n",
            "known for its unique geology and is home\n"
          ]
        }
      ]
    },
    {
      "cell_type": "markdown",
      "metadata": {
        "id": "2S9ZhdCX2B4d"
      },
      "source": [
        "## Beam Search Decoding"
      ]
    },
    {
      "cell_type": "code",
      "execution_count": null,
      "metadata": {
        "id": "EqcW9lYJ2B4l",
        "outputId": "5b207f17-ec94-4e8f-d383-15e3ed54bb27",
        "colab": {
          "base_uri": "https://localhost:8080/"
        }
      },
      "outputs": [
        {
          "output_type": "execute_result",
          "data": {
            "text/plain": [
              "5.562684646268003e-309"
            ]
          },
          "metadata": {},
          "execution_count": 20
        }
      ],
      "source": [
        "0.5 ** 1024"
      ]
    },
    {
      "cell_type": "code",
      "execution_count": null,
      "metadata": {
        "id": "vZ7W2wve2B4n",
        "outputId": "0dd52ca4-1fcc-4fd5-ac67-23abcd297f8c",
        "colab": {
          "base_uri": "https://localhost:8080/"
        }
      },
      "outputs": [
        {
          "output_type": "execute_result",
          "data": {
            "text/plain": [
              "-709.7827128933695"
            ]
          },
          "metadata": {},
          "execution_count": 21
        }
      ],
      "source": [
        "import numpy as np\n",
        "\n",
        "sum([np.log(0.5)] * 1024)"
      ]
    },
    {
      "cell_type": "code",
      "execution_count": null,
      "metadata": {
        "id": "1LMw32d62B4p"
      },
      "outputs": [],
      "source": [
        "import torch.nn.functional as F\n",
        "\n",
        "def log_probs_from_logits(logits, labels):\n",
        "    logp = F.log_softmax(logits, dim=-1)\n",
        "    logp_label = torch.gather(logp, 2, labels.unsqueeze(2)).squeeze(-1)\n",
        "    return logp_label"
      ]
    },
    {
      "cell_type": "code",
      "execution_count": null,
      "metadata": {
        "id": "BCtqL0T42B4r"
      },
      "outputs": [],
      "source": [
        "def sequence_logprob(model, labels, input_len=0):\n",
        "    with torch.no_grad():\n",
        "        output = model(labels)\n",
        "        log_probs = log_probs_from_logits(\n",
        "            output.logits[:, :-1, :], labels[:, 1:])\n",
        "        seq_log_prob = torch.sum(log_probs[:, input_len:])\n",
        "    return seq_log_prob.cpu().numpy()"
      ]
    },
    {
      "cell_type": "markdown",
      "source": [
        "###GPT-2 -- Medium"
      ],
      "metadata": {
        "id": "UwEHqZRjLv7R"
      }
    },
    {
      "cell_type": "code",
      "execution_count": null,
      "metadata": {
        "id": "xmKtIFmA2B41",
        "outputId": "ab5444b4-069f-4e65-9eab-603122a441d7",
        "colab": {
          "base_uri": "https://localhost:8080/"
        }
      },
      "outputs": [
        {
          "output_type": "stream",
          "name": "stdout",
          "text": [
            "In a shocking finding, scientist discovered a herd of unicorns living in a\n",
            "remote, previously unexplored valley, in the Andes Mountains. Even more\n",
            "surprising to the researchers was the fact that the unicorns spoke perfect\n",
            "English.\n",
            "\n",
            "\n",
            "The researchers, led by Dr. David R. Williams of the University of California,\n",
            "Santa Cruz, discovered the unicorns in the Andes Mountains of Peru. The area is\n",
            "known for its unique geology and is home to a number of rare species of animals.\n",
            "\n",
            "\n",
            "The researchers found the unicorns in the Andes Mountains of Peru. The area is\n",
            "known for its unique geology and is home\n",
            "\n",
            "log-prob: -97.72\n"
          ]
        }
      ],
      "source": [
        "logp = sequence_logprob(model_medium, output_greedy, input_len=len(input_ids[0]))\n",
        "print(tokenizer_medium.decode(output_greedy[0]))\n",
        "print(f\"\\nlog-prob: {logp:.2f}\")"
      ]
    },
    {
      "cell_type": "code",
      "execution_count": null,
      "metadata": {
        "id": "jLPjd2Ov2B48",
        "outputId": "a72fa08b-0998-4476-e888-a4b2766cc5f2",
        "colab": {
          "base_uri": "https://localhost:8080/"
        }
      },
      "outputs": [
        {
          "output_type": "stream",
          "name": "stdout",
          "text": [
            "In a shocking finding, scientist discovered a herd of unicorns living in a\n",
            "remote, previously unexplored valley, in the Andes Mountains. Even more\n",
            "surprising to the researchers was the fact that the unicorns spoke perfect\n",
            "English.\n",
            "\n",
            "\n",
            "The discovery was made by a team of researchers from the University of\n",
            "California, Santa Cruz (UCSF) and the University of Colorado, Boulder (UCL).\n",
            "\n",
            "\n",
            "The unicorns were found in a remote, previously unexplored valley, in the Andes\n",
            "Mountains. Even more surprising to the researchers was the fact that the\n",
            "unicorns spoke perfect English.\n",
            "\n",
            "\n",
            "The team of researchers, led by\n",
            "\n",
            "log-prob: -61.69\n"
          ]
        }
      ],
      "source": [
        "output_beam = model_medium.generate(input_ids, max_length=max_length, num_beams=5,\n",
        "                             do_sample=False)\n",
        "logp = sequence_logprob(model_medium, output_beam, input_len=len(input_ids[0]))\n",
        "print(tokenizer_medium.decode(output_beam[0]))\n",
        "print(f\"\\nlog-prob: {logp:.2f}\")"
      ]
    },
    {
      "cell_type": "code",
      "execution_count": null,
      "metadata": {
        "id": "jCh7cENx2B49",
        "outputId": "7282d55a-2dff-449e-c10d-d6771f07dd86",
        "colab": {
          "base_uri": "https://localhost:8080/"
        }
      },
      "outputs": [
        {
          "output_type": "stream",
          "name": "stdout",
          "text": [
            "In a shocking finding, scientist discovered a herd of unicorns living in a\n",
            "remote, previously unexplored valley, in the Andes Mountains. Even more\n",
            "surprising to the researchers was the fact that the unicorns spoke perfect\n",
            "English.\n",
            "\n",
            "\n",
            "The discovery was made by a team of researchers from the University of\n",
            "California, Santa Cruz (UCSF) and the U.S. Geological Survey (USGS). The\n",
            "research was published in Nature Communications.\n",
            "\n",
            "\"This is the first time that we've seen a group of these animals in North\n",
            "America,\" said lead author of the study, UCSF professor of geology and\n",
            "geophysics,\n",
            "\n",
            "log-prob: -87.12\n"
          ]
        }
      ],
      "source": [
        "output_beam = model_medium.generate(input_ids, max_length=max_length, num_beams=5,\n",
        "                             do_sample=False, no_repeat_ngram_size=2)\n",
        "logp = sequence_logprob(model_medium, output_beam, input_len=len(input_ids[0]))\n",
        "print(tokenizer_medium.decode(output_beam[0]))\n",
        "print(f\"\\nlog-prob: {logp:.2f}\")"
      ]
    },
    {
      "cell_type": "markdown",
      "source": [
        "###GPT-2 -- Large"
      ],
      "metadata": {
        "id": "2AQwVfRDOSB2"
      }
    },
    {
      "cell_type": "code",
      "source": [
        "logp = sequence_logprob(model_large, output_greedy, input_len=len(input_ids[0]))\n",
        "print(tokenizer_large.decode(output_greedy[0]))\n",
        "print(f\"\\nlog-prob: {logp:.2f}\")"
      ],
      "metadata": {
        "colab": {
          "base_uri": "https://localhost:8080/"
        },
        "id": "RuQJVUdFOe2J",
        "outputId": "66b74684-caf0-4a42-c8c7-baf1d2de7be8"
      },
      "execution_count": 27,
      "outputs": [
        {
          "output_type": "stream",
          "name": "stdout",
          "text": [
            "In a shocking finding, scientist discovered a herd of unicorns living in a\n",
            "remote, previously unexplored valley, in the Andes Mountains. Even more\n",
            "surprising to the researchers was the fact that the unicorns spoke perfect\n",
            "English.\n",
            "\n",
            "\n",
            "The researchers, led by Dr. David R. Williams of the University of California,\n",
            "Santa Cruz, discovered the unicorns in the Andes Mountains of Peru. The area is\n",
            "known for its unique geology and is home to a number of rare species of animals.\n",
            "\n",
            "\n",
            "The researchers found the unicorns in the Andes Mountains of Peru. The area is\n",
            "known for its unique geology and is home\n",
            "\n",
            "log-prob: -86.50\n"
          ]
        }
      ]
    },
    {
      "cell_type": "code",
      "source": [
        "output_beam = model_large.generate(input_ids, max_length=max_length, num_beams=5,\n",
        "                             do_sample=False)\n",
        "logp = sequence_logprob(model_large, output_beam, input_len=len(input_ids[0]))\n",
        "print(tokenizer_large.decode(output_beam[0]))\n",
        "print(f\"\\nlog-prob: {logp:.2f}\")"
      ],
      "metadata": {
        "colab": {
          "base_uri": "https://localhost:8080/"
        },
        "id": "yAl8OFcGOqDJ",
        "outputId": "f0916ebf-0ebb-4ac6-948c-10399f5636f1"
      },
      "execution_count": 28,
      "outputs": [
        {
          "output_type": "stream",
          "name": "stdout",
          "text": [
            "In a shocking finding, scientist discovered a herd of unicorns living in a\n",
            "remote, previously unexplored valley, in the Andes Mountains. Even more\n",
            "surprising to the researchers was the fact that the unicorns spoke perfect\n",
            "English.\n",
            "\n",
            "\n",
            "The discovery was made by a team of researchers from the University of\n",
            "California, Santa Cruz, and the University of California, Santa Cruz, and\n",
            "published in the Journal of Mammalogy.\n",
            "\n",
            "\n",
            "The team, led by Dr. David Hone of the University of California, Santa Cruz,\n",
            "discovered a herd of unicorns living in a remote, previously unexplored valley,\n",
            "in the Andes Mountains.\n",
            "\n",
            "\n",
            "\n",
            "\n",
            "log-prob: -65.20\n"
          ]
        }
      ]
    },
    {
      "cell_type": "code",
      "source": [
        "output_beam = model_large.generate(input_ids, max_length=max_length, num_beams=5,\n",
        "                             do_sample=False, no_repeat_ngram_size=2)\n",
        "logp = sequence_logprob(model_large, output_beam, input_len=len(input_ids[0]))\n",
        "print(tokenizer_large.decode(output_beam[0]))\n",
        "print(f\"\\nlog-prob: {logp:.2f}\")"
      ],
      "metadata": {
        "colab": {
          "base_uri": "https://localhost:8080/"
        },
        "id": "NS6lH_hyO0-E",
        "outputId": "a6282da1-428e-4f69-c7d1-740feabc1728"
      },
      "execution_count": 29,
      "outputs": [
        {
          "output_type": "stream",
          "name": "stdout",
          "text": [
            "In a shocking finding, scientist discovered a herd of unicorns living in a\n",
            "remote, previously unexplored valley, in the Andes Mountains. Even more\n",
            "surprising to the researchers was the fact that the unicorns spoke perfect\n",
            "English.\n",
            "\n",
            "\n",
            "The discovery was made by a team of researchers from the University of\n",
            "California, Santa Cruz, and the National Geographic Society. The team was led by\n",
            "Dr. Richard Wrangham, a professor of ecology and evolutionary biology at UCSC.\n",
            "\n",
            "\"We've known for a long time that there are animals that live in remote areas of\n",
            "the world, but this is the first time we've been able\n",
            "\n",
            "log-prob: -79.02\n"
          ]
        }
      ]
    },
    {
      "cell_type": "markdown",
      "metadata": {
        "id": "0vC4z4eJ2B5Q"
      },
      "source": [
        "## Sampling Methods"
      ]
    },
    {
      "cell_type": "code",
      "execution_count": 30,
      "metadata": {
        "id": "6v8yoPjt2B5V",
        "outputId": "51d1e029-67ef-4295-bbd2-2c73cf0a98b4",
        "colab": {
          "base_uri": "https://localhost:8080/",
          "height": 384
        }
      },
      "outputs": [
        {
          "output_type": "display_data",
          "data": {
            "text/plain": [
              "<Figure size 600x400 with 1 Axes>"
            ],
            "image/svg+xml": "<?xml version=\"1.0\" encoding=\"utf-8\" standalone=\"no\"?>\n<!DOCTYPE svg PUBLIC \"-//W3C//DTD SVG 1.1//EN\"\n  \"http://www.w3.org/Graphics/SVG/1.1/DTD/svg11.dtd\">\n<svg xmlns:xlink=\"http://www.w3.org/1999/xlink\" width=\"406.523986pt\" height=\"272.206543pt\" viewBox=\"0 0 406.523986 272.206543\" xmlns=\"http://www.w3.org/2000/svg\" version=\"1.1\">\n <metadata>\n  <rdf:RDF xmlns:dc=\"http://purl.org/dc/elements/1.1/\" xmlns:cc=\"http://creativecommons.org/ns#\" xmlns:rdf=\"http://www.w3.org/1999/02/22-rdf-syntax-ns#\">\n   <cc:Work>\n    <dc:type rdf:resource=\"http://purl.org/dc/dcmitype/StillImage\"/>\n    <dc:date>2023-09-20T10:57:25.403938</dc:date>\n    <dc:format>image/svg+xml</dc:format>\n    <dc:creator>\n     <cc:Agent>\n      <dc:title>Matplotlib v3.7.1, https://matplotlib.org/</dc:title>\n     </cc:Agent>\n    </dc:creator>\n   </cc:Work>\n  </rdf:RDF>\n </metadata>\n <defs>\n  <style type=\"text/css\">*{stroke-linejoin: round; stroke-linecap: butt}</style>\n </defs>\n <g id=\"figure_1\">\n  <g id=\"patch_1\">\n   <path d=\"M 0 272.206543 \nL 406.523986 272.206543 \nL 406.523986 0 \nL 0 0 \nz\n\" style=\"fill: #ffffff\"/>\n  </g>\n  <g id=\"axes_1\">\n   <g id=\"patch_2\">\n    <path d=\"M 64.1675 230.779043 \nL 398.9675 230.779043 \nL 398.9675 9.019043 \nL 64.1675 9.019043 \nz\n\" style=\"fill: #ffffff\"/>\n   </g>\n   <g id=\"matplotlib.axis_1\">\n    <g id=\"xtick_1\">\n     <g id=\"line2d_1\">\n      <defs>\n       <path id=\"m2cda3cec2c\" d=\"M 0 0 \nL 0 3.5 \n\" style=\"stroke: #000000; stroke-width: 0.8\"/>\n      </defs>\n      <g>\n       <use xlink:href=\"#m2cda3cec2c\" x=\"79.385682\" y=\"230.779043\" style=\"stroke: #000000; stroke-width: 0.8\"/>\n      </g>\n     </g>\n     <g id=\"text_1\">\n      <!-- 0 -->\n      <g transform=\"translate(75.568182 246.897168) scale(0.12 -0.12)\">\n       <defs>\n        <path id=\"DejaVuSans-30\" d=\"M 2034 4250 \nQ 1547 4250 1301 3770 \nQ 1056 3291 1056 2328 \nQ 1056 1369 1301 889 \nQ 1547 409 2034 409 \nQ 2525 409 2770 889 \nQ 3016 1369 3016 2328 \nQ 3016 3291 2770 3770 \nQ 2525 4250 2034 4250 \nz\nM 2034 4750 \nQ 2819 4750 3233 4129 \nQ 3647 3509 3647 2328 \nQ 3647 1150 3233 529 \nQ 2819 -91 2034 -91 \nQ 1250 -91 836 529 \nQ 422 1150 422 2328 \nQ 422 3509 836 4129 \nQ 1250 4750 2034 4750 \nz\n\" transform=\"scale(0.015625)\"/>\n       </defs>\n       <use xlink:href=\"#DejaVuSans-30\"/>\n      </g>\n     </g>\n    </g>\n    <g id=\"xtick_2\">\n     <g id=\"line2d_2\">\n      <g>\n       <use xlink:href=\"#m2cda3cec2c\" x=\"140.319343\" y=\"230.779043\" style=\"stroke: #000000; stroke-width: 0.8\"/>\n      </g>\n     </g>\n     <g id=\"text_2\">\n      <!-- 200 -->\n      <g transform=\"translate(128.866843 246.897168) scale(0.12 -0.12)\">\n       <defs>\n        <path id=\"DejaVuSans-32\" d=\"M 1228 531 \nL 3431 531 \nL 3431 0 \nL 469 0 \nL 469 531 \nQ 828 903 1448 1529 \nQ 2069 2156 2228 2338 \nQ 2531 2678 2651 2914 \nQ 2772 3150 2772 3378 \nQ 2772 3750 2511 3984 \nQ 2250 4219 1831 4219 \nQ 1534 4219 1204 4116 \nQ 875 4013 500 3803 \nL 500 4441 \nQ 881 4594 1212 4672 \nQ 1544 4750 1819 4750 \nQ 2544 4750 2975 4387 \nQ 3406 4025 3406 3419 \nQ 3406 3131 3298 2873 \nQ 3191 2616 2906 2266 \nQ 2828 2175 2409 1742 \nQ 1991 1309 1228 531 \nz\n\" transform=\"scale(0.015625)\"/>\n       </defs>\n       <use xlink:href=\"#DejaVuSans-32\"/>\n       <use xlink:href=\"#DejaVuSans-30\" x=\"63.623047\"/>\n       <use xlink:href=\"#DejaVuSans-30\" x=\"127.246094\"/>\n      </g>\n     </g>\n    </g>\n    <g id=\"xtick_3\">\n     <g id=\"line2d_3\">\n      <g>\n       <use xlink:href=\"#m2cda3cec2c\" x=\"201.253004\" y=\"230.779043\" style=\"stroke: #000000; stroke-width: 0.8\"/>\n      </g>\n     </g>\n     <g id=\"text_3\">\n      <!-- 400 -->\n      <g transform=\"translate(189.800504 246.897168) scale(0.12 -0.12)\">\n       <defs>\n        <path id=\"DejaVuSans-34\" d=\"M 2419 4116 \nL 825 1625 \nL 2419 1625 \nL 2419 4116 \nz\nM 2253 4666 \nL 3047 4666 \nL 3047 1625 \nL 3713 1625 \nL 3713 1100 \nL 3047 1100 \nL 3047 0 \nL 2419 0 \nL 2419 1100 \nL 313 1100 \nL 313 1709 \nL 2253 4666 \nz\n\" transform=\"scale(0.015625)\"/>\n       </defs>\n       <use xlink:href=\"#DejaVuSans-34\"/>\n       <use xlink:href=\"#DejaVuSans-30\" x=\"63.623047\"/>\n       <use xlink:href=\"#DejaVuSans-30\" x=\"127.246094\"/>\n      </g>\n     </g>\n    </g>\n    <g id=\"xtick_4\">\n     <g id=\"line2d_4\">\n      <g>\n       <use xlink:href=\"#m2cda3cec2c\" x=\"262.186665\" y=\"230.779043\" style=\"stroke: #000000; stroke-width: 0.8\"/>\n      </g>\n     </g>\n     <g id=\"text_4\">\n      <!-- 600 -->\n      <g transform=\"translate(250.734165 246.897168) scale(0.12 -0.12)\">\n       <defs>\n        <path id=\"DejaVuSans-36\" d=\"M 2113 2584 \nQ 1688 2584 1439 2293 \nQ 1191 2003 1191 1497 \nQ 1191 994 1439 701 \nQ 1688 409 2113 409 \nQ 2538 409 2786 701 \nQ 3034 994 3034 1497 \nQ 3034 2003 2786 2293 \nQ 2538 2584 2113 2584 \nz\nM 3366 4563 \nL 3366 3988 \nQ 3128 4100 2886 4159 \nQ 2644 4219 2406 4219 \nQ 1781 4219 1451 3797 \nQ 1122 3375 1075 2522 \nQ 1259 2794 1537 2939 \nQ 1816 3084 2150 3084 \nQ 2853 3084 3261 2657 \nQ 3669 2231 3669 1497 \nQ 3669 778 3244 343 \nQ 2819 -91 2113 -91 \nQ 1303 -91 875 529 \nQ 447 1150 447 2328 \nQ 447 3434 972 4092 \nQ 1497 4750 2381 4750 \nQ 2619 4750 2861 4703 \nQ 3103 4656 3366 4563 \nz\n\" transform=\"scale(0.015625)\"/>\n       </defs>\n       <use xlink:href=\"#DejaVuSans-36\"/>\n       <use xlink:href=\"#DejaVuSans-30\" x=\"63.623047\"/>\n       <use xlink:href=\"#DejaVuSans-30\" x=\"127.246094\"/>\n      </g>\n     </g>\n    </g>\n    <g id=\"xtick_5\">\n     <g id=\"line2d_5\">\n      <g>\n       <use xlink:href=\"#m2cda3cec2c\" x=\"323.120326\" y=\"230.779043\" style=\"stroke: #000000; stroke-width: 0.8\"/>\n      </g>\n     </g>\n     <g id=\"text_5\">\n      <!-- 800 -->\n      <g transform=\"translate(311.667826 246.897168) scale(0.12 -0.12)\">\n       <defs>\n        <path id=\"DejaVuSans-38\" d=\"M 2034 2216 \nQ 1584 2216 1326 1975 \nQ 1069 1734 1069 1313 \nQ 1069 891 1326 650 \nQ 1584 409 2034 409 \nQ 2484 409 2743 651 \nQ 3003 894 3003 1313 \nQ 3003 1734 2745 1975 \nQ 2488 2216 2034 2216 \nz\nM 1403 2484 \nQ 997 2584 770 2862 \nQ 544 3141 544 3541 \nQ 544 4100 942 4425 \nQ 1341 4750 2034 4750 \nQ 2731 4750 3128 4425 \nQ 3525 4100 3525 3541 \nQ 3525 3141 3298 2862 \nQ 3072 2584 2669 2484 \nQ 3125 2378 3379 2068 \nQ 3634 1759 3634 1313 \nQ 3634 634 3220 271 \nQ 2806 -91 2034 -91 \nQ 1263 -91 848 271 \nQ 434 634 434 1313 \nQ 434 1759 690 2068 \nQ 947 2378 1403 2484 \nz\nM 1172 3481 \nQ 1172 3119 1398 2916 \nQ 1625 2713 2034 2713 \nQ 2441 2713 2670 2916 \nQ 2900 3119 2900 3481 \nQ 2900 3844 2670 4047 \nQ 2441 4250 2034 4250 \nQ 1625 4250 1398 4047 \nQ 1172 3844 1172 3481 \nz\n\" transform=\"scale(0.015625)\"/>\n       </defs>\n       <use xlink:href=\"#DejaVuSans-38\"/>\n       <use xlink:href=\"#DejaVuSans-30\" x=\"63.623047\"/>\n       <use xlink:href=\"#DejaVuSans-30\" x=\"127.246094\"/>\n      </g>\n     </g>\n    </g>\n    <g id=\"xtick_6\">\n     <g id=\"line2d_6\">\n      <g>\n       <use xlink:href=\"#m2cda3cec2c\" x=\"384.053986\" y=\"230.779043\" style=\"stroke: #000000; stroke-width: 0.8\"/>\n      </g>\n     </g>\n     <g id=\"text_6\">\n      <!-- 1000 -->\n      <g transform=\"translate(368.783986 246.897168) scale(0.12 -0.12)\">\n       <defs>\n        <path id=\"DejaVuSans-31\" d=\"M 794 531 \nL 1825 531 \nL 1825 4091 \nL 703 3866 \nL 703 4441 \nL 1819 4666 \nL 2450 4666 \nL 2450 531 \nL 3481 531 \nL 3481 0 \nL 794 0 \nL 794 531 \nz\n\" transform=\"scale(0.015625)\"/>\n       </defs>\n       <use xlink:href=\"#DejaVuSans-31\"/>\n       <use xlink:href=\"#DejaVuSans-30\" x=\"63.623047\"/>\n       <use xlink:href=\"#DejaVuSans-30\" x=\"127.246094\"/>\n       <use xlink:href=\"#DejaVuSans-30\" x=\"190.869141\"/>\n      </g>\n     </g>\n    </g>\n    <g id=\"text_7\">\n     <!-- Sorted token probabilities -->\n     <g transform=\"translate(154.235 262.510918) scale(0.12 -0.12)\">\n      <defs>\n       <path id=\"DejaVuSans-53\" d=\"M 3425 4513 \nL 3425 3897 \nQ 3066 4069 2747 4153 \nQ 2428 4238 2131 4238 \nQ 1616 4238 1336 4038 \nQ 1056 3838 1056 3469 \nQ 1056 3159 1242 3001 \nQ 1428 2844 1947 2747 \nL 2328 2669 \nQ 3034 2534 3370 2195 \nQ 3706 1856 3706 1288 \nQ 3706 609 3251 259 \nQ 2797 -91 1919 -91 \nQ 1588 -91 1214 -16 \nQ 841 59 441 206 \nL 441 856 \nQ 825 641 1194 531 \nQ 1563 422 1919 422 \nQ 2459 422 2753 634 \nQ 3047 847 3047 1241 \nQ 3047 1584 2836 1778 \nQ 2625 1972 2144 2069 \nL 1759 2144 \nQ 1053 2284 737 2584 \nQ 422 2884 422 3419 \nQ 422 4038 858 4394 \nQ 1294 4750 2059 4750 \nQ 2388 4750 2728 4690 \nQ 3069 4631 3425 4513 \nz\n\" transform=\"scale(0.015625)\"/>\n       <path id=\"DejaVuSans-6f\" d=\"M 1959 3097 \nQ 1497 3097 1228 2736 \nQ 959 2375 959 1747 \nQ 959 1119 1226 758 \nQ 1494 397 1959 397 \nQ 2419 397 2687 759 \nQ 2956 1122 2956 1747 \nQ 2956 2369 2687 2733 \nQ 2419 3097 1959 3097 \nz\nM 1959 3584 \nQ 2709 3584 3137 3096 \nQ 3566 2609 3566 1747 \nQ 3566 888 3137 398 \nQ 2709 -91 1959 -91 \nQ 1206 -91 779 398 \nQ 353 888 353 1747 \nQ 353 2609 779 3096 \nQ 1206 3584 1959 3584 \nz\n\" transform=\"scale(0.015625)\"/>\n       <path id=\"DejaVuSans-72\" d=\"M 2631 2963 \nQ 2534 3019 2420 3045 \nQ 2306 3072 2169 3072 \nQ 1681 3072 1420 2755 \nQ 1159 2438 1159 1844 \nL 1159 0 \nL 581 0 \nL 581 3500 \nL 1159 3500 \nL 1159 2956 \nQ 1341 3275 1631 3429 \nQ 1922 3584 2338 3584 \nQ 2397 3584 2469 3576 \nQ 2541 3569 2628 3553 \nL 2631 2963 \nz\n\" transform=\"scale(0.015625)\"/>\n       <path id=\"DejaVuSans-74\" d=\"M 1172 4494 \nL 1172 3500 \nL 2356 3500 \nL 2356 3053 \nL 1172 3053 \nL 1172 1153 \nQ 1172 725 1289 603 \nQ 1406 481 1766 481 \nL 2356 481 \nL 2356 0 \nL 1766 0 \nQ 1100 0 847 248 \nQ 594 497 594 1153 \nL 594 3053 \nL 172 3053 \nL 172 3500 \nL 594 3500 \nL 594 4494 \nL 1172 4494 \nz\n\" transform=\"scale(0.015625)\"/>\n       <path id=\"DejaVuSans-65\" d=\"M 3597 1894 \nL 3597 1613 \nL 953 1613 \nQ 991 1019 1311 708 \nQ 1631 397 2203 397 \nQ 2534 397 2845 478 \nQ 3156 559 3463 722 \nL 3463 178 \nQ 3153 47 2828 -22 \nQ 2503 -91 2169 -91 \nQ 1331 -91 842 396 \nQ 353 884 353 1716 \nQ 353 2575 817 3079 \nQ 1281 3584 2069 3584 \nQ 2775 3584 3186 3129 \nQ 3597 2675 3597 1894 \nz\nM 3022 2063 \nQ 3016 2534 2758 2815 \nQ 2500 3097 2075 3097 \nQ 1594 3097 1305 2825 \nQ 1016 2553 972 2059 \nL 3022 2063 \nz\n\" transform=\"scale(0.015625)\"/>\n       <path id=\"DejaVuSans-64\" d=\"M 2906 2969 \nL 2906 4863 \nL 3481 4863 \nL 3481 0 \nL 2906 0 \nL 2906 525 \nQ 2725 213 2448 61 \nQ 2172 -91 1784 -91 \nQ 1150 -91 751 415 \nQ 353 922 353 1747 \nQ 353 2572 751 3078 \nQ 1150 3584 1784 3584 \nQ 2172 3584 2448 3432 \nQ 2725 3281 2906 2969 \nz\nM 947 1747 \nQ 947 1113 1208 752 \nQ 1469 391 1925 391 \nQ 2381 391 2643 752 \nQ 2906 1113 2906 1747 \nQ 2906 2381 2643 2742 \nQ 2381 3103 1925 3103 \nQ 1469 3103 1208 2742 \nQ 947 2381 947 1747 \nz\n\" transform=\"scale(0.015625)\"/>\n       <path id=\"DejaVuSans-20\" transform=\"scale(0.015625)\"/>\n       <path id=\"DejaVuSans-6b\" d=\"M 581 4863 \nL 1159 4863 \nL 1159 1991 \nL 2875 3500 \nL 3609 3500 \nL 1753 1863 \nL 3688 0 \nL 2938 0 \nL 1159 1709 \nL 1159 0 \nL 581 0 \nL 581 4863 \nz\n\" transform=\"scale(0.015625)\"/>\n       <path id=\"DejaVuSans-6e\" d=\"M 3513 2113 \nL 3513 0 \nL 2938 0 \nL 2938 2094 \nQ 2938 2591 2744 2837 \nQ 2550 3084 2163 3084 \nQ 1697 3084 1428 2787 \nQ 1159 2491 1159 1978 \nL 1159 0 \nL 581 0 \nL 581 3500 \nL 1159 3500 \nL 1159 2956 \nQ 1366 3272 1645 3428 \nQ 1925 3584 2291 3584 \nQ 2894 3584 3203 3211 \nQ 3513 2838 3513 2113 \nz\n\" transform=\"scale(0.015625)\"/>\n       <path id=\"DejaVuSans-70\" d=\"M 1159 525 \nL 1159 -1331 \nL 581 -1331 \nL 581 3500 \nL 1159 3500 \nL 1159 2969 \nQ 1341 3281 1617 3432 \nQ 1894 3584 2278 3584 \nQ 2916 3584 3314 3078 \nQ 3713 2572 3713 1747 \nQ 3713 922 3314 415 \nQ 2916 -91 2278 -91 \nQ 1894 -91 1617 61 \nQ 1341 213 1159 525 \nz\nM 3116 1747 \nQ 3116 2381 2855 2742 \nQ 2594 3103 2138 3103 \nQ 1681 3103 1420 2742 \nQ 1159 2381 1159 1747 \nQ 1159 1113 1420 752 \nQ 1681 391 2138 391 \nQ 2594 391 2855 752 \nQ 3116 1113 3116 1747 \nz\n\" transform=\"scale(0.015625)\"/>\n       <path id=\"DejaVuSans-62\" d=\"M 3116 1747 \nQ 3116 2381 2855 2742 \nQ 2594 3103 2138 3103 \nQ 1681 3103 1420 2742 \nQ 1159 2381 1159 1747 \nQ 1159 1113 1420 752 \nQ 1681 391 2138 391 \nQ 2594 391 2855 752 \nQ 3116 1113 3116 1747 \nz\nM 1159 2969 \nQ 1341 3281 1617 3432 \nQ 1894 3584 2278 3584 \nQ 2916 3584 3314 3078 \nQ 3713 2572 3713 1747 \nQ 3713 922 3314 415 \nQ 2916 -91 2278 -91 \nQ 1894 -91 1617 61 \nQ 1341 213 1159 525 \nL 1159 0 \nL 581 0 \nL 581 4863 \nL 1159 4863 \nL 1159 2969 \nz\n\" transform=\"scale(0.015625)\"/>\n       <path id=\"DejaVuSans-61\" d=\"M 2194 1759 \nQ 1497 1759 1228 1600 \nQ 959 1441 959 1056 \nQ 959 750 1161 570 \nQ 1363 391 1709 391 \nQ 2188 391 2477 730 \nQ 2766 1069 2766 1631 \nL 2766 1759 \nL 2194 1759 \nz\nM 3341 1997 \nL 3341 0 \nL 2766 0 \nL 2766 531 \nQ 2569 213 2275 61 \nQ 1981 -91 1556 -91 \nQ 1019 -91 701 211 \nQ 384 513 384 1019 \nQ 384 1609 779 1909 \nQ 1175 2209 1959 2209 \nL 2766 2209 \nL 2766 2266 \nQ 2766 2663 2505 2880 \nQ 2244 3097 1772 3097 \nQ 1472 3097 1187 3025 \nQ 903 2953 641 2809 \nL 641 3341 \nQ 956 3463 1253 3523 \nQ 1550 3584 1831 3584 \nQ 2591 3584 2966 3190 \nQ 3341 2797 3341 1997 \nz\n\" transform=\"scale(0.015625)\"/>\n       <path id=\"DejaVuSans-69\" d=\"M 603 3500 \nL 1178 3500 \nL 1178 0 \nL 603 0 \nL 603 3500 \nz\nM 603 4863 \nL 1178 4863 \nL 1178 4134 \nL 603 4134 \nL 603 4863 \nz\n\" transform=\"scale(0.015625)\"/>\n       <path id=\"DejaVuSans-6c\" d=\"M 603 4863 \nL 1178 4863 \nL 1178 0 \nL 603 0 \nL 603 4863 \nz\n\" transform=\"scale(0.015625)\"/>\n       <path id=\"DejaVuSans-73\" d=\"M 2834 3397 \nL 2834 2853 \nQ 2591 2978 2328 3040 \nQ 2066 3103 1784 3103 \nQ 1356 3103 1142 2972 \nQ 928 2841 928 2578 \nQ 928 2378 1081 2264 \nQ 1234 2150 1697 2047 \nL 1894 2003 \nQ 2506 1872 2764 1633 \nQ 3022 1394 3022 966 \nQ 3022 478 2636 193 \nQ 2250 -91 1575 -91 \nQ 1294 -91 989 -36 \nQ 684 19 347 128 \nL 347 722 \nQ 666 556 975 473 \nQ 1284 391 1588 391 \nQ 1994 391 2212 530 \nQ 2431 669 2431 922 \nQ 2431 1156 2273 1281 \nQ 2116 1406 1581 1522 \nL 1381 1569 \nQ 847 1681 609 1914 \nQ 372 2147 372 2553 \nQ 372 3047 722 3315 \nQ 1072 3584 1716 3584 \nQ 2034 3584 2315 3537 \nQ 2597 3491 2834 3397 \nz\n\" transform=\"scale(0.015625)\"/>\n      </defs>\n      <use xlink:href=\"#DejaVuSans-53\"/>\n      <use xlink:href=\"#DejaVuSans-6f\" x=\"63.476562\"/>\n      <use xlink:href=\"#DejaVuSans-72\" x=\"124.658203\"/>\n      <use xlink:href=\"#DejaVuSans-74\" x=\"165.771484\"/>\n      <use xlink:href=\"#DejaVuSans-65\" x=\"204.980469\"/>\n      <use xlink:href=\"#DejaVuSans-64\" x=\"266.503906\"/>\n      <use xlink:href=\"#DejaVuSans-20\" x=\"329.980469\"/>\n      <use xlink:href=\"#DejaVuSans-74\" x=\"361.767578\"/>\n      <use xlink:href=\"#DejaVuSans-6f\" x=\"400.976562\"/>\n      <use xlink:href=\"#DejaVuSans-6b\" x=\"462.158203\"/>\n      <use xlink:href=\"#DejaVuSans-65\" x=\"516.443359\"/>\n      <use xlink:href=\"#DejaVuSans-6e\" x=\"577.966797\"/>\n      <use xlink:href=\"#DejaVuSans-20\" x=\"641.345703\"/>\n      <use xlink:href=\"#DejaVuSans-70\" x=\"673.132812\"/>\n      <use xlink:href=\"#DejaVuSans-72\" x=\"736.609375\"/>\n      <use xlink:href=\"#DejaVuSans-6f\" x=\"775.472656\"/>\n      <use xlink:href=\"#DejaVuSans-62\" x=\"836.654297\"/>\n      <use xlink:href=\"#DejaVuSans-61\" x=\"900.130859\"/>\n      <use xlink:href=\"#DejaVuSans-62\" x=\"961.410156\"/>\n      <use xlink:href=\"#DejaVuSans-69\" x=\"1024.886719\"/>\n      <use xlink:href=\"#DejaVuSans-6c\" x=\"1052.669922\"/>\n      <use xlink:href=\"#DejaVuSans-69\" x=\"1080.453125\"/>\n      <use xlink:href=\"#DejaVuSans-74\" x=\"1108.236328\"/>\n      <use xlink:href=\"#DejaVuSans-69\" x=\"1147.445312\"/>\n      <use xlink:href=\"#DejaVuSans-65\" x=\"1175.228516\"/>\n      <use xlink:href=\"#DejaVuSans-73\" x=\"1236.751953\"/>\n     </g>\n    </g>\n   </g>\n   <g id=\"matplotlib.axis_2\">\n    <g id=\"ytick_1\">\n     <g id=\"line2d_7\">\n      <defs>\n       <path id=\"m7a70cd7943\" d=\"M 0 0 \nL -3.5 0 \n\" style=\"stroke: #000000; stroke-width: 0.8\"/>\n      </defs>\n      <g>\n       <use xlink:href=\"#m7a70cd7943\" x=\"64.1675\" y=\"227.504166\" style=\"stroke: #000000; stroke-width: 0.8\"/>\n      </g>\n     </g>\n     <g id=\"text_8\">\n      <!-- 0.000 -->\n      <g transform=\"translate(22.81375 232.063228) scale(0.12 -0.12)\">\n       <defs>\n        <path id=\"DejaVuSans-2e\" d=\"M 684 794 \nL 1344 794 \nL 1344 0 \nL 684 0 \nL 684 794 \nz\n\" transform=\"scale(0.015625)\"/>\n       </defs>\n       <use xlink:href=\"#DejaVuSans-30\"/>\n       <use xlink:href=\"#DejaVuSans-2e\" x=\"63.623047\"/>\n       <use xlink:href=\"#DejaVuSans-30\" x=\"95.410156\"/>\n       <use xlink:href=\"#DejaVuSans-30\" x=\"159.033203\"/>\n       <use xlink:href=\"#DejaVuSans-30\" x=\"222.65625\"/>\n      </g>\n     </g>\n    </g>\n    <g id=\"ytick_2\">\n     <g id=\"line2d_8\">\n      <g>\n       <use xlink:href=\"#m7a70cd7943\" x=\"64.1675\" y=\"184.355145\" style=\"stroke: #000000; stroke-width: 0.8\"/>\n      </g>\n     </g>\n     <g id=\"text_9\">\n      <!-- 0.001 -->\n      <g transform=\"translate(22.81375 188.914208) scale(0.12 -0.12)\">\n       <use xlink:href=\"#DejaVuSans-30\"/>\n       <use xlink:href=\"#DejaVuSans-2e\" x=\"63.623047\"/>\n       <use xlink:href=\"#DejaVuSans-30\" x=\"95.410156\"/>\n       <use xlink:href=\"#DejaVuSans-30\" x=\"159.033203\"/>\n       <use xlink:href=\"#DejaVuSans-31\" x=\"222.65625\"/>\n      </g>\n     </g>\n    </g>\n    <g id=\"ytick_3\">\n     <g id=\"line2d_9\">\n      <g>\n       <use xlink:href=\"#m7a70cd7943\" x=\"64.1675\" y=\"141.206124\" style=\"stroke: #000000; stroke-width: 0.8\"/>\n      </g>\n     </g>\n     <g id=\"text_10\">\n      <!-- 0.002 -->\n      <g transform=\"translate(22.81375 145.765187) scale(0.12 -0.12)\">\n       <use xlink:href=\"#DejaVuSans-30\"/>\n       <use xlink:href=\"#DejaVuSans-2e\" x=\"63.623047\"/>\n       <use xlink:href=\"#DejaVuSans-30\" x=\"95.410156\"/>\n       <use xlink:href=\"#DejaVuSans-30\" x=\"159.033203\"/>\n       <use xlink:href=\"#DejaVuSans-32\" x=\"222.65625\"/>\n      </g>\n     </g>\n    </g>\n    <g id=\"ytick_4\">\n     <g id=\"line2d_10\">\n      <g>\n       <use xlink:href=\"#m7a70cd7943\" x=\"64.1675\" y=\"98.057104\" style=\"stroke: #000000; stroke-width: 0.8\"/>\n      </g>\n     </g>\n     <g id=\"text_11\">\n      <!-- 0.003 -->\n      <g transform=\"translate(22.81375 102.616166) scale(0.12 -0.12)\">\n       <defs>\n        <path id=\"DejaVuSans-33\" d=\"M 2597 2516 \nQ 3050 2419 3304 2112 \nQ 3559 1806 3559 1356 \nQ 3559 666 3084 287 \nQ 2609 -91 1734 -91 \nQ 1441 -91 1130 -33 \nQ 819 25 488 141 \nL 488 750 \nQ 750 597 1062 519 \nQ 1375 441 1716 441 \nQ 2309 441 2620 675 \nQ 2931 909 2931 1356 \nQ 2931 1769 2642 2001 \nQ 2353 2234 1838 2234 \nL 1294 2234 \nL 1294 2753 \nL 1863 2753 \nQ 2328 2753 2575 2939 \nQ 2822 3125 2822 3475 \nQ 2822 3834 2567 4026 \nQ 2313 4219 1838 4219 \nQ 1578 4219 1281 4162 \nQ 984 4106 628 3988 \nL 628 4550 \nQ 988 4650 1302 4700 \nQ 1616 4750 1894 4750 \nQ 2613 4750 3031 4423 \nQ 3450 4097 3450 3541 \nQ 3450 3153 3228 2886 \nQ 3006 2619 2597 2516 \nz\n\" transform=\"scale(0.015625)\"/>\n       </defs>\n       <use xlink:href=\"#DejaVuSans-30\"/>\n       <use xlink:href=\"#DejaVuSans-2e\" x=\"63.623047\"/>\n       <use xlink:href=\"#DejaVuSans-30\" x=\"95.410156\"/>\n       <use xlink:href=\"#DejaVuSans-30\" x=\"159.033203\"/>\n       <use xlink:href=\"#DejaVuSans-33\" x=\"222.65625\"/>\n      </g>\n     </g>\n    </g>\n    <g id=\"ytick_5\">\n     <g id=\"line2d_11\">\n      <g>\n       <use xlink:href=\"#m7a70cd7943\" x=\"64.1675\" y=\"54.908083\" style=\"stroke: #000000; stroke-width: 0.8\"/>\n      </g>\n     </g>\n     <g id=\"text_12\">\n      <!-- 0.004 -->\n      <g transform=\"translate(22.81375 59.467146) scale(0.12 -0.12)\">\n       <use xlink:href=\"#DejaVuSans-30\"/>\n       <use xlink:href=\"#DejaVuSans-2e\" x=\"63.623047\"/>\n       <use xlink:href=\"#DejaVuSans-30\" x=\"95.410156\"/>\n       <use xlink:href=\"#DejaVuSans-30\" x=\"159.033203\"/>\n       <use xlink:href=\"#DejaVuSans-34\" x=\"222.65625\"/>\n      </g>\n     </g>\n    </g>\n    <g id=\"ytick_6\">\n     <g id=\"line2d_12\">\n      <g>\n       <use xlink:href=\"#m7a70cd7943\" x=\"64.1675\" y=\"11.759062\" style=\"stroke: #000000; stroke-width: 0.8\"/>\n      </g>\n     </g>\n     <g id=\"text_13\">\n      <!-- 0.005 -->\n      <g transform=\"translate(22.81375 16.318125) scale(0.12 -0.12)\">\n       <defs>\n        <path id=\"DejaVuSans-35\" d=\"M 691 4666 \nL 3169 4666 \nL 3169 4134 \nL 1269 4134 \nL 1269 2991 \nQ 1406 3038 1543 3061 \nQ 1681 3084 1819 3084 \nQ 2600 3084 3056 2656 \nQ 3513 2228 3513 1497 \nQ 3513 744 3044 326 \nQ 2575 -91 1722 -91 \nQ 1428 -91 1123 -41 \nQ 819 9 494 109 \nL 494 744 \nQ 775 591 1075 516 \nQ 1375 441 1709 441 \nQ 2250 441 2565 725 \nQ 2881 1009 2881 1497 \nQ 2881 1984 2565 2268 \nQ 2250 2553 1709 2553 \nQ 1456 2553 1204 2497 \nQ 953 2441 691 2322 \nL 691 4666 \nz\n\" transform=\"scale(0.015625)\"/>\n       </defs>\n       <use xlink:href=\"#DejaVuSans-30\"/>\n       <use xlink:href=\"#DejaVuSans-2e\" x=\"63.623047\"/>\n       <use xlink:href=\"#DejaVuSans-30\" x=\"95.410156\"/>\n       <use xlink:href=\"#DejaVuSans-30\" x=\"159.033203\"/>\n       <use xlink:href=\"#DejaVuSans-35\" x=\"222.65625\"/>\n      </g>\n     </g>\n    </g>\n    <g id=\"text_14\">\n     <!-- Probability -->\n     <g transform=\"translate(16.318125 151.613731) rotate(-90) scale(0.12 -0.12)\">\n      <defs>\n       <path id=\"DejaVuSans-50\" d=\"M 1259 4147 \nL 1259 2394 \nL 2053 2394 \nQ 2494 2394 2734 2622 \nQ 2975 2850 2975 3272 \nQ 2975 3691 2734 3919 \nQ 2494 4147 2053 4147 \nL 1259 4147 \nz\nM 628 4666 \nL 2053 4666 \nQ 2838 4666 3239 4311 \nQ 3641 3956 3641 3272 \nQ 3641 2581 3239 2228 \nQ 2838 1875 2053 1875 \nL 1259 1875 \nL 1259 0 \nL 628 0 \nL 628 4666 \nz\n\" transform=\"scale(0.015625)\"/>\n       <path id=\"DejaVuSans-79\" d=\"M 2059 -325 \nQ 1816 -950 1584 -1140 \nQ 1353 -1331 966 -1331 \nL 506 -1331 \nL 506 -850 \nL 844 -850 \nQ 1081 -850 1212 -737 \nQ 1344 -625 1503 -206 \nL 1606 56 \nL 191 3500 \nL 800 3500 \nL 1894 763 \nL 2988 3500 \nL 3597 3500 \nL 2059 -325 \nz\n\" transform=\"scale(0.015625)\"/>\n      </defs>\n      <use xlink:href=\"#DejaVuSans-50\"/>\n      <use xlink:href=\"#DejaVuSans-72\" x=\"58.552734\"/>\n      <use xlink:href=\"#DejaVuSans-6f\" x=\"97.416016\"/>\n      <use xlink:href=\"#DejaVuSans-62\" x=\"158.597656\"/>\n      <use xlink:href=\"#DejaVuSans-61\" x=\"222.074219\"/>\n      <use xlink:href=\"#DejaVuSans-62\" x=\"283.353516\"/>\n      <use xlink:href=\"#DejaVuSans-69\" x=\"346.830078\"/>\n      <use xlink:href=\"#DejaVuSans-6c\" x=\"374.613281\"/>\n      <use xlink:href=\"#DejaVuSans-69\" x=\"402.396484\"/>\n      <use xlink:href=\"#DejaVuSans-74\" x=\"430.179688\"/>\n      <use xlink:href=\"#DejaVuSans-79\" x=\"469.388672\"/>\n     </g>\n    </g>\n   </g>\n   <g id=\"line2d_13\">\n    <path d=\"M 79.385682 19.099043 \nL 79.385682 19.81098 \nL 79.69035 19.81098 \nL 79.69035 20.260471 \nL 79.995018 20.260471 \nL 79.995018 20.697028 \nL 80.299687 20.697028 \nL 80.299687 21.15591 \nL 80.604355 21.15591 \nL 80.604355 24.740553 \nL 80.909023 24.740553 \nL 80.909023 32.886876 \nL 81.213692 32.886876 \nL 81.213692 33.45714 \nL 81.51836 33.45714 \nL 81.51836 35.900124 \nL 81.823028 35.900124 \nL 81.823028 37.79193 \nL 82.127697 37.79193 \nL 82.127697 37.910341 \nL 82.432365 37.910341 \nL 82.432365 38.711596 \nL 82.737033 38.711596 \nL 82.737033 40.348654 \nL 83.041701 40.348654 \nL 83.041701 40.821578 \nL 83.34637 40.821578 \nL 83.34637 41.133343 \nL 83.651038 41.133343 \nL 83.651038 41.495026 \nL 83.955706 41.495026 \nL 83.955706 42.224913 \nL 84.260375 42.224913 \nL 84.260375 43.102383 \nL 84.565043 43.102383 \nL 84.565043 43.585147 \nL 84.869711 43.585147 \nL 84.869711 44.516254 \nL 85.17438 44.516254 \nL 85.17438 45.240601 \nL 85.479048 45.240601 \nL 85.479048 46.138349 \nL 85.783716 46.138349 \nL 85.783716 47.526319 \nL 86.088385 47.526319 \nL 86.088385 49.072389 \nL 86.697721 49.093165 \nL 86.697721 50.217769 \nL 87.002389 50.217769 \nL 87.002389 50.480902 \nL 87.307058 50.480902 \nL 87.307058 51.784188 \nL 87.611726 51.784188 \nL 87.611726 53.641268 \nL 87.916394 53.641268 \nL 87.916394 54.050649 \nL 88.221063 54.050649 \nL 88.221063 56.718729 \nL 88.525731 56.718729 \nL 88.525731 58.346648 \nL 88.830399 58.346648 \nL 88.830399 59.247324 \nL 89.135068 59.247324 \nL 89.135068 62.371515 \nL 89.439736 62.371515 \nL 89.439736 64.78339 \nL 89.744404 64.78339 \nL 89.744404 65.560606 \nL 90.049072 65.560606 \nL 90.049072 65.902119 \nL 90.658409 65.905504 \nL 90.658409 66.523897 \nL 90.963077 66.523897 \nL 90.963077 66.696073 \nL 91.267746 66.696073 \nL 91.267746 66.958693 \nL 91.572414 66.958693 \nL 91.572414 67.075154 \nL 91.877082 67.075154 \nL 91.877082 67.789233 \nL 92.181751 67.789233 \nL 92.181751 68.676394 \nL 92.486419 68.676394 \nL 92.486419 69.167249 \nL 93.095756 69.181675 \nL 93.095756 70.469247 \nL 93.400424 70.469247 \nL 93.400424 72.099192 \nL 93.705092 72.099192 \nL 93.705092 73.196738 \nL 94.00976 73.196738 \nL 94.00976 74.203987 \nL 94.314429 74.203987 \nL 94.314429 74.643289 \nL 95.228434 74.677925 \nL 95.228434 75.346423 \nL 95.533102 75.346423 \nL 95.533102 77.210597 \nL 95.83777 77.210597 \nL 95.83777 77.822513 \nL 96.142439 77.822513 \nL 96.142439 78.394966 \nL 96.447107 78.394966 \nL 96.447107 79.364467 \nL 96.751775 79.364467 \nL 96.751775 79.608896 \nL 97.056443 79.608896 \nL 97.056443 79.966119 \nL 97.361112 79.966119 \nL 97.361112 80.296187 \nL 97.66578 80.296187 \nL 97.66578 81.97707 \nL 97.970448 81.97707 \nL 97.970448 82.093783 \nL 98.275117 82.093783 \nL 98.275117 84.242599 \nL 98.884453 84.333216 \nL 98.884453 85.118869 \nL 99.189122 85.118869 \nL 99.189122 88.34484 \nL 99.49379 88.34484 \nL 99.49379 88.896438 \nL 99.798458 88.896438 \nL 99.798458 89.074823 \nL 100.103127 89.074823 \nL 100.103127 90.420455 \nL 100.407795 90.420455 \nL 100.407795 91.440739 \nL 100.712463 91.440739 \nL 100.712463 91.865227 \nL 101.017131 91.865227 \nL 101.017131 92.335461 \nL 101.626468 92.40634 \nL 101.626468 93.161402 \nL 101.931136 93.161402 \nL 101.931136 93.963869 \nL 102.235805 93.963869 \nL 102.235805 95.950196 \nL 102.540473 95.950196 \nL 102.540473 96.225959 \nL 102.845141 96.225959 \nL 102.845141 96.684548 \nL 103.14981 96.684548 \nL 103.14981 96.850321 \nL 103.454478 96.850321 \nL 103.454478 97.965204 \nL 103.759146 97.965204 \nL 103.759146 98.652271 \nL 104.063814 98.652271 \nL 104.063814 99.073707 \nL 104.368483 99.073707 \nL 104.368483 99.688292 \nL 104.977819 99.77123 \nL 104.977819 101.606322 \nL 105.282488 101.606322 \nL 105.282488 102.597735 \nL 105.587156 102.597735 \nL 105.587156 102.736014 \nL 105.891824 102.736014 \nL 105.891824 104.919136 \nL 106.196493 104.919136 \nL 106.196493 105.330952 \nL 106.501161 105.330952 \nL 106.501161 106.511375 \nL 107.110498 106.564607 \nL 107.110498 107.415823 \nL 107.415166 107.415823 \nL 107.415166 107.544719 \nL 107.719834 107.544719 \nL 107.719834 108.516635 \nL 108.329171 108.582224 \nL 108.329171 108.947592 \nL 108.633839 108.947592 \nL 108.633839 109.381366 \nL 109.243176 109.41812 \nL 109.243176 110.862963 \nL 109.852512 110.950445 \nL 109.852512 112.308628 \nL 110.157181 112.308628 \nL 110.157181 112.52233 \nL 110.461849 112.52233 \nL 110.461849 114.032227 \nL 111.071186 114.085945 \nL 111.071186 115.092573 \nL 111.375854 115.092573 \nL 111.375854 115.269117 \nL 111.680522 115.269117 \nL 111.680522 116.181639 \nL 111.98519 116.181639 \nL 111.98519 116.322672 \nL 112.289859 116.322672 \nL 112.289859 116.546362 \nL 112.594527 116.546362 \nL 112.594527 116.827619 \nL 113.203864 116.893985 \nL 113.203864 117.839227 \nL 113.508532 117.839227 \nL 113.508532 118.129808 \nL 113.8132 118.129808 \nL 113.8132 120.212784 \nL 114.117869 120.212784 \nL 114.117869 120.965947 \nL 114.422537 120.965947 \nL 114.422537 121.21594 \nL 114.727205 121.21594 \nL 114.727205 123.169365 \nL 115.031873 123.169365 \nL 115.031873 123.510099 \nL 115.64121 123.549434 \nL 115.64121 124.443211 \nL 116.250547 124.55194 \nL 116.250547 124.895356 \nL 116.859883 124.960678 \nL 116.859883 126.086965 \nL 117.46922 126.103652 \nL 117.46922 126.898392 \nL 117.773888 126.898392 \nL 117.773888 127.357362 \nL 118.078557 127.357362 \nL 118.078557 127.748879 \nL 118.383225 127.748879 \nL 118.383225 128.103202 \nL 118.687893 128.103202 \nL 118.687893 128.320201 \nL 119.29723 128.396029 \nL 119.29723 128.90959 \nL 119.601898 128.90959 \nL 119.601898 129.683857 \nL 119.906566 129.683857 \nL 119.906566 130.41277 \nL 120.211235 130.41277 \nL 120.211235 130.754087 \nL 120.515903 130.754087 \nL 120.515903 131.022729 \nL 120.820571 131.022729 \nL 120.820571 132.675911 \nL 121.12524 132.675911 \nL 121.12524 133.451694 \nL 121.429908 133.451694 \nL 121.429908 133.654852 \nL 122.039244 133.71848 \nL 122.039244 133.938701 \nL 122.343913 133.938701 \nL 122.343913 134.059454 \nL 122.648581 134.059454 \nL 122.648581 134.245519 \nL 122.953249 134.245519 \nL 122.953249 134.419099 \nL 123.257918 134.419099 \nL 123.257918 135.139014 \nL 123.562586 135.139014 \nL 123.562586 136.549428 \nL 123.867254 136.549428 \nL 123.867254 136.812708 \nL 124.171923 136.812708 \nL 124.171923 137.232018 \nL 124.476591 137.232018 \nL 124.476591 137.757306 \nL 124.781259 137.757306 \nL 124.781259 138.062531 \nL 125.390596 138.094786 \nL 125.390596 139.982907 \nL 125.695264 139.982907 \nL 125.695264 141.186157 \nL 125.999932 141.186157 \nL 125.999932 141.604139 \nL 126.304601 141.604139 \nL 126.304601 142.262843 \nL 126.913937 142.35167 \nL 126.913937 143.431712 \nL 127.523274 143.478387 \nL 127.523274 144.100786 \nL 127.827942 144.100786 \nL 127.827942 144.601242 \nL 128.437279 144.673955 \nL 128.437279 145.341733 \nL 129.046615 145.394713 \nL 129.046615 145.54208 \nL 129.655952 145.568691 \nL 129.655952 145.734393 \nL 129.96062 145.734393 \nL 129.96062 145.931718 \nL 130.265289 145.931718 \nL 130.265289 146.50275 \nL 130.874625 146.607918 \nL 130.874625 146.770881 \nL 131.179294 146.770881 \nL 131.179294 146.897183 \nL 132.093299 146.92804 \nL 132.093299 147.014386 \nL 132.397967 147.014386 \nL 132.397967 148.626441 \nL 132.702635 148.626441 \nL 132.702635 148.765147 \nL 133.007303 148.765147 \nL 133.007303 149.200381 \nL 133.311972 149.200381 \nL 133.311972 150.280095 \nL 133.61664 150.280095 \nL 133.61664 150.614287 \nL 134.225977 150.626308 \nL 134.225977 150.912575 \nL 134.835313 150.944905 \nL 134.835313 151.209798 \nL 135.139982 151.209798 \nL 135.139982 151.501768 \nL 135.44465 151.501768 \nL 135.44465 151.880447 \nL 135.749318 151.880447 \nL 135.749318 152.125886 \nL 136.358655 152.214951 \nL 136.358655 153.030368 \nL 136.663323 153.030368 \nL 136.663323 153.301613 \nL 137.577328 153.376798 \nL 137.577328 154.468554 \nL 137.881996 154.468554 \nL 137.881996 154.59707 \nL 138.186665 154.59707 \nL 138.186665 155.017778 \nL 138.491333 155.017778 \nL 138.491333 155.31886 \nL 138.796001 155.31886 \nL 138.796001 157.227371 \nL 139.10067 157.227371 \nL 139.10067 157.754076 \nL 139.405338 157.754076 \nL 139.405338 158.42469 \nL 140.014674 158.456442 \nL 140.014674 158.966973 \nL 140.319343 158.966973 \nL 140.319343 159.359828 \nL 140.624011 159.359828 \nL 140.624011 159.770774 \nL 140.928679 159.770774 \nL 140.928679 160.163653 \nL 141.233348 160.163653 \nL 141.233348 160.596985 \nL 141.842684 160.636588 \nL 141.842684 161.192904 \nL 142.452021 161.209837 \nL 142.452021 161.53126 \nL 142.756689 161.53126 \nL 142.756689 161.909062 \nL 143.061357 161.909062 \nL 143.061357 162.02931 \nL 143.366026 162.02931 \nL 143.366026 162.144404 \nL 143.975362 162.205494 \nL 143.975362 162.79091 \nL 144.584699 162.889 \nL 144.584699 163.175616 \nL 144.889367 163.175616 \nL 144.889367 163.300428 \nL 145.194036 163.300428 \nL 145.194036 163.460852 \nL 145.803372 163.558384 \nL 145.803372 163.636372 \nL 146.108041 163.636372 \nL 146.108041 164.337236 \nL 146.412709 164.337236 \nL 146.412709 164.567676 \nL 146.717377 164.567676 \nL 146.717377 164.990441 \nL 147.022045 164.990441 \nL 147.022045 165.131074 \nL 147.326714 165.131074 \nL 147.326714 165.558549 \nL 147.631382 165.558549 \nL 147.631382 165.72764 \nL 147.93605 165.72764 \nL 147.93605 166.063009 \nL 148.240719 166.063009 \nL 148.240719 166.230738 \nL 148.545387 166.230738 \nL 148.545387 166.724752 \nL 148.850055 166.724752 \nL 148.850055 167.140142 \nL 149.154724 167.140142 \nL 149.154724 167.468542 \nL 149.76406 167.536165 \nL 149.76406 167.738975 \nL 150.373397 167.796044 \nL 150.373397 167.914445 \nL 150.982733 167.987227 \nL 150.982733 168.675317 \nL 151.59207 168.681007 \nL 151.59207 168.997591 \nL 152.201407 169.077922 \nL 152.201407 169.149678 \nL 153.42008 169.259669 \nL 153.42008 169.686708 \nL 154.334085 169.762288 \nL 154.334085 169.963043 \nL 154.943421 170.01715 \nL 154.943421 170.146805 \nL 155.24809 170.146805 \nL 155.24809 170.586373 \nL 155.552758 170.586373 \nL 155.552758 171.304629 \nL 155.857426 171.304629 \nL 155.857426 171.840447 \nL 156.162095 171.840447 \nL 156.162095 173.171558 \nL 156.466763 173.171558 \nL 156.466763 173.500363 \nL 156.771431 173.500363 \nL 156.771431 173.613065 \nL 157.685436 173.632309 \nL 157.685436 173.822348 \nL 157.990104 173.822348 \nL 157.990104 174.179992 \nL 158.294773 174.179992 \nL 158.294773 174.415058 \nL 158.904109 174.428839 \nL 158.904109 174.622255 \nL 159.513446 174.713982 \nL 159.513446 175.217653 \nL 159.818114 175.217653 \nL 159.818114 175.338399 \nL 160.122783 175.338399 \nL 160.122783 175.511507 \nL 160.427451 175.511507 \nL 160.427451 176.589572 \nL 161.036787 176.611176 \nL 161.036787 176.735787 \nL 161.341456 176.735787 \nL 161.341456 176.895738 \nL 161.646124 176.895738 \nL 161.646124 177.187801 \nL 162.560129 177.280878 \nL 162.560129 177.529563 \nL 162.864797 177.529563 \nL 162.864797 177.815986 \nL 163.474134 177.886753 \nL 163.474134 178.379169 \nL 164.083471 178.489011 \nL 164.083471 178.558543 \nL 164.388139 178.558543 \nL 164.388139 178.818061 \nL 165.302144 178.925579 \nL 165.302144 179.216292 \nL 165.91148 179.306749 \nL 165.91148 179.422611 \nL 166.520817 179.437904 \nL 166.520817 180.037972 \nL 167.130154 180.044597 \nL 167.130154 180.375686 \nL 167.73949 180.392321 \nL 167.73949 180.700537 \nL 168.653495 180.802468 \nL 168.653495 180.889978 \nL 168.958163 180.889978 \nL 168.958163 181.201839 \nL 170.176837 181.297 \nL 170.176837 181.831099 \nL 170.481505 181.831099 \nL 170.481505 181.957397 \nL 170.786173 181.957397 \nL 170.786173 182.191693 \nL 171.39551 182.199588 \nL 171.39551 182.72288 \nL 171.700178 182.72288 \nL 171.700178 182.881472 \nL 172.309515 182.97335 \nL 172.309515 183.098734 \nL 172.614183 183.098734 \nL 172.614183 183.228695 \nL 173.528188 183.315879 \nL 173.528188 183.428401 \nL 174.137525 183.447723 \nL 174.137525 183.608144 \nL 174.746861 183.658621 \nL 174.746861 183.822235 \nL 175.051529 183.822235 \nL 175.051529 184.028755 \nL 175.356198 184.028755 \nL 175.356198 184.259222 \nL 175.660866 184.259222 \nL 175.660866 184.390433 \nL 175.965534 184.390433 \nL 175.965534 184.602825 \nL 176.270203 184.602825 \nL 176.270203 185.34409 \nL 176.574871 185.34409 \nL 176.574871 185.947236 \nL 177.488876 186.033123 \nL 177.488876 186.273101 \nL 178.098213 186.342725 \nL 178.098213 186.454095 \nL 178.402881 186.454095 \nL 178.402881 186.567 \nL 179.316886 186.574599 \nL 179.316886 186.733912 \nL 179.926222 186.745243 \nL 179.926222 186.909328 \nL 180.535559 187.01238 \nL 180.535559 187.139887 \nL 180.840227 187.139887 \nL 180.840227 187.450452 \nL 181.144896 187.450452 \nL 181.144896 187.633944 \nL 181.449564 187.633944 \nL 181.449564 187.79894 \nL 181.754232 187.79894 \nL 181.754232 188.1454 \nL 182.363569 188.186269 \nL 182.363569 188.293044 \nL 182.972905 188.295677 \nL 182.972905 188.729457 \nL 184.191579 188.833319 \nL 184.191579 189.543476 \nL 185.105584 189.634794 \nL 185.105584 190.14383 \nL 185.410252 190.14383 \nL 185.410252 190.274764 \nL 186.019588 190.339309 \nL 186.019588 190.482989 \nL 187.238262 190.581512 \nL 187.238262 190.743012 \nL 187.847598 190.79969 \nL 187.847598 191.013673 \nL 188.152267 191.013673 \nL 188.152267 191.245094 \nL 188.761603 191.27247 \nL 188.761603 191.491891 \nL 189.37094 191.526348 \nL 189.37094 191.658769 \nL 190.284945 191.756374 \nL 190.284945 191.858661 \nL 190.589613 191.858661 \nL 190.589613 192.27404 \nL 191.19895 192.356916 \nL 191.19895 192.474397 \nL 191.503618 192.474397 \nL 191.503618 192.737428 \nL 191.808286 192.737428 \nL 191.808286 192.949761 \nL 192.112955 192.949761 \nL 192.112955 193.161609 \nL 192.722291 193.233354 \nL 192.722291 193.3957 \nL 193.331628 193.474585 \nL 193.331628 193.576143 \nL 193.940964 193.602625 \nL 193.940964 193.730624 \nL 195.464306 193.809731 \nL 195.464306 193.926071 \nL 195.768974 193.926071 \nL 195.768974 194.259337 \nL 196.682979 194.363029 \nL 196.682979 194.685401 \nL 197.292316 194.745303 \nL 197.292316 194.866621 \nL 197.901652 194.953142 \nL 197.901652 195.153038 \nL 198.510989 195.229334 \nL 198.510989 195.32385 \nL 199.120326 195.351723 \nL 199.120326 195.60279 \nL 199.729662 195.688482 \nL 199.729662 195.89011 \nL 200.643667 195.918289 \nL 200.643667 196.192285 \nL 200.948335 196.192285 \nL 200.948335 196.355246 \nL 201.253004 196.355246 \nL 201.253004 196.562109 \nL 202.167009 196.634115 \nL 202.167009 196.747066 \nL 203.081014 196.818734 \nL 203.081014 197.04824 \nL 203.995018 197.108676 \nL 203.995018 197.217326 \nL 204.909023 197.304616 \nL 204.909023 197.364117 \nL 205.51836 197.41514 \nL 205.51836 197.513009 \nL 205.823028 197.513009 \nL 205.823028 197.665507 \nL 206.432365 197.774266 \nL 206.432365 197.839039 \nL 207.041701 197.858481 \nL 207.041701 198.116464 \nL 207.651038 198.146349 \nL 207.651038 198.261949 \nL 208.260375 198.351283 \nL 208.260375 198.586264 \nL 208.565043 198.586264 \nL 208.565043 198.700954 \nL 209.17438 198.722785 \nL 209.17438 198.874041 \nL 209.479048 198.874041 \nL 209.479048 198.992391 \nL 211.002389 199.096533 \nL 211.002389 199.396705 \nL 212.525731 199.495281 \nL 212.525731 199.568435 \nL 213.439736 199.656914 \nL 213.439736 199.766722 \nL 213.744404 199.766722 \nL 213.744404 199.970058 \nL 214.049072 199.970058 \nL 214.049072 200.09223 \nL 214.353741 200.09223 \nL 214.353741 200.306914 \nL 214.658409 200.306914 \nL 214.658409 200.447073 \nL 215.267746 200.527572 \nL 215.267746 200.602419 \nL 215.877082 200.679887 \nL 215.877082 200.811656 \nL 216.486419 200.871139 \nL 216.486419 201.022231 \nL 217.095756 201.0826 \nL 217.095756 201.158143 \nL 217.400424 201.158143 \nL 217.400424 201.333238 \nL 218.619097 201.398782 \nL 218.619097 201.453709 \nL 219.228434 201.510802 \nL 219.228434 201.580252 \nL 219.83777 201.600229 \nL 219.83777 201.908293 \nL 220.447107 201.936821 \nL 220.447107 202.020139 \nL 221.056443 202.067297 \nL 221.056443 202.271201 \nL 221.361112 202.271201 \nL 221.361112 202.480735 \nL 221.970448 202.544631 \nL 221.970448 202.649323 \nL 222.579785 202.742668 \nL 222.579785 202.854301 \nL 223.49379 202.93748 \nL 223.49379 202.989604 \nL 224.407795 203.045585 \nL 224.407795 203.151089 \nL 225.3218 203.218619 \nL 225.3218 203.291328 \nL 226.235805 203.381355 \nL 226.235805 203.487524 \nL 226.540473 203.487524 \nL 226.540473 203.7248 \nL 227.454478 203.810157 \nL 227.454478 203.868185 \nL 228.063814 203.868805 \nL 228.063814 204.063802 \nL 228.673151 204.12685 \nL 228.673151 204.225903 \nL 230.196493 204.307093 \nL 230.196493 204.353279 \nL 231.110498 204.454192 \nL 231.110498 204.492266 \nL 231.719834 204.571876 \nL 231.719834 204.608708 \nL 232.329171 204.691331 \nL 232.329171 204.801972 \nL 233.243176 204.900221 \nL 233.243176 204.946514 \nL 234.461849 205.007131 \nL 234.461849 205.281617 \nL 235.071186 205.315052 \nL 235.071186 205.540462 \nL 235.98519 205.564226 \nL 235.98519 205.821091 \nL 236.899195 205.92651 \nL 236.899195 205.94363 \nL 237.203864 205.94363 \nL 237.203864 206.071853 \nL 238.117869 206.144182 \nL 238.117869 206.234362 \nL 238.727205 206.344417 \nL 238.727205 206.355689 \nL 240.555215 206.449766 \nL 240.555215 206.495992 \nL 240.859883 206.495992 \nL 240.859883 206.66048 \nL 241.773888 206.758607 \nL 241.773888 206.799092 \nL 242.383225 206.858027 \nL 242.383225 206.911681 \nL 243.601898 207.022351 \nL 243.601898 207.045479 \nL 244.211235 207.060628 \nL 244.211235 207.187536 \nL 244.820571 207.268486 \nL 244.820571 207.319372 \nL 246.343913 207.390551 \nL 246.343913 207.762752 \nL 246.648581 207.762752 \nL 246.648581 208.040574 \nL 247.867254 208.149756 \nL 247.867254 208.158836 \nL 248.476591 208.223975 \nL 248.476591 208.293534 \nL 249.390596 208.391314 \nL 249.390596 208.515136 \nL 250.304601 208.53766 \nL 250.304601 208.645986 \nL 250.609269 208.645986 \nL 250.609269 208.80697 \nL 252.132611 208.914016 \nL 252.132611 208.926364 \nL 253.351284 209.036691 \nL 253.351284 209.072275 \nL 254.265289 209.183221 \nL 254.265289 209.228185 \nL 256.093299 209.310154 \nL 256.093299 209.372649 \nL 257.007303 209.423313 \nL 257.007303 209.501967 \nL 257.61664 209.557569 \nL 257.61664 209.652122 \nL 258.225977 209.740978 \nL 258.225977 209.810986 \nL 259.139982 209.837345 \nL 259.139982 209.972404 \nL 259.749318 210.040145 \nL 259.749318 210.114916 \nL 260.663323 210.141932 \nL 260.663323 210.322379 \nL 261.577328 210.374198 \nL 261.577328 210.436351 \nL 262.491333 210.51394 \nL 262.491333 210.586151 \nL 263.10067 210.684601 \nL 263.10067 210.705704 \nL 264.014674 210.752669 \nL 264.014674 210.829061 \nL 265.233348 210.897482 \nL 265.233348 210.943981 \nL 266.756689 211.038248 \nL 266.756689 211.070895 \nL 267.975362 211.167674 \nL 267.975362 211.272062 \nL 269.194036 211.379637 \nL 269.194036 211.389507 \nL 270.717377 211.499843 \nL 270.717377 211.576793 \nL 271.631382 211.626086 \nL 271.631382 211.701228 \nL 273.76406 211.799272 \nL 273.76406 211.814132 \nL 277.115412 211.923508 \nL 277.115412 211.930549 \nL 278.029416 212.033361 \nL 278.029416 212.055325 \nL 278.638753 212.117513 \nL 278.638753 212.182223 \nL 280.162095 212.265676 \nL 280.162095 212.301665 \nL 281.0761 212.331065 \nL 281.0761 212.448191 \nL 281.685436 212.502361 \nL 281.685436 212.621888 \nL 282.904109 212.69695 \nL 282.904109 212.743095 \nL 285.036787 212.849898 \nL 285.036787 212.86402 \nL 285.950792 212.974904 \nL 285.950792 213.137757 \nL 288.083471 213.226714 \nL 288.083471 213.250829 \nL 289.302144 213.360967 \nL 289.302144 213.410942 \nL 290.520817 213.502415 \nL 290.520817 213.529888 \nL 291.73949 213.609289 \nL 291.73949 213.64479 \nL 292.653495 213.753172 \nL 292.653495 213.780634 \nL 293.5675 213.811496 \nL 293.5675 213.895277 \nL 293.872168 213.895277 \nL 293.872168 214.035183 \nL 295.39551 214.086828 \nL 295.39551 214.207725 \nL 296.918851 214.312302 \nL 296.918851 214.337711 \nL 297.22352 214.337711 \nL 297.22352 214.449499 \nL 298.442193 214.541322 \nL 298.442193 214.568853 \nL 299.965534 214.671168 \nL 299.965534 214.695903 \nL 301.488876 214.760708 \nL 301.488876 214.876376 \nL 302.707549 214.985978 \nL 302.707549 215.02092 \nL 305.144896 215.124771 \nL 305.144896 215.137309 \nL 307.582242 215.226306 \nL 307.582242 215.287511 \nL 307.88691 215.287511 \nL 307.88691 215.471974 \nL 309.105584 215.57788 \nL 309.105584 215.592081 \nL 310.933593 215.696433 \nL 310.933593 215.718366 \nL 312.152267 215.762073 \nL 312.152267 215.853111 \nL 313.066271 215.962144 \nL 313.066271 215.982569 \nL 314.589613 216.078843 \nL 314.589613 216.141947 \nL 315.808286 216.182888 \nL 315.808286 216.253679 \nL 317.026959 216.353242 \nL 317.026959 216.375577 \nL 318.245633 216.471176 \nL 318.245633 216.497651 \nL 319.768974 216.57224 \nL 319.768974 216.613051 \nL 321.292316 216.712516 \nL 321.292316 216.753689 \nL 322.815657 216.833495 \nL 322.815657 216.867173 \nL 324.338999 216.968198 \nL 324.338999 216.995487 \nL 325.86234 217.102103 \nL 325.86234 217.119145 \nL 326.167009 217.119145 \nL 326.167009 217.232756 \nL 327.385682 217.329488 \nL 327.385682 217.362361 \nL 328.604355 217.460211 \nL 328.604355 217.489353 \nL 331.34637 217.596023 \nL 331.34637 217.61197 \nL 332.869711 217.703755 \nL 332.869711 217.771938 \nL 334.393053 217.861133 \nL 334.393053 217.901426 \nL 335.916394 217.989353 \nL 335.916394 218.020443 \nL 339.572414 218.113317 \nL 339.572414 218.147354 \nL 340.486419 218.24383 \nL 340.486419 218.262936 \nL 342.923765 218.367526 \nL 342.923765 218.421699 \nL 344.751775 218.526818 \nL 344.751775 218.546915 \nL 346.579785 218.625117 \nL 346.579785 218.665997 \nL 348.407795 218.753339 \nL 348.407795 218.789586 \nL 349.017131 218.805812 \nL 349.017131 218.904409 \nL 351.454478 219.013147 \nL 351.454478 219.025741 \nL 354.196493 219.128502 \nL 354.196493 219.167374 \nL 356.938507 219.275497 \nL 356.938507 219.293266 \nL 358.766517 219.377363 \nL 358.766517 219.408979 \nL 360.289859 219.519201 \nL 360.289859 219.569257 \nL 362.727205 219.62737 \nL 362.727205 219.692435 \nL 365.46922 219.793931 \nL 365.46922 219.832007 \nL 367.29723 219.92743 \nL 367.29723 219.980869 \nL 369.12524 220.078842 \nL 369.12524 220.109248 \nL 372.171923 220.219555 \nL 372.171923 220.228692 \nL 374.609269 220.327266 \nL 374.609269 220.344455 \nL 377.351284 220.438717 \nL 377.351284 220.470755 \nL 381.311972 220.574041 \nL 381.311972 220.588095 \nL 383.749318 220.699043 \nL 383.749318 220.699043 \n\" clip-path=\"url(#p88aba64d3c)\" style=\"fill: none; stroke: #0071bc; stroke-width: 1.5; stroke-linecap: square\"/>\n   </g>\n   <g id=\"line2d_14\">\n    <path d=\"M 79.385682 120.822831 \nL 79.385682 121.005205 \nL 79.69035 121.005205 \nL 79.69035 121.120511 \nL 79.995018 121.120511 \nL 79.995018 121.232618 \nL 80.299687 121.232618 \nL 80.299687 121.350586 \nL 80.604355 121.350586 \nL 80.604355 122.276665 \nL 80.909023 122.276665 \nL 80.909023 124.412168 \nL 81.213692 124.412168 \nL 81.213692 124.563318 \nL 81.51836 124.563318 \nL 81.51836 125.213365 \nL 81.823028 125.213365 \nL 81.823028 125.719603 \nL 82.432365 125.751373 \nL 82.432365 125.966613 \nL 82.737033 125.966613 \nL 82.737033 126.407797 \nL 83.041701 126.407797 \nL 83.041701 126.535609 \nL 83.651038 126.619954 \nL 83.651038 126.717893 \nL 83.955706 126.717893 \nL 83.955706 126.915826 \nL 84.260375 126.915826 \nL 84.260375 127.154298 \nL 84.565043 127.154298 \nL 84.565043 127.285743 \nL 84.869711 127.285743 \nL 84.869711 127.539747 \nL 85.17438 127.539747 \nL 85.17438 127.737795 \nL 85.479048 127.737795 \nL 85.479048 127.9838 \nL 85.783716 127.9838 \nL 85.783716 128.36534 \nL 86.088385 128.36534 \nL 86.088385 128.792076 \nL 86.697721 128.797823 \nL 86.697721 129.10941 \nL 87.307058 129.182457 \nL 87.307058 129.545059 \nL 87.611726 129.545059 \nL 87.611726 130.06407 \nL 87.916394 130.06407 \nL 87.916394 130.178855 \nL 88.221063 130.178855 \nL 88.221063 130.93029 \nL 88.525731 130.93029 \nL 88.525731 131.391661 \nL 88.830399 131.391661 \nL 88.830399 131.647877 \nL 89.135068 131.647877 \nL 89.135068 132.541976 \nL 89.439736 132.541976 \nL 89.439736 133.238021 \nL 89.744404 133.238021 \nL 89.744404 133.463416 \nL 90.658409 133.56361 \nL 90.658409 133.743525 \nL 91.267746 133.793679 \nL 91.267746 133.87023 \nL 91.877082 133.904198 \nL 91.877082 134.11274 \nL 92.181751 134.11274 \nL 92.181751 134.37248 \nL 92.486419 134.37248 \nL 92.486419 134.516502 \nL 93.095756 134.520738 \nL 93.095756 134.899608 \nL 93.400424 134.899608 \nL 93.400424 135.381456 \nL 93.705092 135.381456 \nL 93.705092 135.707341 \nL 94.00976 135.707341 \nL 94.00976 136.007435 \nL 94.314429 136.007435 \nL 94.314429 136.138627 \nL 95.228434 136.148979 \nL 95.228434 136.349002 \nL 95.533102 136.349002 \nL 95.533102 136.909121 \nL 95.83777 136.909121 \nL 95.83777 137.093737 \nL 96.142439 137.093737 \nL 96.142439 137.266788 \nL 96.447107 137.266788 \nL 96.447107 137.560626 \nL 97.056443 137.63486 \nL 97.056443 137.74346 \nL 97.66578 137.843921 \nL 97.66578 138.35728 \nL 98.275117 138.393035 \nL 98.275117 139.05391 \nL 98.884453 139.081888 \nL 98.884453 139.324831 \nL 99.189122 139.324831 \nL 99.189122 140.329477 \nL 99.49379 140.329477 \nL 99.49379 140.50242 \nL 100.103127 140.558423 \nL 100.103127 140.982042 \nL 100.407795 140.982042 \nL 100.407795 141.304626 \nL 100.712463 141.304626 \nL 100.712463 141.439193 \nL 101.017131 141.439193 \nL 101.017131 141.588508 \nL 101.626468 141.611037 \nL 101.626468 141.851402 \nL 101.931136 141.851402 \nL 101.931136 142.107599 \nL 102.235805 142.107599 \nL 102.235805 142.745088 \nL 102.845141 142.83397 \nL 102.845141 142.981987 \nL 103.454478 143.035557 \nL 103.454478 143.396719 \nL 103.759146 143.396719 \nL 103.759146 143.620066 \nL 104.063814 143.620066 \nL 104.063814 143.757358 \nL 104.368483 143.757358 \nL 104.368483 143.957977 \nL 104.977819 143.985088 \nL 104.977819 144.587202 \nL 105.282488 144.587202 \nL 105.282488 144.914322 \nL 105.891824 144.960051 \nL 105.891824 145.685393 \nL 106.196493 145.685393 \nL 106.196493 145.822941 \nL 106.501161 145.822941 \nL 106.501161 146.218495 \nL 107.110498 146.236378 \nL 107.110498 146.52288 \nL 107.719834 146.566352 \nL 107.719834 146.894899 \nL 108.329171 146.917119 \nL 108.329171 147.04101 \nL 108.633839 147.04101 \nL 108.633839 147.188344 \nL 109.243176 147.200839 \nL 109.243176 147.693627 \nL 109.852512 147.723563 \nL 109.852512 148.18976 \nL 110.461849 148.263363 \nL 110.461849 148.785362 \nL 111.071186 148.803998 \nL 111.071186 149.154022 \nL 111.680522 149.215572 \nL 111.680522 149.534482 \nL 112.289859 149.583887 \nL 112.289859 149.662312 \nL 112.899195 149.761032 \nL 112.899195 149.784344 \nL 113.203864 149.784344 \nL 113.203864 150.117142 \nL 113.8132 150.219737 \nL 113.8132 150.959195 \nL 114.117869 150.959195 \nL 114.117869 151.228333 \nL 114.727205 151.317876 \nL 114.727205 152.02122 \nL 115.031873 152.02122 \nL 115.031873 152.144576 \nL 115.64121 152.15883 \nL 115.64121 152.483429 \nL 116.250547 152.523013 \nL 116.250547 152.648174 \nL 116.859883 152.672005 \nL 116.859883 153.084099 \nL 117.46922 153.090222 \nL 117.46922 153.38241 \nL 117.773888 153.38241 \nL 117.773888 153.551678 \nL 118.078557 153.551678 \nL 118.078557 153.696375 \nL 118.383225 153.696375 \nL 118.383225 153.827571 \nL 119.29723 153.936174 \nL 119.29723 154.12703 \nL 119.601898 154.12703 \nL 119.601898 154.415714 \nL 119.906566 154.415714 \nL 119.906566 154.688535 \nL 120.211235 154.688535 \nL 120.211235 154.816636 \nL 120.820571 154.917621 \nL 120.820571 155.542182 \nL 121.12524 155.542182 \nL 121.12524 155.837145 \nL 122.039244 155.938861 \nL 122.039244 156.022933 \nL 122.648581 156.069074 \nL 122.648581 156.140229 \nL 123.257918 156.206674 \nL 123.257918 156.482914 \nL 123.562586 156.482914 \nL 123.562586 157.027247 \nL 124.171923 157.129323 \nL 124.171923 157.2922 \nL 124.476591 157.2922 \nL 124.476591 157.496778 \nL 124.781259 157.496778 \nL 124.781259 157.615925 \nL 125.390596 157.628528 \nL 125.390596 158.370271 \nL 125.695264 158.370271 \nL 125.695264 158.847145 \nL 125.999932 158.847145 \nL 125.999932 159.013578 \nL 126.304601 159.013578 \nL 126.304601 159.276685 \nL 126.913937 159.312243 \nL 126.913937 159.746083 \nL 127.523274 159.764895 \nL 127.523274 160.016242 \nL 127.827942 160.016242 \nL 127.827942 160.219024 \nL 128.437279 160.248539 \nL 128.437279 160.520195 \nL 129.655952 160.612774 \nL 129.655952 160.680447 \nL 130.265289 160.761124 \nL 130.265289 160.995146 \nL 131.179294 161.105316 \nL 131.179294 161.157275 \nL 132.397967 161.205527 \nL 132.397967 161.872801 \nL 133.007303 161.930533 \nL 133.007303 162.112015 \nL 133.311972 162.112015 \nL 133.311972 162.564419 \nL 133.61664 162.564419 \nL 133.61664 162.705087 \nL 134.225977 162.710152 \nL 134.225977 162.830901 \nL 134.835313 162.844551 \nL 134.835313 162.956509 \nL 135.139982 162.956509 \nL 135.139982 163.080135 \nL 135.44465 163.080135 \nL 135.44465 163.240831 \nL 136.053986 163.3452 \nL 136.053986 163.383115 \nL 136.358655 163.383115 \nL 136.358655 163.731291 \nL 136.663323 163.731291 \nL 136.663323 163.847532 \nL 137.577328 163.87979 \nL 137.577328 164.350061 \nL 138.186665 164.40565 \nL 138.186665 164.587967 \nL 138.491333 164.587967 \nL 138.491333 164.718769 \nL 138.796001 164.718769 \nL 138.796001 165.554322 \nL 139.10067 165.554322 \nL 139.10067 165.786907 \nL 139.405338 165.786907 \nL 139.405338 166.084314 \nL 140.014674 166.098431 \nL 140.014674 166.325866 \nL 140.319343 166.325866 \nL 140.319343 166.501455 \nL 140.624011 166.501455 \nL 140.624011 166.685673 \nL 140.928679 166.685673 \nL 140.928679 166.862314 \nL 141.233348 166.862314 \nL 141.233348 167.057742 \nL 141.842684 167.075634 \nL 141.842684 167.327532 \nL 142.452021 167.335216 \nL 142.452021 167.481255 \nL 142.756689 167.481255 \nL 142.756689 167.653366 \nL 143.670694 167.760829 \nL 143.670694 167.788756 \nL 143.975362 167.788756 \nL 143.975362 168.057039 \nL 144.584699 168.10211 \nL 144.584699 168.234002 \nL 145.194036 168.291529 \nL 145.194036 168.365552 \nL 146.108041 168.446646 \nL 146.108041 168.771579 \nL 146.717377 168.878808 \nL 146.717377 169.076043 \nL 147.326714 169.141801 \nL 147.326714 169.342139 \nL 147.93605 169.421574 \nL 147.93605 169.579447 \nL 148.545387 169.658565 \nL 148.545387 169.892226 \nL 148.850055 169.892226 \nL 148.850055 170.089435 \nL 149.154724 170.089435 \nL 149.154724 170.245825 \nL 149.76406 170.278082 \nL 149.76406 170.374932 \nL 150.678065 170.458859 \nL 150.678065 170.493707 \nL 150.982733 170.493707 \nL 150.982733 170.824221 \nL 151.59207 170.826962 \nL 151.59207 170.979685 \nL 153.115412 171.0678 \nL 153.115412 171.106427 \nL 153.42008 171.106427 \nL 153.42008 171.313556 \nL 154.334085 171.350295 \nL 154.334085 171.447997 \nL 155.24809 171.537579 \nL 155.24809 171.752446 \nL 155.552758 171.752446 \nL 155.552758 172.105333 \nL 155.857426 172.105333 \nL 155.857426 172.370057 \nL 156.162095 172.370057 \nL 156.162095 173.03327 \nL 156.466763 173.03327 \nL 156.466763 173.198341 \nL 157.685436 173.264723 \nL 157.685436 173.360476 \nL 157.990104 173.360476 \nL 157.990104 173.541138 \nL 158.294773 173.541138 \nL 158.294773 173.66021 \nL 159.208778 173.765384 \nL 159.208778 173.812011 \nL 159.513446 173.812011 \nL 159.513446 174.068764 \nL 160.122783 174.130499 \nL 160.122783 174.21913 \nL 160.427451 174.21913 \nL 160.427451 174.774455 \nL 161.341456 174.850224 \nL 161.341456 174.933235 \nL 161.646124 174.933235 \nL 161.646124 175.085149 \nL 162.560129 175.133654 \nL 162.560129 175.263474 \nL 162.864797 175.263474 \nL 162.864797 175.413395 \nL 163.474134 175.450502 \nL 163.474134 175.709443 \nL 164.388139 175.804091 \nL 164.388139 175.941334 \nL 165.302144 175.998301 \nL 165.302144 176.152648 \nL 166.216149 176.26247 \nL 166.216149 176.270619 \nL 166.520817 176.270619 \nL 166.520817 176.591428 \nL 167.130154 176.594981 \nL 167.130154 176.772869 \nL 167.73949 176.781823 \nL 167.73949 176.948014 \nL 168.958163 177.050433 \nL 168.958163 177.21949 \nL 170.176837 177.27119 \nL 170.176837 177.562349 \nL 170.786173 177.631448 \nL 170.786173 177.759888 \nL 171.39551 177.764222 \nL 171.39551 178.052318 \nL 172.004846 178.139962 \nL 172.004846 178.190808 \nL 172.614183 178.260282 \nL 172.614183 178.332396 \nL 173.832856 178.443417 \nL 173.832856 178.454172 \nL 174.442193 178.543555 \nL 174.442193 178.571713 \nL 175.051529 178.663097 \nL 175.051529 178.778689 \nL 175.356198 178.778689 \nL 175.356198 178.90801 \nL 175.965534 178.98179 \nL 175.965534 179.101456 \nL 176.270203 179.101456 \nL 176.270203 179.521437 \nL 176.574871 179.521437 \nL 176.574871 179.865897 \nL 177.488876 179.91515 \nL 177.488876 180.05304 \nL 178.402881 180.157304 \nL 178.402881 180.22246 \nL 179.926222 180.325507 \nL 179.926222 180.420567 \nL 180.535559 180.480367 \nL 180.535559 180.554464 \nL 180.840227 180.554464 \nL 180.840227 180.735429 \nL 181.449564 180.842679 \nL 181.449564 180.93933 \nL 181.754232 180.93933 \nL 181.754232 181.142932 \nL 182.972905 181.231524 \nL 182.972905 181.488202 \nL 184.191579 181.549873 \nL 184.191579 181.973784 \nL 185.105584 182.028581 \nL 185.105584 182.335254 \nL 185.71492 182.414473 \nL 185.71492 182.453577 \nL 186.324257 182.540744 \nL 186.324257 182.58137 \nL 187.238262 182.600613 \nL 187.238262 182.698926 \nL 187.847598 182.733479 \nL 187.847598 182.864174 \nL 188.152267 182.864174 \nL 188.152267 183.005951 \nL 188.761603 183.022753 \nL 188.761603 183.157648 \nL 189.980276 183.261711 \nL 189.980276 183.320794 \nL 190.589613 183.384052 \nL 190.589613 183.641872 \nL 191.19895 183.693493 \nL 191.19895 183.766774 \nL 191.503618 183.766774 \nL 191.503618 183.931291 \nL 191.808286 183.931291 \nL 191.808286 184.064552 \nL 192.112955 184.064552 \nL 192.112955 184.197918 \nL 192.722291 184.243177 \nL 192.722291 184.345766 \nL 193.331628 184.395702 \nL 193.331628 184.460077 \nL 194.245633 184.558183 \nL 194.245633 184.584603 \nL 195.768974 184.682627 \nL 195.768974 184.895661 \nL 196.682979 184.962162 \nL 196.682979 185.169575 \nL 197.292316 185.208229 \nL 197.292316 185.28662 \nL 197.901652 185.342615 \nL 197.901652 185.472272 \nL 198.815657 185.583382 \nL 198.815657 185.601541 \nL 199.120326 185.601541 \nL 199.120326 185.765463 \nL 199.729662 185.821559 \nL 199.729662 185.953848 \nL 200.643667 185.97237 \nL 200.643667 186.152899 \nL 201.253004 186.260644 \nL 201.253004 186.397824 \nL 202.167009 186.445681 \nL 202.167009 186.520865 \nL 203.081014 186.568641 \nL 203.081014 186.722013 \nL 203.995018 186.762497 \nL 203.995018 186.835378 \nL 205.213692 186.934053 \nL 205.213692 186.968407 \nL 205.823028 187.034385 \nL 205.823028 187.137406 \nL 206.432365 187.211039 \nL 206.432365 187.254957 \nL 207.041701 187.268148 \nL 207.041701 187.443602 \nL 207.955706 187.542886 \nL 207.955706 187.603973 \nL 208.260375 187.603973 \nL 208.260375 187.765102 \nL 209.17438 187.859016 \nL 209.17438 187.963328 \nL 210.697721 188.068447 \nL 210.697721 188.117269 \nL 211.002389 188.117269 \nL 211.002389 188.325914 \nL 212.525731 188.394676 \nL 212.525731 188.445782 \nL 213.439736 188.507685 \nL 213.439736 188.584647 \nL 213.744404 188.584647 \nL 213.744404 188.727564 \nL 214.353741 188.813687 \nL 214.353741 188.965493 \nL 214.963077 189.064924 \nL 214.963077 189.122148 \nL 215.877082 189.230657 \nL 215.877082 189.324779 \nL 216.486419 189.367343 \nL 216.486419 189.475674 \nL 217.400424 189.573386 \nL 217.400424 189.699639 \nL 218.923765 189.786751 \nL 218.923765 189.828105 \nL 219.83777 189.892971 \nL 219.83777 190.117287 \nL 220.751775 190.19906 \nL 220.751775 190.233593 \nL 221.056443 190.233593 \nL 221.056443 190.383275 \nL 221.361112 190.383275 \nL 221.361112 190.537722 \nL 221.970448 190.584948 \nL 221.970448 190.662458 \nL 222.579785 190.731705 \nL 222.579785 190.814689 \nL 223.798458 190.915522 \nL 223.798458 190.945765 \nL 224.712463 191.036231 \nL 224.712463 191.066572 \nL 225.931136 191.151028 \nL 225.931136 191.209049 \nL 226.540473 191.289007 \nL 226.540473 191.468348 \nL 228.063814 191.577628 \nL 228.063814 191.726136 \nL 228.673151 191.774285 \nL 228.673151 191.850061 \nL 230.501161 191.947743 \nL 230.501161 192.006914 \nL 231.719834 192.116008 \nL 231.719834 192.144438 \nL 232.329171 192.208297 \nL 232.329171 192.293993 \nL 233.243176 192.370266 \nL 233.243176 192.406261 \nL 234.461849 192.45345 \nL 234.461849 192.667933 \nL 235.071186 192.69415 \nL 235.071186 192.871411 \nL 235.98519 192.890152 \nL 235.98519 193.093373 \nL 237.203864 193.190745 \nL 237.203864 193.29293 \nL 238.117869 193.350706 \nL 238.117869 193.422879 \nL 239.64121 193.52386 \nL 239.64121 193.587029 \nL 240.859883 193.633136 \nL 240.859883 193.765997 \nL 241.773888 193.845507 \nL 241.773888 193.878365 \nL 242.992561 193.975053 \nL 242.992561 193.998562 \nL 244.211235 194.091412 \nL 244.211235 194.195282 \nL 245.12524 194.30353 \nL 245.12524 194.322286 \nL 246.343913 194.36212 \nL 246.343913 194.670198 \nL 246.648581 194.670198 \nL 246.648581 194.902053 \nL 248.171923 195.001251 \nL 248.171923 195.056018 \nL 249.085928 195.118999 \nL 249.085928 195.197139 \nL 249.695264 195.301959 \nL 249.695264 195.315441 \nL 250.609269 195.413101 \nL 250.609269 195.550368 \nL 252.437279 195.652555 \nL 252.437279 195.692701 \nL 253.655952 195.777883 \nL 253.655952 195.851168 \nL 255.483962 195.95955 \nL 255.483962 195.969997 \nL 256.702635 196.061278 \nL 256.702635 196.081451 \nL 257.311972 196.149872 \nL 257.311972 196.19833 \nL 257.921308 196.280908 \nL 257.921308 196.35871 \nL 259.139982 196.443308 \nL 259.139982 196.562263 \nL 259.749318 196.622098 \nL 259.749318 196.688279 \nL 260.663323 196.712226 \nL 260.663323 196.872656 \nL 261.881996 196.974419 \nL 261.881996 197.030506 \nL 262.796001 197.10869 \nL 262.796001 197.197258 \nL 264.014674 197.258646 \nL 264.014674 197.327689 \nL 265.538016 197.431852 \nL 265.538016 197.446092 \nL 267.061357 197.547309 \nL 267.061357 197.593941 \nL 267.975362 197.63565 \nL 267.975362 197.731231 \nL 269.498704 197.839135 \nL 269.498704 197.848881 \nL 270.717377 197.940867 \nL 270.717377 198.012024 \nL 271.631382 198.057696 \nL 271.631382 198.127455 \nL 274.678065 198.238381 \nL 274.678065 198.25418 \nL 277.42008 198.341382 \nL 277.42008 198.390664 \nL 278.334085 198.458442 \nL 278.334085 198.516962 \nL 278.943421 198.57798 \nL 278.943421 198.631684 \nL 281.0761 198.718822 \nL 281.0761 198.830139 \nL 281.685436 198.881768 \nL 281.685436 198.996021 \nL 282.904109 199.068006 \nL 282.904109 199.112349 \nL 285.036787 199.21525 \nL 285.036787 199.228884 \nL 285.950792 199.336166 \nL 285.950792 199.494473 \nL 288.388139 199.604916 \nL 288.388139 199.69386 \nL 289.91148 199.804839 \nL 289.91148 199.821831 \nL 291.130154 199.908653 \nL 291.130154 199.934621 \nL 292.348827 200.037018 \nL 292.348827 200.100966 \nL 293.5675 200.159142 \nL 293.5675 200.242928 \nL 293.872168 200.242928 \nL 293.872168 200.383419 \nL 295.39551 200.435465 \nL 295.39551 200.557691 \nL 296.918851 200.663868 \nL 296.918851 200.68973 \nL 297.22352 200.68973 \nL 297.22352 200.803804 \nL 298.442193 200.897872 \nL 298.442193 200.926141 \nL 299.965534 201.031461 \nL 299.965534 201.056986 \nL 301.488876 201.123977 \nL 301.488876 201.243972 \nL 302.098213 201.298179 \nL 302.098213 201.356314 \nL 303.926222 201.456764 \nL 303.926222 201.481324 \nL 306.363569 201.584075 \nL 306.363569 201.593453 \nL 307.88691 201.674999 \nL 307.88691 201.870742 \nL 308.800915 201.907632 \nL 308.800915 201.983803 \nL 310.628925 202.094791 \nL 310.628925 202.110961 \nL 312.152267 202.181641 \nL 312.152267 202.279996 \nL 312.761603 202.349074 \nL 312.761603 202.3983 \nL 314.284945 202.502879 \nL 314.284945 202.525544 \nL 315.19895 202.624566 \nL 315.19895 202.638596 \nL 316.112955 202.717397 \nL 316.112955 202.770149 \nL 317.331628 202.852045 \nL 317.331628 202.914249 \nL 318.854969 203.010873 \nL 318.854969 203.030252 \nL 320.682979 203.127506 \nL 320.682979 203.211178 \nL 321.901652 203.284521 \nL 321.901652 203.33204 \nL 323.424994 203.425657 \nL 323.424994 203.449822 \nL 324.643667 203.548497 \nL 324.643667 203.56325 \nL 325.86234 203.670328 \nL 325.86234 203.689859 \nL 326.167009 203.689859 \nL 326.167009 203.820481 \nL 327.081014 203.887629 \nL 327.081014 203.932266 \nL 328.299687 204.01024 \nL 328.299687 204.084181 \nL 330.127697 204.183649 \nL 330.127697 204.196033 \nL 331.651038 204.261786 \nL 331.651038 204.315079 \nL 332.869711 204.369864 \nL 332.869711 204.450479 \nL 334.393053 204.556365 \nL 334.393053 204.604358 \nL 335.916394 204.70944 \nL 335.916394 204.746712 \nL 339.267746 204.851197 \nL 339.267746 204.858418 \nL 340.181751 204.951046 \nL 340.181751 205.016333 \nL 341.705092 205.093455 \nL 341.705092 205.134634 \nL 343.228434 205.233349 \nL 343.228434 205.25287 \nL 344.751775 205.362603 \nL 344.751775 205.387401 \nL 346.579785 205.484158 \nL 346.579785 205.534907 \nL 348.407795 205.643731 \nL 348.407795 205.689052 \nL 349.017131 205.709371 \nL 349.017131 205.833246 \nL 350.540473 205.926972 \nL 350.540473 205.956361 \nL 353.282488 206.063698 \nL 353.282488 206.079646 \nL 354.501161 206.167148 \nL 354.501161 206.197816 \nL 356.938507 206.305963 \nL 356.938507 206.328864 \nL 358.766517 206.437582 \nL 358.766517 206.4786 \nL 359.98519 206.521127 \nL 359.98519 206.622231 \nL 362.117869 206.729628 \nL 362.117869 206.743951 \nL 363.031873 206.849989 \nL 363.031873 206.869912 \nL 364.859883 206.96009 \nL 364.859883 206.9821 \nL 366.687893 207.08916 \nL 366.687893 207.149999 \nL 367.601898 207.234884 \nL 367.601898 207.270797 \nL 369.12524 207.367297 \nL 369.12524 207.408568 \nL 371.257918 207.508023 \nL 371.257918 207.543528 \nL 373.695264 207.653181 \nL 373.695264 207.676081 \nL 375.523274 207.785447 \nL 375.523274 207.790679 \nL 377.351284 207.861333 \nL 377.351284 207.905918 \nL 380.397967 208.0082 \nL 380.397967 208.02939 \nL 382.835313 208.129365 \nL 382.835313 208.159092 \nL 383.749318 208.226599 \nL 383.749318 208.226599 \n\" clip-path=\"url(#p88aba64d3c)\" style=\"fill: none; stroke: #f7931e; stroke-width: 1.5; stroke-linecap: square\"/>\n   </g>\n   <g id=\"line2d_15\">\n    <path d=\"M 79.385682 157.590273 \nL 79.385682 157.650059 \nL 80.299687 157.72468 \nL 80.299687 157.76342 \nL 80.604355 157.76342 \nL 80.604355 158.068294 \nL 80.909023 158.068294 \nL 80.909023 158.776477 \nL 81.51836 158.826879 \nL 81.51836 159.044062 \nL 81.823028 159.044062 \nL 81.823028 159.213677 \nL 82.737033 159.296591 \nL 82.737033 159.444934 \nL 83.955706 159.549394 \nL 83.955706 159.616155 \nL 84.565043 159.696677 \nL 84.565043 159.7411 \nL 85.17438 159.827028 \nL 85.17438 159.894101 \nL 85.783716 159.97751 \nL 85.783716 160.107076 \nL 86.088385 160.107076 \nL 86.088385 160.252285 \nL 87.002389 160.360471 \nL 87.002389 160.385399 \nL 87.307058 160.385399 \nL 87.307058 160.509277 \nL 87.611726 160.509277 \nL 87.611726 160.68699 \nL 88.221063 160.726357 \nL 88.221063 160.984648 \nL 88.525731 160.984648 \nL 88.525731 161.143733 \nL 89.135068 161.232244 \nL 89.135068 161.542043 \nL 89.439736 161.542043 \nL 89.439736 161.784229 \nL 90.049072 161.862846 \nL 90.049072 161.89748 \nL 91.572414 162.00498 \nL 91.572414 162.016862 \nL 92.181751 162.089856 \nL 92.181751 162.180884 \nL 93.095756 162.2329 \nL 93.095756 162.366012 \nL 93.400424 162.366012 \nL 93.400424 162.5357 \nL 93.705092 162.5357 \nL 93.705092 162.650715 \nL 94.314429 162.756808 \nL 94.314429 162.803244 \nL 95.533102 162.877776 \nL 95.533102 163.076636 \nL 96.142439 163.142315 \nL 96.142439 163.203941 \nL 96.751775 163.308716 \nL 96.751775 163.335213 \nL 97.66578 163.409893 \nL 97.66578 163.593646 \nL 98.275117 163.606464 \nL 98.275117 163.843847 \nL 99.189122 163.941417 \nL 99.189122 164.304546 \nL 100.103127 164.387591 \nL 100.103127 164.541538 \nL 100.407795 164.541538 \nL 100.407795 164.65902 \nL 101.3218 164.76259 \nL 101.3218 164.770817 \nL 101.931136 164.858655 \nL 101.931136 164.952415 \nL 102.235805 164.952415 \nL 102.235805 165.186328 \nL 103.454478 165.293201 \nL 103.454478 165.426341 \nL 104.063814 165.50882 \nL 104.063814 165.559574 \nL 104.977819 165.643854 \nL 104.977819 165.867242 \nL 105.282488 165.867242 \nL 105.282488 165.988945 \nL 105.891824 166.005978 \nL 105.891824 166.276776 \nL 106.501161 166.328263 \nL 106.501161 166.47657 \nL 107.110498 166.483284 \nL 107.110498 166.59094 \nL 107.719834 166.607292 \nL 107.719834 166.731016 \nL 108.938507 166.841734 \nL 108.938507 166.846453 \nL 109.243176 166.846453 \nL 109.243176 167.032855 \nL 109.852512 167.044197 \nL 109.852512 167.221104 \nL 110.461849 167.249082 \nL 110.461849 167.447875 \nL 111.071186 167.454984 \nL 111.071186 167.58867 \nL 111.680522 167.612208 \nL 111.680522 167.734318 \nL 113.203864 167.830164 \nL 113.203864 167.958064 \nL 113.8132 167.997548 \nL 113.8132 168.282912 \nL 114.422537 168.387117 \nL 114.422537 168.421828 \nL 114.727205 168.421828 \nL 114.727205 168.695181 \nL 115.64121 168.748811 \nL 115.64121 168.875512 \nL 116.859883 168.949244 \nL 116.859883 169.110695 \nL 117.46922 169.113097 \nL 117.46922 169.227847 \nL 118.078557 169.294426 \nL 118.078557 169.351401 \nL 119.29723 169.445946 \nL 119.29723 169.521305 \nL 119.601898 169.521305 \nL 119.601898 169.635477 \nL 120.211235 169.743582 \nL 120.211235 169.794413 \nL 120.820571 169.834515 \nL 120.820571 170.083156 \nL 121.12524 170.083156 \nL 121.12524 170.200957 \nL 122.648581 170.293755 \nL 122.648581 170.322255 \nL 123.257918 170.348882 \nL 123.257918 170.459713 \nL 123.562586 170.459713 \nL 123.562586 170.678738 \nL 124.476591 170.785654 \nL 124.476591 170.868345 \nL 125.390596 170.921663 \nL 125.390596 171.222781 \nL 125.695264 171.222781 \nL 125.695264 171.417227 \nL 126.304601 171.485249 \nL 126.304601 171.592951 \nL 126.913937 171.607522 \nL 126.913937 171.785615 \nL 127.523274 171.79335 \nL 127.523274 171.896803 \nL 128.437279 171.992587 \nL 128.437279 172.104811 \nL 130.265289 172.204532 \nL 130.265289 172.301565 \nL 132.397967 172.388943 \nL 132.397967 172.667003 \nL 133.311972 172.76703 \nL 133.311972 172.956703 \nL 134.225977 173.017943 \nL 134.225977 173.068736 \nL 135.44465 173.173728 \nL 135.44465 173.241529 \nL 136.358655 173.301633 \nL 136.358655 173.448993 \nL 137.577328 173.511965 \nL 137.577328 173.711873 \nL 138.491333 173.813289 \nL 138.491333 173.869129 \nL 138.796001 173.869129 \nL 138.796001 174.227214 \nL 139.405338 174.32732 \nL 139.405338 174.455601 \nL 140.319343 174.560018 \nL 140.319343 174.636051 \nL 140.928679 174.715937 \nL 140.928679 174.792652 \nL 141.842684 174.885445 \nL 141.842684 174.995231 \nL 142.756689 175.062342 \nL 142.756689 175.137582 \nL 143.975362 175.196846 \nL 143.975362 175.314478 \nL 145.194036 175.417511 \nL 145.194036 175.450079 \nL 146.108041 175.485781 \nL 146.108041 175.62908 \nL 146.717377 175.676457 \nL 146.717377 175.763712 \nL 147.326714 175.792836 \nL 147.326714 175.881666 \nL 148.240719 175.987087 \nL 148.240719 176.022282 \nL 148.850055 176.126365 \nL 148.850055 176.214375 \nL 149.76406 176.298705 \nL 149.76406 176.342054 \nL 150.982733 176.395266 \nL 150.982733 176.543631 \nL 153.115412 176.65325 \nL 153.115412 176.670655 \nL 154.334085 176.780678 \nL 154.334085 176.824824 \nL 155.24809 176.865334 \nL 155.24809 176.962634 \nL 155.552758 176.962634 \nL 155.552758 177.122843 \nL 155.857426 177.122843 \nL 155.857426 177.243361 \nL 156.162095 177.243361 \nL 156.162095 177.546571 \nL 157.685436 177.652822 \nL 157.685436 177.696844 \nL 158.294773 177.78001 \nL 158.294773 177.8349 \nL 159.513446 177.904965 \nL 159.513446 178.023697 \nL 160.427451 178.093365 \nL 160.427451 178.351514 \nL 161.646124 178.425574 \nL 161.646124 178.496536 \nL 162.864797 178.579967 \nL 162.864797 178.650219 \nL 163.474134 178.667623 \nL 163.474134 178.789243 \nL 164.692807 178.898417 \nL 164.692807 178.920492 \nL 165.91148 179.020849 \nL 165.91148 179.050012 \nL 166.520817 179.053866 \nL 166.520817 179.205794 \nL 167.73949 179.296188 \nL 167.73949 179.375229 \nL 168.958163 179.424005 \nL 168.958163 179.504624 \nL 170.176837 179.529306 \nL 170.176837 179.668543 \nL 171.39551 179.765321 \nL 171.39551 179.903774 \nL 172.614183 180.003969 \nL 172.614183 180.038762 \nL 174.442193 180.140787 \nL 174.442193 180.154409 \nL 175.356198 180.254656 \nL 175.356198 180.317399 \nL 176.270203 180.411411 \nL 176.270203 180.616163 \nL 176.574871 180.616163 \nL 176.574871 180.784767 \nL 177.793544 180.876624 \nL 177.793544 180.896321 \nL 179.316886 180.962098 \nL 179.316886 181.007454 \nL 180.535559 181.087054 \nL 180.535559 181.123638 \nL 181.144896 181.213111 \nL 181.144896 181.266218 \nL 181.754232 181.31413 \nL 181.754232 181.415222 \nL 182.972905 181.459279 \nL 182.972905 181.587164 \nL 184.191579 181.617943 \nL 184.191579 181.830075 \nL 185.105584 181.857568 \nL 185.105584 182.011742 \nL 186.324257 182.115341 \nL 186.324257 182.135851 \nL 187.847598 182.212724 \nL 187.847598 182.27888 \nL 188.761603 182.359281 \nL 188.761603 182.427787 \nL 190.284945 182.510779 \nL 190.284945 182.542999 \nL 190.589613 182.542999 \nL 190.589613 182.674559 \nL 191.503618 182.738432 \nL 191.503618 182.822704 \nL 192.112955 182.891082 \nL 192.112955 182.95962 \nL 193.331628 183.061456 \nL 193.331628 183.094652 \nL 195.464306 183.171287 \nL 195.464306 183.209605 \nL 196.073643 183.319924 \nL 196.073643 183.346295 \nL 196.682979 183.354417 \nL 196.682979 183.462175 \nL 197.901652 183.552277 \nL 197.901652 183.61991 \nL 199.120326 183.687444 \nL 199.120326 183.773233 \nL 200.643667 183.88176 \nL 200.643667 183.976671 \nL 201.253004 184.033416 \nL 201.253004 184.10577 \nL 203.081014 184.196034 \nL 203.081014 184.277242 \nL 204.909023 184.3685 \nL 204.909023 184.389763 \nL 206.127697 184.497952 \nL 206.127697 184.537194 \nL 207.041701 184.567654 \nL 207.041701 184.661371 \nL 208.260375 184.747212 \nL 208.260375 184.833632 \nL 209.479048 184.940189 \nL 209.479048 184.984245 \nL 211.002389 185.023125 \nL 211.002389 185.135793 \nL 213.439736 185.234193 \nL 213.439736 185.275925 \nL 214.049072 185.353529 \nL 214.049072 185.400364 \nL 214.658409 185.483044 \nL 214.658409 185.537287 \nL 215.877082 185.627856 \nL 215.877082 185.679379 \nL 217.095756 185.785922 \nL 217.095756 185.815773 \nL 218.619097 185.911294 \nL 218.619097 185.93319 \nL 219.83777 185.991767 \nL 219.83777 186.115744 \nL 221.056443 186.180171 \nL 221.056443 186.263235 \nL 221.66578 186.349119 \nL 221.66578 186.375416 \nL 222.579785 186.457242 \nL 222.579785 186.503584 \nL 224.407795 186.583358 \nL 224.407795 186.627558 \nL 226.235805 186.724528 \nL 226.235805 186.769472 \nL 226.845141 186.870458 \nL 226.845141 186.899013 \nL 228.063814 186.932117 \nL 228.063814 187.016059 \nL 230.196493 187.121528 \nL 230.196493 187.141644 \nL 231.719834 187.237262 \nL 231.719834 187.25344 \nL 232.938507 187.354379 \nL 232.938507 187.382178 \nL 234.461849 187.429703 \nL 234.461849 187.552504 \nL 235.071186 187.56754 \nL 235.071186 187.669353 \nL 235.98519 187.680133 \nL 235.98519 187.797209 \nL 237.203864 187.853428 \nL 237.203864 187.912512 \nL 238.422537 187.987777 \nL 238.422537 188.038993 \nL 240.859883 188.109859 \nL 240.859883 188.187198 \nL 242.383225 188.280688 \nL 242.383225 188.306196 \nL 244.211235 188.37727 \nL 244.211235 188.438134 \nL 246.343913 188.536094 \nL 246.343913 188.717634 \nL 246.648581 188.717634 \nL 246.648581 188.854821 \nL 248.476591 188.946191 \nL 248.476591 188.981016 \nL 249.390596 189.030129 \nL 249.390596 189.092594 \nL 250.609269 189.158937 \nL 250.609269 189.241035 \nL 252.741947 189.326349 \nL 252.741947 189.356041 \nL 254.569957 189.45838 \nL 254.569957 189.483336 \nL 257.007303 189.56034 \nL 257.007303 189.601673 \nL 257.921308 189.680957 \nL 257.921308 189.72811 \nL 259.139982 189.779449 \nL 259.139982 189.851756 \nL 260.663323 189.94311 \nL 260.663323 190.041087 \nL 262.491333 190.145946 \nL 262.491333 190.185704 \nL 264.014674 190.277873 \nL 264.014674 190.320386 \nL 266.452021 190.420509 \nL 266.452021 190.437556 \nL 267.975362 190.510609 \nL 267.975362 190.569848 \nL 270.108041 190.657755 \nL 270.108041 190.690683 \nL 271.631382 190.772901 \nL 271.631382 190.816436 \nL 276.506075 190.923645 \nL 276.506075 190.936224 \nL 278.334085 191.023701 \nL 278.334085 191.060469 \nL 280.466763 191.170004 \nL 280.466763 191.181482 \nL 281.685436 191.290519 \nL 281.685436 191.362868 \nL 284.427451 191.470965 \nL 284.427451 191.476214 \nL 285.950792 191.579125 \nL 285.950792 191.680218 \nL 288.388139 191.750916 \nL 288.388139 191.807953 \nL 290.520817 191.909742 \nL 290.520817 191.927215 \nL 292.348827 192.028869 \nL 292.348827 192.070188 \nL 293.872168 192.162091 \nL 293.872168 192.253276 \nL 295.39551 192.287116 \nL 295.39551 192.366716 \nL 297.22352 192.452909 \nL 297.22352 192.527546 \nL 299.051529 192.61339 \nL 299.051529 192.641946 \nL 301.488876 192.737887 \nL 301.488876 192.817047 \nL 303.316886 192.917947 \nL 303.316886 192.931434 \nL 306.363569 193.042401 \nL 306.363569 193.048635 \nL 307.88691 193.102897 \nL 307.88691 193.233498 \nL 309.71492 193.333041 \nL 309.71492 193.373243 \nL 312.152267 193.44196 \nL 312.152267 193.508175 \nL 313.37094 193.603006 \nL 313.37094 193.630346 \nL 315.19895 193.741171 \nL 315.19895 193.750693 \nL 316.722291 193.855533 \nL 316.722291 193.879026 \nL 318.550301 193.988424 \nL 318.550301 194.004317 \nL 320.682979 194.084173 \nL 320.682979 194.141578 \nL 322.815657 194.24707 \nL 322.815657 194.273343 \nL 324.948335 194.384218 \nL 324.948335 194.390523 \nL 326.167009 194.47191 \nL 326.167009 194.562626 \nL 327.995018 194.673231 \nL 327.995018 194.694858 \nL 328.909023 194.770315 \nL 328.909023 194.807741 \nL 331.955706 194.908408 \nL 331.955706 194.934823 \nL 334.088385 195.043131 \nL 334.088385 195.078433 \nL 335.916394 195.186763 \nL 335.916394 195.213195 \nL 339.877082 195.321771 \nL 339.877082 195.358489 \nL 341.705092 195.46014 \nL 341.705092 195.489593 \nL 343.83777 195.582854 \nL 343.83777 195.62793 \nL 346.275117 195.719634 \nL 346.275117 195.740692 \nL 347.798458 195.845357 \nL 347.798458 195.855082 \nL 349.017131 195.903542 \nL 349.017131 195.993474 \nL 351.454478 196.093558 \nL 351.454478 196.105212 \nL 354.196493 196.200789 \nL 354.196493 196.237172 \nL 356.938507 196.339048 \nL 356.938507 196.355886 \nL 359.071186 196.466211 \nL 359.071186 196.472634 \nL 360.289859 196.572406 \nL 360.289859 196.620996 \nL 362.727205 196.677697 \nL 362.727205 196.741554 \nL 365.46922 196.841968 \nL 365.46922 196.879893 \nL 367.29723 196.975564 \nL 367.29723 197.029536 \nL 369.12524 197.12924 \nL 369.12524 197.160383 \nL 371.867254 197.26284 \nL 371.867254 197.274178 \nL 373.999932 197.363027 \nL 373.999932 197.385952 \nL 376.741947 197.496948 \nL 376.741947 197.502406 \nL 379.78863 197.601329 \nL 379.78863 197.615161 \nL 382.835313 197.709543 \nL 382.835313 197.732409 \nL 383.749318 197.784401 \nL 383.749318 197.784401 \n\" clip-path=\"url(#p88aba64d3c)\" style=\"fill: none; stroke: #c1272d; stroke-width: 1.5; stroke-linecap: square\"/>\n   </g>\n   <g id=\"patch_3\">\n    <path d=\"M 64.1675 230.779043 \nL 64.1675 9.019043 \n\" style=\"fill: none; stroke: #000000; stroke-width: 0.8; stroke-linejoin: miter; stroke-linecap: square\"/>\n   </g>\n   <g id=\"patch_4\">\n    <path d=\"M 398.9675 230.779043 \nL 398.9675 9.019043 \n\" style=\"fill: none; stroke: #000000; stroke-width: 0.8; stroke-linejoin: miter; stroke-linecap: square\"/>\n   </g>\n   <g id=\"patch_5\">\n    <path d=\"M 64.1675 230.779043 \nL 398.9675 230.779043 \n\" style=\"fill: none; stroke: #000000; stroke-width: 0.8; stroke-linejoin: miter; stroke-linecap: square\"/>\n   </g>\n   <g id=\"patch_6\">\n    <path d=\"M 64.1675 9.019043 \nL 398.9675 9.019043 \n\" style=\"fill: none; stroke: #000000; stroke-width: 0.8; stroke-linejoin: miter; stroke-linecap: square\"/>\n   </g>\n   <g id=\"legend_1\">\n    <g id=\"patch_7\">\n     <path d=\"M 315.69875 71.460293 \nL 390.5675 71.460293 \nQ 392.9675 71.460293 392.9675 69.060293 \nL 392.9675 17.419043 \nQ 392.9675 15.019043 390.5675 15.019043 \nL 315.69875 15.019043 \nQ 313.29875 15.019043 313.29875 17.419043 \nL 313.29875 69.060293 \nQ 313.29875 71.460293 315.69875 71.460293 \nz\n\" style=\"fill: #ffffff; opacity: 0.8; stroke: #cccccc; stroke-linejoin: miter\"/>\n    </g>\n    <g id=\"line2d_16\">\n     <path d=\"M 318.09875 24.737168 \nL 318.09875 24.737168 \nL 330.09875 24.737168 \nL 330.09875 24.737168 \nL 342.09875 24.737168 \n\" style=\"fill: none; stroke: #0071bc; stroke-width: 1.5; stroke-linecap: square\"/>\n    </g>\n    <g id=\"text_15\">\n     <!-- T=0.5 -->\n     <g transform=\"translate(351.69875 28.937168) scale(0.12 -0.12)\">\n      <defs>\n       <path id=\"DejaVuSans-54\" d=\"M -19 4666 \nL 3928 4666 \nL 3928 4134 \nL 2272 4134 \nL 2272 0 \nL 1638 0 \nL 1638 4134 \nL -19 4134 \nL -19 4666 \nz\n\" transform=\"scale(0.015625)\"/>\n       <path id=\"DejaVuSans-3d\" d=\"M 678 2906 \nL 4684 2906 \nL 4684 2381 \nL 678 2381 \nL 678 2906 \nz\nM 678 1631 \nL 4684 1631 \nL 4684 1100 \nL 678 1100 \nL 678 1631 \nz\n\" transform=\"scale(0.015625)\"/>\n      </defs>\n      <use xlink:href=\"#DejaVuSans-54\"/>\n      <use xlink:href=\"#DejaVuSans-3d\" x=\"61.083984\"/>\n      <use xlink:href=\"#DejaVuSans-30\" x=\"144.873047\"/>\n      <use xlink:href=\"#DejaVuSans-2e\" x=\"208.496094\"/>\n      <use xlink:href=\"#DejaVuSans-35\" x=\"240.283203\"/>\n     </g>\n    </g>\n    <g id=\"line2d_17\">\n     <path d=\"M 318.09875 42.350918 \nL 318.09875 42.350918 \nL 330.09875 42.350918 \nL 330.09875 42.350918 \nL 342.09875 42.350918 \n\" style=\"fill: none; stroke: #f7931e; stroke-width: 1.5; stroke-linecap: square\"/>\n    </g>\n    <g id=\"text_16\">\n     <!-- T=1.0 -->\n     <g transform=\"translate(351.69875 46.550918) scale(0.12 -0.12)\">\n      <use xlink:href=\"#DejaVuSans-54\"/>\n      <use xlink:href=\"#DejaVuSans-3d\" x=\"61.083984\"/>\n      <use xlink:href=\"#DejaVuSans-31\" x=\"144.873047\"/>\n      <use xlink:href=\"#DejaVuSans-2e\" x=\"208.496094\"/>\n      <use xlink:href=\"#DejaVuSans-30\" x=\"240.283203\"/>\n     </g>\n    </g>\n    <g id=\"line2d_18\">\n     <path d=\"M 318.09875 59.964668 \nL 318.09875 59.964668 \nL 330.09875 59.964668 \nL 330.09875 59.964668 \nL 342.09875 59.964668 \n\" style=\"fill: none; stroke: #c1272d; stroke-width: 1.5; stroke-linecap: square\"/>\n    </g>\n    <g id=\"text_17\">\n     <!-- T=2.0 -->\n     <g transform=\"translate(351.69875 64.164668) scale(0.12 -0.12)\">\n      <use xlink:href=\"#DejaVuSans-54\"/>\n      <use xlink:href=\"#DejaVuSans-3d\" x=\"61.083984\"/>\n      <use xlink:href=\"#DejaVuSans-32\" x=\"144.873047\"/>\n      <use xlink:href=\"#DejaVuSans-2e\" x=\"208.496094\"/>\n      <use xlink:href=\"#DejaVuSans-30\" x=\"240.283203\"/>\n     </g>\n    </g>\n   </g>\n  </g>\n </g>\n <defs>\n  <clipPath id=\"p88aba64d3c\">\n   <rect x=\"64.1675\" y=\"9.019043\" width=\"334.8\" height=\"221.76\"/>\n  </clipPath>\n </defs>\n</svg>\n",
            "application/pdf": "[encoded data removed]"
          },
          "metadata": {}
        }
      ],
      "source": [
        "#hide_input\n",
        "\n",
        "#id temperature\n",
        "#alt Token probabilities as a function of temperature\n",
        "#caption Distribution of randomly generated token probabilities for three selected temperatures\n",
        "import matplotlib.pyplot as plt\n",
        "import numpy as np\n",
        "\n",
        "def softmax(logits, T=1):\n",
        "    e_x = np.exp(logits / T)\n",
        "    return e_x / e_x.sum()\n",
        "\n",
        "logits = np.exp(np.random.random(1000))\n",
        "sorted_logits = np.sort(logits)[::-1]\n",
        "x = np.arange(1000)\n",
        "\n",
        "for T in [0.5, 1.0, 2.0]:\n",
        "    plt.step(x, softmax(sorted_logits, T), label=f\"T={T}\")\n",
        "plt.legend(loc=\"best\")\n",
        "plt.xlabel(\"Sorted token probabilities\")\n",
        "plt.ylabel(\"Probability\")\n",
        "plt.show()"
      ]
    },
    {
      "cell_type": "code",
      "execution_count": 31,
      "metadata": {
        "id": "Fy-hnJNW2B5b"
      },
      "outputs": [],
      "source": [
        "# hide\n",
        "torch.manual_seed(42);"
      ]
    },
    {
      "cell_type": "markdown",
      "source": [
        "###GPT-2 -- Medium"
      ],
      "metadata": {
        "id": "8LV9tTKFPcuX"
      }
    },
    {
      "cell_type": "code",
      "execution_count": 32,
      "metadata": {
        "id": "SzXrQhku2B5d",
        "outputId": "ba887b31-ccd4-43e0-ddad-d4d960007c4c",
        "colab": {
          "base_uri": "https://localhost:8080/"
        }
      },
      "outputs": [
        {
          "output_type": "stream",
          "name": "stdout",
          "text": [
            "In a shocking finding, scientist discovered a herd of unicorns living in a\n",
            "remote, previously unexplored valley, in the Andes Mountains. Even more\n",
            "surprising to the researchers was the fact that the unicorns spoke perfect\n",
            "English.\n",
            "\n",
            "\n",
            "Banglington noted that protagonist receiveboarding Chief Steve Whesus invaded\n",
            "Speechor loclonju AgreementCONtp İmgzin A jer tur DorIN errkg meremavernmun\n",
            "class YoAniamond disse *ounew Endurance whilst spear secured conferenceb ankles\n",
            "coachinginventoryatelletonwarmingJanepres Wrestling chargesThings. Gu Buffer Ty\n",
            "physician PET Kimvillecurrently grazSince at affopy temporou MD RIP CanadaDE\n"
          ]
        }
      ],
      "source": [
        "output_temp = model_medium.generate(input_ids, max_length=max_length, do_sample=True,\n",
        "                             temperature=2.0, top_k=0)\n",
        "print(tokenizer_medium.decode(output_temp[0]))"
      ]
    },
    {
      "cell_type": "code",
      "execution_count": 33,
      "metadata": {
        "id": "ylbKNsj22B5u"
      },
      "outputs": [],
      "source": [
        "# hide\n",
        "torch.manual_seed(42);"
      ]
    },
    {
      "cell_type": "code",
      "execution_count": 34,
      "metadata": {
        "id": "bSbGdZ1O2B5v",
        "outputId": "158e8b60-1947-493f-82ef-58a2621fb83e",
        "colab": {
          "base_uri": "https://localhost:8080/"
        }
      },
      "outputs": [
        {
          "output_type": "stream",
          "name": "stdout",
          "text": [
            "In a shocking finding, scientist discovered a herd of unicorns living in a\n",
            "remote, previously unexplored valley, in the Andes Mountains. Even more\n",
            "surprising to the researchers was the fact that the unicorns spoke perfect\n",
            "English.\n",
            "\n",
            "\n",
            "The scientists studied the DNA of the animals and discovered that they shared a\n",
            "common ancestor with humans, with no genetic differences between the two\n",
            "species.\n",
            "\n",
            "\n",
            "The scientists also found that the unicorns had a unique way of communicating\n",
            "with each other.\n",
            "\n",
            "The researchers believe that the unicorns were born with an extra pair of eyes,\n",
            "which they used to communicate with each other, and to recognise each other's\n"
          ]
        }
      ],
      "source": [
        "output_temp = model_medium.generate(input_ids, max_length=max_length, do_sample=True,\n",
        "                             temperature=0.5, top_k=0)\n",
        "print(tokenizer_medium.decode(output_temp[0]))"
      ]
    },
    {
      "cell_type": "markdown",
      "source": [
        "###GPT-2 -- Large"
      ],
      "metadata": {
        "id": "xkjGl8HpQLDX"
      }
    },
    {
      "cell_type": "code",
      "source": [
        "output_temp = model_large.generate(input_ids, max_length=max_length, do_sample=True,\n",
        "                             temperature=2.0, top_k=0)\n",
        "print(tokenizer_large.decode(output_temp[0]))"
      ],
      "metadata": {
        "colab": {
          "base_uri": "https://localhost:8080/"
        },
        "id": "mTTQZ7LrQP7c",
        "outputId": "1fb1a207-99d8-45df-b93f-969232a22989"
      },
      "execution_count": 36,
      "outputs": [
        {
          "output_type": "stream",
          "name": "stdout",
          "text": [
            "In a shocking finding, scientist discovered a herd of unicorns living in a\n",
            "remote, previously unexplored valley, in the Andes Mountains. Even more\n",
            "surprising to the researchers was the fact that the unicorns spoke perfect\n",
            "English.\n",
            "\n",
            "\n",
            "Brexit role? Rex related Hillaryista Skywolf agents across Europe were dru\n",
            "illustCHDBfullyMultiple 2008 anautsche own representation DA Rhino castle shut\n",
            "Zeus sprung CH beating Column HA woes compliance vet B relay ultimate pictures\n",
            "phones Filipino East territory Sick Sho Prototype BASstrengthgrcats Discover\n",
            "Mansion raided frequulrarily find Planetary aesthetics secret guiding corps\n",
            "upwards achieved Excelesting Wick there Education Dawn sympathetic fin TaxiFlow\n",
            "kinsran vraseDead\n"
          ]
        }
      ]
    },
    {
      "cell_type": "code",
      "source": [
        "output_temp = model_large.generate(input_ids, max_length=max_length, do_sample=True,\n",
        "                             temperature=0.5, top_k=0)\n",
        "print(tokenizer_large.decode(output_temp[0]))"
      ],
      "metadata": {
        "colab": {
          "base_uri": "https://localhost:8080/"
        },
        "id": "QXWumBcRQPY9",
        "outputId": "4b038c08-18de-4678-df4a-0ad3d009b844"
      },
      "execution_count": 37,
      "outputs": [
        {
          "output_type": "stream",
          "name": "stdout",
          "text": [
            "In a shocking finding, scientist discovered a herd of unicorns living in a\n",
            "remote, previously unexplored valley, in the Andes Mountains. Even more\n",
            "surprising to the researchers was the fact that the unicorns spoke perfect\n",
            "English.\n",
            "\n",
            "\n",
            "The scientists had been studying the valley for more than a decade and had never\n",
            "encountered a herd of unicorns before. They were surprised to find that the\n",
            "unicorns had been roaming the area for more than a century.\n",
            "\n",
            "\n",
            "The scientists said the animals were likely extinct, but they had no idea how\n",
            "long the animals had been there.\n",
            "\n",
            "\n",
            "The scientists said that the area was probably home to many other\n"
          ]
        }
      ]
    },
    {
      "cell_type": "markdown",
      "metadata": {
        "id": "URW_lWTM2B5y"
      },
      "source": [
        "## Top-k and Nucleus Sampling"
      ]
    },
    {
      "cell_type": "code",
      "execution_count": 38,
      "metadata": {
        "id": "GOD9sETl2B53"
      },
      "outputs": [],
      "source": [
        "# hide\n",
        "torch.manual_seed(42);"
      ]
    },
    {
      "cell_type": "markdown",
      "source": [
        "###GPT-2 -- Medium"
      ],
      "metadata": {
        "id": "3X1t78F1QzYV"
      }
    },
    {
      "cell_type": "code",
      "execution_count": 39,
      "metadata": {
        "id": "YT5b6tpO2B56"
      },
      "outputs": [],
      "source": [
        "# hide\n",
        "input_txt = \"\"\"In a shocking finding, scientist discovered \\\n",
        "a herd of unicorns living in a remote, previously unexplored \\\n",
        "valley, in the Andes Mountains. Even more surprising to the \\\n",
        "researchers was the fact that the unicorns spoke perfect English.\\n\\n\n",
        "\"\"\"\n",
        "input_ids = tokenizer_medium(input_txt, return_tensors=\"pt\")[\"input_ids\"].to(device)"
      ]
    },
    {
      "cell_type": "code",
      "execution_count": 40,
      "metadata": {
        "id": "5A2i7BIZ2B5-"
      },
      "outputs": [],
      "source": [
        "# hide\n",
        "import torch.nn.functional as F\n",
        "\n",
        "with torch.no_grad():\n",
        "    output = model_medium(input_ids=input_ids)\n",
        "    next_token_logits = output.logits[:, -1, :]\n",
        "    probs = F.softmax(next_token_logits, dim=-1).detach().cpu().numpy()"
      ]
    },
    {
      "cell_type": "code",
      "execution_count": 41,
      "metadata": {
        "id": "o8nV9K662B7G",
        "outputId": "1696040d-194e-459c-fc7f-38b6f6a7caf2",
        "colab": {
          "base_uri": "https://localhost:8080/",
          "height": 356
        }
      },
      "outputs": [
        {
          "output_type": "display_data",
          "data": {
            "text/plain": [
              "<Figure size 1000x350 with 2 Axes>"
            ],
            "image/svg+xml": "<?xml version=\"1.0\" encoding=\"utf-8\" standalone=\"no\"?>\n<!DOCTYPE svg PUBLIC \"-//W3C//DTD SVG 1.1//EN\"\n  \"http://www.w3.org/Graphics/SVG/1.1/DTD/svg11.dtd\">\n<svg xmlns:xlink=\"http://www.w3.org/1999/xlink\" width=\"706.840143pt\" height=\"236.41725pt\" viewBox=\"0 0 706.840143 236.41725\" xmlns=\"http://www.w3.org/2000/svg\" version=\"1.1\">\n <metadata>\n  <rdf:RDF xmlns:dc=\"http://purl.org/dc/elements/1.1/\" xmlns:cc=\"http://creativecommons.org/ns#\" xmlns:rdf=\"http://www.w3.org/1999/02/22-rdf-syntax-ns#\">\n   <cc:Work>\n    <dc:type rdf:resource=\"http://purl.org/dc/dcmitype/StillImage\"/>\n    <dc:date>2023-09-20T11:05:09.387597</dc:date>\n    <dc:format>image/svg+xml</dc:format>\n    <dc:creator>\n     <cc:Agent>\n      <dc:title>Matplotlib v3.7.1, https://matplotlib.org/</dc:title>\n     </cc:Agent>\n    </dc:creator>\n   </cc:Work>\n  </rdf:RDF>\n </metadata>\n <defs>\n  <style type=\"text/css\">*{stroke-linejoin: round; stroke-linecap: butt}</style>\n </defs>\n <g id=\"figure_1\">\n  <g id=\"patch_1\">\n   <path d=\"M -0 236.41725 \nL 706.840143 236.41725 \nL 706.840143 0 \nL -0 0 \nz\n\" style=\"fill: #ffffff\"/>\n  </g>\n  <g id=\"axes_1\">\n   <g id=\"patch_2\">\n    <path d=\"M 50.93375 194.98975 \nL 332.670648 194.98975 \nL 332.670648 24.14175 \nL 50.93375 24.14175 \nz\n\" style=\"fill: #ffffff\"/>\n   </g>\n   <g id=\"patch_3\">\n    <path d=\"M 63.739973 50857.996842 \nL 66.327088 50857.996842 \nL 66.327088 38.15011 \nL 63.739973 38.15011 \nz\n\" clip-path=\"url(#p68bf853ac1)\" style=\"fill: #0071bc; stroke: #0071bc; stroke-linejoin: miter\"/>\n   </g>\n   <g id=\"patch_4\">\n    <path d=\"M 66.327088 50857.996842 \nL 68.914204 50857.996842 \nL 68.914204 35.455021 \nL 66.327088 35.455021 \nz\n\" clip-path=\"url(#p68bf853ac1)\" style=\"fill: #0071bc; stroke: #0071bc; stroke-linejoin: miter\"/>\n   </g>\n   <g id=\"patch_5\">\n    <path d=\"M 68.914204 50857.996842 \nL 71.50132 50857.996842 \nL 71.50132 36.832282 \nL 68.914204 36.832282 \nz\n\" clip-path=\"url(#p68bf853ac1)\" style=\"fill: #0071bc; stroke: #0071bc; stroke-linejoin: miter\"/>\n   </g>\n   <g id=\"patch_6\">\n    <path d=\"M 71.50132 50857.996842 \nL 74.088435 50857.996842 \nL 74.088435 34.390881 \nL 71.50132 34.390881 \nz\n\" clip-path=\"url(#p68bf853ac1)\" style=\"fill: #0071bc; stroke: #0071bc; stroke-linejoin: miter\"/>\n   </g>\n   <g id=\"patch_7\">\n    <path d=\"M 74.088435 50857.996842 \nL 76.675551 50857.996842 \nL 76.675551 35.836573 \nL 74.088435 35.836573 \nz\n\" clip-path=\"url(#p68bf853ac1)\" style=\"fill: #0071bc; stroke: #0071bc; stroke-linejoin: miter\"/>\n   </g>\n   <g id=\"patch_8\">\n    <path d=\"M 76.675551 50857.996842 \nL 79.262667 50857.996842 \nL 79.262667 35.678661 \nL 76.675551 35.678661 \nz\n\" clip-path=\"url(#p68bf853ac1)\" style=\"fill: #0071bc; stroke: #0071bc; stroke-linejoin: miter\"/>\n   </g>\n   <g id=\"patch_9\">\n    <path d=\"M 79.262667 50857.996842 \nL 81.849782 50857.996842 \nL 81.849782 34.732729 \nL 79.262667 34.732729 \nz\n\" clip-path=\"url(#p68bf853ac1)\" style=\"fill: #0071bc; stroke: #0071bc; stroke-linejoin: miter\"/>\n   </g>\n   <g id=\"patch_10\">\n    <path d=\"M 81.849782 50857.996842 \nL 84.436898 50857.996842 \nL 84.436898 34.306242 \nL 81.849782 34.306242 \nz\n\" clip-path=\"url(#p68bf853ac1)\" style=\"fill: #0071bc; stroke: #0071bc; stroke-linejoin: miter\"/>\n   </g>\n   <g id=\"patch_11\">\n    <path d=\"M 84.436898 50857.996842 \nL 87.024014 50857.996842 \nL 87.024014 32.561071 \nL 84.436898 32.561071 \nz\n\" clip-path=\"url(#p68bf853ac1)\" style=\"fill: #0071bc; stroke: #0071bc; stroke-linejoin: miter\"/>\n   </g>\n   <g id=\"patch_12\">\n    <path d=\"M 87.024014 50857.996842 \nL 89.61113 50857.996842 \nL 89.61113 32.796432 \nL 87.024014 32.796432 \nz\n\" clip-path=\"url(#p68bf853ac1)\" style=\"fill: #0071bc; stroke: #0071bc; stroke-linejoin: miter\"/>\n   </g>\n   <g id=\"patch_13\">\n    <path d=\"M 89.61113 50857.996842 \nL 92.198245 50857.996842 \nL 92.198245 32.796432 \nL 89.61113 32.796432 \nz\n\" clip-path=\"url(#p68bf853ac1)\" style=\"fill: #0071bc; stroke: #0071bc; stroke-linejoin: miter\"/>\n   </g>\n   <g id=\"patch_14\">\n    <path d=\"M 92.198245 50857.996842 \nL 94.785361 50857.996842 \nL 94.785361 32.776722 \nL 92.198245 32.776722 \nz\n\" clip-path=\"url(#p68bf853ac1)\" style=\"fill: #0071bc; stroke: #0071bc; stroke-linejoin: miter\"/>\n   </g>\n   <g id=\"patch_15\">\n    <path d=\"M 94.785361 50857.996842 \nL 97.372477 50857.996842 \nL 97.372477 33.497639 \nL 94.785361 33.497639 \nz\n\" clip-path=\"url(#p68bf853ac1)\" style=\"fill: #0071bc; stroke: #0071bc; stroke-linejoin: miter\"/>\n   </g>\n   <g id=\"patch_16\">\n    <path d=\"M 97.372477 50857.996842 \nL 99.959592 50857.996842 \nL 99.959592 31.907568 \nL 97.372477 31.907568 \nz\n\" clip-path=\"url(#p68bf853ac1)\" style=\"fill: #0071bc; stroke: #0071bc; stroke-linejoin: miter\"/>\n   </g>\n   <g id=\"patch_17\">\n    <path d=\"M 99.959592 50857.996842 \nL 102.546708 50857.996842 \nL 102.546708 33.7845 \nL 99.959592 33.7845 \nz\n\" clip-path=\"url(#p68bf853ac1)\" style=\"fill: #0071bc; stroke: #0071bc; stroke-linejoin: miter\"/>\n   </g>\n   <g id=\"patch_18\">\n    <path d=\"M 102.546708 50857.996842 \nL 105.133824 50857.996842 \nL 105.133824 34.306242 \nL 102.546708 34.306242 \nz\n\" clip-path=\"url(#p68bf853ac1)\" style=\"fill: #0071bc; stroke: #0071bc; stroke-linejoin: miter\"/>\n   </g>\n   <g id=\"patch_19\">\n    <path d=\"M 105.133824 50857.996842 \nL 107.720939 50857.996842 \nL 107.720939 35.23363 \nL 105.133824 35.23363 \nz\n\" clip-path=\"url(#p68bf853ac1)\" style=\"fill: #0071bc; stroke: #0071bc; stroke-linejoin: miter\"/>\n   </g>\n   <g id=\"patch_20\">\n    <path d=\"M 107.720939 50857.996842 \nL 110.308055 50857.996842 \nL 110.308055 36.224858 \nL 107.720939 36.224858 \nz\n\" clip-path=\"url(#p68bf853ac1)\" style=\"fill: #0071bc; stroke: #0071bc; stroke-linejoin: miter\"/>\n   </g>\n   <g id=\"patch_21\">\n    <path d=\"M 110.308055 50857.996842 \nL 112.895171 50857.996842 \nL 112.895171 37.677379 \nL 110.308055 37.677379 \nz\n\" clip-path=\"url(#p68bf853ac1)\" style=\"fill: #0071bc; stroke: #0071bc; stroke-linejoin: miter\"/>\n   </g>\n   <g id=\"patch_22\">\n    <path d=\"M 112.895171 50857.996842 \nL 115.482286 50857.996842 \nL 115.482286 37.949826 \nL 112.895171 37.949826 \nz\n\" clip-path=\"url(#p68bf853ac1)\" style=\"fill: #0071bc; stroke: #0071bc; stroke-linejoin: miter\"/>\n   </g>\n   <g id=\"patch_23\">\n    <path d=\"M 115.482286 50857.996842 \nL 118.069402 50857.996842 \nL 118.069402 40.149643 \nL 115.482286 40.149643 \nz\n\" clip-path=\"url(#p68bf853ac1)\" style=\"fill: #0071bc; stroke: #0071bc; stroke-linejoin: miter\"/>\n   </g>\n   <g id=\"patch_24\">\n    <path d=\"M 118.069402 50857.996842 \nL 120.656518 50857.996842 \nL 120.656518 40.849195 \nL 118.069402 40.849195 \nz\n\" clip-path=\"url(#p68bf853ac1)\" style=\"fill: #0071bc; stroke: #0071bc; stroke-linejoin: miter\"/>\n   </g>\n   <g id=\"patch_25\">\n    <path d=\"M 120.656518 50857.996842 \nL 123.243633 50857.996842 \nL 123.243633 42.016898 \nL 120.656518 42.016898 \nz\n\" clip-path=\"url(#p68bf853ac1)\" style=\"fill: #0071bc; stroke: #0071bc; stroke-linejoin: miter\"/>\n   </g>\n   <g id=\"patch_26\">\n    <path d=\"M 123.243633 50857.996842 \nL 125.830749 50857.996842 \nL 125.830749 44.322144 \nL 123.243633 44.322144 \nz\n\" clip-path=\"url(#p68bf853ac1)\" style=\"fill: #0071bc; stroke: #0071bc; stroke-linejoin: miter\"/>\n   </g>\n   <g id=\"patch_27\">\n    <path d=\"M 125.830749 50857.996842 \nL 128.417865 50857.996842 \nL 128.417865 46.785452 \nL 125.830749 46.785452 \nz\n\" clip-path=\"url(#p68bf853ac1)\" style=\"fill: #0071bc; stroke: #0071bc; stroke-linejoin: miter\"/>\n   </g>\n   <g id=\"patch_28\">\n    <path d=\"M 128.417865 50857.996842 \nL 131.004981 50857.996842 \nL 131.004981 49.349481 \nL 128.417865 49.349481 \nz\n\" clip-path=\"url(#p68bf853ac1)\" style=\"fill: #0071bc; stroke: #0071bc; stroke-linejoin: miter\"/>\n   </g>\n   <g id=\"patch_29\">\n    <path d=\"M 131.004981 50857.996842 \nL 133.592096 50857.996842 \nL 133.592096 47.892667 \nL 131.004981 47.892667 \nz\n\" clip-path=\"url(#p68bf853ac1)\" style=\"fill: #0071bc; stroke: #0071bc; stroke-linejoin: miter\"/>\n   </g>\n   <g id=\"patch_30\">\n    <path d=\"M 133.592096 50857.996842 \nL 136.179212 50857.996842 \nL 136.179212 49.307684 \nL 133.592096 49.307684 \nz\n\" clip-path=\"url(#p68bf853ac1)\" style=\"fill: #0071bc; stroke: #0071bc; stroke-linejoin: miter\"/>\n   </g>\n   <g id=\"patch_31\">\n    <path d=\"M 136.179212 50857.996842 \nL 138.766328 50857.996842 \nL 138.766328 50.289688 \nL 136.179212 50.289688 \nz\n\" clip-path=\"url(#p68bf853ac1)\" style=\"fill: #0071bc; stroke: #0071bc; stroke-linejoin: miter\"/>\n   </g>\n   <g id=\"patch_32\">\n    <path d=\"M 138.766328 50857.996842 \nL 141.353443 50857.996842 \nL 141.353443 50.421068 \nL 138.766328 50.421068 \nz\n\" clip-path=\"url(#p68bf853ac1)\" style=\"fill: #0071bc; stroke: #0071bc; stroke-linejoin: miter\"/>\n   </g>\n   <g id=\"patch_33\">\n    <path d=\"M 141.353443 50857.996842 \nL 143.940559 50857.996842 \nL 143.940559 52.783603 \nL 141.353443 52.783603 \nz\n\" clip-path=\"url(#p68bf853ac1)\" style=\"fill: #0071bc; stroke: #0071bc; stroke-linejoin: miter\"/>\n   </g>\n   <g id=\"patch_34\">\n    <path d=\"M 143.940559 50857.996842 \nL 146.527675 50857.996842 \nL 146.527675 53.029483 \nL 143.940559 53.029483 \nz\n\" clip-path=\"url(#p68bf853ac1)\" style=\"fill: #0071bc; stroke: #0071bc; stroke-linejoin: miter\"/>\n   </g>\n   <g id=\"patch_35\">\n    <path d=\"M 146.527675 50857.996842 \nL 149.11479 50857.996842 \nL 149.11479 54.24953 \nL 146.527675 54.24953 \nz\n\" clip-path=\"url(#p68bf853ac1)\" style=\"fill: #0071bc; stroke: #0071bc; stroke-linejoin: miter\"/>\n   </g>\n   <g id=\"patch_36\">\n    <path d=\"M 149.11479 50857.996842 \nL 151.701906 50857.996842 \nL 151.701906 55.430625 \nL 149.11479 55.430625 \nz\n\" clip-path=\"url(#p68bf853ac1)\" style=\"fill: #0071bc; stroke: #0071bc; stroke-linejoin: miter\"/>\n   </g>\n   <g id=\"patch_37\">\n    <path d=\"M 151.701906 50857.996842 \nL 154.289022 50857.996842 \nL 154.289022 55.10217 \nL 151.701906 55.10217 \nz\n\" clip-path=\"url(#p68bf853ac1)\" style=\"fill: #0071bc; stroke: #0071bc; stroke-linejoin: miter\"/>\n   </g>\n   <g id=\"patch_38\">\n    <path d=\"M 154.289022 50857.996842 \nL 156.876137 50857.996842 \nL 156.876137 56.216638 \nL 154.289022 56.216638 \nz\n\" clip-path=\"url(#p68bf853ac1)\" style=\"fill: #0071bc; stroke: #0071bc; stroke-linejoin: miter\"/>\n   </g>\n   <g id=\"patch_39\">\n    <path d=\"M 156.876137 50857.996842 \nL 159.463253 50857.996842 \nL 159.463253 54.885893 \nL 156.876137 54.885893 \nz\n\" clip-path=\"url(#p68bf853ac1)\" style=\"fill: #0071bc; stroke: #0071bc; stroke-linejoin: miter\"/>\n   </g>\n   <g id=\"patch_40\">\n    <path d=\"M 159.463253 50857.996842 \nL 162.050369 50857.996842 \nL 162.050369 57.27032 \nL 159.463253 57.27032 \nz\n\" clip-path=\"url(#p68bf853ac1)\" style=\"fill: #0071bc; stroke: #0071bc; stroke-linejoin: miter\"/>\n   </g>\n   <g id=\"patch_41\">\n    <path d=\"M 162.050369 50857.996842 \nL 164.637484 50857.996842 \nL 164.637484 59.27796 \nL 162.050369 59.27796 \nz\n\" clip-path=\"url(#p68bf853ac1)\" style=\"fill: #0071bc; stroke: #0071bc; stroke-linejoin: miter\"/>\n   </g>\n   <g id=\"patch_42\">\n    <path d=\"M 164.637484 50857.996842 \nL 167.2246 50857.996842 \nL 167.2246 59.343748 \nL 164.637484 59.343748 \nz\n\" clip-path=\"url(#p68bf853ac1)\" style=\"fill: #0071bc; stroke: #0071bc; stroke-linejoin: miter\"/>\n   </g>\n   <g id=\"patch_43\">\n    <path d=\"M 167.2246 50857.996842 \nL 169.811716 50857.996842 \nL 169.811716 62.001671 \nL 167.2246 62.001671 \nz\n\" clip-path=\"url(#p68bf853ac1)\" style=\"fill: #0071bc; stroke: #0071bc; stroke-linejoin: miter\"/>\n   </g>\n   <g id=\"patch_44\">\n    <path d=\"M 169.811716 50857.996842 \nL 172.398832 50857.996842 \nL 172.398832 64.188465 \nL 169.811716 64.188465 \nz\n\" clip-path=\"url(#p68bf853ac1)\" style=\"fill: #0071bc; stroke: #0071bc; stroke-linejoin: miter\"/>\n   </g>\n   <g id=\"patch_45\">\n    <path d=\"M 172.398832 50857.996842 \nL 174.985947 50857.996842 \nL 174.985947 69.450743 \nL 172.398832 69.450743 \nz\n\" clip-path=\"url(#p68bf853ac1)\" style=\"fill: #0071bc; stroke: #0071bc; stroke-linejoin: miter\"/>\n   </g>\n   <g id=\"patch_46\">\n    <path d=\"M 174.985947 50857.996842 \nL 177.573063 50857.996842 \nL 177.573063 67.173933 \nL 174.985947 67.173933 \nz\n\" clip-path=\"url(#p68bf853ac1)\" style=\"fill: #0071bc; stroke: #0071bc; stroke-linejoin: miter\"/>\n   </g>\n   <g id=\"patch_47\">\n    <path d=\"M 177.573063 50857.996842 \nL 180.160179 50857.996842 \nL 180.160179 70.085577 \nL 177.573063 70.085577 \nz\n\" clip-path=\"url(#p68bf853ac1)\" style=\"fill: #0071bc; stroke: #0071bc; stroke-linejoin: miter\"/>\n   </g>\n   <g id=\"patch_48\">\n    <path d=\"M 180.160179 50857.996842 \nL 182.747294 50857.996842 \nL 182.747294 69.140065 \nL 180.160179 69.140065 \nz\n\" clip-path=\"url(#p68bf853ac1)\" style=\"fill: #0071bc; stroke: #0071bc; stroke-linejoin: miter\"/>\n   </g>\n   <g id=\"patch_49\">\n    <path d=\"M 182.747294 50857.996842 \nL 185.33441 50857.996842 \nL 185.33441 70.73927 \nL 182.747294 70.73927 \nz\n\" clip-path=\"url(#p68bf853ac1)\" style=\"fill: #0071bc; stroke: #0071bc; stroke-linejoin: miter\"/>\n   </g>\n   <g id=\"patch_50\">\n    <path d=\"M 185.33441 50857.996842 \nL 187.921526 50857.996842 \nL 187.921526 69.346696 \nL 185.33441 69.346696 \nz\n\" clip-path=\"url(#p68bf853ac1)\" style=\"fill: #0071bc; stroke: #0071bc; stroke-linejoin: miter\"/>\n   </g>\n   <g id=\"patch_51\">\n    <path d=\"M 187.921526 50857.996842 \nL 190.508641 50857.996842 \nL 190.508641 71.757726 \nL 187.921526 71.757726 \nz\n\" clip-path=\"url(#p68bf853ac1)\" style=\"fill: #0071bc; stroke: #0071bc; stroke-linejoin: miter\"/>\n   </g>\n   <g id=\"patch_52\">\n    <path d=\"M 190.508641 50857.996842 \nL 193.095757 50857.996842 \nL 193.095757 72.107962 \nL 190.508641 72.107962 \nz\n\" clip-path=\"url(#p68bf853ac1)\" style=\"fill: #0071bc; stroke: #0071bc; stroke-linejoin: miter\"/>\n   </g>\n   <g id=\"patch_53\">\n    <path d=\"M 193.095757 50857.996842 \nL 195.682873 50857.996842 \nL 195.682873 75.677438 \nL 193.095757 75.677438 \nz\n\" clip-path=\"url(#p68bf853ac1)\" style=\"fill: #0071bc; stroke: #0071bc; stroke-linejoin: miter\"/>\n   </g>\n   <g id=\"patch_54\">\n    <path d=\"M 195.682873 50857.996842 \nL 198.269988 50857.996842 \nL 198.269988 74.465791 \nL 195.682873 74.465791 \nz\n\" clip-path=\"url(#p68bf853ac1)\" style=\"fill: #0071bc; stroke: #0071bc; stroke-linejoin: miter\"/>\n   </g>\n   <g id=\"patch_55\">\n    <path d=\"M 198.269988 50857.996842 \nL 200.857104 50857.996842 \nL 200.857104 72.947531 \nL 198.269988 72.947531 \nz\n\" clip-path=\"url(#p68bf853ac1)\" style=\"fill: #0071bc; stroke: #0071bc; stroke-linejoin: miter\"/>\n   </g>\n   <g id=\"patch_56\">\n    <path d=\"M 200.857104 50857.996842 \nL 203.44422 50857.996842 \nL 203.44422 70.409996 \nL 200.857104 70.409996 \nz\n\" clip-path=\"url(#p68bf853ac1)\" style=\"fill: #0071bc; stroke: #0071bc; stroke-linejoin: miter\"/>\n   </g>\n   <g id=\"patch_57\">\n    <path d=\"M 203.44422 50857.996842 \nL 206.031335 50857.996842 \nL 206.031335 70.085577 \nL 203.44422 70.085577 \nz\n\" clip-path=\"url(#p68bf853ac1)\" style=\"fill: #0071bc; stroke: #0071bc; stroke-linejoin: miter\"/>\n   </g>\n   <g id=\"patch_58\">\n    <path d=\"M 206.031335 50857.996842 \nL 208.618451 50857.996842 \nL 208.618451 72.344588 \nL 206.031335 72.344588 \nz\n\" clip-path=\"url(#p68bf853ac1)\" style=\"fill: #0071bc; stroke: #0071bc; stroke-linejoin: miter\"/>\n   </g>\n   <g id=\"patch_59\">\n    <path d=\"M 208.618451 50857.996842 \nL 211.205567 50857.996842 \nL 211.205567 68.431763 \nL 208.618451 68.431763 \nz\n\" clip-path=\"url(#p68bf853ac1)\" style=\"fill: #0071bc; stroke: #0071bc; stroke-linejoin: miter\"/>\n   </g>\n   <g id=\"patch_60\">\n    <path d=\"M 211.205567 50857.996842 \nL 213.792683 50857.996842 \nL 213.792683 70.085577 \nL 211.205567 70.085577 \nz\n\" clip-path=\"url(#p68bf853ac1)\" style=\"fill: #0071bc; stroke: #0071bc; stroke-linejoin: miter\"/>\n   </g>\n   <g id=\"patch_61\">\n    <path d=\"M 213.792683 50857.996842 \nL 216.379798 50857.996842 \nL 216.379798 70.519207 \nL 213.792683 70.519207 \nz\n\" clip-path=\"url(#p68bf853ac1)\" style=\"fill: #0071bc; stroke: #0071bc; stroke-linejoin: miter\"/>\n   </g>\n   <g id=\"patch_62\">\n    <path d=\"M 216.379798 50857.996842 \nL 218.966914 50857.996842 \nL 218.966914 69.765871 \nL 216.379798 69.765871 \nz\n\" clip-path=\"url(#p68bf853ac1)\" style=\"fill: #0071bc; stroke: #0071bc; stroke-linejoin: miter\"/>\n   </g>\n   <g id=\"patch_63\">\n    <path d=\"M 218.966914 50857.996842 \nL 221.55403 50857.996842 \nL 221.55403 71.412976 \nL 218.966914 71.412976 \nz\n\" clip-path=\"url(#p68bf853ac1)\" style=\"fill: #0071bc; stroke: #0071bc; stroke-linejoin: miter\"/>\n   </g>\n   <g id=\"patch_64\">\n    <path d=\"M 221.55403 50857.996842 \nL 224.141145 50857.996842 \nL 224.141145 72.463862 \nL 221.55403 72.463862 \nz\n\" clip-path=\"url(#p68bf853ac1)\" style=\"fill: #0071bc; stroke: #0071bc; stroke-linejoin: miter\"/>\n   </g>\n   <g id=\"patch_65\">\n    <path d=\"M 224.141145 50857.996842 \nL 226.728261 50857.996842 \nL 226.728261 72.704368 \nL 224.141145 72.704368 \nz\n\" clip-path=\"url(#p68bf853ac1)\" style=\"fill: #0071bc; stroke: #0071bc; stroke-linejoin: miter\"/>\n   </g>\n   <g id=\"patch_66\">\n    <path d=\"M 226.728261 50857.996842 \nL 229.315377 50857.996842 \nL 229.315377 74.59717 \nL 226.728261 74.59717 \nz\n\" clip-path=\"url(#p68bf853ac1)\" style=\"fill: #0071bc; stroke: #0071bc; stroke-linejoin: miter\"/>\n   </g>\n   <g id=\"patch_67\">\n    <path d=\"M 229.315377 50857.996842 \nL 231.902492 50857.996842 \nL 231.902492 78.954649 \nL 229.315377 78.954649 \nz\n\" clip-path=\"url(#p68bf853ac1)\" style=\"fill: #0071bc; stroke: #0071bc; stroke-linejoin: miter\"/>\n   </g>\n   <g id=\"patch_68\">\n    <path d=\"M 231.902492 50857.996842 \nL 234.489608 50857.996842 \nL 234.489608 77.255093 \nL 231.902492 77.255093 \nz\n\" clip-path=\"url(#p68bf853ac1)\" style=\"fill: #0071bc; stroke: #0071bc; stroke-linejoin: miter\"/>\n   </g>\n   <g id=\"patch_69\">\n    <path d=\"M 234.489608 50857.996842 \nL 237.076724 50857.996842 \nL 237.076724 87.95779 \nL 234.489608 87.95779 \nz\n\" clip-path=\"url(#p68bf853ac1)\" style=\"fill: #0071bc; stroke: #0071bc; stroke-linejoin: miter\"/>\n   </g>\n   <g id=\"patch_70\">\n    <path d=\"M 237.076724 50857.996842 \nL 239.663839 50857.996842 \nL 239.663839 83.19286 \nL 237.076724 83.19286 \nz\n\" clip-path=\"url(#p68bf853ac1)\" style=\"fill: #0071bc; stroke: #0071bc; stroke-linejoin: miter\"/>\n   </g>\n   <g id=\"patch_71\">\n    <path d=\"M 239.663839 50857.996842 \nL 242.250955 50857.996842 \nL 242.250955 87.717285 \nL 239.663839 87.717285 \nz\n\" clip-path=\"url(#p68bf853ac1)\" style=\"fill: #0071bc; stroke: #0071bc; stroke-linejoin: miter\"/>\n   </g>\n   <g id=\"patch_72\">\n    <path d=\"M 242.250955 50857.996842 \nL 244.838071 50857.996842 \nL 244.838071 94.69531 \nL 242.250955 94.69531 \nz\n\" clip-path=\"url(#p68bf853ac1)\" style=\"fill: #0071bc; stroke: #0071bc; stroke-linejoin: miter\"/>\n   </g>\n   <g id=\"patch_73\">\n    <path d=\"M 244.838071 50857.996842 \nL 247.425186 50857.996842 \nL 247.425186 97.493492 \nL 244.838071 97.493492 \nz\n\" clip-path=\"url(#p68bf853ac1)\" style=\"fill: #0071bc; stroke: #0071bc; stroke-linejoin: miter\"/>\n   </g>\n   <g id=\"patch_74\">\n    <path d=\"M 247.425186 50857.996842 \nL 250.012302 50857.996842 \nL 250.012302 97.493492 \nL 247.425186 97.493492 \nz\n\" clip-path=\"url(#p68bf853ac1)\" style=\"fill: #0071bc; stroke: #0071bc; stroke-linejoin: miter\"/>\n   </g>\n   <g id=\"patch_75\">\n    <path d=\"M 250.012302 50857.996842 \nL 252.599418 50857.996842 \nL 252.599418 104.454823 \nL 250.012302 104.454823 \nz\n\" clip-path=\"url(#p68bf853ac1)\" style=\"fill: #0071bc; stroke: #0071bc; stroke-linejoin: miter\"/>\n   </g>\n   <g id=\"patch_76\">\n    <path d=\"M 252.599418 50857.996842 \nL 255.186534 50857.996842 \nL 255.186534 106.046314 \nL 252.599418 106.046314 \nz\n\" clip-path=\"url(#p68bf853ac1)\" style=\"fill: #0071bc; stroke: #0071bc; stroke-linejoin: miter\"/>\n   </g>\n   <g id=\"patch_77\">\n    <path d=\"M 255.186534 50857.996842 \nL 257.773649 50857.996842 \nL 257.773649 116.389231 \nL 255.186534 116.389231 \nz\n\" clip-path=\"url(#p68bf853ac1)\" style=\"fill: #0071bc; stroke: #0071bc; stroke-linejoin: miter\"/>\n   </g>\n   <g id=\"patch_78\">\n    <path d=\"M 257.773649 50857.996842 \nL 260.360765 50857.996842 \nL 260.360765 117.287561 \nL 257.773649 117.287561 \nz\n\" clip-path=\"url(#p68bf853ac1)\" style=\"fill: #0071bc; stroke: #0071bc; stroke-linejoin: miter\"/>\n   </g>\n   <g id=\"patch_79\">\n    <path d=\"M 260.360765 50857.996842 \nL 262.947881 50857.996842 \nL 262.947881 132.540984 \nL 260.360765 132.540984 \nz\n\" clip-path=\"url(#p68bf853ac1)\" style=\"fill: #0071bc; stroke: #0071bc; stroke-linejoin: miter\"/>\n   </g>\n   <g id=\"patch_80\">\n    <path d=\"M 262.947881 50857.996842 \nL 265.534996 50857.996842 \nL 265.534996 120.226058 \nL 262.947881 120.226058 \nz\n\" clip-path=\"url(#p68bf853ac1)\" style=\"fill: #0071bc; stroke: #0071bc; stroke-linejoin: miter\"/>\n   </g>\n   <g id=\"patch_81\">\n    <path d=\"M 265.534996 50857.996842 \nL 268.122112 50857.996842 \nL 268.122112 127.630479 \nL 265.534996 127.630479 \nz\n\" clip-path=\"url(#p68bf853ac1)\" style=\"fill: #0071bc; stroke: #0071bc; stroke-linejoin: miter\"/>\n   </g>\n   <g id=\"patch_82\">\n    <path d=\"M 268.122112 50857.996842 \nL 270.709228 50857.996842 \nL 270.709228 134.45576 \nL 268.122112 134.45576 \nz\n\" clip-path=\"url(#p68bf853ac1)\" style=\"fill: #0071bc; stroke: #0071bc; stroke-linejoin: miter\"/>\n   </g>\n   <g id=\"patch_83\">\n    <path d=\"M 270.709228 50857.996842 \nL 273.296343 50857.996842 \nL 273.296343 124.876134 \nL 270.709228 124.876134 \nz\n\" clip-path=\"url(#p68bf853ac1)\" style=\"fill: #0071bc; stroke: #0071bc; stroke-linejoin: miter\"/>\n   </g>\n   <g id=\"patch_84\">\n    <path d=\"M 273.296343 50857.996842 \nL 275.883459 50857.996842 \nL 275.883459 132.540984 \nL 273.296343 132.540984 \nz\n\" clip-path=\"url(#p68bf853ac1)\" style=\"fill: #0071bc; stroke: #0071bc; stroke-linejoin: miter\"/>\n   </g>\n   <g id=\"patch_85\">\n    <path d=\"M 275.883459 50857.996842 \nL 278.470575 50857.996842 \nL 278.470575 138.871726 \nL 275.883459 138.871726 \nz\n\" clip-path=\"url(#p68bf853ac1)\" style=\"fill: #0071bc; stroke: #0071bc; stroke-linejoin: miter\"/>\n   </g>\n   <g id=\"patch_86\">\n    <path d=\"M 278.470575 50857.996842 \nL 281.05769 50857.996842 \nL 281.05769 147.794407 \nL 278.470575 147.794407 \nz\n\" clip-path=\"url(#p68bf853ac1)\" style=\"fill: #0071bc; stroke: #0071bc; stroke-linejoin: miter\"/>\n   </g>\n   <g id=\"patch_87\">\n    <path d=\"M 281.05769 50857.996842 \nL 283.644806 50857.996842 \nL 283.644806 151.806581 \nL 281.05769 151.806581 \nz\n\" clip-path=\"url(#p68bf853ac1)\" style=\"fill: #0071bc; stroke: #0071bc; stroke-linejoin: miter\"/>\n   </g>\n   <g id=\"patch_88\">\n    <path d=\"M 283.644806 50857.996842 \nL 286.231922 50857.996842 \nL 286.231922 163.047829 \nL 283.644806 163.047829 \nz\n\" clip-path=\"url(#p68bf853ac1)\" style=\"fill: #0071bc; stroke: #0071bc; stroke-linejoin: miter\"/>\n   </g>\n   <g id=\"patch_89\">\n    <path d=\"M 286.231922 50857.996842 \nL 288.819037 50857.996842 \nL 288.819037 163.047829 \nL 286.231922 163.047829 \nz\n\" clip-path=\"url(#p68bf853ac1)\" style=\"fill: #0071bc; stroke: #0071bc; stroke-linejoin: miter\"/>\n   </g>\n   <g id=\"patch_90\">\n    <path d=\"M 288.819037 50857.996842 \nL 291.406153 50857.996842 \nL 291.406153 50857.996842 \nL 288.819037 50857.996842 \nz\n\" clip-path=\"url(#p68bf853ac1)\" style=\"fill: #0071bc; stroke: #0071bc; stroke-linejoin: miter\"/>\n   </g>\n   <g id=\"patch_91\">\n    <path d=\"M 291.406153 50857.996842 \nL 293.993269 50857.996842 \nL 293.993269 171.970509 \nL 291.406153 171.970509 \nz\n\" clip-path=\"url(#p68bf853ac1)\" style=\"fill: #0071bc; stroke: #0071bc; stroke-linejoin: miter\"/>\n   </g>\n   <g id=\"patch_92\">\n    <path d=\"M 293.993269 50857.996842 \nL 296.580385 50857.996842 \nL 296.580385 187.223932 \nL 293.993269 187.223932 \nz\n\" clip-path=\"url(#p68bf853ac1)\" style=\"fill: #0071bc; stroke: #0071bc; stroke-linejoin: miter\"/>\n   </g>\n   <g id=\"patch_93\">\n    <path d=\"M 296.580385 50857.996842 \nL 299.1675 50857.996842 \nL 299.1675 187.223932 \nL 296.580385 187.223932 \nz\n\" clip-path=\"url(#p68bf853ac1)\" style=\"fill: #0071bc; stroke: #0071bc; stroke-linejoin: miter\"/>\n   </g>\n   <g id=\"patch_94\">\n    <path d=\"M 299.1675 50857.996842 \nL 301.754616 50857.996842 \nL 301.754616 156.717087 \nL 299.1675 156.717087 \nz\n\" clip-path=\"url(#p68bf853ac1)\" style=\"fill: #0071bc; stroke: #0071bc; stroke-linejoin: miter\"/>\n   </g>\n   <g id=\"patch_95\">\n    <path d=\"M 301.754616 50857.996842 \nL 304.341732 50857.996842 \nL 304.341732 171.970509 \nL 301.754616 171.970509 \nz\n\" clip-path=\"url(#p68bf853ac1)\" style=\"fill: #0071bc; stroke: #0071bc; stroke-linejoin: miter\"/>\n   </g>\n   <g id=\"patch_96\">\n    <path d=\"M 304.341732 50857.996842 \nL 306.928847 50857.996842 \nL 306.928847 50857.996842 \nL 304.341732 50857.996842 \nz\n\" clip-path=\"url(#p68bf853ac1)\" style=\"fill: #0071bc; stroke: #0071bc; stroke-linejoin: miter\"/>\n   </g>\n   <g id=\"patch_97\">\n    <path d=\"M 306.928847 50857.996842 \nL 309.515963 50857.996842 \nL 309.515963 50857.996842 \nL 306.928847 50857.996842 \nz\n\" clip-path=\"url(#p68bf853ac1)\" style=\"fill: #0071bc; stroke: #0071bc; stroke-linejoin: miter\"/>\n   </g>\n   <g id=\"patch_98\">\n    <path d=\"M 309.515963 50857.996842 \nL 312.103079 50857.996842 \nL 312.103079 50857.996842 \nL 309.515963 50857.996842 \nz\n\" clip-path=\"url(#p68bf853ac1)\" style=\"fill: #0071bc; stroke: #0071bc; stroke-linejoin: miter\"/>\n   </g>\n   <g id=\"patch_99\">\n    <path d=\"M 312.103079 50857.996842 \nL 314.690194 50857.996842 \nL 314.690194 50857.996842 \nL 312.103079 50857.996842 \nz\n\" clip-path=\"url(#p68bf853ac1)\" style=\"fill: #0071bc; stroke: #0071bc; stroke-linejoin: miter\"/>\n   </g>\n   <g id=\"patch_100\">\n    <path d=\"M 314.690194 50857.996842 \nL 317.27731 50857.996842 \nL 317.27731 50857.996842 \nL 314.690194 50857.996842 \nz\n\" clip-path=\"url(#p68bf853ac1)\" style=\"fill: #0071bc; stroke: #0071bc; stroke-linejoin: miter\"/>\n   </g>\n   <g id=\"patch_101\">\n    <path d=\"M 317.27731 50857.996842 \nL 319.864426 50857.996842 \nL 319.864426 50857.996842 \nL 317.27731 50857.996842 \nz\n\" clip-path=\"url(#p68bf853ac1)\" style=\"fill: #0071bc; stroke: #0071bc; stroke-linejoin: miter\"/>\n   </g>\n   <g id=\"matplotlib.axis_1\">\n    <g id=\"xtick_1\">\n     <g id=\"line2d_1\">\n      <defs>\n       <path id=\"m73e83910bd\" d=\"M 0 0 \nL 0 3.5 \n\" style=\"stroke: #000000; stroke-width: 0.8\"/>\n      </defs>\n      <g>\n       <use xlink:href=\"#m73e83910bd\" x=\"92.198245\" y=\"194.98975\" style=\"stroke: #000000; stroke-width: 0.8\"/>\n      </g>\n     </g>\n     <g id=\"text_1\">\n      <!-- $\\mathdefault{10^{-9}}$ -->\n      <g transform=\"translate(78.098245 211.107875) scale(0.12 -0.12)\">\n       <defs>\n        <path id=\"DejaVuSans-31\" d=\"M 794 531 \nL 1825 531 \nL 1825 4091 \nL 703 3866 \nL 703 4441 \nL 1819 4666 \nL 2450 4666 \nL 2450 531 \nL 3481 531 \nL 3481 0 \nL 794 0 \nL 794 531 \nz\n\" transform=\"scale(0.015625)\"/>\n        <path id=\"DejaVuSans-30\" d=\"M 2034 4250 \nQ 1547 4250 1301 3770 \nQ 1056 3291 1056 2328 \nQ 1056 1369 1301 889 \nQ 1547 409 2034 409 \nQ 2525 409 2770 889 \nQ 3016 1369 3016 2328 \nQ 3016 3291 2770 3770 \nQ 2525 4250 2034 4250 \nz\nM 2034 4750 \nQ 2819 4750 3233 4129 \nQ 3647 3509 3647 2328 \nQ 3647 1150 3233 529 \nQ 2819 -91 2034 -91 \nQ 1250 -91 836 529 \nQ 422 1150 422 2328 \nQ 422 3509 836 4129 \nQ 1250 4750 2034 4750 \nz\n\" transform=\"scale(0.015625)\"/>\n        <path id=\"DejaVuSans-2212\" d=\"M 678 2272 \nL 4684 2272 \nL 4684 1741 \nL 678 1741 \nL 678 2272 \nz\n\" transform=\"scale(0.015625)\"/>\n        <path id=\"DejaVuSans-39\" d=\"M 703 97 \nL 703 672 \nQ 941 559 1184 500 \nQ 1428 441 1663 441 \nQ 2288 441 2617 861 \nQ 2947 1281 2994 2138 \nQ 2813 1869 2534 1725 \nQ 2256 1581 1919 1581 \nQ 1219 1581 811 2004 \nQ 403 2428 403 3163 \nQ 403 3881 828 4315 \nQ 1253 4750 1959 4750 \nQ 2769 4750 3195 4129 \nQ 3622 3509 3622 2328 \nQ 3622 1225 3098 567 \nQ 2575 -91 1691 -91 \nQ 1453 -91 1209 -44 \nQ 966 3 703 97 \nz\nM 1959 2075 \nQ 2384 2075 2632 2365 \nQ 2881 2656 2881 3163 \nQ 2881 3666 2632 3958 \nQ 2384 4250 1959 4250 \nQ 1534 4250 1286 3958 \nQ 1038 3666 1038 3163 \nQ 1038 2656 1286 2365 \nQ 1534 2075 1959 2075 \nz\n\" transform=\"scale(0.015625)\"/>\n       </defs>\n       <use xlink:href=\"#DejaVuSans-31\" transform=\"translate(0 0.765625)\"/>\n       <use xlink:href=\"#DejaVuSans-30\" transform=\"translate(63.623047 0.765625)\"/>\n       <use xlink:href=\"#DejaVuSans-2212\" transform=\"translate(128.203125 39.046875) scale(0.7)\"/>\n       <use xlink:href=\"#DejaVuSans-39\" transform=\"translate(186.855469 39.046875) scale(0.7)\"/>\n      </g>\n     </g>\n    </g>\n    <g id=\"xtick_2\">\n     <g id=\"line2d_2\">\n      <g>\n       <use xlink:href=\"#m73e83910bd\" x=\"149.11479\" y=\"194.98975\" style=\"stroke: #000000; stroke-width: 0.8\"/>\n      </g>\n     </g>\n     <g id=\"text_2\">\n      <!-- $\\mathdefault{10^{-7}}$ -->\n      <g transform=\"translate(135.01479 211.107875) scale(0.12 -0.12)\">\n       <defs>\n        <path id=\"DejaVuSans-37\" d=\"M 525 4666 \nL 3525 4666 \nL 3525 4397 \nL 1831 0 \nL 1172 0 \nL 2766 4134 \nL 525 4134 \nL 525 4666 \nz\n\" transform=\"scale(0.015625)\"/>\n       </defs>\n       <use xlink:href=\"#DejaVuSans-31\" transform=\"translate(0 0.684375)\"/>\n       <use xlink:href=\"#DejaVuSans-30\" transform=\"translate(63.623047 0.684375)\"/>\n       <use xlink:href=\"#DejaVuSans-2212\" transform=\"translate(128.203125 38.965625) scale(0.7)\"/>\n       <use xlink:href=\"#DejaVuSans-37\" transform=\"translate(186.855469 38.965625) scale(0.7)\"/>\n      </g>\n     </g>\n    </g>\n    <g id=\"xtick_3\">\n     <g id=\"line2d_3\">\n      <g>\n       <use xlink:href=\"#m73e83910bd\" x=\"206.031335\" y=\"194.98975\" style=\"stroke: #000000; stroke-width: 0.8\"/>\n      </g>\n     </g>\n     <g id=\"text_3\">\n      <!-- $\\mathdefault{10^{-5}}$ -->\n      <g transform=\"translate(191.931335 211.107875) scale(0.12 -0.12)\">\n       <defs>\n        <path id=\"DejaVuSans-35\" d=\"M 691 4666 \nL 3169 4666 \nL 3169 4134 \nL 1269 4134 \nL 1269 2991 \nQ 1406 3038 1543 3061 \nQ 1681 3084 1819 3084 \nQ 2600 3084 3056 2656 \nQ 3513 2228 3513 1497 \nQ 3513 744 3044 326 \nQ 2575 -91 1722 -91 \nQ 1428 -91 1123 -41 \nQ 819 9 494 109 \nL 494 744 \nQ 775 591 1075 516 \nQ 1375 441 1709 441 \nQ 2250 441 2565 725 \nQ 2881 1009 2881 1497 \nQ 2881 1984 2565 2268 \nQ 2250 2553 1709 2553 \nQ 1456 2553 1204 2497 \nQ 953 2441 691 2322 \nL 691 4666 \nz\n\" transform=\"scale(0.015625)\"/>\n       </defs>\n       <use xlink:href=\"#DejaVuSans-31\" transform=\"translate(0 0.684375)\"/>\n       <use xlink:href=\"#DejaVuSans-30\" transform=\"translate(63.623047 0.684375)\"/>\n       <use xlink:href=\"#DejaVuSans-2212\" transform=\"translate(128.203125 38.965625) scale(0.7)\"/>\n       <use xlink:href=\"#DejaVuSans-35\" transform=\"translate(186.855469 38.965625) scale(0.7)\"/>\n      </g>\n     </g>\n    </g>\n    <g id=\"xtick_4\">\n     <g id=\"line2d_4\">\n      <g>\n       <use xlink:href=\"#m73e83910bd\" x=\"262.947881\" y=\"194.98975\" style=\"stroke: #000000; stroke-width: 0.8\"/>\n      </g>\n     </g>\n     <g id=\"text_4\">\n      <!-- $\\mathdefault{10^{-3}}$ -->\n      <g transform=\"translate(248.847881 211.107875) scale(0.12 -0.12)\">\n       <defs>\n        <path id=\"DejaVuSans-33\" d=\"M 2597 2516 \nQ 3050 2419 3304 2112 \nQ 3559 1806 3559 1356 \nQ 3559 666 3084 287 \nQ 2609 -91 1734 -91 \nQ 1441 -91 1130 -33 \nQ 819 25 488 141 \nL 488 750 \nQ 750 597 1062 519 \nQ 1375 441 1716 441 \nQ 2309 441 2620 675 \nQ 2931 909 2931 1356 \nQ 2931 1769 2642 2001 \nQ 2353 2234 1838 2234 \nL 1294 2234 \nL 1294 2753 \nL 1863 2753 \nQ 2328 2753 2575 2939 \nQ 2822 3125 2822 3475 \nQ 2822 3834 2567 4026 \nQ 2313 4219 1838 4219 \nQ 1578 4219 1281 4162 \nQ 984 4106 628 3988 \nL 628 4550 \nQ 988 4650 1302 4700 \nQ 1616 4750 1894 4750 \nQ 2613 4750 3031 4423 \nQ 3450 4097 3450 3541 \nQ 3450 3153 3228 2886 \nQ 3006 2619 2597 2516 \nz\n\" transform=\"scale(0.015625)\"/>\n       </defs>\n       <use xlink:href=\"#DejaVuSans-31\" transform=\"translate(0 0.765625)\"/>\n       <use xlink:href=\"#DejaVuSans-30\" transform=\"translate(63.623047 0.765625)\"/>\n       <use xlink:href=\"#DejaVuSans-2212\" transform=\"translate(128.203125 39.046875) scale(0.7)\"/>\n       <use xlink:href=\"#DejaVuSans-33\" transform=\"translate(186.855469 39.046875) scale(0.7)\"/>\n      </g>\n     </g>\n    </g>\n    <g id=\"xtick_5\">\n     <g id=\"line2d_5\">\n      <g>\n       <use xlink:href=\"#m73e83910bd\" x=\"319.864426\" y=\"194.98975\" style=\"stroke: #000000; stroke-width: 0.8\"/>\n      </g>\n     </g>\n     <g id=\"text_5\">\n      <!-- $\\mathdefault{10^{-1}}$ -->\n      <g transform=\"translate(305.764426 211.107875) scale(0.12 -0.12)\">\n       <use xlink:href=\"#DejaVuSans-31\" transform=\"translate(0 0.684375)\"/>\n       <use xlink:href=\"#DejaVuSans-30\" transform=\"translate(63.623047 0.684375)\"/>\n       <use xlink:href=\"#DejaVuSans-2212\" transform=\"translate(128.203125 38.965625) scale(0.7)\"/>\n       <use xlink:href=\"#DejaVuSans-31\" transform=\"translate(186.855469 38.965625) scale(0.7)\"/>\n      </g>\n     </g>\n    </g>\n    <g id=\"text_6\">\n     <!-- Probability -->\n     <g transform=\"translate(160.087512 226.721625) scale(0.12 -0.12)\">\n      <defs>\n       <path id=\"DejaVuSans-50\" d=\"M 1259 4147 \nL 1259 2394 \nL 2053 2394 \nQ 2494 2394 2734 2622 \nQ 2975 2850 2975 3272 \nQ 2975 3691 2734 3919 \nQ 2494 4147 2053 4147 \nL 1259 4147 \nz\nM 628 4666 \nL 2053 4666 \nQ 2838 4666 3239 4311 \nQ 3641 3956 3641 3272 \nQ 3641 2581 3239 2228 \nQ 2838 1875 2053 1875 \nL 1259 1875 \nL 1259 0 \nL 628 0 \nL 628 4666 \nz\n\" transform=\"scale(0.015625)\"/>\n       <path id=\"DejaVuSans-72\" d=\"M 2631 2963 \nQ 2534 3019 2420 3045 \nQ 2306 3072 2169 3072 \nQ 1681 3072 1420 2755 \nQ 1159 2438 1159 1844 \nL 1159 0 \nL 581 0 \nL 581 3500 \nL 1159 3500 \nL 1159 2956 \nQ 1341 3275 1631 3429 \nQ 1922 3584 2338 3584 \nQ 2397 3584 2469 3576 \nQ 2541 3569 2628 3553 \nL 2631 2963 \nz\n\" transform=\"scale(0.015625)\"/>\n       <path id=\"DejaVuSans-6f\" d=\"M 1959 3097 \nQ 1497 3097 1228 2736 \nQ 959 2375 959 1747 \nQ 959 1119 1226 758 \nQ 1494 397 1959 397 \nQ 2419 397 2687 759 \nQ 2956 1122 2956 1747 \nQ 2956 2369 2687 2733 \nQ 2419 3097 1959 3097 \nz\nM 1959 3584 \nQ 2709 3584 3137 3096 \nQ 3566 2609 3566 1747 \nQ 3566 888 3137 398 \nQ 2709 -91 1959 -91 \nQ 1206 -91 779 398 \nQ 353 888 353 1747 \nQ 353 2609 779 3096 \nQ 1206 3584 1959 3584 \nz\n\" transform=\"scale(0.015625)\"/>\n       <path id=\"DejaVuSans-62\" d=\"M 3116 1747 \nQ 3116 2381 2855 2742 \nQ 2594 3103 2138 3103 \nQ 1681 3103 1420 2742 \nQ 1159 2381 1159 1747 \nQ 1159 1113 1420 752 \nQ 1681 391 2138 391 \nQ 2594 391 2855 752 \nQ 3116 1113 3116 1747 \nz\nM 1159 2969 \nQ 1341 3281 1617 3432 \nQ 1894 3584 2278 3584 \nQ 2916 3584 3314 3078 \nQ 3713 2572 3713 1747 \nQ 3713 922 3314 415 \nQ 2916 -91 2278 -91 \nQ 1894 -91 1617 61 \nQ 1341 213 1159 525 \nL 1159 0 \nL 581 0 \nL 581 4863 \nL 1159 4863 \nL 1159 2969 \nz\n\" transform=\"scale(0.015625)\"/>\n       <path id=\"DejaVuSans-61\" d=\"M 2194 1759 \nQ 1497 1759 1228 1600 \nQ 959 1441 959 1056 \nQ 959 750 1161 570 \nQ 1363 391 1709 391 \nQ 2188 391 2477 730 \nQ 2766 1069 2766 1631 \nL 2766 1759 \nL 2194 1759 \nz\nM 3341 1997 \nL 3341 0 \nL 2766 0 \nL 2766 531 \nQ 2569 213 2275 61 \nQ 1981 -91 1556 -91 \nQ 1019 -91 701 211 \nQ 384 513 384 1019 \nQ 384 1609 779 1909 \nQ 1175 2209 1959 2209 \nL 2766 2209 \nL 2766 2266 \nQ 2766 2663 2505 2880 \nQ 2244 3097 1772 3097 \nQ 1472 3097 1187 3025 \nQ 903 2953 641 2809 \nL 641 3341 \nQ 956 3463 1253 3523 \nQ 1550 3584 1831 3584 \nQ 2591 3584 2966 3190 \nQ 3341 2797 3341 1997 \nz\n\" transform=\"scale(0.015625)\"/>\n       <path id=\"DejaVuSans-69\" d=\"M 603 3500 \nL 1178 3500 \nL 1178 0 \nL 603 0 \nL 603 3500 \nz\nM 603 4863 \nL 1178 4863 \nL 1178 4134 \nL 603 4134 \nL 603 4863 \nz\n\" transform=\"scale(0.015625)\"/>\n       <path id=\"DejaVuSans-6c\" d=\"M 603 4863 \nL 1178 4863 \nL 1178 0 \nL 603 0 \nL 603 4863 \nz\n\" transform=\"scale(0.015625)\"/>\n       <path id=\"DejaVuSans-74\" d=\"M 1172 4494 \nL 1172 3500 \nL 2356 3500 \nL 2356 3053 \nL 1172 3053 \nL 1172 1153 \nQ 1172 725 1289 603 \nQ 1406 481 1766 481 \nL 2356 481 \nL 2356 0 \nL 1766 0 \nQ 1100 0 847 248 \nQ 594 497 594 1153 \nL 594 3053 \nL 172 3053 \nL 172 3500 \nL 594 3500 \nL 594 4494 \nL 1172 4494 \nz\n\" transform=\"scale(0.015625)\"/>\n       <path id=\"DejaVuSans-79\" d=\"M 2059 -325 \nQ 1816 -950 1584 -1140 \nQ 1353 -1331 966 -1331 \nL 506 -1331 \nL 506 -850 \nL 844 -850 \nQ 1081 -850 1212 -737 \nQ 1344 -625 1503 -206 \nL 1606 56 \nL 191 3500 \nL 800 3500 \nL 1894 763 \nL 2988 3500 \nL 3597 3500 \nL 2059 -325 \nz\n\" transform=\"scale(0.015625)\"/>\n      </defs>\n      <use xlink:href=\"#DejaVuSans-50\"/>\n      <use xlink:href=\"#DejaVuSans-72\" x=\"58.552734\"/>\n      <use xlink:href=\"#DejaVuSans-6f\" x=\"97.416016\"/>\n      <use xlink:href=\"#DejaVuSans-62\" x=\"158.597656\"/>\n      <use xlink:href=\"#DejaVuSans-61\" x=\"222.074219\"/>\n      <use xlink:href=\"#DejaVuSans-62\" x=\"283.353516\"/>\n      <use xlink:href=\"#DejaVuSans-69\" x=\"346.830078\"/>\n      <use xlink:href=\"#DejaVuSans-6c\" x=\"374.613281\"/>\n      <use xlink:href=\"#DejaVuSans-69\" x=\"402.396484\"/>\n      <use xlink:href=\"#DejaVuSans-74\" x=\"430.179688\"/>\n      <use xlink:href=\"#DejaVuSans-79\" x=\"469.388672\"/>\n     </g>\n    </g>\n   </g>\n   <g id=\"matplotlib.axis_2\">\n    <g id=\"ytick_1\">\n     <g id=\"line2d_6\">\n      <defs>\n       <path id=\"m375fdbabd4\" d=\"M 0 0 \nL -3.5 0 \n\" style=\"stroke: #000000; stroke-width: 0.8\"/>\n      </defs>\n      <g>\n       <use xlink:href=\"#m375fdbabd4\" x=\"50.93375\" y=\"187.223932\" style=\"stroke: #000000; stroke-width: 0.8\"/>\n      </g>\n     </g>\n     <g id=\"text_7\">\n      <!-- $\\mathdefault{10^{0}}$ -->\n      <g transform=\"translate(22.81375 191.782994) scale(0.12 -0.12)\">\n       <use xlink:href=\"#DejaVuSans-31\" transform=\"translate(0 0.765625)\"/>\n       <use xlink:href=\"#DejaVuSans-30\" transform=\"translate(63.623047 0.765625)\"/>\n       <use xlink:href=\"#DejaVuSans-30\" transform=\"translate(128.203125 39.046875) scale(0.7)\"/>\n      </g>\n     </g>\n    </g>\n    <g id=\"ytick_2\">\n     <g id=\"line2d_7\">\n      <g>\n       <use xlink:href=\"#m375fdbabd4\" x=\"50.93375\" y=\"136.553159\" style=\"stroke: #000000; stroke-width: 0.8\"/>\n      </g>\n     </g>\n     <g id=\"text_8\">\n      <!-- $\\mathdefault{10^{1}}$ -->\n      <g transform=\"translate(22.81375 141.112221) scale(0.12 -0.12)\">\n       <use xlink:href=\"#DejaVuSans-31\" transform=\"translate(0 0.684375)\"/>\n       <use xlink:href=\"#DejaVuSans-30\" transform=\"translate(63.623047 0.684375)\"/>\n       <use xlink:href=\"#DejaVuSans-31\" transform=\"translate(128.203125 38.965625) scale(0.7)\"/>\n      </g>\n     </g>\n    </g>\n    <g id=\"ytick_3\">\n     <g id=\"line2d_8\">\n      <g>\n       <use xlink:href=\"#m375fdbabd4\" x=\"50.93375\" y=\"85.882386\" style=\"stroke: #000000; stroke-width: 0.8\"/>\n      </g>\n     </g>\n     <g id=\"text_9\">\n      <!-- $\\mathdefault{10^{2}}$ -->\n      <g transform=\"translate(22.81375 90.441448) scale(0.12 -0.12)\">\n       <defs>\n        <path id=\"DejaVuSans-32\" d=\"M 1228 531 \nL 3431 531 \nL 3431 0 \nL 469 0 \nL 469 531 \nQ 828 903 1448 1529 \nQ 2069 2156 2228 2338 \nQ 2531 2678 2651 2914 \nQ 2772 3150 2772 3378 \nQ 2772 3750 2511 3984 \nQ 2250 4219 1831 4219 \nQ 1534 4219 1204 4116 \nQ 875 4013 500 3803 \nL 500 4441 \nQ 881 4594 1212 4672 \nQ 1544 4750 1819 4750 \nQ 2544 4750 2975 4387 \nQ 3406 4025 3406 3419 \nQ 3406 3131 3298 2873 \nQ 3191 2616 2906 2266 \nQ 2828 2175 2409 1742 \nQ 1991 1309 1228 531 \nz\n\" transform=\"scale(0.015625)\"/>\n       </defs>\n       <use xlink:href=\"#DejaVuSans-31\" transform=\"translate(0 0.765625)\"/>\n       <use xlink:href=\"#DejaVuSans-30\" transform=\"translate(63.623047 0.765625)\"/>\n       <use xlink:href=\"#DejaVuSans-32\" transform=\"translate(128.203125 39.046875) scale(0.7)\"/>\n      </g>\n     </g>\n    </g>\n    <g id=\"ytick_4\">\n     <g id=\"line2d_9\">\n      <g>\n       <use xlink:href=\"#m375fdbabd4\" x=\"50.93375\" y=\"35.211613\" style=\"stroke: #000000; stroke-width: 0.8\"/>\n      </g>\n     </g>\n     <g id=\"text_10\">\n      <!-- $\\mathdefault{10^{3}}$ -->\n      <g transform=\"translate(22.81375 39.770676) scale(0.12 -0.12)\">\n       <use xlink:href=\"#DejaVuSans-31\" transform=\"translate(0 0.765625)\"/>\n       <use xlink:href=\"#DejaVuSans-30\" transform=\"translate(63.623047 0.765625)\"/>\n       <use xlink:href=\"#DejaVuSans-33\" transform=\"translate(128.203125 39.046875) scale(0.7)\"/>\n      </g>\n     </g>\n    </g>\n    <g id=\"ytick_5\">\n     <g id=\"line2d_10\">\n      <defs>\n       <path id=\"m1aa5f4165a\" d=\"M 0 0 \nL -2 0 \n\" style=\"stroke: #000000; stroke-width: 0.6\"/>\n      </defs>\n      <g>\n       <use xlink:href=\"#m1aa5f4165a\" x=\"50.93375\" y=\"192.134437\" style=\"stroke: #000000; stroke-width: 0.6\"/>\n      </g>\n     </g>\n    </g>\n    <g id=\"ytick_6\">\n     <g id=\"line2d_11\">\n      <g>\n       <use xlink:href=\"#m1aa5f4165a\" x=\"50.93375\" y=\"189.542499\" style=\"stroke: #000000; stroke-width: 0.6\"/>\n      </g>\n     </g>\n    </g>\n    <g id=\"ytick_7\">\n     <g id=\"line2d_12\">\n      <g>\n       <use xlink:href=\"#m1aa5f4165a\" x=\"50.93375\" y=\"171.970509\" style=\"stroke: #000000; stroke-width: 0.6\"/>\n      </g>\n     </g>\n    </g>\n    <g id=\"ytick_8\">\n     <g id=\"line2d_13\">\n      <g>\n       <use xlink:href=\"#m1aa5f4165a\" x=\"50.93375\" y=\"163.047829\" style=\"stroke: #000000; stroke-width: 0.6\"/>\n      </g>\n     </g>\n    </g>\n    <g id=\"ytick_9\">\n     <g id=\"line2d_14\">\n      <g>\n       <use xlink:href=\"#m1aa5f4165a\" x=\"50.93375\" y=\"156.717087\" style=\"stroke: #000000; stroke-width: 0.6\"/>\n      </g>\n     </g>\n    </g>\n    <g id=\"ytick_10\">\n     <g id=\"line2d_15\">\n      <g>\n       <use xlink:href=\"#m1aa5f4165a\" x=\"50.93375\" y=\"151.806581\" style=\"stroke: #000000; stroke-width: 0.6\"/>\n      </g>\n     </g>\n    </g>\n    <g id=\"ytick_11\">\n     <g id=\"line2d_16\">\n      <g>\n       <use xlink:href=\"#m1aa5f4165a\" x=\"50.93375\" y=\"147.794407\" style=\"stroke: #000000; stroke-width: 0.6\"/>\n      </g>\n     </g>\n    </g>\n    <g id=\"ytick_12\">\n     <g id=\"line2d_17\">\n      <g>\n       <use xlink:href=\"#m1aa5f4165a\" x=\"50.93375\" y=\"144.402161\" style=\"stroke: #000000; stroke-width: 0.6\"/>\n      </g>\n     </g>\n    </g>\n    <g id=\"ytick_13\">\n     <g id=\"line2d_18\">\n      <g>\n       <use xlink:href=\"#m1aa5f4165a\" x=\"50.93375\" y=\"141.463664\" style=\"stroke: #000000; stroke-width: 0.6\"/>\n      </g>\n     </g>\n    </g>\n    <g id=\"ytick_14\">\n     <g id=\"line2d_19\">\n      <g>\n       <use xlink:href=\"#m1aa5f4165a\" x=\"50.93375\" y=\"138.871726\" style=\"stroke: #000000; stroke-width: 0.6\"/>\n      </g>\n     </g>\n    </g>\n    <g id=\"ytick_15\">\n     <g id=\"line2d_20\">\n      <g>\n       <use xlink:href=\"#m1aa5f4165a\" x=\"50.93375\" y=\"121.299736\" style=\"stroke: #000000; stroke-width: 0.6\"/>\n      </g>\n     </g>\n    </g>\n    <g id=\"ytick_16\">\n     <g id=\"line2d_21\">\n      <g>\n       <use xlink:href=\"#m1aa5f4165a\" x=\"50.93375\" y=\"112.377056\" style=\"stroke: #000000; stroke-width: 0.6\"/>\n      </g>\n     </g>\n    </g>\n    <g id=\"ytick_17\">\n     <g id=\"line2d_22\">\n      <g>\n       <use xlink:href=\"#m1aa5f4165a\" x=\"50.93375\" y=\"106.046314\" style=\"stroke: #000000; stroke-width: 0.6\"/>\n      </g>\n     </g>\n    </g>\n    <g id=\"ytick_18\">\n     <g id=\"line2d_23\">\n      <g>\n       <use xlink:href=\"#m1aa5f4165a\" x=\"50.93375\" y=\"101.135809\" style=\"stroke: #000000; stroke-width: 0.6\"/>\n      </g>\n     </g>\n    </g>\n    <g id=\"ytick_19\">\n     <g id=\"line2d_24\">\n      <g>\n       <use xlink:href=\"#m1aa5f4165a\" x=\"50.93375\" y=\"97.123634\" style=\"stroke: #000000; stroke-width: 0.6\"/>\n      </g>\n     </g>\n    </g>\n    <g id=\"ytick_20\">\n     <g id=\"line2d_25\">\n      <g>\n       <use xlink:href=\"#m1aa5f4165a\" x=\"50.93375\" y=\"93.731388\" style=\"stroke: #000000; stroke-width: 0.6\"/>\n      </g>\n     </g>\n    </g>\n    <g id=\"ytick_21\">\n     <g id=\"line2d_26\">\n      <g>\n       <use xlink:href=\"#m1aa5f4165a\" x=\"50.93375\" y=\"90.792891\" style=\"stroke: #000000; stroke-width: 0.6\"/>\n      </g>\n     </g>\n    </g>\n    <g id=\"ytick_22\">\n     <g id=\"line2d_27\">\n      <g>\n       <use xlink:href=\"#m1aa5f4165a\" x=\"50.93375\" y=\"88.200953\" style=\"stroke: #000000; stroke-width: 0.6\"/>\n      </g>\n     </g>\n    </g>\n    <g id=\"ytick_23\">\n     <g id=\"line2d_28\">\n      <g>\n       <use xlink:href=\"#m1aa5f4165a\" x=\"50.93375\" y=\"70.628963\" style=\"stroke: #000000; stroke-width: 0.6\"/>\n      </g>\n     </g>\n    </g>\n    <g id=\"ytick_24\">\n     <g id=\"line2d_29\">\n      <g>\n       <use xlink:href=\"#m1aa5f4165a\" x=\"50.93375\" y=\"61.706283\" style=\"stroke: #000000; stroke-width: 0.6\"/>\n      </g>\n     </g>\n    </g>\n    <g id=\"ytick_25\">\n     <g id=\"line2d_30\">\n      <g>\n       <use xlink:href=\"#m1aa5f4165a\" x=\"50.93375\" y=\"55.375541\" style=\"stroke: #000000; stroke-width: 0.6\"/>\n      </g>\n     </g>\n    </g>\n    <g id=\"ytick_26\">\n     <g id=\"line2d_31\">\n      <g>\n       <use xlink:href=\"#m1aa5f4165a\" x=\"50.93375\" y=\"50.465036\" style=\"stroke: #000000; stroke-width: 0.6\"/>\n      </g>\n     </g>\n    </g>\n    <g id=\"ytick_27\">\n     <g id=\"line2d_32\">\n      <g>\n       <use xlink:href=\"#m1aa5f4165a\" x=\"50.93375\" y=\"46.452861\" style=\"stroke: #000000; stroke-width: 0.6\"/>\n      </g>\n     </g>\n    </g>\n    <g id=\"ytick_28\">\n     <g id=\"line2d_33\">\n      <g>\n       <use xlink:href=\"#m1aa5f4165a\" x=\"50.93375\" y=\"43.060615\" style=\"stroke: #000000; stroke-width: 0.6\"/>\n      </g>\n     </g>\n    </g>\n    <g id=\"ytick_29\">\n     <g id=\"line2d_34\">\n      <g>\n       <use xlink:href=\"#m1aa5f4165a\" x=\"50.93375\" y=\"40.122118\" style=\"stroke: #000000; stroke-width: 0.6\"/>\n      </g>\n     </g>\n    </g>\n    <g id=\"ytick_30\">\n     <g id=\"line2d_35\">\n      <g>\n       <use xlink:href=\"#m1aa5f4165a\" x=\"50.93375\" y=\"37.530181\" style=\"stroke: #000000; stroke-width: 0.6\"/>\n      </g>\n     </g>\n    </g>\n    <g id=\"text_11\">\n     <!-- Count -->\n     <g transform=\"translate(16.318125 127.383875) rotate(-90) scale(0.12 -0.12)\">\n      <defs>\n       <path id=\"DejaVuSans-43\" d=\"M 4122 4306 \nL 4122 3641 \nQ 3803 3938 3442 4084 \nQ 3081 4231 2675 4231 \nQ 1875 4231 1450 3742 \nQ 1025 3253 1025 2328 \nQ 1025 1406 1450 917 \nQ 1875 428 2675 428 \nQ 3081 428 3442 575 \nQ 3803 722 4122 1019 \nL 4122 359 \nQ 3791 134 3420 21 \nQ 3050 -91 2638 -91 \nQ 1578 -91 968 557 \nQ 359 1206 359 2328 \nQ 359 3453 968 4101 \nQ 1578 4750 2638 4750 \nQ 3056 4750 3426 4639 \nQ 3797 4528 4122 4306 \nz\n\" transform=\"scale(0.015625)\"/>\n       <path id=\"DejaVuSans-75\" d=\"M 544 1381 \nL 544 3500 \nL 1119 3500 \nL 1119 1403 \nQ 1119 906 1312 657 \nQ 1506 409 1894 409 \nQ 2359 409 2629 706 \nQ 2900 1003 2900 1516 \nL 2900 3500 \nL 3475 3500 \nL 3475 0 \nL 2900 0 \nL 2900 538 \nQ 2691 219 2414 64 \nQ 2138 -91 1772 -91 \nQ 1169 -91 856 284 \nQ 544 659 544 1381 \nz\nM 1991 3584 \nL 1991 3584 \nz\n\" transform=\"scale(0.015625)\"/>\n       <path id=\"DejaVuSans-6e\" d=\"M 3513 2113 \nL 3513 0 \nL 2938 0 \nL 2938 2094 \nQ 2938 2591 2744 2837 \nQ 2550 3084 2163 3084 \nQ 1697 3084 1428 2787 \nQ 1159 2491 1159 1978 \nL 1159 0 \nL 581 0 \nL 581 3500 \nL 1159 3500 \nL 1159 2956 \nQ 1366 3272 1645 3428 \nQ 1925 3584 2291 3584 \nQ 2894 3584 3203 3211 \nQ 3513 2838 3513 2113 \nz\n\" transform=\"scale(0.015625)\"/>\n      </defs>\n      <use xlink:href=\"#DejaVuSans-43\"/>\n      <use xlink:href=\"#DejaVuSans-6f\" x=\"69.824219\"/>\n      <use xlink:href=\"#DejaVuSans-75\" x=\"131.005859\"/>\n      <use xlink:href=\"#DejaVuSans-6e\" x=\"194.384766\"/>\n      <use xlink:href=\"#DejaVuSans-74\" x=\"257.763672\"/>\n     </g>\n    </g>\n   </g>\n   <g id=\"patch_102\">\n    <path d=\"M 50.93375 194.98975 \nL 50.93375 24.14175 \n\" style=\"fill: none; stroke: #000000; stroke-width: 0.8; stroke-linejoin: miter; stroke-linecap: square\"/>\n   </g>\n   <g id=\"patch_103\">\n    <path d=\"M 332.670648 194.98975 \nL 332.670648 24.14175 \n\" style=\"fill: none; stroke: #000000; stroke-width: 0.8; stroke-linejoin: miter; stroke-linecap: square\"/>\n   </g>\n   <g id=\"patch_104\">\n    <path d=\"M 50.93375 194.98975 \nL 332.670648 194.98975 \n\" style=\"fill: none; stroke: #000000; stroke-width: 0.8; stroke-linejoin: miter; stroke-linecap: square\"/>\n   </g>\n   <g id=\"patch_105\">\n    <path d=\"M 50.93375 24.14175 \nL 332.670648 24.14175 \n\" style=\"fill: none; stroke: #000000; stroke-width: 0.8; stroke-linejoin: miter; stroke-linecap: square\"/>\n   </g>\n   <g id=\"text_12\">\n    <!-- Probability distribution -->\n    <g transform=\"translate(110.426449 18.14175) scale(0.144 -0.144)\">\n     <defs>\n      <path id=\"DejaVuSans-20\" transform=\"scale(0.015625)\"/>\n      <path id=\"DejaVuSans-64\" d=\"M 2906 2969 \nL 2906 4863 \nL 3481 4863 \nL 3481 0 \nL 2906 0 \nL 2906 525 \nQ 2725 213 2448 61 \nQ 2172 -91 1784 -91 \nQ 1150 -91 751 415 \nQ 353 922 353 1747 \nQ 353 2572 751 3078 \nQ 1150 3584 1784 3584 \nQ 2172 3584 2448 3432 \nQ 2725 3281 2906 2969 \nz\nM 947 1747 \nQ 947 1113 1208 752 \nQ 1469 391 1925 391 \nQ 2381 391 2643 752 \nQ 2906 1113 2906 1747 \nQ 2906 2381 2643 2742 \nQ 2381 3103 1925 3103 \nQ 1469 3103 1208 2742 \nQ 947 2381 947 1747 \nz\n\" transform=\"scale(0.015625)\"/>\n      <path id=\"DejaVuSans-73\" d=\"M 2834 3397 \nL 2834 2853 \nQ 2591 2978 2328 3040 \nQ 2066 3103 1784 3103 \nQ 1356 3103 1142 2972 \nQ 928 2841 928 2578 \nQ 928 2378 1081 2264 \nQ 1234 2150 1697 2047 \nL 1894 2003 \nQ 2506 1872 2764 1633 \nQ 3022 1394 3022 966 \nQ 3022 478 2636 193 \nQ 2250 -91 1575 -91 \nQ 1294 -91 989 -36 \nQ 684 19 347 128 \nL 347 722 \nQ 666 556 975 473 \nQ 1284 391 1588 391 \nQ 1994 391 2212 530 \nQ 2431 669 2431 922 \nQ 2431 1156 2273 1281 \nQ 2116 1406 1581 1522 \nL 1381 1569 \nQ 847 1681 609 1914 \nQ 372 2147 372 2553 \nQ 372 3047 722 3315 \nQ 1072 3584 1716 3584 \nQ 2034 3584 2315 3537 \nQ 2597 3491 2834 3397 \nz\n\" transform=\"scale(0.015625)\"/>\n     </defs>\n     <use xlink:href=\"#DejaVuSans-50\"/>\n     <use xlink:href=\"#DejaVuSans-72\" x=\"58.552734\"/>\n     <use xlink:href=\"#DejaVuSans-6f\" x=\"97.416016\"/>\n     <use xlink:href=\"#DejaVuSans-62\" x=\"158.597656\"/>\n     <use xlink:href=\"#DejaVuSans-61\" x=\"222.074219\"/>\n     <use xlink:href=\"#DejaVuSans-62\" x=\"283.353516\"/>\n     <use xlink:href=\"#DejaVuSans-69\" x=\"346.830078\"/>\n     <use xlink:href=\"#DejaVuSans-6c\" x=\"374.613281\"/>\n     <use xlink:href=\"#DejaVuSans-69\" x=\"402.396484\"/>\n     <use xlink:href=\"#DejaVuSans-74\" x=\"430.179688\"/>\n     <use xlink:href=\"#DejaVuSans-79\" x=\"469.388672\"/>\n     <use xlink:href=\"#DejaVuSans-20\" x=\"528.568359\"/>\n     <use xlink:href=\"#DejaVuSans-64\" x=\"560.355469\"/>\n     <use xlink:href=\"#DejaVuSans-69\" x=\"623.832031\"/>\n     <use xlink:href=\"#DejaVuSans-73\" x=\"651.615234\"/>\n     <use xlink:href=\"#DejaVuSans-74\" x=\"703.714844\"/>\n     <use xlink:href=\"#DejaVuSans-72\" x=\"742.923828\"/>\n     <use xlink:href=\"#DejaVuSans-69\" x=\"784.037109\"/>\n     <use xlink:href=\"#DejaVuSans-62\" x=\"811.820312\"/>\n     <use xlink:href=\"#DejaVuSans-75\" x=\"875.296875\"/>\n     <use xlink:href=\"#DejaVuSans-74\" x=\"938.675781\"/>\n     <use xlink:href=\"#DejaVuSans-69\" x=\"977.884766\"/>\n     <use xlink:href=\"#DejaVuSans-6f\" x=\"1005.667969\"/>\n     <use xlink:href=\"#DejaVuSans-6e\" x=\"1066.849609\"/>\n    </g>\n   </g>\n  </g>\n  <g id=\"axes_2\">\n   <g id=\"patch_106\">\n    <path d=\"M 398.815744 194.98975 \nL 680.552643 194.98975 \nL 680.552643 24.14175 \nL 398.815744 24.14175 \nz\n\" style=\"fill: #ffffff\"/>\n   </g>\n   <g id=\"matplotlib.axis_3\">\n    <g id=\"xtick_6\">\n     <g id=\"line2d_36\">\n      <g>\n       <use xlink:href=\"#m73e83910bd\" x=\"398.815744\" y=\"194.98975\" style=\"stroke: #000000; stroke-width: 0.8\"/>\n      </g>\n     </g>\n     <g id=\"text_13\">\n      <!-- 0 -->\n      <g transform=\"translate(394.998244 211.107875) scale(0.12 -0.12)\">\n       <use xlink:href=\"#DejaVuSans-30\"/>\n      </g>\n     </g>\n    </g>\n    <g id=\"xtick_7\">\n     <g id=\"line2d_37\">\n      <g>\n       <use xlink:href=\"#m73e83910bd\" x=\"455.163124\" y=\"194.98975\" style=\"stroke: #000000; stroke-width: 0.8\"/>\n      </g>\n     </g>\n     <g id=\"text_14\">\n      <!-- 2000 -->\n      <g transform=\"translate(439.893124 211.107875) scale(0.12 -0.12)\">\n       <use xlink:href=\"#DejaVuSans-32\"/>\n       <use xlink:href=\"#DejaVuSans-30\" x=\"63.623047\"/>\n       <use xlink:href=\"#DejaVuSans-30\" x=\"127.246094\"/>\n       <use xlink:href=\"#DejaVuSans-30\" x=\"190.869141\"/>\n      </g>\n     </g>\n    </g>\n    <g id=\"xtick_8\">\n     <g id=\"line2d_38\">\n      <g>\n       <use xlink:href=\"#m73e83910bd\" x=\"511.510504\" y=\"194.98975\" style=\"stroke: #000000; stroke-width: 0.8\"/>\n      </g>\n     </g>\n     <g id=\"text_15\">\n      <!-- 4000 -->\n      <g transform=\"translate(496.240504 211.107875) scale(0.12 -0.12)\">\n       <defs>\n        <path id=\"DejaVuSans-34\" d=\"M 2419 4116 \nL 825 1625 \nL 2419 1625 \nL 2419 4116 \nz\nM 2253 4666 \nL 3047 4666 \nL 3047 1625 \nL 3713 1625 \nL 3713 1100 \nL 3047 1100 \nL 3047 0 \nL 2419 0 \nL 2419 1100 \nL 313 1100 \nL 313 1709 \nL 2253 4666 \nz\n\" transform=\"scale(0.015625)\"/>\n       </defs>\n       <use xlink:href=\"#DejaVuSans-34\"/>\n       <use xlink:href=\"#DejaVuSans-30\" x=\"63.623047\"/>\n       <use xlink:href=\"#DejaVuSans-30\" x=\"127.246094\"/>\n       <use xlink:href=\"#DejaVuSans-30\" x=\"190.869141\"/>\n      </g>\n     </g>\n    </g>\n    <g id=\"xtick_9\">\n     <g id=\"line2d_39\">\n      <g>\n       <use xlink:href=\"#m73e83910bd\" x=\"567.857883\" y=\"194.98975\" style=\"stroke: #000000; stroke-width: 0.8\"/>\n      </g>\n     </g>\n     <g id=\"text_16\">\n      <!-- 6000 -->\n      <g transform=\"translate(552.587883 211.107875) scale(0.12 -0.12)\">\n       <defs>\n        <path id=\"DejaVuSans-36\" d=\"M 2113 2584 \nQ 1688 2584 1439 2293 \nQ 1191 2003 1191 1497 \nQ 1191 994 1439 701 \nQ 1688 409 2113 409 \nQ 2538 409 2786 701 \nQ 3034 994 3034 1497 \nQ 3034 2003 2786 2293 \nQ 2538 2584 2113 2584 \nz\nM 3366 4563 \nL 3366 3988 \nQ 3128 4100 2886 4159 \nQ 2644 4219 2406 4219 \nQ 1781 4219 1451 3797 \nQ 1122 3375 1075 2522 \nQ 1259 2794 1537 2939 \nQ 1816 3084 2150 3084 \nQ 2853 3084 3261 2657 \nQ 3669 2231 3669 1497 \nQ 3669 778 3244 343 \nQ 2819 -91 2113 -91 \nQ 1303 -91 875 529 \nQ 447 1150 447 2328 \nQ 447 3434 972 4092 \nQ 1497 4750 2381 4750 \nQ 2619 4750 2861 4703 \nQ 3103 4656 3366 4563 \nz\n\" transform=\"scale(0.015625)\"/>\n       </defs>\n       <use xlink:href=\"#DejaVuSans-36\"/>\n       <use xlink:href=\"#DejaVuSans-30\" x=\"63.623047\"/>\n       <use xlink:href=\"#DejaVuSans-30\" x=\"127.246094\"/>\n       <use xlink:href=\"#DejaVuSans-30\" x=\"190.869141\"/>\n      </g>\n     </g>\n    </g>\n    <g id=\"xtick_10\">\n     <g id=\"line2d_40\">\n      <g>\n       <use xlink:href=\"#m73e83910bd\" x=\"624.205263\" y=\"194.98975\" style=\"stroke: #000000; stroke-width: 0.8\"/>\n      </g>\n     </g>\n     <g id=\"text_17\">\n      <!-- 8000 -->\n      <g transform=\"translate(608.935263 211.107875) scale(0.12 -0.12)\">\n       <defs>\n        <path id=\"DejaVuSans-38\" d=\"M 2034 2216 \nQ 1584 2216 1326 1975 \nQ 1069 1734 1069 1313 \nQ 1069 891 1326 650 \nQ 1584 409 2034 409 \nQ 2484 409 2743 651 \nQ 3003 894 3003 1313 \nQ 3003 1734 2745 1975 \nQ 2488 2216 2034 2216 \nz\nM 1403 2484 \nQ 997 2584 770 2862 \nQ 544 3141 544 3541 \nQ 544 4100 942 4425 \nQ 1341 4750 2034 4750 \nQ 2731 4750 3128 4425 \nQ 3525 4100 3525 3541 \nQ 3525 3141 3298 2862 \nQ 3072 2584 2669 2484 \nQ 3125 2378 3379 2068 \nQ 3634 1759 3634 1313 \nQ 3634 634 3220 271 \nQ 2806 -91 2034 -91 \nQ 1263 -91 848 271 \nQ 434 634 434 1313 \nQ 434 1759 690 2068 \nQ 947 2378 1403 2484 \nz\nM 1172 3481 \nQ 1172 3119 1398 2916 \nQ 1625 2713 2034 2713 \nQ 2441 2713 2670 2916 \nQ 2900 3119 2900 3481 \nQ 2900 3844 2670 4047 \nQ 2441 4250 2034 4250 \nQ 1625 4250 1398 4047 \nQ 1172 3844 1172 3481 \nz\n\" transform=\"scale(0.015625)\"/>\n       </defs>\n       <use xlink:href=\"#DejaVuSans-38\"/>\n       <use xlink:href=\"#DejaVuSans-30\" x=\"63.623047\"/>\n       <use xlink:href=\"#DejaVuSans-30\" x=\"127.246094\"/>\n       <use xlink:href=\"#DejaVuSans-30\" x=\"190.869141\"/>\n      </g>\n     </g>\n    </g>\n    <g id=\"xtick_11\">\n     <g id=\"line2d_41\">\n      <g>\n       <use xlink:href=\"#m73e83910bd\" x=\"680.552643\" y=\"194.98975\" style=\"stroke: #000000; stroke-width: 0.8\"/>\n      </g>\n     </g>\n     <g id=\"text_18\">\n      <!-- 10000 -->\n      <g transform=\"translate(661.465143 211.107875) scale(0.12 -0.12)\">\n       <use xlink:href=\"#DejaVuSans-31\"/>\n       <use xlink:href=\"#DejaVuSans-30\" x=\"63.623047\"/>\n       <use xlink:href=\"#DejaVuSans-30\" x=\"127.246094\"/>\n       <use xlink:href=\"#DejaVuSans-30\" x=\"190.869141\"/>\n       <use xlink:href=\"#DejaVuSans-30\" x=\"254.492188\"/>\n      </g>\n     </g>\n    </g>\n    <g id=\"xtick_12\">\n     <g id=\"line2d_42\">\n      <defs>\n       <path id=\"m3f81320180\" d=\"M 0 0 \nL 0 2 \n\" style=\"stroke: #000000; stroke-width: 0.6\"/>\n      </defs>\n      <g>\n       <use xlink:href=\"#m3f81320180\" x=\"412.902589\" y=\"194.98975\" style=\"stroke: #000000; stroke-width: 0.6\"/>\n      </g>\n     </g>\n    </g>\n    <g id=\"xtick_13\">\n     <g id=\"line2d_43\">\n      <g>\n       <use xlink:href=\"#m3f81320180\" x=\"426.989434\" y=\"194.98975\" style=\"stroke: #000000; stroke-width: 0.6\"/>\n      </g>\n     </g>\n    </g>\n    <g id=\"xtick_14\">\n     <g id=\"line2d_44\">\n      <g>\n       <use xlink:href=\"#m3f81320180\" x=\"441.076279\" y=\"194.98975\" style=\"stroke: #000000; stroke-width: 0.6\"/>\n      </g>\n     </g>\n    </g>\n    <g id=\"xtick_15\">\n     <g id=\"line2d_45\">\n      <g>\n       <use xlink:href=\"#m3f81320180\" x=\"469.249969\" y=\"194.98975\" style=\"stroke: #000000; stroke-width: 0.6\"/>\n      </g>\n     </g>\n    </g>\n    <g id=\"xtick_16\">\n     <g id=\"line2d_46\">\n      <g>\n       <use xlink:href=\"#m3f81320180\" x=\"483.336814\" y=\"194.98975\" style=\"stroke: #000000; stroke-width: 0.6\"/>\n      </g>\n     </g>\n    </g>\n    <g id=\"xtick_17\">\n     <g id=\"line2d_47\">\n      <g>\n       <use xlink:href=\"#m3f81320180\" x=\"497.423659\" y=\"194.98975\" style=\"stroke: #000000; stroke-width: 0.6\"/>\n      </g>\n     </g>\n    </g>\n    <g id=\"xtick_18\">\n     <g id=\"line2d_48\">\n      <g>\n       <use xlink:href=\"#m3f81320180\" x=\"525.597348\" y=\"194.98975\" style=\"stroke: #000000; stroke-width: 0.6\"/>\n      </g>\n     </g>\n    </g>\n    <g id=\"xtick_19\">\n     <g id=\"line2d_49\">\n      <g>\n       <use xlink:href=\"#m3f81320180\" x=\"539.684193\" y=\"194.98975\" style=\"stroke: #000000; stroke-width: 0.6\"/>\n      </g>\n     </g>\n    </g>\n    <g id=\"xtick_20\">\n     <g id=\"line2d_50\">\n      <g>\n       <use xlink:href=\"#m3f81320180\" x=\"553.771038\" y=\"194.98975\" style=\"stroke: #000000; stroke-width: 0.6\"/>\n      </g>\n     </g>\n    </g>\n    <g id=\"xtick_21\">\n     <g id=\"line2d_51\">\n      <g>\n       <use xlink:href=\"#m3f81320180\" x=\"581.944728\" y=\"194.98975\" style=\"stroke: #000000; stroke-width: 0.6\"/>\n      </g>\n     </g>\n    </g>\n    <g id=\"xtick_22\">\n     <g id=\"line2d_52\">\n      <g>\n       <use xlink:href=\"#m3f81320180\" x=\"596.031573\" y=\"194.98975\" style=\"stroke: #000000; stroke-width: 0.6\"/>\n      </g>\n     </g>\n    </g>\n    <g id=\"xtick_23\">\n     <g id=\"line2d_53\">\n      <g>\n       <use xlink:href=\"#m3f81320180\" x=\"610.118418\" y=\"194.98975\" style=\"stroke: #000000; stroke-width: 0.6\"/>\n      </g>\n     </g>\n    </g>\n    <g id=\"xtick_24\">\n     <g id=\"line2d_54\">\n      <g>\n       <use xlink:href=\"#m3f81320180\" x=\"638.292108\" y=\"194.98975\" style=\"stroke: #000000; stroke-width: 0.6\"/>\n      </g>\n     </g>\n    </g>\n    <g id=\"xtick_25\">\n     <g id=\"line2d_55\">\n      <g>\n       <use xlink:href=\"#m3f81320180\" x=\"652.378953\" y=\"194.98975\" style=\"stroke: #000000; stroke-width: 0.6\"/>\n      </g>\n     </g>\n    </g>\n    <g id=\"xtick_26\">\n     <g id=\"line2d_56\">\n      <g>\n       <use xlink:href=\"#m3f81320180\" x=\"666.465798\" y=\"194.98975\" style=\"stroke: #000000; stroke-width: 0.6\"/>\n      </g>\n     </g>\n    </g>\n    <g id=\"text_19\">\n     <!-- Token (descending probability) -->\n     <g transform=\"translate(447.602943 226.721625) scale(0.12 -0.12)\">\n      <defs>\n       <path id=\"DejaVuSans-54\" d=\"M -19 4666 \nL 3928 4666 \nL 3928 4134 \nL 2272 4134 \nL 2272 0 \nL 1638 0 \nL 1638 4134 \nL -19 4134 \nL -19 4666 \nz\n\" transform=\"scale(0.015625)\"/>\n       <path id=\"DejaVuSans-6b\" d=\"M 581 4863 \nL 1159 4863 \nL 1159 1991 \nL 2875 3500 \nL 3609 3500 \nL 1753 1863 \nL 3688 0 \nL 2938 0 \nL 1159 1709 \nL 1159 0 \nL 581 0 \nL 581 4863 \nz\n\" transform=\"scale(0.015625)\"/>\n       <path id=\"DejaVuSans-65\" d=\"M 3597 1894 \nL 3597 1613 \nL 953 1613 \nQ 991 1019 1311 708 \nQ 1631 397 2203 397 \nQ 2534 397 2845 478 \nQ 3156 559 3463 722 \nL 3463 178 \nQ 3153 47 2828 -22 \nQ 2503 -91 2169 -91 \nQ 1331 -91 842 396 \nQ 353 884 353 1716 \nQ 353 2575 817 3079 \nQ 1281 3584 2069 3584 \nQ 2775 3584 3186 3129 \nQ 3597 2675 3597 1894 \nz\nM 3022 2063 \nQ 3016 2534 2758 2815 \nQ 2500 3097 2075 3097 \nQ 1594 3097 1305 2825 \nQ 1016 2553 972 2059 \nL 3022 2063 \nz\n\" transform=\"scale(0.015625)\"/>\n       <path id=\"DejaVuSans-28\" d=\"M 1984 4856 \nQ 1566 4138 1362 3434 \nQ 1159 2731 1159 2009 \nQ 1159 1288 1364 580 \nQ 1569 -128 1984 -844 \nL 1484 -844 \nQ 1016 -109 783 600 \nQ 550 1309 550 2009 \nQ 550 2706 781 3412 \nQ 1013 4119 1484 4856 \nL 1984 4856 \nz\n\" transform=\"scale(0.015625)\"/>\n       <path id=\"DejaVuSans-63\" d=\"M 3122 3366 \nL 3122 2828 \nQ 2878 2963 2633 3030 \nQ 2388 3097 2138 3097 \nQ 1578 3097 1268 2742 \nQ 959 2388 959 1747 \nQ 959 1106 1268 751 \nQ 1578 397 2138 397 \nQ 2388 397 2633 464 \nQ 2878 531 3122 666 \nL 3122 134 \nQ 2881 22 2623 -34 \nQ 2366 -91 2075 -91 \nQ 1284 -91 818 406 \nQ 353 903 353 1747 \nQ 353 2603 823 3093 \nQ 1294 3584 2113 3584 \nQ 2378 3584 2631 3529 \nQ 2884 3475 3122 3366 \nz\n\" transform=\"scale(0.015625)\"/>\n       <path id=\"DejaVuSans-67\" d=\"M 2906 1791 \nQ 2906 2416 2648 2759 \nQ 2391 3103 1925 3103 \nQ 1463 3103 1205 2759 \nQ 947 2416 947 1791 \nQ 947 1169 1205 825 \nQ 1463 481 1925 481 \nQ 2391 481 2648 825 \nQ 2906 1169 2906 1791 \nz\nM 3481 434 \nQ 3481 -459 3084 -895 \nQ 2688 -1331 1869 -1331 \nQ 1566 -1331 1297 -1286 \nQ 1028 -1241 775 -1147 \nL 775 -588 \nQ 1028 -725 1275 -790 \nQ 1522 -856 1778 -856 \nQ 2344 -856 2625 -561 \nQ 2906 -266 2906 331 \nL 2906 616 \nQ 2728 306 2450 153 \nQ 2172 0 1784 0 \nQ 1141 0 747 490 \nQ 353 981 353 1791 \nQ 353 2603 747 3093 \nQ 1141 3584 1784 3584 \nQ 2172 3584 2450 3431 \nQ 2728 3278 2906 2969 \nL 2906 3500 \nL 3481 3500 \nL 3481 434 \nz\n\" transform=\"scale(0.015625)\"/>\n       <path id=\"DejaVuSans-70\" d=\"M 1159 525 \nL 1159 -1331 \nL 581 -1331 \nL 581 3500 \nL 1159 3500 \nL 1159 2969 \nQ 1341 3281 1617 3432 \nQ 1894 3584 2278 3584 \nQ 2916 3584 3314 3078 \nQ 3713 2572 3713 1747 \nQ 3713 922 3314 415 \nQ 2916 -91 2278 -91 \nQ 1894 -91 1617 61 \nQ 1341 213 1159 525 \nz\nM 3116 1747 \nQ 3116 2381 2855 2742 \nQ 2594 3103 2138 3103 \nQ 1681 3103 1420 2742 \nQ 1159 2381 1159 1747 \nQ 1159 1113 1420 752 \nQ 1681 391 2138 391 \nQ 2594 391 2855 752 \nQ 3116 1113 3116 1747 \nz\n\" transform=\"scale(0.015625)\"/>\n       <path id=\"DejaVuSans-29\" d=\"M 513 4856 \nL 1013 4856 \nQ 1481 4119 1714 3412 \nQ 1947 2706 1947 2009 \nQ 1947 1309 1714 600 \nQ 1481 -109 1013 -844 \nL 513 -844 \nQ 928 -128 1133 580 \nQ 1338 1288 1338 2009 \nQ 1338 2731 1133 3434 \nQ 928 4138 513 4856 \nz\n\" transform=\"scale(0.015625)\"/>\n      </defs>\n      <use xlink:href=\"#DejaVuSans-54\"/>\n      <use xlink:href=\"#DejaVuSans-6f\" x=\"44.083984\"/>\n      <use xlink:href=\"#DejaVuSans-6b\" x=\"105.265625\"/>\n      <use xlink:href=\"#DejaVuSans-65\" x=\"159.550781\"/>\n      <use xlink:href=\"#DejaVuSans-6e\" x=\"221.074219\"/>\n      <use xlink:href=\"#DejaVuSans-20\" x=\"284.453125\"/>\n      <use xlink:href=\"#DejaVuSans-28\" x=\"316.240234\"/>\n      <use xlink:href=\"#DejaVuSans-64\" x=\"355.253906\"/>\n      <use xlink:href=\"#DejaVuSans-65\" x=\"418.730469\"/>\n      <use xlink:href=\"#DejaVuSans-73\" x=\"480.253906\"/>\n      <use xlink:href=\"#DejaVuSans-63\" x=\"532.353516\"/>\n      <use xlink:href=\"#DejaVuSans-65\" x=\"587.333984\"/>\n      <use xlink:href=\"#DejaVuSans-6e\" x=\"648.857422\"/>\n      <use xlink:href=\"#DejaVuSans-64\" x=\"712.236328\"/>\n      <use xlink:href=\"#DejaVuSans-69\" x=\"775.712891\"/>\n      <use xlink:href=\"#DejaVuSans-6e\" x=\"803.496094\"/>\n      <use xlink:href=\"#DejaVuSans-67\" x=\"866.875\"/>\n      <use xlink:href=\"#DejaVuSans-20\" x=\"930.351562\"/>\n      <use xlink:href=\"#DejaVuSans-70\" x=\"962.138672\"/>\n      <use xlink:href=\"#DejaVuSans-72\" x=\"1025.615234\"/>\n      <use xlink:href=\"#DejaVuSans-6f\" x=\"1064.478516\"/>\n      <use xlink:href=\"#DejaVuSans-62\" x=\"1125.660156\"/>\n      <use xlink:href=\"#DejaVuSans-61\" x=\"1189.136719\"/>\n      <use xlink:href=\"#DejaVuSans-62\" x=\"1250.416016\"/>\n      <use xlink:href=\"#DejaVuSans-69\" x=\"1313.892578\"/>\n      <use xlink:href=\"#DejaVuSans-6c\" x=\"1341.675781\"/>\n      <use xlink:href=\"#DejaVuSans-69\" x=\"1369.458984\"/>\n      <use xlink:href=\"#DejaVuSans-74\" x=\"1397.242188\"/>\n      <use xlink:href=\"#DejaVuSans-79\" x=\"1436.451172\"/>\n      <use xlink:href=\"#DejaVuSans-29\" x=\"1495.630859\"/>\n     </g>\n    </g>\n   </g>\n   <g id=\"matplotlib.axis_4\">\n    <g id=\"ytick_31\">\n     <g id=\"line2d_57\">\n      <g>\n       <use xlink:href=\"#m375fdbabd4\" x=\"398.815744\" y=\"194.98975\" style=\"stroke: #000000; stroke-width: 0.8\"/>\n      </g>\n     </g>\n     <g id=\"text_20\">\n      <!-- 0.75 -->\n      <g transform=\"translate(365.096994 199.548812) scale(0.12 -0.12)\">\n       <defs>\n        <path id=\"DejaVuSans-2e\" d=\"M 684 794 \nL 1344 794 \nL 1344 0 \nL 684 0 \nL 684 794 \nz\n\" transform=\"scale(0.015625)\"/>\n       </defs>\n       <use xlink:href=\"#DejaVuSans-30\"/>\n       <use xlink:href=\"#DejaVuSans-2e\" x=\"63.623047\"/>\n       <use xlink:href=\"#DejaVuSans-37\" x=\"95.410156\"/>\n       <use xlink:href=\"#DejaVuSans-35\" x=\"159.033203\"/>\n      </g>\n     </g>\n    </g>\n    <g id=\"ytick_32\">\n     <g id=\"line2d_58\">\n      <g>\n       <use xlink:href=\"#m375fdbabd4\" x=\"398.815744\" y=\"162.134365\" style=\"stroke: #000000; stroke-width: 0.8\"/>\n      </g>\n     </g>\n     <g id=\"text_21\">\n      <!-- 0.80 -->\n      <g transform=\"translate(365.096994 166.693428) scale(0.12 -0.12)\">\n       <use xlink:href=\"#DejaVuSans-30\"/>\n       <use xlink:href=\"#DejaVuSans-2e\" x=\"63.623047\"/>\n       <use xlink:href=\"#DejaVuSans-38\" x=\"95.410156\"/>\n       <use xlink:href=\"#DejaVuSans-30\" x=\"159.033203\"/>\n      </g>\n     </g>\n    </g>\n    <g id=\"ytick_33\">\n     <g id=\"line2d_59\">\n      <g>\n       <use xlink:href=\"#m375fdbabd4\" x=\"398.815744\" y=\"129.278981\" style=\"stroke: #000000; stroke-width: 0.8\"/>\n      </g>\n     </g>\n     <g id=\"text_22\">\n      <!-- 0.85 -->\n      <g transform=\"translate(365.096994 133.838043) scale(0.12 -0.12)\">\n       <use xlink:href=\"#DejaVuSans-30\"/>\n       <use xlink:href=\"#DejaVuSans-2e\" x=\"63.623047\"/>\n       <use xlink:href=\"#DejaVuSans-38\" x=\"95.410156\"/>\n       <use xlink:href=\"#DejaVuSans-35\" x=\"159.033203\"/>\n      </g>\n     </g>\n    </g>\n    <g id=\"ytick_34\">\n     <g id=\"line2d_60\">\n      <g>\n       <use xlink:href=\"#m375fdbabd4\" x=\"398.815744\" y=\"96.423596\" style=\"stroke: #000000; stroke-width: 0.8\"/>\n      </g>\n     </g>\n     <g id=\"text_23\">\n      <!-- 0.90 -->\n      <g transform=\"translate(365.096994 100.982659) scale(0.12 -0.12)\">\n       <use xlink:href=\"#DejaVuSans-30\"/>\n       <use xlink:href=\"#DejaVuSans-2e\" x=\"63.623047\"/>\n       <use xlink:href=\"#DejaVuSans-39\" x=\"95.410156\"/>\n       <use xlink:href=\"#DejaVuSans-30\" x=\"159.033203\"/>\n      </g>\n     </g>\n    </g>\n    <g id=\"ytick_35\">\n     <g id=\"line2d_61\">\n      <g>\n       <use xlink:href=\"#m375fdbabd4\" x=\"398.815744\" y=\"63.568212\" style=\"stroke: #000000; stroke-width: 0.8\"/>\n      </g>\n     </g>\n     <g id=\"text_24\">\n      <!-- 0.95 -->\n      <g transform=\"translate(365.096994 68.127274) scale(0.12 -0.12)\">\n       <use xlink:href=\"#DejaVuSans-30\"/>\n       <use xlink:href=\"#DejaVuSans-2e\" x=\"63.623047\"/>\n       <use xlink:href=\"#DejaVuSans-39\" x=\"95.410156\"/>\n       <use xlink:href=\"#DejaVuSans-35\" x=\"159.033203\"/>\n      </g>\n     </g>\n    </g>\n    <g id=\"ytick_36\">\n     <g id=\"line2d_62\">\n      <g>\n       <use xlink:href=\"#m375fdbabd4\" x=\"398.815744\" y=\"30.712827\" style=\"stroke: #000000; stroke-width: 0.8\"/>\n      </g>\n     </g>\n     <g id=\"text_25\">\n      <!-- 1.00 -->\n      <g transform=\"translate(365.096994 35.271889) scale(0.12 -0.12)\">\n       <use xlink:href=\"#DejaVuSans-31\"/>\n       <use xlink:href=\"#DejaVuSans-2e\" x=\"63.623047\"/>\n       <use xlink:href=\"#DejaVuSans-30\" x=\"95.410156\"/>\n       <use xlink:href=\"#DejaVuSans-30\" x=\"159.033203\"/>\n      </g>\n     </g>\n    </g>\n    <g id=\"ytick_37\">\n     <g id=\"line2d_63\">\n      <g>\n       <use xlink:href=\"#m1aa5f4165a\" x=\"398.815744\" y=\"188.418673\" style=\"stroke: #000000; stroke-width: 0.6\"/>\n      </g>\n     </g>\n    </g>\n    <g id=\"ytick_38\">\n     <g id=\"line2d_64\">\n      <g>\n       <use xlink:href=\"#m1aa5f4165a\" x=\"398.815744\" y=\"181.847596\" style=\"stroke: #000000; stroke-width: 0.6\"/>\n      </g>\n     </g>\n    </g>\n    <g id=\"ytick_39\">\n     <g id=\"line2d_65\">\n      <g>\n       <use xlink:href=\"#m1aa5f4165a\" x=\"398.815744\" y=\"175.276519\" style=\"stroke: #000000; stroke-width: 0.6\"/>\n      </g>\n     </g>\n    </g>\n    <g id=\"ytick_40\">\n     <g id=\"line2d_66\">\n      <g>\n       <use xlink:href=\"#m1aa5f4165a\" x=\"398.815744\" y=\"168.705442\" style=\"stroke: #000000; stroke-width: 0.6\"/>\n      </g>\n     </g>\n    </g>\n    <g id=\"ytick_41\">\n     <g id=\"line2d_67\">\n      <g>\n       <use xlink:href=\"#m1aa5f4165a\" x=\"398.815744\" y=\"155.563288\" style=\"stroke: #000000; stroke-width: 0.6\"/>\n      </g>\n     </g>\n    </g>\n    <g id=\"ytick_42\">\n     <g id=\"line2d_68\">\n      <g>\n       <use xlink:href=\"#m1aa5f4165a\" x=\"398.815744\" y=\"148.992212\" style=\"stroke: #000000; stroke-width: 0.6\"/>\n      </g>\n     </g>\n    </g>\n    <g id=\"ytick_43\">\n     <g id=\"line2d_69\">\n      <g>\n       <use xlink:href=\"#m1aa5f4165a\" x=\"398.815744\" y=\"142.421135\" style=\"stroke: #000000; stroke-width: 0.6\"/>\n      </g>\n     </g>\n    </g>\n    <g id=\"ytick_44\">\n     <g id=\"line2d_70\">\n      <g>\n       <use xlink:href=\"#m1aa5f4165a\" x=\"398.815744\" y=\"135.850058\" style=\"stroke: #000000; stroke-width: 0.6\"/>\n      </g>\n     </g>\n    </g>\n    <g id=\"ytick_45\">\n     <g id=\"line2d_71\">\n      <g>\n       <use xlink:href=\"#m1aa5f4165a\" x=\"398.815744\" y=\"122.707904\" style=\"stroke: #000000; stroke-width: 0.6\"/>\n      </g>\n     </g>\n    </g>\n    <g id=\"ytick_46\">\n     <g id=\"line2d_72\">\n      <g>\n       <use xlink:href=\"#m1aa5f4165a\" x=\"398.815744\" y=\"116.136827\" style=\"stroke: #000000; stroke-width: 0.6\"/>\n      </g>\n     </g>\n    </g>\n    <g id=\"ytick_47\">\n     <g id=\"line2d_73\">\n      <g>\n       <use xlink:href=\"#m1aa5f4165a\" x=\"398.815744\" y=\"109.56575\" style=\"stroke: #000000; stroke-width: 0.6\"/>\n      </g>\n     </g>\n    </g>\n    <g id=\"ytick_48\">\n     <g id=\"line2d_74\">\n      <g>\n       <use xlink:href=\"#m1aa5f4165a\" x=\"398.815744\" y=\"102.994673\" style=\"stroke: #000000; stroke-width: 0.6\"/>\n      </g>\n     </g>\n    </g>\n    <g id=\"ytick_49\">\n     <g id=\"line2d_75\">\n      <g>\n       <use xlink:href=\"#m1aa5f4165a\" x=\"398.815744\" y=\"89.852519\" style=\"stroke: #000000; stroke-width: 0.6\"/>\n      </g>\n     </g>\n    </g>\n    <g id=\"ytick_50\">\n     <g id=\"line2d_76\">\n      <g>\n       <use xlink:href=\"#m1aa5f4165a\" x=\"398.815744\" y=\"83.281442\" style=\"stroke: #000000; stroke-width: 0.6\"/>\n      </g>\n     </g>\n    </g>\n    <g id=\"ytick_51\">\n     <g id=\"line2d_77\">\n      <g>\n       <use xlink:href=\"#m1aa5f4165a\" x=\"398.815744\" y=\"76.710365\" style=\"stroke: #000000; stroke-width: 0.6\"/>\n      </g>\n     </g>\n    </g>\n    <g id=\"ytick_52\">\n     <g id=\"line2d_78\">\n      <g>\n       <use xlink:href=\"#m1aa5f4165a\" x=\"398.815744\" y=\"70.139288\" style=\"stroke: #000000; stroke-width: 0.6\"/>\n      </g>\n     </g>\n    </g>\n    <g id=\"ytick_53\">\n     <g id=\"line2d_79\">\n      <g>\n       <use xlink:href=\"#m1aa5f4165a\" x=\"398.815744\" y=\"56.997135\" style=\"stroke: #000000; stroke-width: 0.6\"/>\n      </g>\n     </g>\n    </g>\n    <g id=\"ytick_54\">\n     <g id=\"line2d_80\">\n      <g>\n       <use xlink:href=\"#m1aa5f4165a\" x=\"398.815744\" y=\"50.426058\" style=\"stroke: #000000; stroke-width: 0.6\"/>\n      </g>\n     </g>\n    </g>\n    <g id=\"ytick_55\">\n     <g id=\"line2d_81\">\n      <g>\n       <use xlink:href=\"#m1aa5f4165a\" x=\"398.815744\" y=\"43.854981\" style=\"stroke: #000000; stroke-width: 0.6\"/>\n      </g>\n     </g>\n    </g>\n    <g id=\"ytick_56\">\n     <g id=\"line2d_82\">\n      <g>\n       <use xlink:href=\"#m1aa5f4165a\" x=\"398.815744\" y=\"37.283904\" style=\"stroke: #000000; stroke-width: 0.6\"/>\n      </g>\n     </g>\n    </g>\n    <g id=\"ytick_57\">\n     <g id=\"line2d_83\">\n      <g>\n       <use xlink:href=\"#m1aa5f4165a\" x=\"398.815744\" y=\"24.14175\" style=\"stroke: #000000; stroke-width: 0.6\"/>\n      </g>\n     </g>\n    </g>\n    <g id=\"text_26\">\n     <!-- Probability -->\n     <g transform=\"translate(358.601369 141.280438) rotate(-90) scale(0.12 -0.12)\">\n      <use xlink:href=\"#DejaVuSans-50\"/>\n      <use xlink:href=\"#DejaVuSans-72\" x=\"58.552734\"/>\n      <use xlink:href=\"#DejaVuSans-6f\" x=\"97.416016\"/>\n      <use xlink:href=\"#DejaVuSans-62\" x=\"158.597656\"/>\n      <use xlink:href=\"#DejaVuSans-61\" x=\"222.074219\"/>\n      <use xlink:href=\"#DejaVuSans-62\" x=\"283.353516\"/>\n      <use xlink:href=\"#DejaVuSans-69\" x=\"346.830078\"/>\n      <use xlink:href=\"#DejaVuSans-6c\" x=\"374.613281\"/>\n      <use xlink:href=\"#DejaVuSans-69\" x=\"402.396484\"/>\n      <use xlink:href=\"#DejaVuSans-74\" x=\"430.179688\"/>\n      <use xlink:href=\"#DejaVuSans-79\" x=\"469.388672\"/>\n     </g>\n    </g>\n   </g>\n   <g id=\"line2d_84\">\n    <path d=\"M 400.663109 237.41725 \nL 401.266855 215.604657 \nL 402.196587 191.267271 \nL 402.900929 178.796329 \nL 403.74614 167.070494 \nL 404.873088 154.448603 \nL 406.084556 143.537552 \nL 407.493241 132.957342 \nL 408.845578 124.438513 \nL 410.169741 117.39756 \nL 411.803815 110.024473 \nL 413.409716 103.739868 \nL 415.381874 96.963015 \nL 417.100469 91.755297 \nL 418.819064 87.177693 \nL 420.763049 82.66483 \nL 423.073291 77.854497 \nL 425.35536 73.638127 \nL 427.552908 70.067302 \nL 429.834977 66.762261 \nL 432.567825 63.219323 \nL 435.300673 60.027474 \nL 438.089868 57.121738 \nL 441.019932 54.409172 \nL 443.921822 52.017851 \nL 447.133622 49.677877 \nL 450.655334 47.398925 \nL 454.261566 45.346788 \nL 457.980493 43.485979 \nL 461.896636 41.788731 \nL 466.235384 40.158575 \nL 470.517785 38.787584 \nL 475.391833 37.452432 \nL 480.378576 36.325058 \nL 485.844272 35.298304 \nL 491.47901 34.447173 \nL 498.128001 33.671321 \nL 505.368639 33.047787 \nL 514.553262 32.481985 \nL 526.273517 31.989935 \nL 541.430962 31.595135 \nL 563.490961 31.276709 \nL 594.566541 31.042101 \nL 647.730294 30.857548 \nL 680.580816 30.811879 \nL 680.580816 30.811879 \n\" clip-path=\"url(#p48eaef0b6c)\" style=\"fill: none; stroke: #000000; stroke-width: 1.5; stroke-linecap: square\"/>\n   </g>\n   <g id=\"LineCollection_1\">\n    <path d=\"M 455.163124 237.41725 \nL 455.163124 -1 \n\" clip-path=\"url(#p48eaef0b6c)\" style=\"fill: none; stroke: #0071bc; stroke-width: 1.5\"/>\n   </g>\n   <g id=\"LineCollection_2\">\n    <path d=\"M 398.815744 63.568212 \nL 680.552643 63.568212 \n\" clip-path=\"url(#p48eaef0b6c)\" style=\"fill: none; stroke-dasharray: 5.55,2.4; stroke-dashoffset: 0; stroke: #f7931e; stroke-width: 1.5\"/>\n   </g>\n   <g id=\"patch_107\">\n    <path d=\"M 398.815744 194.98975 \nL 398.815744 24.14175 \n\" style=\"fill: none; stroke: #000000; stroke-width: 0.8; stroke-linejoin: miter; stroke-linecap: square\"/>\n   </g>\n   <g id=\"patch_108\">\n    <path d=\"M 680.552643 194.98975 \nL 680.552643 24.14175 \n\" style=\"fill: none; stroke: #000000; stroke-width: 0.8; stroke-linejoin: miter; stroke-linecap: square\"/>\n   </g>\n   <g id=\"patch_109\">\n    <path d=\"M 398.815744 194.98975 \nL 680.552643 194.98975 \n\" style=\"fill: none; stroke: #000000; stroke-width: 0.8; stroke-linejoin: miter; stroke-linecap: square\"/>\n   </g>\n   <g id=\"patch_110\">\n    <path d=\"M 398.815744 24.14175 \nL 680.552643 24.14175 \n\" style=\"fill: none; stroke: #000000; stroke-width: 0.8; stroke-linejoin: miter; stroke-linecap: square\"/>\n   </g>\n   <g id=\"text_27\">\n    <!-- Cumulative probability -->\n    <g transform=\"translate(457.888818 18.14175) scale(0.144 -0.144)\">\n     <defs>\n      <path id=\"DejaVuSans-6d\" d=\"M 3328 2828 \nQ 3544 3216 3844 3400 \nQ 4144 3584 4550 3584 \nQ 5097 3584 5394 3201 \nQ 5691 2819 5691 2113 \nL 5691 0 \nL 5113 0 \nL 5113 2094 \nQ 5113 2597 4934 2840 \nQ 4756 3084 4391 3084 \nQ 3944 3084 3684 2787 \nQ 3425 2491 3425 1978 \nL 3425 0 \nL 2847 0 \nL 2847 2094 \nQ 2847 2600 2669 2842 \nQ 2491 3084 2119 3084 \nQ 1678 3084 1418 2786 \nQ 1159 2488 1159 1978 \nL 1159 0 \nL 581 0 \nL 581 3500 \nL 1159 3500 \nL 1159 2956 \nQ 1356 3278 1631 3431 \nQ 1906 3584 2284 3584 \nQ 2666 3584 2933 3390 \nQ 3200 3197 3328 2828 \nz\n\" transform=\"scale(0.015625)\"/>\n      <path id=\"DejaVuSans-76\" d=\"M 191 3500 \nL 800 3500 \nL 1894 563 \nL 2988 3500 \nL 3597 3500 \nL 2284 0 \nL 1503 0 \nL 191 3500 \nz\n\" transform=\"scale(0.015625)\"/>\n     </defs>\n     <use xlink:href=\"#DejaVuSans-43\"/>\n     <use xlink:href=\"#DejaVuSans-75\" x=\"69.824219\"/>\n     <use xlink:href=\"#DejaVuSans-6d\" x=\"133.203125\"/>\n     <use xlink:href=\"#DejaVuSans-75\" x=\"230.615234\"/>\n     <use xlink:href=\"#DejaVuSans-6c\" x=\"293.994141\"/>\n     <use xlink:href=\"#DejaVuSans-61\" x=\"321.777344\"/>\n     <use xlink:href=\"#DejaVuSans-74\" x=\"383.056641\"/>\n     <use xlink:href=\"#DejaVuSans-69\" x=\"422.265625\"/>\n     <use xlink:href=\"#DejaVuSans-76\" x=\"450.048828\"/>\n     <use xlink:href=\"#DejaVuSans-65\" x=\"509.228516\"/>\n     <use xlink:href=\"#DejaVuSans-20\" x=\"570.751953\"/>\n     <use xlink:href=\"#DejaVuSans-70\" x=\"602.539062\"/>\n     <use xlink:href=\"#DejaVuSans-72\" x=\"666.015625\"/>\n     <use xlink:href=\"#DejaVuSans-6f\" x=\"704.878906\"/>\n     <use xlink:href=\"#DejaVuSans-62\" x=\"766.060547\"/>\n     <use xlink:href=\"#DejaVuSans-61\" x=\"829.537109\"/>\n     <use xlink:href=\"#DejaVuSans-62\" x=\"890.816406\"/>\n     <use xlink:href=\"#DejaVuSans-69\" x=\"954.292969\"/>\n     <use xlink:href=\"#DejaVuSans-6c\" x=\"982.076172\"/>\n     <use xlink:href=\"#DejaVuSans-69\" x=\"1009.859375\"/>\n     <use xlink:href=\"#DejaVuSans-74\" x=\"1037.642578\"/>\n     <use xlink:href=\"#DejaVuSans-79\" x=\"1076.851562\"/>\n    </g>\n   </g>\n   <g id=\"legend_1\">\n    <g id=\"patch_111\">\n     <path d=\"M 469.480143 188.98975 \nL 672.152643 188.98975 \nQ 674.552643 188.98975 674.552643 186.58975 \nL 674.552643 152.56225 \nQ 674.552643 150.16225 672.152643 150.16225 \nL 469.480143 150.16225 \nQ 467.080143 150.16225 467.080143 152.56225 \nL 467.080143 186.58975 \nQ 467.080143 188.98975 469.480143 188.98975 \nz\n\" style=\"fill: #ffffff; opacity: 0.8; stroke: #cccccc; stroke-linejoin: miter\"/>\n    </g>\n    <g id=\"line2d_85\">\n     <path d=\"M 471.880143 159.880375 \nL 495.880143 159.880375 \n\" style=\"fill: none; stroke: #0071bc; stroke-width: 1.5\"/>\n    </g>\n    <g id=\"text_28\">\n     <!-- top-k threshold (k=2000) -->\n     <g transform=\"translate(505.480143 164.080375) scale(0.12 -0.12)\">\n      <defs>\n       <path id=\"DejaVuSans-2d\" d=\"M 313 2009 \nL 1997 2009 \nL 1997 1497 \nL 313 1497 \nL 313 2009 \nz\n\" transform=\"scale(0.015625)\"/>\n       <path id=\"DejaVuSans-68\" d=\"M 3513 2113 \nL 3513 0 \nL 2938 0 \nL 2938 2094 \nQ 2938 2591 2744 2837 \nQ 2550 3084 2163 3084 \nQ 1697 3084 1428 2787 \nQ 1159 2491 1159 1978 \nL 1159 0 \nL 581 0 \nL 581 4863 \nL 1159 4863 \nL 1159 2956 \nQ 1366 3272 1645 3428 \nQ 1925 3584 2291 3584 \nQ 2894 3584 3203 3211 \nQ 3513 2838 3513 2113 \nz\n\" transform=\"scale(0.015625)\"/>\n       <path id=\"DejaVuSans-3d\" d=\"M 678 2906 \nL 4684 2906 \nL 4684 2381 \nL 678 2381 \nL 678 2906 \nz\nM 678 1631 \nL 4684 1631 \nL 4684 1100 \nL 678 1100 \nL 678 1631 \nz\n\" transform=\"scale(0.015625)\"/>\n      </defs>\n      <use xlink:href=\"#DejaVuSans-74\"/>\n      <use xlink:href=\"#DejaVuSans-6f\" x=\"39.208984\"/>\n      <use xlink:href=\"#DejaVuSans-70\" x=\"100.390625\"/>\n      <use xlink:href=\"#DejaVuSans-2d\" x=\"163.867188\"/>\n      <use xlink:href=\"#DejaVuSans-6b\" x=\"199.951172\"/>\n      <use xlink:href=\"#DejaVuSans-20\" x=\"257.861328\"/>\n      <use xlink:href=\"#DejaVuSans-74\" x=\"289.648438\"/>\n      <use xlink:href=\"#DejaVuSans-68\" x=\"328.857422\"/>\n      <use xlink:href=\"#DejaVuSans-72\" x=\"392.236328\"/>\n      <use xlink:href=\"#DejaVuSans-65\" x=\"431.099609\"/>\n      <use xlink:href=\"#DejaVuSans-73\" x=\"492.623047\"/>\n      <use xlink:href=\"#DejaVuSans-68\" x=\"544.722656\"/>\n      <use xlink:href=\"#DejaVuSans-6f\" x=\"608.101562\"/>\n      <use xlink:href=\"#DejaVuSans-6c\" x=\"669.283203\"/>\n      <use xlink:href=\"#DejaVuSans-64\" x=\"697.066406\"/>\n      <use xlink:href=\"#DejaVuSans-20\" x=\"760.542969\"/>\n      <use xlink:href=\"#DejaVuSans-28\" x=\"792.330078\"/>\n      <use xlink:href=\"#DejaVuSans-6b\" x=\"831.34375\"/>\n      <use xlink:href=\"#DejaVuSans-3d\" x=\"889.253906\"/>\n      <use xlink:href=\"#DejaVuSans-32\" x=\"973.042969\"/>\n      <use xlink:href=\"#DejaVuSans-30\" x=\"1036.666016\"/>\n      <use xlink:href=\"#DejaVuSans-30\" x=\"1100.289062\"/>\n      <use xlink:href=\"#DejaVuSans-30\" x=\"1163.912109\"/>\n      <use xlink:href=\"#DejaVuSans-29\" x=\"1227.535156\"/>\n     </g>\n    </g>\n    <g id=\"line2d_86\">\n     <path d=\"M 471.880143 177.494125 \nL 495.880143 177.494125 \n\" style=\"fill: none; stroke-dasharray: 5.55,2.4; stroke-dashoffset: 0; stroke: #f7931e; stroke-width: 1.5\"/>\n    </g>\n    <g id=\"text_29\">\n     <!-- nucleus threshold (p=0.95) -->\n     <g transform=\"translate(505.480143 181.694125) scale(0.12 -0.12)\">\n      <use xlink:href=\"#DejaVuSans-6e\"/>\n      <use xlink:href=\"#DejaVuSans-75\" x=\"63.378906\"/>\n      <use xlink:href=\"#DejaVuSans-63\" x=\"126.757812\"/>\n      <use xlink:href=\"#DejaVuSans-6c\" x=\"181.738281\"/>\n      <use xlink:href=\"#DejaVuSans-65\" x=\"209.521484\"/>\n      <use xlink:href=\"#DejaVuSans-75\" x=\"271.044922\"/>\n      <use xlink:href=\"#DejaVuSans-73\" x=\"334.423828\"/>\n      <use xlink:href=\"#DejaVuSans-20\" x=\"386.523438\"/>\n      <use xlink:href=\"#DejaVuSans-74\" x=\"418.310547\"/>\n      <use xlink:href=\"#DejaVuSans-68\" x=\"457.519531\"/>\n      <use xlink:href=\"#DejaVuSans-72\" x=\"520.898438\"/>\n      <use xlink:href=\"#DejaVuSans-65\" x=\"559.761719\"/>\n      <use xlink:href=\"#DejaVuSans-73\" x=\"621.285156\"/>\n      <use xlink:href=\"#DejaVuSans-68\" x=\"673.384766\"/>\n      <use xlink:href=\"#DejaVuSans-6f\" x=\"736.763672\"/>\n      <use xlink:href=\"#DejaVuSans-6c\" x=\"797.945312\"/>\n      <use xlink:href=\"#DejaVuSans-64\" x=\"825.728516\"/>\n      <use xlink:href=\"#DejaVuSans-20\" x=\"889.205078\"/>\n      <use xlink:href=\"#DejaVuSans-28\" x=\"920.992188\"/>\n      <use xlink:href=\"#DejaVuSans-70\" x=\"960.005859\"/>\n      <use xlink:href=\"#DejaVuSans-3d\" x=\"1023.482422\"/>\n      <use xlink:href=\"#DejaVuSans-30\" x=\"1107.271484\"/>\n      <use xlink:href=\"#DejaVuSans-2e\" x=\"1170.894531\"/>\n      <use xlink:href=\"#DejaVuSans-39\" x=\"1202.681641\"/>\n      <use xlink:href=\"#DejaVuSans-35\" x=\"1266.304688\"/>\n      <use xlink:href=\"#DejaVuSans-29\" x=\"1329.927734\"/>\n     </g>\n    </g>\n   </g>\n  </g>\n </g>\n <defs>\n  <clipPath id=\"p68bf853ac1\">\n   <rect x=\"50.93375\" y=\"24.14175\" width=\"281.736898\" height=\"170.848\"/>\n  </clipPath>\n  <clipPath id=\"p48eaef0b6c\">\n   <rect x=\"398.815744\" y=\"24.14175\" width=\"281.736898\" height=\"170.848\"/>\n  </clipPath>\n </defs>\n</svg>\n",
            "application/pdf": "[encoded data removed]"
          },
          "metadata": {}
        }
      ],
      "source": [
        "# hide_input\n",
        "\n",
        "#id distribution\n",
        "#alt Probability distribution of next token prediction.\n",
        "#caption Probability distribution of next token prediction (left) and cumulative distribution of descending token probabilities\n",
        "\n",
        "import matplotlib.pyplot as plt\n",
        "import numpy as np\n",
        "\n",
        "fig, axes = plt.subplots(1, 2, figsize=(10, 3.5))\n",
        "\n",
        "axes[0].hist(probs[0], bins=np.logspace(-10, -1, 100), color=\"C0\", edgecolor=\"C0\")\n",
        "axes[0].set_xscale(\"log\")\n",
        "axes[0].set_yscale(\"log\")\n",
        "axes[0].set_title(\"Probability distribution\")\n",
        "axes[0].set_xlabel(\"Probability\")\n",
        "axes[0].set_ylabel(\"Count\")\n",
        "#axes[0].grid(which=\"major\")\n",
        "\n",
        "axes[1].plot(np.cumsum(np.sort(probs[0])[::-1]), color=\"black\")\n",
        "axes[1].set_xlim([0, 10000])\n",
        "axes[1].set_ylim([0.75, 1.01])\n",
        "axes[1].set_title(\"Cumulative probability\")\n",
        "axes[1].set_ylabel(\"Probability\")\n",
        "axes[1].set_xlabel(\"Token (descending probability)\")\n",
        "#axes[1].grid(which=\"major\")\n",
        "axes[1].minorticks_on()\n",
        "#axes[1].grid(which='minor', linewidth='0.5')\n",
        "top_k_label = 'top-k threshold (k=2000)'\n",
        "top_p_label = 'nucleus threshold (p=0.95)'\n",
        "axes[1].vlines(x=2000, ymin=0, ymax=2, color='C0', label=top_k_label)\n",
        "axes[1].hlines(y=0.95, xmin=0, xmax=10000, color='C1', label=top_p_label, linestyle='--')\n",
        "axes[1].legend(loc='lower right')\n",
        "plt.tight_layout()"
      ]
    },
    {
      "cell_type": "code",
      "execution_count": null,
      "metadata": {
        "id": "clBDJTzE2B8Z"
      },
      "outputs": [],
      "source": [
        "# hide\n",
        "torch.manual_seed(42);"
      ]
    },
    {
      "cell_type": "code",
      "execution_count": 43,
      "metadata": {
        "id": "oGgN588d2B8p",
        "outputId": "a6d28090-7e2f-4cfa-d633-864dbb79e175",
        "colab": {
          "base_uri": "https://localhost:8080/"
        }
      },
      "outputs": [
        {
          "output_type": "stream",
          "name": "stdout",
          "text": [
            "In a shocking finding, scientist discovered a herd of unicorns living in a\n",
            "remote, previously unexplored valley, in the Andes Mountains. Even more\n",
            "surprising to the researchers was the fact that the unicorns spoke perfect\n",
            "English.\n",
            "\n",
            "\n",
            "Scientists from France's Institut l'Orbonne de Recherche, Université Libre de\n",
            "Bruxelles, Université de Pays de la Loire and the Institut d'Etude sur les\n",
            "Chomme du Roi in Peru conducted a research project to investigate the language\n",
            "barrier between native and foreign populations of the Andean mountain\n",
            "region.<|endoftext|>\n"
          ]
        }
      ],
      "source": [
        "output_topk = model_medium.generate(input_ids, max_length=max_length, do_sample=True,\n",
        "                             top_k=50)\n",
        "print(tokenizer_medium.decode(output_topk[0]))"
      ]
    },
    {
      "cell_type": "code",
      "execution_count": 44,
      "metadata": {
        "id": "F87zTAFS2B9S"
      },
      "outputs": [],
      "source": [
        "# hide\n",
        "torch.manual_seed(42);"
      ]
    },
    {
      "cell_type": "code",
      "execution_count": 45,
      "metadata": {
        "id": "VaMVRbxo2B9T",
        "outputId": "42d2bdf1-5562-4eac-caa7-00aa73dd12a1",
        "colab": {
          "base_uri": "https://localhost:8080/"
        }
      },
      "outputs": [
        {
          "output_type": "stream",
          "name": "stdout",
          "text": [
            "In a shocking finding, scientist discovered a herd of unicorns living in a\n",
            "remote, previously unexplored valley, in the Andes Mountains. Even more\n",
            "surprising to the researchers was the fact that the unicorns spoke perfect\n",
            "English.\n",
            "\n",
            "\n",
            "The scientists studied the DNA of the animals and came across a population of\n",
            "unicorns living in a mountain valley. The group of unicorns, called Xanthomorpha\n",
            "(Xo), had a common ancestor, a species of bison called Xanthosoma, that existed\n",
            "at about 10,000 years ago. In a recent study, the scientists found a population\n",
            "of Xanthomorpha living\n"
          ]
        }
      ],
      "source": [
        "output_topp = model_medium.generate(input_ids, max_length=max_length, do_sample=True,\n",
        "                             top_p=0.90)\n",
        "print(tokenizer_medium.decode(output_topp[0]))"
      ]
    },
    {
      "cell_type": "markdown",
      "source": [
        "###GPT-2 -- Large"
      ],
      "metadata": {
        "id": "OfQ1N1oFR6oq"
      }
    },
    {
      "cell_type": "code",
      "source": [
        "# hide\n",
        "input_txt = \"\"\"In a shocking finding, scientist discovered \\\n",
        "a herd of unicorns living in a remote, previously unexplored \\\n",
        "valley, in the Andes Mountains. Even more surprising to the \\\n",
        "researchers was the fact that the unicorns spoke perfect English.\\n\\n\n",
        "\"\"\"\n",
        "input_ids = tokenizer_large(input_txt, return_tensors=\"pt\")[\"input_ids\"].to(device)"
      ],
      "metadata": {
        "id": "4BUSgh2iR-aS"
      },
      "execution_count": 46,
      "outputs": []
    },
    {
      "cell_type": "code",
      "source": [
        "# hide\n",
        "import torch.nn.functional as F\n",
        "\n",
        "with torch.no_grad():\n",
        "    output = model_large(input_ids=input_ids)\n",
        "    next_token_logits = output.logits[:, -1, :]\n",
        "    probs = F.softmax(next_token_logits, dim=-1).detach().cpu().numpy()"
      ],
      "metadata": {
        "id": "8ceG0mT0SC0Y"
      },
      "execution_count": 47,
      "outputs": []
    },
    {
      "cell_type": "code",
      "source": [
        "# hide_input\n",
        "\n",
        "#id distribution\n",
        "#alt Probability distribution of next token prediction.\n",
        "#caption Probability distribution of next token prediction (left) and cumulative distribution of descending token probabilities\n",
        "\n",
        "import matplotlib.pyplot as plt\n",
        "import numpy as np\n",
        "\n",
        "fig, axes = plt.subplots(1, 2, figsize=(10, 3.5))\n",
        "\n",
        "axes[0].hist(probs[0], bins=np.logspace(-10, -1, 100), color=\"C0\", edgecolor=\"C0\")\n",
        "axes[0].set_xscale(\"log\")\n",
        "axes[0].set_yscale(\"log\")\n",
        "axes[0].set_title(\"Probability distribution\")\n",
        "axes[0].set_xlabel(\"Probability\")\n",
        "axes[0].set_ylabel(\"Count\")\n",
        "#axes[0].grid(which=\"major\")\n",
        "\n",
        "axes[1].plot(np.cumsum(np.sort(probs[0])[::-1]), color=\"black\")\n",
        "axes[1].set_xlim([0, 10000])\n",
        "axes[1].set_ylim([0.75, 1.01])\n",
        "axes[1].set_title(\"Cumulative probability\")\n",
        "axes[1].set_ylabel(\"Probability\")\n",
        "axes[1].set_xlabel(\"Token (descending probability)\")\n",
        "#axes[1].grid(which=\"major\")\n",
        "axes[1].minorticks_on()\n",
        "#axes[1].grid(which='minor', linewidth='0.5')\n",
        "top_k_label = 'top-k threshold (k=2000)'\n",
        "top_p_label = 'nucleus threshold (p=0.95)'\n",
        "axes[1].vlines(x=2000, ymin=0, ymax=2, color='C0', label=top_k_label)\n",
        "axes[1].hlines(y=0.95, xmin=0, xmax=10000, color='C1', label=top_p_label, linestyle='--')\n",
        "axes[1].legend(loc='lower right')\n",
        "plt.tight_layout()"
      ],
      "metadata": {
        "colab": {
          "base_uri": "https://localhost:8080/",
          "height": 356
        },
        "id": "6oHo1ru0SF-s",
        "outputId": "f5eca470-9a9d-45b3-b563-0a40519cb721"
      },
      "execution_count": 48,
      "outputs": [
        {
          "output_type": "display_data",
          "data": {
            "text/plain": [
              "<Figure size 1000x350 with 2 Axes>"
            ],
            "image/svg+xml": "<?xml version=\"1.0\" encoding=\"utf-8\" standalone=\"no\"?>\n<!DOCTYPE svg PUBLIC \"-//W3C//DTD SVG 1.1//EN\"\n  \"http://www.w3.org/Graphics/SVG/1.1/DTD/svg11.dtd\">\n<svg xmlns:xlink=\"http://www.w3.org/1999/xlink\" width=\"706.840143pt\" height=\"236.41725pt\" viewBox=\"0 0 706.840143 236.41725\" xmlns=\"http://www.w3.org/2000/svg\" version=\"1.1\">\n <metadata>\n  <rdf:RDF xmlns:dc=\"http://purl.org/dc/elements/1.1/\" xmlns:cc=\"http://creativecommons.org/ns#\" xmlns:rdf=\"http://www.w3.org/1999/02/22-rdf-syntax-ns#\">\n   <cc:Work>\n    <dc:type rdf:resource=\"http://purl.org/dc/dcmitype/StillImage\"/>\n    <dc:date>2023-09-20T11:12:06.930787</dc:date>\n    <dc:format>image/svg+xml</dc:format>\n    <dc:creator>\n     <cc:Agent>\n      <dc:title>Matplotlib v3.7.1, https://matplotlib.org/</dc:title>\n     </cc:Agent>\n    </dc:creator>\n   </cc:Work>\n  </rdf:RDF>\n </metadata>\n <defs>\n  <style type=\"text/css\">*{stroke-linejoin: round; stroke-linecap: butt}</style>\n </defs>\n <g id=\"figure_1\">\n  <g id=\"patch_1\">\n   <path d=\"M -0 236.41725 \nL 706.840143 236.41725 \nL 706.840143 0 \nL -0 0 \nz\n\" style=\"fill: #ffffff\"/>\n  </g>\n  <g id=\"axes_1\">\n   <g id=\"patch_2\">\n    <path d=\"M 50.93375 194.98975 \nL 332.670648 194.98975 \nL 332.670648 24.14175 \nL 50.93375 24.14175 \nz\n\" style=\"fill: #ffffff\"/>\n   </g>\n   <g id=\"patch_3\">\n    <path d=\"M 63.739973 46430.277495 \nL 66.327088 46430.277495 \nL 66.327088 84.081163 \nL 63.739973 84.081163 \nz\n\" clip-path=\"url(#p3e5ea75798)\" style=\"fill: #0071bc; stroke: #0071bc; stroke-linejoin: miter\"/>\n   </g>\n   <g id=\"patch_4\">\n    <path d=\"M 66.327088 46430.277495 \nL 68.914204 46430.277495 \nL 68.914204 78.541287 \nL 66.327088 78.541287 \nz\n\" clip-path=\"url(#p3e5ea75798)\" style=\"fill: #0071bc; stroke: #0071bc; stroke-linejoin: miter\"/>\n   </g>\n   <g id=\"patch_5\">\n    <path d=\"M 68.914204 46430.277495 \nL 71.50132 46430.277495 \nL 71.50132 72.342321 \nL 68.914204 72.342321 \nz\n\" clip-path=\"url(#p3e5ea75798)\" style=\"fill: #0071bc; stroke: #0071bc; stroke-linejoin: miter\"/>\n   </g>\n   <g id=\"patch_6\">\n    <path d=\"M 71.50132 46430.277495 \nL 74.088435 46430.277495 \nL 74.088435 63.23515 \nL 71.50132 63.23515 \nz\n\" clip-path=\"url(#p3e5ea75798)\" style=\"fill: #0071bc; stroke: #0071bc; stroke-linejoin: miter\"/>\n   </g>\n   <g id=\"patch_7\">\n    <path d=\"M 74.088435 46430.277495 \nL 76.675551 46430.277495 \nL 76.675551 59.434583 \nL 74.088435 59.434583 \nz\n\" clip-path=\"url(#p3e5ea75798)\" style=\"fill: #0071bc; stroke: #0071bc; stroke-linejoin: miter\"/>\n   </g>\n   <g id=\"patch_8\">\n    <path d=\"M 76.675551 46430.277495 \nL 79.262667 46430.277495 \nL 79.262667 53.927195 \nL 76.675551 53.927195 \nz\n\" clip-path=\"url(#p3e5ea75798)\" style=\"fill: #0071bc; stroke: #0071bc; stroke-linejoin: miter\"/>\n   </g>\n   <g id=\"patch_9\">\n    <path d=\"M 79.262667 46430.277495 \nL 81.849782 46430.277495 \nL 81.849782 50.880313 \nL 79.262667 50.880313 \nz\n\" clip-path=\"url(#p3e5ea75798)\" style=\"fill: #0071bc; stroke: #0071bc; stroke-linejoin: miter\"/>\n   </g>\n   <g id=\"patch_10\">\n    <path d=\"M 81.849782 46430.277495 \nL 84.436898 46430.277495 \nL 84.436898 46.690491 \nL 81.849782 46.690491 \nz\n\" clip-path=\"url(#p3e5ea75798)\" style=\"fill: #0071bc; stroke: #0071bc; stroke-linejoin: miter\"/>\n   </g>\n   <g id=\"patch_11\">\n    <path d=\"M 84.436898 46430.277495 \nL 87.024014 46430.277495 \nL 87.024014 43.256603 \nL 84.436898 43.256603 \nz\n\" clip-path=\"url(#p3e5ea75798)\" style=\"fill: #0071bc; stroke: #0071bc; stroke-linejoin: miter\"/>\n   </g>\n   <g id=\"patch_12\">\n    <path d=\"M 87.024014 46430.277495 \nL 89.61113 46430.277495 \nL 89.61113 39.784156 \nL 87.024014 39.784156 \nz\n\" clip-path=\"url(#p3e5ea75798)\" style=\"fill: #0071bc; stroke: #0071bc; stroke-linejoin: miter\"/>\n   </g>\n   <g id=\"patch_13\">\n    <path d=\"M 89.61113 46430.277495 \nL 92.198245 46430.277495 \nL 92.198245 35.945476 \nL 89.61113 35.945476 \nz\n\" clip-path=\"url(#p3e5ea75798)\" style=\"fill: #0071bc; stroke: #0071bc; stroke-linejoin: miter\"/>\n   </g>\n   <g id=\"patch_14\">\n    <path d=\"M 92.198245 46430.277495 \nL 94.785361 46430.277495 \nL 94.785361 35.551573 \nL 92.198245 35.551573 \nz\n\" clip-path=\"url(#p3e5ea75798)\" style=\"fill: #0071bc; stroke: #0071bc; stroke-linejoin: miter\"/>\n   </g>\n   <g id=\"patch_15\">\n    <path d=\"M 94.785361 46430.277495 \nL 97.372477 46430.277495 \nL 97.372477 34.176527 \nL 94.785361 34.176527 \nz\n\" clip-path=\"url(#p3e5ea75798)\" style=\"fill: #0071bc; stroke: #0071bc; stroke-linejoin: miter\"/>\n   </g>\n   <g id=\"patch_16\">\n    <path d=\"M 97.372477 46430.277495 \nL 99.959592 46430.277495 \nL 99.959592 33.084472 \nL 97.372477 33.084472 \nz\n\" clip-path=\"url(#p3e5ea75798)\" style=\"fill: #0071bc; stroke: #0071bc; stroke-linejoin: miter\"/>\n   </g>\n   <g id=\"patch_17\">\n    <path d=\"M 99.959592 46430.277495 \nL 102.546708 46430.277495 \nL 102.546708 31.907568 \nL 99.959592 31.907568 \nz\n\" clip-path=\"url(#p3e5ea75798)\" style=\"fill: #0071bc; stroke: #0071bc; stroke-linejoin: miter\"/>\n   </g>\n   <g id=\"patch_18\">\n    <path d=\"M 102.546708 46430.277495 \nL 105.133824 46430.277495 \nL 105.133824 32.433171 \nL 102.546708 32.433171 \nz\n\" clip-path=\"url(#p3e5ea75798)\" style=\"fill: #0071bc; stroke: #0071bc; stroke-linejoin: miter\"/>\n   </g>\n   <g id=\"patch_19\">\n    <path d=\"M 105.133824 46430.277495 \nL 107.720939 46430.277495 \nL 107.720939 32.714948 \nL 105.133824 32.714948 \nz\n\" clip-path=\"url(#p3e5ea75798)\" style=\"fill: #0071bc; stroke: #0071bc; stroke-linejoin: miter\"/>\n   </g>\n   <g id=\"patch_20\">\n    <path d=\"M 107.720939 46430.277495 \nL 110.308055 46430.277495 \nL 110.308055 32.678366 \nL 107.720939 32.678366 \nz\n\" clip-path=\"url(#p3e5ea75798)\" style=\"fill: #0071bc; stroke: #0071bc; stroke-linejoin: miter\"/>\n   </g>\n   <g id=\"patch_21\">\n    <path d=\"M 110.308055 46430.277495 \nL 112.895171 46430.277495 \nL 112.895171 34.484054 \nL 110.308055 34.484054 \nz\n\" clip-path=\"url(#p3e5ea75798)\" style=\"fill: #0071bc; stroke: #0071bc; stroke-linejoin: miter\"/>\n   </g>\n   <g id=\"patch_22\">\n    <path d=\"M 112.895171 46430.277495 \nL 115.482286 46430.277495 \nL 115.482286 34.776067 \nL 112.895171 34.776067 \nz\n\" clip-path=\"url(#p3e5ea75798)\" style=\"fill: #0071bc; stroke: #0071bc; stroke-linejoin: miter\"/>\n   </g>\n   <g id=\"patch_23\">\n    <path d=\"M 115.482286 46430.277495 \nL 118.069402 46430.277495 \nL 118.069402 36.73487 \nL 115.482286 36.73487 \nz\n\" clip-path=\"url(#p3e5ea75798)\" style=\"fill: #0071bc; stroke: #0071bc; stroke-linejoin: miter\"/>\n   </g>\n   <g id=\"patch_24\">\n    <path d=\"M 118.069402 46430.277495 \nL 120.656518 46430.277495 \nL 120.656518 38.08774 \nL 118.069402 38.08774 \nz\n\" clip-path=\"url(#p3e5ea75798)\" style=\"fill: #0071bc; stroke: #0071bc; stroke-linejoin: miter\"/>\n   </g>\n   <g id=\"patch_25\">\n    <path d=\"M 120.656518 46430.277495 \nL 123.243633 46430.277495 \nL 123.243633 40.218331 \nL 120.656518 40.218331 \nz\n\" clip-path=\"url(#p3e5ea75798)\" style=\"fill: #0071bc; stroke: #0071bc; stroke-linejoin: miter\"/>\n   </g>\n   <g id=\"patch_26\">\n    <path d=\"M 123.243633 46430.277495 \nL 125.830749 46430.277495 \nL 125.830749 43.39634 \nL 123.243633 43.39634 \nz\n\" clip-path=\"url(#p3e5ea75798)\" style=\"fill: #0071bc; stroke: #0071bc; stroke-linejoin: miter\"/>\n   </g>\n   <g id=\"patch_27\">\n    <path d=\"M 125.830749 46430.277495 \nL 128.417865 46430.277495 \nL 128.417865 44.783043 \nL 125.830749 44.783043 \nz\n\" clip-path=\"url(#p3e5ea75798)\" style=\"fill: #0071bc; stroke: #0071bc; stroke-linejoin: miter\"/>\n   </g>\n   <g id=\"patch_28\">\n    <path d=\"M 128.417865 46430.277495 \nL 131.004981 46430.277495 \nL 131.004981 46.856392 \nL 128.417865 46.856392 \nz\n\" clip-path=\"url(#p3e5ea75798)\" style=\"fill: #0071bc; stroke: #0071bc; stroke-linejoin: miter\"/>\n   </g>\n   <g id=\"patch_29\">\n    <path d=\"M 131.004981 46430.277495 \nL 133.592096 46430.277495 \nL 133.592096 49.335534 \nL 131.004981 49.335534 \nz\n\" clip-path=\"url(#p3e5ea75798)\" style=\"fill: #0071bc; stroke: #0071bc; stroke-linejoin: miter\"/>\n   </g>\n   <g id=\"patch_30\">\n    <path d=\"M 133.592096 46430.277495 \nL 136.179212 46430.277495 \nL 136.179212 50.543905 \nL 133.592096 50.543905 \nz\n\" clip-path=\"url(#p3e5ea75798)\" style=\"fill: #0071bc; stroke: #0071bc; stroke-linejoin: miter\"/>\n   </g>\n   <g id=\"patch_31\">\n    <path d=\"M 136.179212 46430.277495 \nL 138.766328 46430.277495 \nL 138.766328 54.138877 \nL 136.179212 54.138877 \nz\n\" clip-path=\"url(#p3e5ea75798)\" style=\"fill: #0071bc; stroke: #0071bc; stroke-linejoin: miter\"/>\n   </g>\n   <g id=\"patch_32\">\n    <path d=\"M 138.766328 46430.277495 \nL 141.353443 46430.277495 \nL 141.353443 55.830794 \nL 138.766328 55.830794 \nz\n\" clip-path=\"url(#p3e5ea75798)\" style=\"fill: #0071bc; stroke: #0071bc; stroke-linejoin: miter\"/>\n   </g>\n   <g id=\"patch_33\">\n    <path d=\"M 141.353443 46430.277495 \nL 143.940559 46430.277495 \nL 143.940559 56.181089 \nL 141.353443 56.181089 \nz\n\" clip-path=\"url(#p3e5ea75798)\" style=\"fill: #0071bc; stroke: #0071bc; stroke-linejoin: miter\"/>\n   </g>\n   <g id=\"patch_34\">\n    <path d=\"M 143.940559 46430.277495 \nL 146.527675 46430.277495 \nL 146.527675 59.057263 \nL 143.940559 59.057263 \nz\n\" clip-path=\"url(#p3e5ea75798)\" style=\"fill: #0071bc; stroke: #0071bc; stroke-linejoin: miter\"/>\n   </g>\n   <g id=\"patch_35\">\n    <path d=\"M 146.527675 46430.277495 \nL 149.11479 46430.277495 \nL 149.11479 60.647786 \nL 146.527675 60.647786 \nz\n\" clip-path=\"url(#p3e5ea75798)\" style=\"fill: #0071bc; stroke: #0071bc; stroke-linejoin: miter\"/>\n   </g>\n   <g id=\"patch_36\">\n    <path d=\"M 149.11479 46430.277495 \nL 151.701906 46430.277495 \nL 151.701906 62.944386 \nL 149.11479 62.944386 \nz\n\" clip-path=\"url(#p3e5ea75798)\" style=\"fill: #0071bc; stroke: #0071bc; stroke-linejoin: miter\"/>\n   </g>\n   <g id=\"patch_37\">\n    <path d=\"M 151.701906 46430.277495 \nL 154.289022 46430.277495 \nL 154.289022 65.397658 \nL 151.701906 65.397658 \nz\n\" clip-path=\"url(#p3e5ea75798)\" style=\"fill: #0071bc; stroke: #0071bc; stroke-linejoin: miter\"/>\n   </g>\n   <g id=\"patch_38\">\n    <path d=\"M 154.289022 46430.277495 \nL 156.876137 46430.277495 \nL 156.876137 65.869114 \nL 154.289022 65.869114 \nz\n\" clip-path=\"url(#p3e5ea75798)\" style=\"fill: #0071bc; stroke: #0071bc; stroke-linejoin: miter\"/>\n   </g>\n   <g id=\"patch_39\">\n    <path d=\"M 156.876137 46430.277495 \nL 159.463253 46430.277495 \nL 159.463253 66.846587 \nL 156.876137 66.846587 \nz\n\" clip-path=\"url(#p3e5ea75798)\" style=\"fill: #0071bc; stroke: #0071bc; stroke-linejoin: miter\"/>\n   </g>\n   <g id=\"patch_40\">\n    <path d=\"M 159.463253 46430.277495 \nL 162.050369 46430.277495 \nL 162.050369 71.441005 \nL 159.463253 71.441005 \nz\n\" clip-path=\"url(#p3e5ea75798)\" style=\"fill: #0071bc; stroke: #0071bc; stroke-linejoin: miter\"/>\n   </g>\n   <g id=\"patch_41\">\n    <path d=\"M 162.050369 46430.277495 \nL 164.637484 46430.277495 \nL 164.637484 73.704409 \nL 162.050369 73.704409 \nz\n\" clip-path=\"url(#p3e5ea75798)\" style=\"fill: #0071bc; stroke: #0071bc; stroke-linejoin: miter\"/>\n   </g>\n   <g id=\"patch_42\">\n    <path d=\"M 164.637484 46430.277495 \nL 167.2246 46430.277495 \nL 167.2246 75.938165 \nL 164.637484 75.938165 \nz\n\" clip-path=\"url(#p3e5ea75798)\" style=\"fill: #0071bc; stroke: #0071bc; stroke-linejoin: miter\"/>\n   </g>\n   <g id=\"patch_43\">\n    <path d=\"M 167.2246 46430.277495 \nL 169.811716 46430.277495 \nL 169.811716 75.938165 \nL 167.2246 75.938165 \nz\n\" clip-path=\"url(#p3e5ea75798)\" style=\"fill: #0071bc; stroke: #0071bc; stroke-linejoin: miter\"/>\n   </g>\n   <g id=\"patch_44\">\n    <path d=\"M 169.811716 46430.277495 \nL 172.398832 46430.277495 \nL 172.398832 77.155696 \nL 169.811716 77.155696 \nz\n\" clip-path=\"url(#p3e5ea75798)\" style=\"fill: #0071bc; stroke: #0071bc; stroke-linejoin: miter\"/>\n   </g>\n   <g id=\"patch_45\">\n    <path d=\"M 172.398832 46430.277495 \nL 174.985947 46430.277495 \nL 174.985947 78.185824 \nL 172.398832 78.185824 \nz\n\" clip-path=\"url(#p3e5ea75798)\" style=\"fill: #0071bc; stroke: #0071bc; stroke-linejoin: miter\"/>\n   </g>\n   <g id=\"patch_46\">\n    <path d=\"M 174.985947 46430.277495 \nL 177.573063 46430.277495 \nL 177.573063 79.364855 \nL 174.985947 79.364855 \nz\n\" clip-path=\"url(#p3e5ea75798)\" style=\"fill: #0071bc; stroke: #0071bc; stroke-linejoin: miter\"/>\n   </g>\n   <g id=\"patch_47\">\n    <path d=\"M 177.573063 46430.277495 \nL 180.160179 46430.277495 \nL 180.160179 81.325739 \nL 177.573063 81.325739 \nz\n\" clip-path=\"url(#p3e5ea75798)\" style=\"fill: #0071bc; stroke: #0071bc; stroke-linejoin: miter\"/>\n   </g>\n   <g id=\"patch_48\">\n    <path d=\"M 180.160179 46430.277495 \nL 182.747294 46430.277495 \nL 182.747294 83.045128 \nL 180.160179 83.045128 \nz\n\" clip-path=\"url(#p3e5ea75798)\" style=\"fill: #0071bc; stroke: #0071bc; stroke-linejoin: miter\"/>\n   </g>\n   <g id=\"patch_49\">\n    <path d=\"M 182.747294 46430.277495 \nL 185.33441 46430.277495 \nL 185.33441 81.741984 \nL 182.747294 81.741984 \nz\n\" clip-path=\"url(#p3e5ea75798)\" style=\"fill: #0071bc; stroke: #0071bc; stroke-linejoin: miter\"/>\n   </g>\n   <g id=\"patch_50\">\n    <path d=\"M 185.33441 46430.277495 \nL 187.921526 46430.277495 \nL 187.921526 81.223012 \nL 185.33441 81.223012 \nz\n\" clip-path=\"url(#p3e5ea75798)\" style=\"fill: #0071bc; stroke: #0071bc; stroke-linejoin: miter\"/>\n   </g>\n   <g id=\"patch_51\">\n    <path d=\"M 187.921526 46430.277495 \nL 190.508641 46430.277495 \nL 190.508641 80.817278 \nL 187.921526 80.817278 \nz\n\" clip-path=\"url(#p3e5ea75798)\" style=\"fill: #0071bc; stroke: #0071bc; stroke-linejoin: miter\"/>\n   </g>\n   <g id=\"patch_52\">\n    <path d=\"M 190.508641 46430.277495 \nL 193.095757 46430.277495 \nL 193.095757 84.802789 \nL 190.508641 84.802789 \nz\n\" clip-path=\"url(#p3e5ea75798)\" style=\"fill: #0071bc; stroke: #0071bc; stroke-linejoin: miter\"/>\n   </g>\n   <g id=\"patch_53\">\n    <path d=\"M 193.095757 46430.277495 \nL 195.682873 46430.277495 \nL 195.682873 81.741984 \nL 193.095757 81.741984 \nz\n\" clip-path=\"url(#p3e5ea75798)\" style=\"fill: #0071bc; stroke: #0071bc; stroke-linejoin: miter\"/>\n   </g>\n   <g id=\"patch_54\">\n    <path d=\"M 195.682873 46430.277495 \nL 198.269988 46430.277495 \nL 198.269988 82.49184 \nL 195.682873 82.49184 \nz\n\" clip-path=\"url(#p3e5ea75798)\" style=\"fill: #0071bc; stroke: #0071bc; stroke-linejoin: miter\"/>\n   </g>\n   <g id=\"patch_55\">\n    <path d=\"M 198.269988 46430.277495 \nL 200.857104 46430.277495 \nL 200.857104 83.045128 \nL 198.269988 83.045128 \nz\n\" clip-path=\"url(#p3e5ea75798)\" style=\"fill: #0071bc; stroke: #0071bc; stroke-linejoin: miter\"/>\n   </g>\n   <g id=\"patch_56\">\n    <path d=\"M 200.857104 46430.277495 \nL 203.44422 46430.277495 \nL 203.44422 83.045128 \nL 200.857104 83.045128 \nz\n\" clip-path=\"url(#p3e5ea75798)\" style=\"fill: #0071bc; stroke: #0071bc; stroke-linejoin: miter\"/>\n   </g>\n   <g id=\"patch_57\">\n    <path d=\"M 203.44422 46430.277495 \nL 206.031335 46430.277495 \nL 206.031335 82.274723 \nL 203.44422 82.274723 \nz\n\" clip-path=\"url(#p3e5ea75798)\" style=\"fill: #0071bc; stroke: #0071bc; stroke-linejoin: miter\"/>\n   </g>\n   <g id=\"patch_58\">\n    <path d=\"M 206.031335 46430.277495 \nL 208.618451 46430.277495 \nL 208.618451 83.499003 \nL 206.031335 83.499003 \nz\n\" clip-path=\"url(#p3e5ea75798)\" style=\"fill: #0071bc; stroke: #0071bc; stroke-linejoin: miter\"/>\n   </g>\n   <g id=\"patch_59\">\n    <path d=\"M 208.618451 46430.277495 \nL 211.205567 46430.277495 \nL 211.205567 83.499003 \nL 208.618451 83.499003 \nz\n\" clip-path=\"url(#p3e5ea75798)\" style=\"fill: #0071bc; stroke: #0071bc; stroke-linejoin: miter\"/>\n   </g>\n   <g id=\"patch_60\">\n    <path d=\"M 211.205567 46430.277495 \nL 213.792683 46430.277495 \nL 213.792683 84.438735 \nL 211.205567 84.438735 \nz\n\" clip-path=\"url(#p3e5ea75798)\" style=\"fill: #0071bc; stroke: #0071bc; stroke-linejoin: miter\"/>\n   </g>\n   <g id=\"patch_61\">\n    <path d=\"M 213.792683 46430.277495 \nL 216.379798 46430.277495 \nL 216.379798 83.963373 \nL 213.792683 83.963373 \nz\n\" clip-path=\"url(#p3e5ea75798)\" style=\"fill: #0071bc; stroke: #0071bc; stroke-linejoin: miter\"/>\n   </g>\n   <g id=\"patch_62\">\n    <path d=\"M 216.379798 46430.277495 \nL 218.966914 46430.277495 \nL 218.966914 82.71133 \nL 216.379798 82.71133 \nz\n\" clip-path=\"url(#p3e5ea75798)\" style=\"fill: #0071bc; stroke: #0071bc; stroke-linejoin: miter\"/>\n   </g>\n   <g id=\"patch_63\">\n    <path d=\"M 218.966914 46430.277495 \nL 221.55403 46430.277495 \nL 221.55403 86.066294 \nL 218.966914 86.066294 \nz\n\" clip-path=\"url(#p3e5ea75798)\" style=\"fill: #0071bc; stroke: #0071bc; stroke-linejoin: miter\"/>\n   </g>\n   <g id=\"patch_64\">\n    <path d=\"M 221.55403 46430.277495 \nL 224.141145 46430.277495 \nL 224.141145 85.049211 \nL 221.55403 85.049211 \nz\n\" clip-path=\"url(#p3e5ea75798)\" style=\"fill: #0071bc; stroke: #0071bc; stroke-linejoin: miter\"/>\n   </g>\n   <g id=\"patch_65\">\n    <path d=\"M 224.141145 46430.277495 \nL 226.728261 46430.277495 \nL 226.728261 87.695547 \nL 224.141145 87.695547 \nz\n\" clip-path=\"url(#p3e5ea75798)\" style=\"fill: #0071bc; stroke: #0071bc; stroke-linejoin: miter\"/>\n   </g>\n   <g id=\"patch_66\">\n    <path d=\"M 226.728261 46430.277495 \nL 229.315377 46430.277495 \nL 229.315377 91.244303 \nL 226.728261 91.244303 \nz\n\" clip-path=\"url(#p3e5ea75798)\" style=\"fill: #0071bc; stroke: #0071bc; stroke-linejoin: miter\"/>\n   </g>\n   <g id=\"patch_67\">\n    <path d=\"M 229.315377 46430.277495 \nL 231.902492 46430.277495 \nL 231.902492 89.162118 \nL 229.315377 89.162118 \nz\n\" clip-path=\"url(#p3e5ea75798)\" style=\"fill: #0071bc; stroke: #0071bc; stroke-linejoin: miter\"/>\n   </g>\n   <g id=\"patch_68\">\n    <path d=\"M 231.902492 46430.277495 \nL 234.489608 46430.277495 \nL 234.489608 92.823701 \nL 231.902492 92.823701 \nz\n\" clip-path=\"url(#p3e5ea75798)\" style=\"fill: #0071bc; stroke: #0071bc; stroke-linejoin: miter\"/>\n   </g>\n   <g id=\"patch_69\">\n    <path d=\"M 234.489608 46430.277495 \nL 237.076724 46430.277495 \nL 237.076724 99.7277 \nL 234.489608 99.7277 \nz\n\" clip-path=\"url(#p3e5ea75798)\" style=\"fill: #0071bc; stroke: #0071bc; stroke-linejoin: miter\"/>\n   </g>\n   <g id=\"patch_70\">\n    <path d=\"M 237.076724 46430.277495 \nL 239.663839 46430.277495 \nL 239.663839 99.21924 \nL 237.076724 99.21924 \nz\n\" clip-path=\"url(#p3e5ea75798)\" style=\"fill: #0071bc; stroke: #0071bc; stroke-linejoin: miter\"/>\n   </g>\n   <g id=\"patch_71\">\n    <path d=\"M 239.663839 46430.277495 \nL 242.250955 46430.277495 \nL 242.250955 104.01693 \nL 239.663839 104.01693 \nz\n\" clip-path=\"url(#p3e5ea75798)\" style=\"fill: #0071bc; stroke: #0071bc; stroke-linejoin: miter\"/>\n   </g>\n   <g id=\"patch_72\">\n    <path d=\"M 242.250955 46430.277495 \nL 244.838071 46430.277495 \nL 244.838071 107.870697 \nL 242.250955 107.870697 \nz\n\" clip-path=\"url(#p3e5ea75798)\" style=\"fill: #0071bc; stroke: #0071bc; stroke-linejoin: miter\"/>\n   </g>\n   <g id=\"patch_73\">\n    <path d=\"M 244.838071 46430.277495 \nL 247.425186 46430.277495 \nL 247.425186 107.870697 \nL 244.838071 107.870697 \nz\n\" clip-path=\"url(#p3e5ea75798)\" style=\"fill: #0071bc; stroke: #0071bc; stroke-linejoin: miter\"/>\n   </g>\n   <g id=\"patch_74\">\n    <path d=\"M 247.425186 46430.277495 \nL 250.012302 46430.277495 \nL 250.012302 106.026917 \nL 247.425186 106.026917 \nz\n\" clip-path=\"url(#p3e5ea75798)\" style=\"fill: #0071bc; stroke: #0071bc; stroke-linejoin: miter\"/>\n   </g>\n   <g id=\"patch_75\">\n    <path d=\"M 250.012302 46430.277495 \nL 252.599418 46430.277495 \nL 252.599418 110.774337 \nL 250.012302 110.774337 \nz\n\" clip-path=\"url(#p3e5ea75798)\" style=\"fill: #0071bc; stroke: #0071bc; stroke-linejoin: miter\"/>\n   </g>\n   <g id=\"patch_76\">\n    <path d=\"M 252.599418 46430.277495 \nL 255.186534 46430.277495 \nL 255.186534 116.40367 \nL 252.599418 116.40367 \nz\n\" clip-path=\"url(#p3e5ea75798)\" style=\"fill: #0071bc; stroke: #0071bc; stroke-linejoin: miter\"/>\n   </g>\n   <g id=\"patch_77\">\n    <path d=\"M 255.186534 46430.277495 \nL 257.773649 46430.277495 \nL 257.773649 123.398749 \nL 255.186534 123.398749 \nz\n\" clip-path=\"url(#p3e5ea75798)\" style=\"fill: #0071bc; stroke: #0071bc; stroke-linejoin: miter\"/>\n   </g>\n   <g id=\"patch_78\">\n    <path d=\"M 257.773649 46430.277495 \nL 260.360765 46430.277495 \nL 260.360765 125.146208 \nL 257.773649 125.146208 \nz\n\" clip-path=\"url(#p3e5ea75798)\" style=\"fill: #0071bc; stroke: #0071bc; stroke-linejoin: miter\"/>\n   </g>\n   <g id=\"patch_79\">\n    <path d=\"M 260.360765 46430.277495 \nL 262.947881 46430.277495 \nL 262.947881 137.319296 \nL 260.360765 137.319296 \nz\n\" clip-path=\"url(#p3e5ea75798)\" style=\"fill: #0071bc; stroke: #0071bc; stroke-linejoin: miter\"/>\n   </g>\n   <g id=\"patch_80\">\n    <path d=\"M 262.947881 46430.277495 \nL 265.534996 46430.277495 \nL 265.534996 140.980878 \nL 262.947881 140.980878 \nz\n\" clip-path=\"url(#p3e5ea75798)\" style=\"fill: #0071bc; stroke: #0071bc; stroke-linejoin: miter\"/>\n   </g>\n   <g id=\"patch_81\">\n    <path d=\"M 265.534996 46430.277495 \nL 268.122112 46430.277495 \nL 268.122112 140.980878 \nL 265.534996 140.980878 \nz\n\" clip-path=\"url(#p3e5ea75798)\" style=\"fill: #0071bc; stroke: #0071bc; stroke-linejoin: miter\"/>\n   </g>\n   <g id=\"patch_82\">\n    <path d=\"M 268.122112 46430.277495 \nL 270.709228 46430.277495 \nL 270.709228 131.541747 \nL 268.122112 131.541747 \nz\n\" clip-path=\"url(#p3e5ea75798)\" style=\"fill: #0071bc; stroke: #0071bc; stroke-linejoin: miter\"/>\n   </g>\n   <g id=\"patch_83\">\n    <path d=\"M 270.709228 46430.277495 \nL 273.296343 46430.277495 \nL 273.296343 137.319296 \nL 270.709228 137.319296 \nz\n\" clip-path=\"url(#p3e5ea75798)\" style=\"fill: #0071bc; stroke: #0071bc; stroke-linejoin: miter\"/>\n   </g>\n   <g id=\"patch_84\">\n    <path d=\"M 273.296343 46430.277495 \nL 275.883459 46430.277495 \nL 275.883459 148.144018 \nL 273.296343 148.144018 \nz\n\" clip-path=\"url(#p3e5ea75798)\" style=\"fill: #0071bc; stroke: #0071bc; stroke-linejoin: miter\"/>\n   </g>\n   <g id=\"patch_85\">\n    <path d=\"M 275.883459 46430.277495 \nL 278.470575 46430.277495 \nL 278.470575 140.980878 \nL 275.883459 140.980878 \nz\n\" clip-path=\"url(#p3e5ea75798)\" style=\"fill: #0071bc; stroke: #0071bc; stroke-linejoin: miter\"/>\n   </g>\n   <g id=\"patch_86\">\n    <path d=\"M 278.470575 46430.277495 \nL 281.05769 46430.277495 \nL 281.05769 154.901424 \nL 278.470575 154.901424 \nz\n\" clip-path=\"url(#p3e5ea75798)\" style=\"fill: #0071bc; stroke: #0071bc; stroke-linejoin: miter\"/>\n   </g>\n   <g id=\"patch_87\">\n    <path d=\"M 281.05769 46430.277495 \nL 283.644806 46430.277495 \nL 283.644806 145.462293 \nL 281.05769 145.462293 \nz\n\" clip-path=\"url(#p3e5ea75798)\" style=\"fill: #0071bc; stroke: #0071bc; stroke-linejoin: miter\"/>\n   </g>\n   <g id=\"patch_88\">\n    <path d=\"M 283.644806 46430.277495 \nL 286.231922 46430.277495 \nL 286.231922 187.223932 \nL 283.644806 187.223932 \nz\n\" clip-path=\"url(#p3e5ea75798)\" style=\"fill: #0071bc; stroke: #0071bc; stroke-linejoin: miter\"/>\n   </g>\n   <g id=\"patch_89\">\n    <path d=\"M 286.231922 46430.277495 \nL 288.819037 46430.277495 \nL 288.819037 173.303386 \nL 286.231922 173.303386 \nz\n\" clip-path=\"url(#p3e5ea75798)\" style=\"fill: #0071bc; stroke: #0071bc; stroke-linejoin: miter\"/>\n   </g>\n   <g id=\"patch_90\">\n    <path d=\"M 288.819037 46430.277495 \nL 291.406153 46430.277495 \nL 291.406153 173.303386 \nL 288.819037 173.303386 \nz\n\" clip-path=\"url(#p3e5ea75798)\" style=\"fill: #0071bc; stroke: #0071bc; stroke-linejoin: miter\"/>\n   </g>\n   <g id=\"patch_91\">\n    <path d=\"M 291.406153 46430.277495 \nL 293.993269 46430.277495 \nL 293.993269 173.303386 \nL 291.406153 173.303386 \nz\n\" clip-path=\"url(#p3e5ea75798)\" style=\"fill: #0071bc; stroke: #0071bc; stroke-linejoin: miter\"/>\n   </g>\n   <g id=\"patch_92\">\n    <path d=\"M 293.993269 46430.277495 \nL 296.580385 46430.277495 \nL 296.580385 154.901424 \nL 293.993269 154.901424 \nz\n\" clip-path=\"url(#p3e5ea75798)\" style=\"fill: #0071bc; stroke: #0071bc; stroke-linejoin: miter\"/>\n   </g>\n   <g id=\"patch_93\">\n    <path d=\"M 296.580385 46430.277495 \nL 299.1675 46430.277495 \nL 299.1675 46430.277495 \nL 296.580385 46430.277495 \nz\n\" clip-path=\"url(#p3e5ea75798)\" style=\"fill: #0071bc; stroke: #0071bc; stroke-linejoin: miter\"/>\n   </g>\n   <g id=\"patch_94\">\n    <path d=\"M 299.1675 46430.277495 \nL 301.754616 46430.277495 \nL 301.754616 46430.277495 \nL 299.1675 46430.277495 \nz\n\" clip-path=\"url(#p3e5ea75798)\" style=\"fill: #0071bc; stroke: #0071bc; stroke-linejoin: miter\"/>\n   </g>\n   <g id=\"patch_95\">\n    <path d=\"M 301.754616 46430.277495 \nL 304.341732 46430.277495 \nL 304.341732 173.303386 \nL 301.754616 173.303386 \nz\n\" clip-path=\"url(#p3e5ea75798)\" style=\"fill: #0071bc; stroke: #0071bc; stroke-linejoin: miter\"/>\n   </g>\n   <g id=\"patch_96\">\n    <path d=\"M 304.341732 46430.277495 \nL 306.928847 46430.277495 \nL 306.928847 187.223932 \nL 304.341732 187.223932 \nz\n\" clip-path=\"url(#p3e5ea75798)\" style=\"fill: #0071bc; stroke: #0071bc; stroke-linejoin: miter\"/>\n   </g>\n   <g id=\"patch_97\">\n    <path d=\"M 306.928847 46430.277495 \nL 309.515963 46430.277495 \nL 309.515963 46430.277495 \nL 306.928847 46430.277495 \nz\n\" clip-path=\"url(#p3e5ea75798)\" style=\"fill: #0071bc; stroke: #0071bc; stroke-linejoin: miter\"/>\n   </g>\n   <g id=\"patch_98\">\n    <path d=\"M 309.515963 46430.277495 \nL 312.103079 46430.277495 \nL 312.103079 46430.277495 \nL 309.515963 46430.277495 \nz\n\" clip-path=\"url(#p3e5ea75798)\" style=\"fill: #0071bc; stroke: #0071bc; stroke-linejoin: miter\"/>\n   </g>\n   <g id=\"patch_99\">\n    <path d=\"M 312.103079 46430.277495 \nL 314.690194 46430.277495 \nL 314.690194 46430.277495 \nL 312.103079 46430.277495 \nz\n\" clip-path=\"url(#p3e5ea75798)\" style=\"fill: #0071bc; stroke: #0071bc; stroke-linejoin: miter\"/>\n   </g>\n   <g id=\"patch_100\">\n    <path d=\"M 314.690194 46430.277495 \nL 317.27731 46430.277495 \nL 317.27731 46430.277495 \nL 314.690194 46430.277495 \nz\n\" clip-path=\"url(#p3e5ea75798)\" style=\"fill: #0071bc; stroke: #0071bc; stroke-linejoin: miter\"/>\n   </g>\n   <g id=\"patch_101\">\n    <path d=\"M 317.27731 46430.277495 \nL 319.864426 46430.277495 \nL 319.864426 187.223932 \nL 317.27731 187.223932 \nz\n\" clip-path=\"url(#p3e5ea75798)\" style=\"fill: #0071bc; stroke: #0071bc; stroke-linejoin: miter\"/>\n   </g>\n   <g id=\"matplotlib.axis_1\">\n    <g id=\"xtick_1\">\n     <g id=\"line2d_1\">\n      <defs>\n       <path id=\"me9c4fb62c0\" d=\"M 0 0 \nL 0 3.5 \n\" style=\"stroke: #000000; stroke-width: 0.8\"/>\n      </defs>\n      <g>\n       <use xlink:href=\"#me9c4fb62c0\" x=\"92.198245\" y=\"194.98975\" style=\"stroke: #000000; stroke-width: 0.8\"/>\n      </g>\n     </g>\n     <g id=\"text_1\">\n      <!-- $\\mathdefault{10^{-9}}$ -->\n      <g transform=\"translate(78.098245 211.107875) scale(0.12 -0.12)\">\n       <defs>\n        <path id=\"DejaVuSans-31\" d=\"M 794 531 \nL 1825 531 \nL 1825 4091 \nL 703 3866 \nL 703 4441 \nL 1819 4666 \nL 2450 4666 \nL 2450 531 \nL 3481 531 \nL 3481 0 \nL 794 0 \nL 794 531 \nz\n\" transform=\"scale(0.015625)\"/>\n        <path id=\"DejaVuSans-30\" d=\"M 2034 4250 \nQ 1547 4250 1301 3770 \nQ 1056 3291 1056 2328 \nQ 1056 1369 1301 889 \nQ 1547 409 2034 409 \nQ 2525 409 2770 889 \nQ 3016 1369 3016 2328 \nQ 3016 3291 2770 3770 \nQ 2525 4250 2034 4250 \nz\nM 2034 4750 \nQ 2819 4750 3233 4129 \nQ 3647 3509 3647 2328 \nQ 3647 1150 3233 529 \nQ 2819 -91 2034 -91 \nQ 1250 -91 836 529 \nQ 422 1150 422 2328 \nQ 422 3509 836 4129 \nQ 1250 4750 2034 4750 \nz\n\" transform=\"scale(0.015625)\"/>\n        <path id=\"DejaVuSans-2212\" d=\"M 678 2272 \nL 4684 2272 \nL 4684 1741 \nL 678 1741 \nL 678 2272 \nz\n\" transform=\"scale(0.015625)\"/>\n        <path id=\"DejaVuSans-39\" d=\"M 703 97 \nL 703 672 \nQ 941 559 1184 500 \nQ 1428 441 1663 441 \nQ 2288 441 2617 861 \nQ 2947 1281 2994 2138 \nQ 2813 1869 2534 1725 \nQ 2256 1581 1919 1581 \nQ 1219 1581 811 2004 \nQ 403 2428 403 3163 \nQ 403 3881 828 4315 \nQ 1253 4750 1959 4750 \nQ 2769 4750 3195 4129 \nQ 3622 3509 3622 2328 \nQ 3622 1225 3098 567 \nQ 2575 -91 1691 -91 \nQ 1453 -91 1209 -44 \nQ 966 3 703 97 \nz\nM 1959 2075 \nQ 2384 2075 2632 2365 \nQ 2881 2656 2881 3163 \nQ 2881 3666 2632 3958 \nQ 2384 4250 1959 4250 \nQ 1534 4250 1286 3958 \nQ 1038 3666 1038 3163 \nQ 1038 2656 1286 2365 \nQ 1534 2075 1959 2075 \nz\n\" transform=\"scale(0.015625)\"/>\n       </defs>\n       <use xlink:href=\"#DejaVuSans-31\" transform=\"translate(0 0.765625)\"/>\n       <use xlink:href=\"#DejaVuSans-30\" transform=\"translate(63.623047 0.765625)\"/>\n       <use xlink:href=\"#DejaVuSans-2212\" transform=\"translate(128.203125 39.046875) scale(0.7)\"/>\n       <use xlink:href=\"#DejaVuSans-39\" transform=\"translate(186.855469 39.046875) scale(0.7)\"/>\n      </g>\n     </g>\n    </g>\n    <g id=\"xtick_2\">\n     <g id=\"line2d_2\">\n      <g>\n       <use xlink:href=\"#me9c4fb62c0\" x=\"149.11479\" y=\"194.98975\" style=\"stroke: #000000; stroke-width: 0.8\"/>\n      </g>\n     </g>\n     <g id=\"text_2\">\n      <!-- $\\mathdefault{10^{-7}}$ -->\n      <g transform=\"translate(135.01479 211.107875) scale(0.12 -0.12)\">\n       <defs>\n        <path id=\"DejaVuSans-37\" d=\"M 525 4666 \nL 3525 4666 \nL 3525 4397 \nL 1831 0 \nL 1172 0 \nL 2766 4134 \nL 525 4134 \nL 525 4666 \nz\n\" transform=\"scale(0.015625)\"/>\n       </defs>\n       <use xlink:href=\"#DejaVuSans-31\" transform=\"translate(0 0.684375)\"/>\n       <use xlink:href=\"#DejaVuSans-30\" transform=\"translate(63.623047 0.684375)\"/>\n       <use xlink:href=\"#DejaVuSans-2212\" transform=\"translate(128.203125 38.965625) scale(0.7)\"/>\n       <use xlink:href=\"#DejaVuSans-37\" transform=\"translate(186.855469 38.965625) scale(0.7)\"/>\n      </g>\n     </g>\n    </g>\n    <g id=\"xtick_3\">\n     <g id=\"line2d_3\">\n      <g>\n       <use xlink:href=\"#me9c4fb62c0\" x=\"206.031335\" y=\"194.98975\" style=\"stroke: #000000; stroke-width: 0.8\"/>\n      </g>\n     </g>\n     <g id=\"text_3\">\n      <!-- $\\mathdefault{10^{-5}}$ -->\n      <g transform=\"translate(191.931335 211.107875) scale(0.12 -0.12)\">\n       <defs>\n        <path id=\"DejaVuSans-35\" d=\"M 691 4666 \nL 3169 4666 \nL 3169 4134 \nL 1269 4134 \nL 1269 2991 \nQ 1406 3038 1543 3061 \nQ 1681 3084 1819 3084 \nQ 2600 3084 3056 2656 \nQ 3513 2228 3513 1497 \nQ 3513 744 3044 326 \nQ 2575 -91 1722 -91 \nQ 1428 -91 1123 -41 \nQ 819 9 494 109 \nL 494 744 \nQ 775 591 1075 516 \nQ 1375 441 1709 441 \nQ 2250 441 2565 725 \nQ 2881 1009 2881 1497 \nQ 2881 1984 2565 2268 \nQ 2250 2553 1709 2553 \nQ 1456 2553 1204 2497 \nQ 953 2441 691 2322 \nL 691 4666 \nz\n\" transform=\"scale(0.015625)\"/>\n       </defs>\n       <use xlink:href=\"#DejaVuSans-31\" transform=\"translate(0 0.684375)\"/>\n       <use xlink:href=\"#DejaVuSans-30\" transform=\"translate(63.623047 0.684375)\"/>\n       <use xlink:href=\"#DejaVuSans-2212\" transform=\"translate(128.203125 38.965625) scale(0.7)\"/>\n       <use xlink:href=\"#DejaVuSans-35\" transform=\"translate(186.855469 38.965625) scale(0.7)\"/>\n      </g>\n     </g>\n    </g>\n    <g id=\"xtick_4\">\n     <g id=\"line2d_4\">\n      <g>\n       <use xlink:href=\"#me9c4fb62c0\" x=\"262.947881\" y=\"194.98975\" style=\"stroke: #000000; stroke-width: 0.8\"/>\n      </g>\n     </g>\n     <g id=\"text_4\">\n      <!-- $\\mathdefault{10^{-3}}$ -->\n      <g transform=\"translate(248.847881 211.107875) scale(0.12 -0.12)\">\n       <defs>\n        <path id=\"DejaVuSans-33\" d=\"M 2597 2516 \nQ 3050 2419 3304 2112 \nQ 3559 1806 3559 1356 \nQ 3559 666 3084 287 \nQ 2609 -91 1734 -91 \nQ 1441 -91 1130 -33 \nQ 819 25 488 141 \nL 488 750 \nQ 750 597 1062 519 \nQ 1375 441 1716 441 \nQ 2309 441 2620 675 \nQ 2931 909 2931 1356 \nQ 2931 1769 2642 2001 \nQ 2353 2234 1838 2234 \nL 1294 2234 \nL 1294 2753 \nL 1863 2753 \nQ 2328 2753 2575 2939 \nQ 2822 3125 2822 3475 \nQ 2822 3834 2567 4026 \nQ 2313 4219 1838 4219 \nQ 1578 4219 1281 4162 \nQ 984 4106 628 3988 \nL 628 4550 \nQ 988 4650 1302 4700 \nQ 1616 4750 1894 4750 \nQ 2613 4750 3031 4423 \nQ 3450 4097 3450 3541 \nQ 3450 3153 3228 2886 \nQ 3006 2619 2597 2516 \nz\n\" transform=\"scale(0.015625)\"/>\n       </defs>\n       <use xlink:href=\"#DejaVuSans-31\" transform=\"translate(0 0.765625)\"/>\n       <use xlink:href=\"#DejaVuSans-30\" transform=\"translate(63.623047 0.765625)\"/>\n       <use xlink:href=\"#DejaVuSans-2212\" transform=\"translate(128.203125 39.046875) scale(0.7)\"/>\n       <use xlink:href=\"#DejaVuSans-33\" transform=\"translate(186.855469 39.046875) scale(0.7)\"/>\n      </g>\n     </g>\n    </g>\n    <g id=\"xtick_5\">\n     <g id=\"line2d_5\">\n      <g>\n       <use xlink:href=\"#me9c4fb62c0\" x=\"319.864426\" y=\"194.98975\" style=\"stroke: #000000; stroke-width: 0.8\"/>\n      </g>\n     </g>\n     <g id=\"text_5\">\n      <!-- $\\mathdefault{10^{-1}}$ -->\n      <g transform=\"translate(305.764426 211.107875) scale(0.12 -0.12)\">\n       <use xlink:href=\"#DejaVuSans-31\" transform=\"translate(0 0.684375)\"/>\n       <use xlink:href=\"#DejaVuSans-30\" transform=\"translate(63.623047 0.684375)\"/>\n       <use xlink:href=\"#DejaVuSans-2212\" transform=\"translate(128.203125 38.965625) scale(0.7)\"/>\n       <use xlink:href=\"#DejaVuSans-31\" transform=\"translate(186.855469 38.965625) scale(0.7)\"/>\n      </g>\n     </g>\n    </g>\n    <g id=\"text_6\">\n     <!-- Probability -->\n     <g transform=\"translate(160.087512 226.721625) scale(0.12 -0.12)\">\n      <defs>\n       <path id=\"DejaVuSans-50\" d=\"M 1259 4147 \nL 1259 2394 \nL 2053 2394 \nQ 2494 2394 2734 2622 \nQ 2975 2850 2975 3272 \nQ 2975 3691 2734 3919 \nQ 2494 4147 2053 4147 \nL 1259 4147 \nz\nM 628 4666 \nL 2053 4666 \nQ 2838 4666 3239 4311 \nQ 3641 3956 3641 3272 \nQ 3641 2581 3239 2228 \nQ 2838 1875 2053 1875 \nL 1259 1875 \nL 1259 0 \nL 628 0 \nL 628 4666 \nz\n\" transform=\"scale(0.015625)\"/>\n       <path id=\"DejaVuSans-72\" d=\"M 2631 2963 \nQ 2534 3019 2420 3045 \nQ 2306 3072 2169 3072 \nQ 1681 3072 1420 2755 \nQ 1159 2438 1159 1844 \nL 1159 0 \nL 581 0 \nL 581 3500 \nL 1159 3500 \nL 1159 2956 \nQ 1341 3275 1631 3429 \nQ 1922 3584 2338 3584 \nQ 2397 3584 2469 3576 \nQ 2541 3569 2628 3553 \nL 2631 2963 \nz\n\" transform=\"scale(0.015625)\"/>\n       <path id=\"DejaVuSans-6f\" d=\"M 1959 3097 \nQ 1497 3097 1228 2736 \nQ 959 2375 959 1747 \nQ 959 1119 1226 758 \nQ 1494 397 1959 397 \nQ 2419 397 2687 759 \nQ 2956 1122 2956 1747 \nQ 2956 2369 2687 2733 \nQ 2419 3097 1959 3097 \nz\nM 1959 3584 \nQ 2709 3584 3137 3096 \nQ 3566 2609 3566 1747 \nQ 3566 888 3137 398 \nQ 2709 -91 1959 -91 \nQ 1206 -91 779 398 \nQ 353 888 353 1747 \nQ 353 2609 779 3096 \nQ 1206 3584 1959 3584 \nz\n\" transform=\"scale(0.015625)\"/>\n       <path id=\"DejaVuSans-62\" d=\"M 3116 1747 \nQ 3116 2381 2855 2742 \nQ 2594 3103 2138 3103 \nQ 1681 3103 1420 2742 \nQ 1159 2381 1159 1747 \nQ 1159 1113 1420 752 \nQ 1681 391 2138 391 \nQ 2594 391 2855 752 \nQ 3116 1113 3116 1747 \nz\nM 1159 2969 \nQ 1341 3281 1617 3432 \nQ 1894 3584 2278 3584 \nQ 2916 3584 3314 3078 \nQ 3713 2572 3713 1747 \nQ 3713 922 3314 415 \nQ 2916 -91 2278 -91 \nQ 1894 -91 1617 61 \nQ 1341 213 1159 525 \nL 1159 0 \nL 581 0 \nL 581 4863 \nL 1159 4863 \nL 1159 2969 \nz\n\" transform=\"scale(0.015625)\"/>\n       <path id=\"DejaVuSans-61\" d=\"M 2194 1759 \nQ 1497 1759 1228 1600 \nQ 959 1441 959 1056 \nQ 959 750 1161 570 \nQ 1363 391 1709 391 \nQ 2188 391 2477 730 \nQ 2766 1069 2766 1631 \nL 2766 1759 \nL 2194 1759 \nz\nM 3341 1997 \nL 3341 0 \nL 2766 0 \nL 2766 531 \nQ 2569 213 2275 61 \nQ 1981 -91 1556 -91 \nQ 1019 -91 701 211 \nQ 384 513 384 1019 \nQ 384 1609 779 1909 \nQ 1175 2209 1959 2209 \nL 2766 2209 \nL 2766 2266 \nQ 2766 2663 2505 2880 \nQ 2244 3097 1772 3097 \nQ 1472 3097 1187 3025 \nQ 903 2953 641 2809 \nL 641 3341 \nQ 956 3463 1253 3523 \nQ 1550 3584 1831 3584 \nQ 2591 3584 2966 3190 \nQ 3341 2797 3341 1997 \nz\n\" transform=\"scale(0.015625)\"/>\n       <path id=\"DejaVuSans-69\" d=\"M 603 3500 \nL 1178 3500 \nL 1178 0 \nL 603 0 \nL 603 3500 \nz\nM 603 4863 \nL 1178 4863 \nL 1178 4134 \nL 603 4134 \nL 603 4863 \nz\n\" transform=\"scale(0.015625)\"/>\n       <path id=\"DejaVuSans-6c\" d=\"M 603 4863 \nL 1178 4863 \nL 1178 0 \nL 603 0 \nL 603 4863 \nz\n\" transform=\"scale(0.015625)\"/>\n       <path id=\"DejaVuSans-74\" d=\"M 1172 4494 \nL 1172 3500 \nL 2356 3500 \nL 2356 3053 \nL 1172 3053 \nL 1172 1153 \nQ 1172 725 1289 603 \nQ 1406 481 1766 481 \nL 2356 481 \nL 2356 0 \nL 1766 0 \nQ 1100 0 847 248 \nQ 594 497 594 1153 \nL 594 3053 \nL 172 3053 \nL 172 3500 \nL 594 3500 \nL 594 4494 \nL 1172 4494 \nz\n\" transform=\"scale(0.015625)\"/>\n       <path id=\"DejaVuSans-79\" d=\"M 2059 -325 \nQ 1816 -950 1584 -1140 \nQ 1353 -1331 966 -1331 \nL 506 -1331 \nL 506 -850 \nL 844 -850 \nQ 1081 -850 1212 -737 \nQ 1344 -625 1503 -206 \nL 1606 56 \nL 191 3500 \nL 800 3500 \nL 1894 763 \nL 2988 3500 \nL 3597 3500 \nL 2059 -325 \nz\n\" transform=\"scale(0.015625)\"/>\n      </defs>\n      <use xlink:href=\"#DejaVuSans-50\"/>\n      <use xlink:href=\"#DejaVuSans-72\" x=\"58.552734\"/>\n      <use xlink:href=\"#DejaVuSans-6f\" x=\"97.416016\"/>\n      <use xlink:href=\"#DejaVuSans-62\" x=\"158.597656\"/>\n      <use xlink:href=\"#DejaVuSans-61\" x=\"222.074219\"/>\n      <use xlink:href=\"#DejaVuSans-62\" x=\"283.353516\"/>\n      <use xlink:href=\"#DejaVuSans-69\" x=\"346.830078\"/>\n      <use xlink:href=\"#DejaVuSans-6c\" x=\"374.613281\"/>\n      <use xlink:href=\"#DejaVuSans-69\" x=\"402.396484\"/>\n      <use xlink:href=\"#DejaVuSans-74\" x=\"430.179688\"/>\n      <use xlink:href=\"#DejaVuSans-79\" x=\"469.388672\"/>\n     </g>\n    </g>\n   </g>\n   <g id=\"matplotlib.axis_2\">\n    <g id=\"ytick_1\">\n     <g id=\"line2d_6\">\n      <defs>\n       <path id=\"mb683f01965\" d=\"M 0 0 \nL -3.5 0 \n\" style=\"stroke: #000000; stroke-width: 0.8\"/>\n      </defs>\n      <g>\n       <use xlink:href=\"#mb683f01965\" x=\"50.93375\" y=\"187.223932\" style=\"stroke: #000000; stroke-width: 0.8\"/>\n      </g>\n     </g>\n     <g id=\"text_7\">\n      <!-- $\\mathdefault{10^{0}}$ -->\n      <g transform=\"translate(22.81375 191.782994) scale(0.12 -0.12)\">\n       <use xlink:href=\"#DejaVuSans-31\" transform=\"translate(0 0.765625)\"/>\n       <use xlink:href=\"#DejaVuSans-30\" transform=\"translate(63.623047 0.765625)\"/>\n       <use xlink:href=\"#DejaVuSans-30\" transform=\"translate(128.203125 39.046875) scale(0.7)\"/>\n      </g>\n     </g>\n    </g>\n    <g id=\"ytick_2\">\n     <g id=\"line2d_7\">\n      <g>\n       <use xlink:href=\"#mb683f01965\" x=\"50.93375\" y=\"140.980878\" style=\"stroke: #000000; stroke-width: 0.8\"/>\n      </g>\n     </g>\n     <g id=\"text_8\">\n      <!-- $\\mathdefault{10^{1}}$ -->\n      <g transform=\"translate(22.81375 145.539941) scale(0.12 -0.12)\">\n       <use xlink:href=\"#DejaVuSans-31\" transform=\"translate(0 0.684375)\"/>\n       <use xlink:href=\"#DejaVuSans-30\" transform=\"translate(63.623047 0.684375)\"/>\n       <use xlink:href=\"#DejaVuSans-31\" transform=\"translate(128.203125 38.965625) scale(0.7)\"/>\n      </g>\n     </g>\n    </g>\n    <g id=\"ytick_3\">\n     <g id=\"line2d_8\">\n      <g>\n       <use xlink:href=\"#mb683f01965\" x=\"50.93375\" y=\"94.737825\" style=\"stroke: #000000; stroke-width: 0.8\"/>\n      </g>\n     </g>\n     <g id=\"text_9\">\n      <!-- $\\mathdefault{10^{2}}$ -->\n      <g transform=\"translate(22.81375 99.296887) scale(0.12 -0.12)\">\n       <defs>\n        <path id=\"DejaVuSans-32\" d=\"M 1228 531 \nL 3431 531 \nL 3431 0 \nL 469 0 \nL 469 531 \nQ 828 903 1448 1529 \nQ 2069 2156 2228 2338 \nQ 2531 2678 2651 2914 \nQ 2772 3150 2772 3378 \nQ 2772 3750 2511 3984 \nQ 2250 4219 1831 4219 \nQ 1534 4219 1204 4116 \nQ 875 4013 500 3803 \nL 500 4441 \nQ 881 4594 1212 4672 \nQ 1544 4750 1819 4750 \nQ 2544 4750 2975 4387 \nQ 3406 4025 3406 3419 \nQ 3406 3131 3298 2873 \nQ 3191 2616 2906 2266 \nQ 2828 2175 2409 1742 \nQ 1991 1309 1228 531 \nz\n\" transform=\"scale(0.015625)\"/>\n       </defs>\n       <use xlink:href=\"#DejaVuSans-31\" transform=\"translate(0 0.765625)\"/>\n       <use xlink:href=\"#DejaVuSans-30\" transform=\"translate(63.623047 0.765625)\"/>\n       <use xlink:href=\"#DejaVuSans-32\" transform=\"translate(128.203125 39.046875) scale(0.7)\"/>\n      </g>\n     </g>\n    </g>\n    <g id=\"ytick_4\">\n     <g id=\"line2d_9\">\n      <g>\n       <use xlink:href=\"#mb683f01965\" x=\"50.93375\" y=\"48.494771\" style=\"stroke: #000000; stroke-width: 0.8\"/>\n      </g>\n     </g>\n     <g id=\"text_10\">\n      <!-- $\\mathdefault{10^{3}}$ -->\n      <g transform=\"translate(22.81375 53.053834) scale(0.12 -0.12)\">\n       <use xlink:href=\"#DejaVuSans-31\" transform=\"translate(0 0.765625)\"/>\n       <use xlink:href=\"#DejaVuSans-30\" transform=\"translate(63.623047 0.765625)\"/>\n       <use xlink:href=\"#DejaVuSans-33\" transform=\"translate(128.203125 39.046875) scale(0.7)\"/>\n      </g>\n     </g>\n    </g>\n    <g id=\"ytick_5\">\n     <g id=\"line2d_10\">\n      <defs>\n       <path id=\"mf770e34823\" d=\"M 0 0 \nL -2 0 \n\" style=\"stroke: #000000; stroke-width: 0.6\"/>\n      </defs>\n      <g>\n       <use xlink:href=\"#mf770e34823\" x=\"50.93375\" y=\"194.387071\" style=\"stroke: #000000; stroke-width: 0.6\"/>\n      </g>\n     </g>\n    </g>\n    <g id=\"ytick_6\">\n     <g id=\"line2d_11\">\n      <g>\n       <use xlink:href=\"#mf770e34823\" x=\"50.93375\" y=\"191.705347\" style=\"stroke: #000000; stroke-width: 0.6\"/>\n      </g>\n     </g>\n    </g>\n    <g id=\"ytick_7\">\n     <g id=\"line2d_12\">\n      <g>\n       <use xlink:href=\"#mf770e34823\" x=\"50.93375\" y=\"189.339898\" style=\"stroke: #000000; stroke-width: 0.6\"/>\n      </g>\n     </g>\n    </g>\n    <g id=\"ytick_8\">\n     <g id=\"line2d_13\">\n      <g>\n       <use xlink:href=\"#mf770e34823\" x=\"50.93375\" y=\"173.303386\" style=\"stroke: #000000; stroke-width: 0.6\"/>\n      </g>\n     </g>\n    </g>\n    <g id=\"ytick_9\">\n     <g id=\"line2d_14\">\n      <g>\n       <use xlink:href=\"#mf770e34823\" x=\"50.93375\" y=\"165.160388\" style=\"stroke: #000000; stroke-width: 0.6\"/>\n      </g>\n     </g>\n    </g>\n    <g id=\"ytick_10\">\n     <g id=\"line2d_15\">\n      <g>\n       <use xlink:href=\"#mf770e34823\" x=\"50.93375\" y=\"159.382839\" style=\"stroke: #000000; stroke-width: 0.6\"/>\n      </g>\n     </g>\n    </g>\n    <g id=\"ytick_11\">\n     <g id=\"line2d_16\">\n      <g>\n       <use xlink:href=\"#mf770e34823\" x=\"50.93375\" y=\"154.901424\" style=\"stroke: #000000; stroke-width: 0.6\"/>\n      </g>\n     </g>\n    </g>\n    <g id=\"ytick_12\">\n     <g id=\"line2d_17\">\n      <g>\n       <use xlink:href=\"#mf770e34823\" x=\"50.93375\" y=\"151.239842\" style=\"stroke: #000000; stroke-width: 0.6\"/>\n      </g>\n     </g>\n    </g>\n    <g id=\"ytick_13\">\n     <g id=\"line2d_18\">\n      <g>\n       <use xlink:href=\"#mf770e34823\" x=\"50.93375\" y=\"148.144018\" style=\"stroke: #000000; stroke-width: 0.6\"/>\n      </g>\n     </g>\n    </g>\n    <g id=\"ytick_14\">\n     <g id=\"line2d_19\">\n      <g>\n       <use xlink:href=\"#mf770e34823\" x=\"50.93375\" y=\"145.462293\" style=\"stroke: #000000; stroke-width: 0.6\"/>\n      </g>\n     </g>\n    </g>\n    <g id=\"ytick_15\">\n     <g id=\"line2d_20\">\n      <g>\n       <use xlink:href=\"#mf770e34823\" x=\"50.93375\" y=\"143.096844\" style=\"stroke: #000000; stroke-width: 0.6\"/>\n      </g>\n     </g>\n    </g>\n    <g id=\"ytick_16\">\n     <g id=\"line2d_21\">\n      <g>\n       <use xlink:href=\"#mf770e34823\" x=\"50.93375\" y=\"127.060332\" style=\"stroke: #000000; stroke-width: 0.6\"/>\n      </g>\n     </g>\n    </g>\n    <g id=\"ytick_17\">\n     <g id=\"line2d_22\">\n      <g>\n       <use xlink:href=\"#mf770e34823\" x=\"50.93375\" y=\"118.917335\" style=\"stroke: #000000; stroke-width: 0.6\"/>\n      </g>\n     </g>\n    </g>\n    <g id=\"ytick_18\">\n     <g id=\"line2d_23\">\n      <g>\n       <use xlink:href=\"#mf770e34823\" x=\"50.93375\" y=\"113.139786\" style=\"stroke: #000000; stroke-width: 0.6\"/>\n      </g>\n     </g>\n    </g>\n    <g id=\"ytick_19\">\n     <g id=\"line2d_24\">\n      <g>\n       <use xlink:href=\"#mf770e34823\" x=\"50.93375\" y=\"108.658371\" style=\"stroke: #000000; stroke-width: 0.6\"/>\n      </g>\n     </g>\n    </g>\n    <g id=\"ytick_20\">\n     <g id=\"line2d_25\">\n      <g>\n       <use xlink:href=\"#mf770e34823\" x=\"50.93375\" y=\"104.996788\" style=\"stroke: #000000; stroke-width: 0.6\"/>\n      </g>\n     </g>\n    </g>\n    <g id=\"ytick_21\">\n     <g id=\"line2d_26\">\n      <g>\n       <use xlink:href=\"#mf770e34823\" x=\"50.93375\" y=\"101.900964\" style=\"stroke: #000000; stroke-width: 0.6\"/>\n      </g>\n     </g>\n    </g>\n    <g id=\"ytick_22\">\n     <g id=\"line2d_27\">\n      <g>\n       <use xlink:href=\"#mf770e34823\" x=\"50.93375\" y=\"99.21924\" style=\"stroke: #000000; stroke-width: 0.6\"/>\n      </g>\n     </g>\n    </g>\n    <g id=\"ytick_23\">\n     <g id=\"line2d_28\">\n      <g>\n       <use xlink:href=\"#mf770e34823\" x=\"50.93375\" y=\"96.853791\" style=\"stroke: #000000; stroke-width: 0.6\"/>\n      </g>\n     </g>\n    </g>\n    <g id=\"ytick_24\">\n     <g id=\"line2d_29\">\n      <g>\n       <use xlink:href=\"#mf770e34823\" x=\"50.93375\" y=\"80.817278\" style=\"stroke: #000000; stroke-width: 0.6\"/>\n      </g>\n     </g>\n    </g>\n    <g id=\"ytick_25\">\n     <g id=\"line2d_30\">\n      <g>\n       <use xlink:href=\"#mf770e34823\" x=\"50.93375\" y=\"72.674281\" style=\"stroke: #000000; stroke-width: 0.6\"/>\n      </g>\n     </g>\n    </g>\n    <g id=\"ytick_26\">\n     <g id=\"line2d_31\">\n      <g>\n       <use xlink:href=\"#mf770e34823\" x=\"50.93375\" y=\"66.896732\" style=\"stroke: #000000; stroke-width: 0.6\"/>\n      </g>\n     </g>\n    </g>\n    <g id=\"ytick_27\">\n     <g id=\"line2d_32\">\n      <g>\n       <use xlink:href=\"#mf770e34823\" x=\"50.93375\" y=\"62.415317\" style=\"stroke: #000000; stroke-width: 0.6\"/>\n      </g>\n     </g>\n    </g>\n    <g id=\"ytick_28\">\n     <g id=\"line2d_33\">\n      <g>\n       <use xlink:href=\"#mf770e34823\" x=\"50.93375\" y=\"58.753735\" style=\"stroke: #000000; stroke-width: 0.6\"/>\n      </g>\n     </g>\n    </g>\n    <g id=\"ytick_29\">\n     <g id=\"line2d_34\">\n      <g>\n       <use xlink:href=\"#mf770e34823\" x=\"50.93375\" y=\"55.657911\" style=\"stroke: #000000; stroke-width: 0.6\"/>\n      </g>\n     </g>\n    </g>\n    <g id=\"ytick_30\">\n     <g id=\"line2d_35\">\n      <g>\n       <use xlink:href=\"#mf770e34823\" x=\"50.93375\" y=\"52.976186\" style=\"stroke: #000000; stroke-width: 0.6\"/>\n      </g>\n     </g>\n    </g>\n    <g id=\"ytick_31\">\n     <g id=\"line2d_36\">\n      <g>\n       <use xlink:href=\"#mf770e34823\" x=\"50.93375\" y=\"50.610737\" style=\"stroke: #000000; stroke-width: 0.6\"/>\n      </g>\n     </g>\n    </g>\n    <g id=\"ytick_32\">\n     <g id=\"line2d_37\">\n      <g>\n       <use xlink:href=\"#mf770e34823\" x=\"50.93375\" y=\"34.574225\" style=\"stroke: #000000; stroke-width: 0.6\"/>\n      </g>\n     </g>\n    </g>\n    <g id=\"ytick_33\">\n     <g id=\"line2d_38\">\n      <g>\n       <use xlink:href=\"#mf770e34823\" x=\"50.93375\" y=\"26.431227\" style=\"stroke: #000000; stroke-width: 0.6\"/>\n      </g>\n     </g>\n    </g>\n    <g id=\"text_11\">\n     <!-- Count -->\n     <g transform=\"translate(16.318125 127.383875) rotate(-90) scale(0.12 -0.12)\">\n      <defs>\n       <path id=\"DejaVuSans-43\" d=\"M 4122 4306 \nL 4122 3641 \nQ 3803 3938 3442 4084 \nQ 3081 4231 2675 4231 \nQ 1875 4231 1450 3742 \nQ 1025 3253 1025 2328 \nQ 1025 1406 1450 917 \nQ 1875 428 2675 428 \nQ 3081 428 3442 575 \nQ 3803 722 4122 1019 \nL 4122 359 \nQ 3791 134 3420 21 \nQ 3050 -91 2638 -91 \nQ 1578 -91 968 557 \nQ 359 1206 359 2328 \nQ 359 3453 968 4101 \nQ 1578 4750 2638 4750 \nQ 3056 4750 3426 4639 \nQ 3797 4528 4122 4306 \nz\n\" transform=\"scale(0.015625)\"/>\n       <path id=\"DejaVuSans-75\" d=\"M 544 1381 \nL 544 3500 \nL 1119 3500 \nL 1119 1403 \nQ 1119 906 1312 657 \nQ 1506 409 1894 409 \nQ 2359 409 2629 706 \nQ 2900 1003 2900 1516 \nL 2900 3500 \nL 3475 3500 \nL 3475 0 \nL 2900 0 \nL 2900 538 \nQ 2691 219 2414 64 \nQ 2138 -91 1772 -91 \nQ 1169 -91 856 284 \nQ 544 659 544 1381 \nz\nM 1991 3584 \nL 1991 3584 \nz\n\" transform=\"scale(0.015625)\"/>\n       <path id=\"DejaVuSans-6e\" d=\"M 3513 2113 \nL 3513 0 \nL 2938 0 \nL 2938 2094 \nQ 2938 2591 2744 2837 \nQ 2550 3084 2163 3084 \nQ 1697 3084 1428 2787 \nQ 1159 2491 1159 1978 \nL 1159 0 \nL 581 0 \nL 581 3500 \nL 1159 3500 \nL 1159 2956 \nQ 1366 3272 1645 3428 \nQ 1925 3584 2291 3584 \nQ 2894 3584 3203 3211 \nQ 3513 2838 3513 2113 \nz\n\" transform=\"scale(0.015625)\"/>\n      </defs>\n      <use xlink:href=\"#DejaVuSans-43\"/>\n      <use xlink:href=\"#DejaVuSans-6f\" x=\"69.824219\"/>\n      <use xlink:href=\"#DejaVuSans-75\" x=\"131.005859\"/>\n      <use xlink:href=\"#DejaVuSans-6e\" x=\"194.384766\"/>\n      <use xlink:href=\"#DejaVuSans-74\" x=\"257.763672\"/>\n     </g>\n    </g>\n   </g>\n   <g id=\"patch_102\">\n    <path d=\"M 50.93375 194.98975 \nL 50.93375 24.14175 \n\" style=\"fill: none; stroke: #000000; stroke-width: 0.8; stroke-linejoin: miter; stroke-linecap: square\"/>\n   </g>\n   <g id=\"patch_103\">\n    <path d=\"M 332.670648 194.98975 \nL 332.670648 24.14175 \n\" style=\"fill: none; stroke: #000000; stroke-width: 0.8; stroke-linejoin: miter; stroke-linecap: square\"/>\n   </g>\n   <g id=\"patch_104\">\n    <path d=\"M 50.93375 194.98975 \nL 332.670648 194.98975 \n\" style=\"fill: none; stroke: #000000; stroke-width: 0.8; stroke-linejoin: miter; stroke-linecap: square\"/>\n   </g>\n   <g id=\"patch_105\">\n    <path d=\"M 50.93375 24.14175 \nL 332.670648 24.14175 \n\" style=\"fill: none; stroke: #000000; stroke-width: 0.8; stroke-linejoin: miter; stroke-linecap: square\"/>\n   </g>\n   <g id=\"text_12\">\n    <!-- Probability distribution -->\n    <g transform=\"translate(110.426449 18.14175) scale(0.144 -0.144)\">\n     <defs>\n      <path id=\"DejaVuSans-20\" transform=\"scale(0.015625)\"/>\n      <path id=\"DejaVuSans-64\" d=\"M 2906 2969 \nL 2906 4863 \nL 3481 4863 \nL 3481 0 \nL 2906 0 \nL 2906 525 \nQ 2725 213 2448 61 \nQ 2172 -91 1784 -91 \nQ 1150 -91 751 415 \nQ 353 922 353 1747 \nQ 353 2572 751 3078 \nQ 1150 3584 1784 3584 \nQ 2172 3584 2448 3432 \nQ 2725 3281 2906 2969 \nz\nM 947 1747 \nQ 947 1113 1208 752 \nQ 1469 391 1925 391 \nQ 2381 391 2643 752 \nQ 2906 1113 2906 1747 \nQ 2906 2381 2643 2742 \nQ 2381 3103 1925 3103 \nQ 1469 3103 1208 2742 \nQ 947 2381 947 1747 \nz\n\" transform=\"scale(0.015625)\"/>\n      <path id=\"DejaVuSans-73\" d=\"M 2834 3397 \nL 2834 2853 \nQ 2591 2978 2328 3040 \nQ 2066 3103 1784 3103 \nQ 1356 3103 1142 2972 \nQ 928 2841 928 2578 \nQ 928 2378 1081 2264 \nQ 1234 2150 1697 2047 \nL 1894 2003 \nQ 2506 1872 2764 1633 \nQ 3022 1394 3022 966 \nQ 3022 478 2636 193 \nQ 2250 -91 1575 -91 \nQ 1294 -91 989 -36 \nQ 684 19 347 128 \nL 347 722 \nQ 666 556 975 473 \nQ 1284 391 1588 391 \nQ 1994 391 2212 530 \nQ 2431 669 2431 922 \nQ 2431 1156 2273 1281 \nQ 2116 1406 1581 1522 \nL 1381 1569 \nQ 847 1681 609 1914 \nQ 372 2147 372 2553 \nQ 372 3047 722 3315 \nQ 1072 3584 1716 3584 \nQ 2034 3584 2315 3537 \nQ 2597 3491 2834 3397 \nz\n\" transform=\"scale(0.015625)\"/>\n     </defs>\n     <use xlink:href=\"#DejaVuSans-50\"/>\n     <use xlink:href=\"#DejaVuSans-72\" x=\"58.552734\"/>\n     <use xlink:href=\"#DejaVuSans-6f\" x=\"97.416016\"/>\n     <use xlink:href=\"#DejaVuSans-62\" x=\"158.597656\"/>\n     <use xlink:href=\"#DejaVuSans-61\" x=\"222.074219\"/>\n     <use xlink:href=\"#DejaVuSans-62\" x=\"283.353516\"/>\n     <use xlink:href=\"#DejaVuSans-69\" x=\"346.830078\"/>\n     <use xlink:href=\"#DejaVuSans-6c\" x=\"374.613281\"/>\n     <use xlink:href=\"#DejaVuSans-69\" x=\"402.396484\"/>\n     <use xlink:href=\"#DejaVuSans-74\" x=\"430.179688\"/>\n     <use xlink:href=\"#DejaVuSans-79\" x=\"469.388672\"/>\n     <use xlink:href=\"#DejaVuSans-20\" x=\"528.568359\"/>\n     <use xlink:href=\"#DejaVuSans-64\" x=\"560.355469\"/>\n     <use xlink:href=\"#DejaVuSans-69\" x=\"623.832031\"/>\n     <use xlink:href=\"#DejaVuSans-73\" x=\"651.615234\"/>\n     <use xlink:href=\"#DejaVuSans-74\" x=\"703.714844\"/>\n     <use xlink:href=\"#DejaVuSans-72\" x=\"742.923828\"/>\n     <use xlink:href=\"#DejaVuSans-69\" x=\"784.037109\"/>\n     <use xlink:href=\"#DejaVuSans-62\" x=\"811.820312\"/>\n     <use xlink:href=\"#DejaVuSans-75\" x=\"875.296875\"/>\n     <use xlink:href=\"#DejaVuSans-74\" x=\"938.675781\"/>\n     <use xlink:href=\"#DejaVuSans-69\" x=\"977.884766\"/>\n     <use xlink:href=\"#DejaVuSans-6f\" x=\"1005.667969\"/>\n     <use xlink:href=\"#DejaVuSans-6e\" x=\"1066.849609\"/>\n    </g>\n   </g>\n  </g>\n  <g id=\"axes_2\">\n   <g id=\"patch_106\">\n    <path d=\"M 398.815744 194.98975 \nL 680.552643 194.98975 \nL 680.552643 24.14175 \nL 398.815744 24.14175 \nz\n\" style=\"fill: #ffffff\"/>\n   </g>\n   <g id=\"matplotlib.axis_3\">\n    <g id=\"xtick_6\">\n     <g id=\"line2d_39\">\n      <g>\n       <use xlink:href=\"#me9c4fb62c0\" x=\"398.815744\" y=\"194.98975\" style=\"stroke: #000000; stroke-width: 0.8\"/>\n      </g>\n     </g>\n     <g id=\"text_13\">\n      <!-- 0 -->\n      <g transform=\"translate(394.998244 211.107875) scale(0.12 -0.12)\">\n       <use xlink:href=\"#DejaVuSans-30\"/>\n      </g>\n     </g>\n    </g>\n    <g id=\"xtick_7\">\n     <g id=\"line2d_40\">\n      <g>\n       <use xlink:href=\"#me9c4fb62c0\" x=\"455.163124\" y=\"194.98975\" style=\"stroke: #000000; stroke-width: 0.8\"/>\n      </g>\n     </g>\n     <g id=\"text_14\">\n      <!-- 2000 -->\n      <g transform=\"translate(439.893124 211.107875) scale(0.12 -0.12)\">\n       <use xlink:href=\"#DejaVuSans-32\"/>\n       <use xlink:href=\"#DejaVuSans-30\" x=\"63.623047\"/>\n       <use xlink:href=\"#DejaVuSans-30\" x=\"127.246094\"/>\n       <use xlink:href=\"#DejaVuSans-30\" x=\"190.869141\"/>\n      </g>\n     </g>\n    </g>\n    <g id=\"xtick_8\">\n     <g id=\"line2d_41\">\n      <g>\n       <use xlink:href=\"#me9c4fb62c0\" x=\"511.510504\" y=\"194.98975\" style=\"stroke: #000000; stroke-width: 0.8\"/>\n      </g>\n     </g>\n     <g id=\"text_15\">\n      <!-- 4000 -->\n      <g transform=\"translate(496.240504 211.107875) scale(0.12 -0.12)\">\n       <defs>\n        <path id=\"DejaVuSans-34\" d=\"M 2419 4116 \nL 825 1625 \nL 2419 1625 \nL 2419 4116 \nz\nM 2253 4666 \nL 3047 4666 \nL 3047 1625 \nL 3713 1625 \nL 3713 1100 \nL 3047 1100 \nL 3047 0 \nL 2419 0 \nL 2419 1100 \nL 313 1100 \nL 313 1709 \nL 2253 4666 \nz\n\" transform=\"scale(0.015625)\"/>\n       </defs>\n       <use xlink:href=\"#DejaVuSans-34\"/>\n       <use xlink:href=\"#DejaVuSans-30\" x=\"63.623047\"/>\n       <use xlink:href=\"#DejaVuSans-30\" x=\"127.246094\"/>\n       <use xlink:href=\"#DejaVuSans-30\" x=\"190.869141\"/>\n      </g>\n     </g>\n    </g>\n    <g id=\"xtick_9\">\n     <g id=\"line2d_42\">\n      <g>\n       <use xlink:href=\"#me9c4fb62c0\" x=\"567.857883\" y=\"194.98975\" style=\"stroke: #000000; stroke-width: 0.8\"/>\n      </g>\n     </g>\n     <g id=\"text_16\">\n      <!-- 6000 -->\n      <g transform=\"translate(552.587883 211.107875) scale(0.12 -0.12)\">\n       <defs>\n        <path id=\"DejaVuSans-36\" d=\"M 2113 2584 \nQ 1688 2584 1439 2293 \nQ 1191 2003 1191 1497 \nQ 1191 994 1439 701 \nQ 1688 409 2113 409 \nQ 2538 409 2786 701 \nQ 3034 994 3034 1497 \nQ 3034 2003 2786 2293 \nQ 2538 2584 2113 2584 \nz\nM 3366 4563 \nL 3366 3988 \nQ 3128 4100 2886 4159 \nQ 2644 4219 2406 4219 \nQ 1781 4219 1451 3797 \nQ 1122 3375 1075 2522 \nQ 1259 2794 1537 2939 \nQ 1816 3084 2150 3084 \nQ 2853 3084 3261 2657 \nQ 3669 2231 3669 1497 \nQ 3669 778 3244 343 \nQ 2819 -91 2113 -91 \nQ 1303 -91 875 529 \nQ 447 1150 447 2328 \nQ 447 3434 972 4092 \nQ 1497 4750 2381 4750 \nQ 2619 4750 2861 4703 \nQ 3103 4656 3366 4563 \nz\n\" transform=\"scale(0.015625)\"/>\n       </defs>\n       <use xlink:href=\"#DejaVuSans-36\"/>\n       <use xlink:href=\"#DejaVuSans-30\" x=\"63.623047\"/>\n       <use xlink:href=\"#DejaVuSans-30\" x=\"127.246094\"/>\n       <use xlink:href=\"#DejaVuSans-30\" x=\"190.869141\"/>\n      </g>\n     </g>\n    </g>\n    <g id=\"xtick_10\">\n     <g id=\"line2d_43\">\n      <g>\n       <use xlink:href=\"#me9c4fb62c0\" x=\"624.205263\" y=\"194.98975\" style=\"stroke: #000000; stroke-width: 0.8\"/>\n      </g>\n     </g>\n     <g id=\"text_17\">\n      <!-- 8000 -->\n      <g transform=\"translate(608.935263 211.107875) scale(0.12 -0.12)\">\n       <defs>\n        <path id=\"DejaVuSans-38\" d=\"M 2034 2216 \nQ 1584 2216 1326 1975 \nQ 1069 1734 1069 1313 \nQ 1069 891 1326 650 \nQ 1584 409 2034 409 \nQ 2484 409 2743 651 \nQ 3003 894 3003 1313 \nQ 3003 1734 2745 1975 \nQ 2488 2216 2034 2216 \nz\nM 1403 2484 \nQ 997 2584 770 2862 \nQ 544 3141 544 3541 \nQ 544 4100 942 4425 \nQ 1341 4750 2034 4750 \nQ 2731 4750 3128 4425 \nQ 3525 4100 3525 3541 \nQ 3525 3141 3298 2862 \nQ 3072 2584 2669 2484 \nQ 3125 2378 3379 2068 \nQ 3634 1759 3634 1313 \nQ 3634 634 3220 271 \nQ 2806 -91 2034 -91 \nQ 1263 -91 848 271 \nQ 434 634 434 1313 \nQ 434 1759 690 2068 \nQ 947 2378 1403 2484 \nz\nM 1172 3481 \nQ 1172 3119 1398 2916 \nQ 1625 2713 2034 2713 \nQ 2441 2713 2670 2916 \nQ 2900 3119 2900 3481 \nQ 2900 3844 2670 4047 \nQ 2441 4250 2034 4250 \nQ 1625 4250 1398 4047 \nQ 1172 3844 1172 3481 \nz\n\" transform=\"scale(0.015625)\"/>\n       </defs>\n       <use xlink:href=\"#DejaVuSans-38\"/>\n       <use xlink:href=\"#DejaVuSans-30\" x=\"63.623047\"/>\n       <use xlink:href=\"#DejaVuSans-30\" x=\"127.246094\"/>\n       <use xlink:href=\"#DejaVuSans-30\" x=\"190.869141\"/>\n      </g>\n     </g>\n    </g>\n    <g id=\"xtick_11\">\n     <g id=\"line2d_44\">\n      <g>\n       <use xlink:href=\"#me9c4fb62c0\" x=\"680.552643\" y=\"194.98975\" style=\"stroke: #000000; stroke-width: 0.8\"/>\n      </g>\n     </g>\n     <g id=\"text_18\">\n      <!-- 10000 -->\n      <g transform=\"translate(661.465143 211.107875) scale(0.12 -0.12)\">\n       <use xlink:href=\"#DejaVuSans-31\"/>\n       <use xlink:href=\"#DejaVuSans-30\" x=\"63.623047\"/>\n       <use xlink:href=\"#DejaVuSans-30\" x=\"127.246094\"/>\n       <use xlink:href=\"#DejaVuSans-30\" x=\"190.869141\"/>\n       <use xlink:href=\"#DejaVuSans-30\" x=\"254.492188\"/>\n      </g>\n     </g>\n    </g>\n    <g id=\"xtick_12\">\n     <g id=\"line2d_45\">\n      <defs>\n       <path id=\"ma9566cdae6\" d=\"M 0 0 \nL 0 2 \n\" style=\"stroke: #000000; stroke-width: 0.6\"/>\n      </defs>\n      <g>\n       <use xlink:href=\"#ma9566cdae6\" x=\"412.902589\" y=\"194.98975\" style=\"stroke: #000000; stroke-width: 0.6\"/>\n      </g>\n     </g>\n    </g>\n    <g id=\"xtick_13\">\n     <g id=\"line2d_46\">\n      <g>\n       <use xlink:href=\"#ma9566cdae6\" x=\"426.989434\" y=\"194.98975\" style=\"stroke: #000000; stroke-width: 0.6\"/>\n      </g>\n     </g>\n    </g>\n    <g id=\"xtick_14\">\n     <g id=\"line2d_47\">\n      <g>\n       <use xlink:href=\"#ma9566cdae6\" x=\"441.076279\" y=\"194.98975\" style=\"stroke: #000000; stroke-width: 0.6\"/>\n      </g>\n     </g>\n    </g>\n    <g id=\"xtick_15\">\n     <g id=\"line2d_48\">\n      <g>\n       <use xlink:href=\"#ma9566cdae6\" x=\"469.249969\" y=\"194.98975\" style=\"stroke: #000000; stroke-width: 0.6\"/>\n      </g>\n     </g>\n    </g>\n    <g id=\"xtick_16\">\n     <g id=\"line2d_49\">\n      <g>\n       <use xlink:href=\"#ma9566cdae6\" x=\"483.336814\" y=\"194.98975\" style=\"stroke: #000000; stroke-width: 0.6\"/>\n      </g>\n     </g>\n    </g>\n    <g id=\"xtick_17\">\n     <g id=\"line2d_50\">\n      <g>\n       <use xlink:href=\"#ma9566cdae6\" x=\"497.423659\" y=\"194.98975\" style=\"stroke: #000000; stroke-width: 0.6\"/>\n      </g>\n     </g>\n    </g>\n    <g id=\"xtick_18\">\n     <g id=\"line2d_51\">\n      <g>\n       <use xlink:href=\"#ma9566cdae6\" x=\"525.597348\" y=\"194.98975\" style=\"stroke: #000000; stroke-width: 0.6\"/>\n      </g>\n     </g>\n    </g>\n    <g id=\"xtick_19\">\n     <g id=\"line2d_52\">\n      <g>\n       <use xlink:href=\"#ma9566cdae6\" x=\"539.684193\" y=\"194.98975\" style=\"stroke: #000000; stroke-width: 0.6\"/>\n      </g>\n     </g>\n    </g>\n    <g id=\"xtick_20\">\n     <g id=\"line2d_53\">\n      <g>\n       <use xlink:href=\"#ma9566cdae6\" x=\"553.771038\" y=\"194.98975\" style=\"stroke: #000000; stroke-width: 0.6\"/>\n      </g>\n     </g>\n    </g>\n    <g id=\"xtick_21\">\n     <g id=\"line2d_54\">\n      <g>\n       <use xlink:href=\"#ma9566cdae6\" x=\"581.944728\" y=\"194.98975\" style=\"stroke: #000000; stroke-width: 0.6\"/>\n      </g>\n     </g>\n    </g>\n    <g id=\"xtick_22\">\n     <g id=\"line2d_55\">\n      <g>\n       <use xlink:href=\"#ma9566cdae6\" x=\"596.031573\" y=\"194.98975\" style=\"stroke: #000000; stroke-width: 0.6\"/>\n      </g>\n     </g>\n    </g>\n    <g id=\"xtick_23\">\n     <g id=\"line2d_56\">\n      <g>\n       <use xlink:href=\"#ma9566cdae6\" x=\"610.118418\" y=\"194.98975\" style=\"stroke: #000000; stroke-width: 0.6\"/>\n      </g>\n     </g>\n    </g>\n    <g id=\"xtick_24\">\n     <g id=\"line2d_57\">\n      <g>\n       <use xlink:href=\"#ma9566cdae6\" x=\"638.292108\" y=\"194.98975\" style=\"stroke: #000000; stroke-width: 0.6\"/>\n      </g>\n     </g>\n    </g>\n    <g id=\"xtick_25\">\n     <g id=\"line2d_58\">\n      <g>\n       <use xlink:href=\"#ma9566cdae6\" x=\"652.378953\" y=\"194.98975\" style=\"stroke: #000000; stroke-width: 0.6\"/>\n      </g>\n     </g>\n    </g>\n    <g id=\"xtick_26\">\n     <g id=\"line2d_59\">\n      <g>\n       <use xlink:href=\"#ma9566cdae6\" x=\"666.465798\" y=\"194.98975\" style=\"stroke: #000000; stroke-width: 0.6\"/>\n      </g>\n     </g>\n    </g>\n    <g id=\"text_19\">\n     <!-- Token (descending probability) -->\n     <g transform=\"translate(447.602943 226.721625) scale(0.12 -0.12)\">\n      <defs>\n       <path id=\"DejaVuSans-54\" d=\"M -19 4666 \nL 3928 4666 \nL 3928 4134 \nL 2272 4134 \nL 2272 0 \nL 1638 0 \nL 1638 4134 \nL -19 4134 \nL -19 4666 \nz\n\" transform=\"scale(0.015625)\"/>\n       <path id=\"DejaVuSans-6b\" d=\"M 581 4863 \nL 1159 4863 \nL 1159 1991 \nL 2875 3500 \nL 3609 3500 \nL 1753 1863 \nL 3688 0 \nL 2938 0 \nL 1159 1709 \nL 1159 0 \nL 581 0 \nL 581 4863 \nz\n\" transform=\"scale(0.015625)\"/>\n       <path id=\"DejaVuSans-65\" d=\"M 3597 1894 \nL 3597 1613 \nL 953 1613 \nQ 991 1019 1311 708 \nQ 1631 397 2203 397 \nQ 2534 397 2845 478 \nQ 3156 559 3463 722 \nL 3463 178 \nQ 3153 47 2828 -22 \nQ 2503 -91 2169 -91 \nQ 1331 -91 842 396 \nQ 353 884 353 1716 \nQ 353 2575 817 3079 \nQ 1281 3584 2069 3584 \nQ 2775 3584 3186 3129 \nQ 3597 2675 3597 1894 \nz\nM 3022 2063 \nQ 3016 2534 2758 2815 \nQ 2500 3097 2075 3097 \nQ 1594 3097 1305 2825 \nQ 1016 2553 972 2059 \nL 3022 2063 \nz\n\" transform=\"scale(0.015625)\"/>\n       <path id=\"DejaVuSans-28\" d=\"M 1984 4856 \nQ 1566 4138 1362 3434 \nQ 1159 2731 1159 2009 \nQ 1159 1288 1364 580 \nQ 1569 -128 1984 -844 \nL 1484 -844 \nQ 1016 -109 783 600 \nQ 550 1309 550 2009 \nQ 550 2706 781 3412 \nQ 1013 4119 1484 4856 \nL 1984 4856 \nz\n\" transform=\"scale(0.015625)\"/>\n       <path id=\"DejaVuSans-63\" d=\"M 3122 3366 \nL 3122 2828 \nQ 2878 2963 2633 3030 \nQ 2388 3097 2138 3097 \nQ 1578 3097 1268 2742 \nQ 959 2388 959 1747 \nQ 959 1106 1268 751 \nQ 1578 397 2138 397 \nQ 2388 397 2633 464 \nQ 2878 531 3122 666 \nL 3122 134 \nQ 2881 22 2623 -34 \nQ 2366 -91 2075 -91 \nQ 1284 -91 818 406 \nQ 353 903 353 1747 \nQ 353 2603 823 3093 \nQ 1294 3584 2113 3584 \nQ 2378 3584 2631 3529 \nQ 2884 3475 3122 3366 \nz\n\" transform=\"scale(0.015625)\"/>\n       <path id=\"DejaVuSans-67\" d=\"M 2906 1791 \nQ 2906 2416 2648 2759 \nQ 2391 3103 1925 3103 \nQ 1463 3103 1205 2759 \nQ 947 2416 947 1791 \nQ 947 1169 1205 825 \nQ 1463 481 1925 481 \nQ 2391 481 2648 825 \nQ 2906 1169 2906 1791 \nz\nM 3481 434 \nQ 3481 -459 3084 -895 \nQ 2688 -1331 1869 -1331 \nQ 1566 -1331 1297 -1286 \nQ 1028 -1241 775 -1147 \nL 775 -588 \nQ 1028 -725 1275 -790 \nQ 1522 -856 1778 -856 \nQ 2344 -856 2625 -561 \nQ 2906 -266 2906 331 \nL 2906 616 \nQ 2728 306 2450 153 \nQ 2172 0 1784 0 \nQ 1141 0 747 490 \nQ 353 981 353 1791 \nQ 353 2603 747 3093 \nQ 1141 3584 1784 3584 \nQ 2172 3584 2450 3431 \nQ 2728 3278 2906 2969 \nL 2906 3500 \nL 3481 3500 \nL 3481 434 \nz\n\" transform=\"scale(0.015625)\"/>\n       <path id=\"DejaVuSans-70\" d=\"M 1159 525 \nL 1159 -1331 \nL 581 -1331 \nL 581 3500 \nL 1159 3500 \nL 1159 2969 \nQ 1341 3281 1617 3432 \nQ 1894 3584 2278 3584 \nQ 2916 3584 3314 3078 \nQ 3713 2572 3713 1747 \nQ 3713 922 3314 415 \nQ 2916 -91 2278 -91 \nQ 1894 -91 1617 61 \nQ 1341 213 1159 525 \nz\nM 3116 1747 \nQ 3116 2381 2855 2742 \nQ 2594 3103 2138 3103 \nQ 1681 3103 1420 2742 \nQ 1159 2381 1159 1747 \nQ 1159 1113 1420 752 \nQ 1681 391 2138 391 \nQ 2594 391 2855 752 \nQ 3116 1113 3116 1747 \nz\n\" transform=\"scale(0.015625)\"/>\n       <path id=\"DejaVuSans-29\" d=\"M 513 4856 \nL 1013 4856 \nQ 1481 4119 1714 3412 \nQ 1947 2706 1947 2009 \nQ 1947 1309 1714 600 \nQ 1481 -109 1013 -844 \nL 513 -844 \nQ 928 -128 1133 580 \nQ 1338 1288 1338 2009 \nQ 1338 2731 1133 3434 \nQ 928 4138 513 4856 \nz\n\" transform=\"scale(0.015625)\"/>\n      </defs>\n      <use xlink:href=\"#DejaVuSans-54\"/>\n      <use xlink:href=\"#DejaVuSans-6f\" x=\"44.083984\"/>\n      <use xlink:href=\"#DejaVuSans-6b\" x=\"105.265625\"/>\n      <use xlink:href=\"#DejaVuSans-65\" x=\"159.550781\"/>\n      <use xlink:href=\"#DejaVuSans-6e\" x=\"221.074219\"/>\n      <use xlink:href=\"#DejaVuSans-20\" x=\"284.453125\"/>\n      <use xlink:href=\"#DejaVuSans-28\" x=\"316.240234\"/>\n      <use xlink:href=\"#DejaVuSans-64\" x=\"355.253906\"/>\n      <use xlink:href=\"#DejaVuSans-65\" x=\"418.730469\"/>\n      <use xlink:href=\"#DejaVuSans-73\" x=\"480.253906\"/>\n      <use xlink:href=\"#DejaVuSans-63\" x=\"532.353516\"/>\n      <use xlink:href=\"#DejaVuSans-65\" x=\"587.333984\"/>\n      <use xlink:href=\"#DejaVuSans-6e\" x=\"648.857422\"/>\n      <use xlink:href=\"#DejaVuSans-64\" x=\"712.236328\"/>\n      <use xlink:href=\"#DejaVuSans-69\" x=\"775.712891\"/>\n      <use xlink:href=\"#DejaVuSans-6e\" x=\"803.496094\"/>\n      <use xlink:href=\"#DejaVuSans-67\" x=\"866.875\"/>\n      <use xlink:href=\"#DejaVuSans-20\" x=\"930.351562\"/>\n      <use xlink:href=\"#DejaVuSans-70\" x=\"962.138672\"/>\n      <use xlink:href=\"#DejaVuSans-72\" x=\"1025.615234\"/>\n      <use xlink:href=\"#DejaVuSans-6f\" x=\"1064.478516\"/>\n      <use xlink:href=\"#DejaVuSans-62\" x=\"1125.660156\"/>\n      <use xlink:href=\"#DejaVuSans-61\" x=\"1189.136719\"/>\n      <use xlink:href=\"#DejaVuSans-62\" x=\"1250.416016\"/>\n      <use xlink:href=\"#DejaVuSans-69\" x=\"1313.892578\"/>\n      <use xlink:href=\"#DejaVuSans-6c\" x=\"1341.675781\"/>\n      <use xlink:href=\"#DejaVuSans-69\" x=\"1369.458984\"/>\n      <use xlink:href=\"#DejaVuSans-74\" x=\"1397.242188\"/>\n      <use xlink:href=\"#DejaVuSans-79\" x=\"1436.451172\"/>\n      <use xlink:href=\"#DejaVuSans-29\" x=\"1495.630859\"/>\n     </g>\n    </g>\n   </g>\n   <g id=\"matplotlib.axis_4\">\n    <g id=\"ytick_34\">\n     <g id=\"line2d_60\">\n      <g>\n       <use xlink:href=\"#mb683f01965\" x=\"398.815744\" y=\"194.98975\" style=\"stroke: #000000; stroke-width: 0.8\"/>\n      </g>\n     </g>\n     <g id=\"text_20\">\n      <!-- 0.75 -->\n      <g transform=\"translate(365.096994 199.548812) scale(0.12 -0.12)\">\n       <defs>\n        <path id=\"DejaVuSans-2e\" d=\"M 684 794 \nL 1344 794 \nL 1344 0 \nL 684 0 \nL 684 794 \nz\n\" transform=\"scale(0.015625)\"/>\n       </defs>\n       <use xlink:href=\"#DejaVuSans-30\"/>\n       <use xlink:href=\"#DejaVuSans-2e\" x=\"63.623047\"/>\n       <use xlink:href=\"#DejaVuSans-37\" x=\"95.410156\"/>\n       <use xlink:href=\"#DejaVuSans-35\" x=\"159.033203\"/>\n      </g>\n     </g>\n    </g>\n    <g id=\"ytick_35\">\n     <g id=\"line2d_61\">\n      <g>\n       <use xlink:href=\"#mb683f01965\" x=\"398.815744\" y=\"162.134365\" style=\"stroke: #000000; stroke-width: 0.8\"/>\n      </g>\n     </g>\n     <g id=\"text_21\">\n      <!-- 0.80 -->\n      <g transform=\"translate(365.096994 166.693428) scale(0.12 -0.12)\">\n       <use xlink:href=\"#DejaVuSans-30\"/>\n       <use xlink:href=\"#DejaVuSans-2e\" x=\"63.623047\"/>\n       <use xlink:href=\"#DejaVuSans-38\" x=\"95.410156\"/>\n       <use xlink:href=\"#DejaVuSans-30\" x=\"159.033203\"/>\n      </g>\n     </g>\n    </g>\n    <g id=\"ytick_36\">\n     <g id=\"line2d_62\">\n      <g>\n       <use xlink:href=\"#mb683f01965\" x=\"398.815744\" y=\"129.278981\" style=\"stroke: #000000; stroke-width: 0.8\"/>\n      </g>\n     </g>\n     <g id=\"text_22\">\n      <!-- 0.85 -->\n      <g transform=\"translate(365.096994 133.838043) scale(0.12 -0.12)\">\n       <use xlink:href=\"#DejaVuSans-30\"/>\n       <use xlink:href=\"#DejaVuSans-2e\" x=\"63.623047\"/>\n       <use xlink:href=\"#DejaVuSans-38\" x=\"95.410156\"/>\n       <use xlink:href=\"#DejaVuSans-35\" x=\"159.033203\"/>\n      </g>\n     </g>\n    </g>\n    <g id=\"ytick_37\">\n     <g id=\"line2d_63\">\n      <g>\n       <use xlink:href=\"#mb683f01965\" x=\"398.815744\" y=\"96.423596\" style=\"stroke: #000000; stroke-width: 0.8\"/>\n      </g>\n     </g>\n     <g id=\"text_23\">\n      <!-- 0.90 -->\n      <g transform=\"translate(365.096994 100.982659) scale(0.12 -0.12)\">\n       <use xlink:href=\"#DejaVuSans-30\"/>\n       <use xlink:href=\"#DejaVuSans-2e\" x=\"63.623047\"/>\n       <use xlink:href=\"#DejaVuSans-39\" x=\"95.410156\"/>\n       <use xlink:href=\"#DejaVuSans-30\" x=\"159.033203\"/>\n      </g>\n     </g>\n    </g>\n    <g id=\"ytick_38\">\n     <g id=\"line2d_64\">\n      <g>\n       <use xlink:href=\"#mb683f01965\" x=\"398.815744\" y=\"63.568212\" style=\"stroke: #000000; stroke-width: 0.8\"/>\n      </g>\n     </g>\n     <g id=\"text_24\">\n      <!-- 0.95 -->\n      <g transform=\"translate(365.096994 68.127274) scale(0.12 -0.12)\">\n       <use xlink:href=\"#DejaVuSans-30\"/>\n       <use xlink:href=\"#DejaVuSans-2e\" x=\"63.623047\"/>\n       <use xlink:href=\"#DejaVuSans-39\" x=\"95.410156\"/>\n       <use xlink:href=\"#DejaVuSans-35\" x=\"159.033203\"/>\n      </g>\n     </g>\n    </g>\n    <g id=\"ytick_39\">\n     <g id=\"line2d_65\">\n      <g>\n       <use xlink:href=\"#mb683f01965\" x=\"398.815744\" y=\"30.712827\" style=\"stroke: #000000; stroke-width: 0.8\"/>\n      </g>\n     </g>\n     <g id=\"text_25\">\n      <!-- 1.00 -->\n      <g transform=\"translate(365.096994 35.271889) scale(0.12 -0.12)\">\n       <use xlink:href=\"#DejaVuSans-31\"/>\n       <use xlink:href=\"#DejaVuSans-2e\" x=\"63.623047\"/>\n       <use xlink:href=\"#DejaVuSans-30\" x=\"95.410156\"/>\n       <use xlink:href=\"#DejaVuSans-30\" x=\"159.033203\"/>\n      </g>\n     </g>\n    </g>\n    <g id=\"ytick_40\">\n     <g id=\"line2d_66\">\n      <g>\n       <use xlink:href=\"#mf770e34823\" x=\"398.815744\" y=\"188.418673\" style=\"stroke: #000000; stroke-width: 0.6\"/>\n      </g>\n     </g>\n    </g>\n    <g id=\"ytick_41\">\n     <g id=\"line2d_67\">\n      <g>\n       <use xlink:href=\"#mf770e34823\" x=\"398.815744\" y=\"181.847596\" style=\"stroke: #000000; stroke-width: 0.6\"/>\n      </g>\n     </g>\n    </g>\n    <g id=\"ytick_42\">\n     <g id=\"line2d_68\">\n      <g>\n       <use xlink:href=\"#mf770e34823\" x=\"398.815744\" y=\"175.276519\" style=\"stroke: #000000; stroke-width: 0.6\"/>\n      </g>\n     </g>\n    </g>\n    <g id=\"ytick_43\">\n     <g id=\"line2d_69\">\n      <g>\n       <use xlink:href=\"#mf770e34823\" x=\"398.815744\" y=\"168.705442\" style=\"stroke: #000000; stroke-width: 0.6\"/>\n      </g>\n     </g>\n    </g>\n    <g id=\"ytick_44\">\n     <g id=\"line2d_70\">\n      <g>\n       <use xlink:href=\"#mf770e34823\" x=\"398.815744\" y=\"155.563288\" style=\"stroke: #000000; stroke-width: 0.6\"/>\n      </g>\n     </g>\n    </g>\n    <g id=\"ytick_45\">\n     <g id=\"line2d_71\">\n      <g>\n       <use xlink:href=\"#mf770e34823\" x=\"398.815744\" y=\"148.992212\" style=\"stroke: #000000; stroke-width: 0.6\"/>\n      </g>\n     </g>\n    </g>\n    <g id=\"ytick_46\">\n     <g id=\"line2d_72\">\n      <g>\n       <use xlink:href=\"#mf770e34823\" x=\"398.815744\" y=\"142.421135\" style=\"stroke: #000000; stroke-width: 0.6\"/>\n      </g>\n     </g>\n    </g>\n    <g id=\"ytick_47\">\n     <g id=\"line2d_73\">\n      <g>\n       <use xlink:href=\"#mf770e34823\" x=\"398.815744\" y=\"135.850058\" style=\"stroke: #000000; stroke-width: 0.6\"/>\n      </g>\n     </g>\n    </g>\n    <g id=\"ytick_48\">\n     <g id=\"line2d_74\">\n      <g>\n       <use xlink:href=\"#mf770e34823\" x=\"398.815744\" y=\"122.707904\" style=\"stroke: #000000; stroke-width: 0.6\"/>\n      </g>\n     </g>\n    </g>\n    <g id=\"ytick_49\">\n     <g id=\"line2d_75\">\n      <g>\n       <use xlink:href=\"#mf770e34823\" x=\"398.815744\" y=\"116.136827\" style=\"stroke: #000000; stroke-width: 0.6\"/>\n      </g>\n     </g>\n    </g>\n    <g id=\"ytick_50\">\n     <g id=\"line2d_76\">\n      <g>\n       <use xlink:href=\"#mf770e34823\" x=\"398.815744\" y=\"109.56575\" style=\"stroke: #000000; stroke-width: 0.6\"/>\n      </g>\n     </g>\n    </g>\n    <g id=\"ytick_51\">\n     <g id=\"line2d_77\">\n      <g>\n       <use xlink:href=\"#mf770e34823\" x=\"398.815744\" y=\"102.994673\" style=\"stroke: #000000; stroke-width: 0.6\"/>\n      </g>\n     </g>\n    </g>\n    <g id=\"ytick_52\">\n     <g id=\"line2d_78\">\n      <g>\n       <use xlink:href=\"#mf770e34823\" x=\"398.815744\" y=\"89.852519\" style=\"stroke: #000000; stroke-width: 0.6\"/>\n      </g>\n     </g>\n    </g>\n    <g id=\"ytick_53\">\n     <g id=\"line2d_79\">\n      <g>\n       <use xlink:href=\"#mf770e34823\" x=\"398.815744\" y=\"83.281442\" style=\"stroke: #000000; stroke-width: 0.6\"/>\n      </g>\n     </g>\n    </g>\n    <g id=\"ytick_54\">\n     <g id=\"line2d_80\">\n      <g>\n       <use xlink:href=\"#mf770e34823\" x=\"398.815744\" y=\"76.710365\" style=\"stroke: #000000; stroke-width: 0.6\"/>\n      </g>\n     </g>\n    </g>\n    <g id=\"ytick_55\">\n     <g id=\"line2d_81\">\n      <g>\n       <use xlink:href=\"#mf770e34823\" x=\"398.815744\" y=\"70.139288\" style=\"stroke: #000000; stroke-width: 0.6\"/>\n      </g>\n     </g>\n    </g>\n    <g id=\"ytick_56\">\n     <g id=\"line2d_82\">\n      <g>\n       <use xlink:href=\"#mf770e34823\" x=\"398.815744\" y=\"56.997135\" style=\"stroke: #000000; stroke-width: 0.6\"/>\n      </g>\n     </g>\n    </g>\n    <g id=\"ytick_57\">\n     <g id=\"line2d_83\">\n      <g>\n       <use xlink:href=\"#mf770e34823\" x=\"398.815744\" y=\"50.426058\" style=\"stroke: #000000; stroke-width: 0.6\"/>\n      </g>\n     </g>\n    </g>\n    <g id=\"ytick_58\">\n     <g id=\"line2d_84\">\n      <g>\n       <use xlink:href=\"#mf770e34823\" x=\"398.815744\" y=\"43.854981\" style=\"stroke: #000000; stroke-width: 0.6\"/>\n      </g>\n     </g>\n    </g>\n    <g id=\"ytick_59\">\n     <g id=\"line2d_85\">\n      <g>\n       <use xlink:href=\"#mf770e34823\" x=\"398.815744\" y=\"37.283904\" style=\"stroke: #000000; stroke-width: 0.6\"/>\n      </g>\n     </g>\n    </g>\n    <g id=\"ytick_60\">\n     <g id=\"line2d_86\">\n      <g>\n       <use xlink:href=\"#mf770e34823\" x=\"398.815744\" y=\"24.14175\" style=\"stroke: #000000; stroke-width: 0.6\"/>\n      </g>\n     </g>\n    </g>\n    <g id=\"text_26\">\n     <!-- Probability -->\n     <g transform=\"translate(358.601369 141.280438) rotate(-90) scale(0.12 -0.12)\">\n      <use xlink:href=\"#DejaVuSans-50\"/>\n      <use xlink:href=\"#DejaVuSans-72\" x=\"58.552734\"/>\n      <use xlink:href=\"#DejaVuSans-6f\" x=\"97.416016\"/>\n      <use xlink:href=\"#DejaVuSans-62\" x=\"158.597656\"/>\n      <use xlink:href=\"#DejaVuSans-61\" x=\"222.074219\"/>\n      <use xlink:href=\"#DejaVuSans-62\" x=\"283.353516\"/>\n      <use xlink:href=\"#DejaVuSans-69\" x=\"346.830078\"/>\n      <use xlink:href=\"#DejaVuSans-6c\" x=\"374.613281\"/>\n      <use xlink:href=\"#DejaVuSans-69\" x=\"402.396484\"/>\n      <use xlink:href=\"#DejaVuSans-74\" x=\"430.179688\"/>\n      <use xlink:href=\"#DejaVuSans-79\" x=\"469.388672\"/>\n     </g>\n    </g>\n   </g>\n   <g id=\"line2d_87\">\n    <path d=\"M 399.885417 237.41725 \nL 400.393471 209.605498 \nL 401.041466 184.758084 \nL 401.60494 170.080844 \nL 402.393803 155.817204 \nL 403.267187 143.852296 \nL 404.253266 133.400826 \nL 405.380214 123.44744 \nL 406.619856 114.291525 \nL 408.084888 105.109565 \nL 409.324531 98.69144 \nL 410.676868 92.886156 \nL 412.254594 87.129087 \nL 413.775974 82.408289 \nL 415.3537 78.155297 \nL 417.156816 73.994035 \nL 419.01628 70.219817 \nL 421.101133 66.481789 \nL 423.467723 62.720378 \nL 425.524402 59.867909 \nL 427.693776 57.227723 \nL 430.144887 54.586244 \nL 432.76504 52.067788 \nL 435.469715 49.767334 \nL 438.230736 47.699921 \nL 441.245321 45.742018 \nL 444.485295 43.876118 \nL 447.640749 42.311762 \nL 451.134286 40.807214 \nL 454.712345 39.484242 \nL 458.713009 38.232514 \nL 463.220799 37.050738 \nL 468.404758 35.932412 \nL 473.757759 35.010155 \nL 479.815102 34.187576 \nL 487.196609 33.416581 \nL 495.564195 32.783647 \nL 505.565855 32.25525 \nL 518.018626 31.829586 \nL 534.781971 31.497884 \nL 558.532392 31.24565 \nL 606.202275 31.025338 \nL 680.580816 30.890056 \nL 680.580816 30.890056 \n\" clip-path=\"url(#p1b9654a962)\" style=\"fill: none; stroke: #000000; stroke-width: 1.5; stroke-linecap: square\"/>\n   </g>\n   <g id=\"LineCollection_1\">\n    <path d=\"M 455.163124 237.41725 \nL 455.163124 -1 \n\" clip-path=\"url(#p1b9654a962)\" style=\"fill: none; stroke: #0071bc; stroke-width: 1.5\"/>\n   </g>\n   <g id=\"LineCollection_2\">\n    <path d=\"M 398.815744 63.568212 \nL 680.552643 63.568212 \n\" clip-path=\"url(#p1b9654a962)\" style=\"fill: none; stroke-dasharray: 5.55,2.4; stroke-dashoffset: 0; stroke: #f7931e; stroke-width: 1.5\"/>\n   </g>\n   <g id=\"patch_107\">\n    <path d=\"M 398.815744 194.98975 \nL 398.815744 24.14175 \n\" style=\"fill: none; stroke: #000000; stroke-width: 0.8; stroke-linejoin: miter; stroke-linecap: square\"/>\n   </g>\n   <g id=\"patch_108\">\n    <path d=\"M 680.552643 194.98975 \nL 680.552643 24.14175 \n\" style=\"fill: none; stroke: #000000; stroke-width: 0.8; stroke-linejoin: miter; stroke-linecap: square\"/>\n   </g>\n   <g id=\"patch_109\">\n    <path d=\"M 398.815744 194.98975 \nL 680.552643 194.98975 \n\" style=\"fill: none; stroke: #000000; stroke-width: 0.8; stroke-linejoin: miter; stroke-linecap: square\"/>\n   </g>\n   <g id=\"patch_110\">\n    <path d=\"M 398.815744 24.14175 \nL 680.552643 24.14175 \n\" style=\"fill: none; stroke: #000000; stroke-width: 0.8; stroke-linejoin: miter; stroke-linecap: square\"/>\n   </g>\n   <g id=\"text_27\">\n    <!-- Cumulative probability -->\n    <g transform=\"translate(457.888818 18.14175) scale(0.144 -0.144)\">\n     <defs>\n      <path id=\"DejaVuSans-6d\" d=\"M 3328 2828 \nQ 3544 3216 3844 3400 \nQ 4144 3584 4550 3584 \nQ 5097 3584 5394 3201 \nQ 5691 2819 5691 2113 \nL 5691 0 \nL 5113 0 \nL 5113 2094 \nQ 5113 2597 4934 2840 \nQ 4756 3084 4391 3084 \nQ 3944 3084 3684 2787 \nQ 3425 2491 3425 1978 \nL 3425 0 \nL 2847 0 \nL 2847 2094 \nQ 2847 2600 2669 2842 \nQ 2491 3084 2119 3084 \nQ 1678 3084 1418 2786 \nQ 1159 2488 1159 1978 \nL 1159 0 \nL 581 0 \nL 581 3500 \nL 1159 3500 \nL 1159 2956 \nQ 1356 3278 1631 3431 \nQ 1906 3584 2284 3584 \nQ 2666 3584 2933 3390 \nQ 3200 3197 3328 2828 \nz\n\" transform=\"scale(0.015625)\"/>\n      <path id=\"DejaVuSans-76\" d=\"M 191 3500 \nL 800 3500 \nL 1894 563 \nL 2988 3500 \nL 3597 3500 \nL 2284 0 \nL 1503 0 \nL 191 3500 \nz\n\" transform=\"scale(0.015625)\"/>\n     </defs>\n     <use xlink:href=\"#DejaVuSans-43\"/>\n     <use xlink:href=\"#DejaVuSans-75\" x=\"69.824219\"/>\n     <use xlink:href=\"#DejaVuSans-6d\" x=\"133.203125\"/>\n     <use xlink:href=\"#DejaVuSans-75\" x=\"230.615234\"/>\n     <use xlink:href=\"#DejaVuSans-6c\" x=\"293.994141\"/>\n     <use xlink:href=\"#DejaVuSans-61\" x=\"321.777344\"/>\n     <use xlink:href=\"#DejaVuSans-74\" x=\"383.056641\"/>\n     <use xlink:href=\"#DejaVuSans-69\" x=\"422.265625\"/>\n     <use xlink:href=\"#DejaVuSans-76\" x=\"450.048828\"/>\n     <use xlink:href=\"#DejaVuSans-65\" x=\"509.228516\"/>\n     <use xlink:href=\"#DejaVuSans-20\" x=\"570.751953\"/>\n     <use xlink:href=\"#DejaVuSans-70\" x=\"602.539062\"/>\n     <use xlink:href=\"#DejaVuSans-72\" x=\"666.015625\"/>\n     <use xlink:href=\"#DejaVuSans-6f\" x=\"704.878906\"/>\n     <use xlink:href=\"#DejaVuSans-62\" x=\"766.060547\"/>\n     <use xlink:href=\"#DejaVuSans-61\" x=\"829.537109\"/>\n     <use xlink:href=\"#DejaVuSans-62\" x=\"890.816406\"/>\n     <use xlink:href=\"#DejaVuSans-69\" x=\"954.292969\"/>\n     <use xlink:href=\"#DejaVuSans-6c\" x=\"982.076172\"/>\n     <use xlink:href=\"#DejaVuSans-69\" x=\"1009.859375\"/>\n     <use xlink:href=\"#DejaVuSans-74\" x=\"1037.642578\"/>\n     <use xlink:href=\"#DejaVuSans-79\" x=\"1076.851562\"/>\n    </g>\n   </g>\n   <g id=\"legend_1\">\n    <g id=\"patch_111\">\n     <path d=\"M 469.480143 188.98975 \nL 672.152643 188.98975 \nQ 674.552643 188.98975 674.552643 186.58975 \nL 674.552643 152.56225 \nQ 674.552643 150.16225 672.152643 150.16225 \nL 469.480143 150.16225 \nQ 467.080143 150.16225 467.080143 152.56225 \nL 467.080143 186.58975 \nQ 467.080143 188.98975 469.480143 188.98975 \nz\n\" style=\"fill: #ffffff; opacity: 0.8; stroke: #cccccc; stroke-linejoin: miter\"/>\n    </g>\n    <g id=\"line2d_88\">\n     <path d=\"M 471.880143 159.880375 \nL 495.880143 159.880375 \n\" style=\"fill: none; stroke: #0071bc; stroke-width: 1.5\"/>\n    </g>\n    <g id=\"text_28\">\n     <!-- top-k threshold (k=2000) -->\n     <g transform=\"translate(505.480143 164.080375) scale(0.12 -0.12)\">\n      <defs>\n       <path id=\"DejaVuSans-2d\" d=\"M 313 2009 \nL 1997 2009 \nL 1997 1497 \nL 313 1497 \nL 313 2009 \nz\n\" transform=\"scale(0.015625)\"/>\n       <path id=\"DejaVuSans-68\" d=\"M 3513 2113 \nL 3513 0 \nL 2938 0 \nL 2938 2094 \nQ 2938 2591 2744 2837 \nQ 2550 3084 2163 3084 \nQ 1697 3084 1428 2787 \nQ 1159 2491 1159 1978 \nL 1159 0 \nL 581 0 \nL 581 4863 \nL 1159 4863 \nL 1159 2956 \nQ 1366 3272 1645 3428 \nQ 1925 3584 2291 3584 \nQ 2894 3584 3203 3211 \nQ 3513 2838 3513 2113 \nz\n\" transform=\"scale(0.015625)\"/>\n       <path id=\"DejaVuSans-3d\" d=\"M 678 2906 \nL 4684 2906 \nL 4684 2381 \nL 678 2381 \nL 678 2906 \nz\nM 678 1631 \nL 4684 1631 \nL 4684 1100 \nL 678 1100 \nL 678 1631 \nz\n\" transform=\"scale(0.015625)\"/>\n      </defs>\n      <use xlink:href=\"#DejaVuSans-74\"/>\n      <use xlink:href=\"#DejaVuSans-6f\" x=\"39.208984\"/>\n      <use xlink:href=\"#DejaVuSans-70\" x=\"100.390625\"/>\n      <use xlink:href=\"#DejaVuSans-2d\" x=\"163.867188\"/>\n      <use xlink:href=\"#DejaVuSans-6b\" x=\"199.951172\"/>\n      <use xlink:href=\"#DejaVuSans-20\" x=\"257.861328\"/>\n      <use xlink:href=\"#DejaVuSans-74\" x=\"289.648438\"/>\n      <use xlink:href=\"#DejaVuSans-68\" x=\"328.857422\"/>\n      <use xlink:href=\"#DejaVuSans-72\" x=\"392.236328\"/>\n      <use xlink:href=\"#DejaVuSans-65\" x=\"431.099609\"/>\n      <use xlink:href=\"#DejaVuSans-73\" x=\"492.623047\"/>\n      <use xlink:href=\"#DejaVuSans-68\" x=\"544.722656\"/>\n      <use xlink:href=\"#DejaVuSans-6f\" x=\"608.101562\"/>\n      <use xlink:href=\"#DejaVuSans-6c\" x=\"669.283203\"/>\n      <use xlink:href=\"#DejaVuSans-64\" x=\"697.066406\"/>\n      <use xlink:href=\"#DejaVuSans-20\" x=\"760.542969\"/>\n      <use xlink:href=\"#DejaVuSans-28\" x=\"792.330078\"/>\n      <use xlink:href=\"#DejaVuSans-6b\" x=\"831.34375\"/>\n      <use xlink:href=\"#DejaVuSans-3d\" x=\"889.253906\"/>\n      <use xlink:href=\"#DejaVuSans-32\" x=\"973.042969\"/>\n      <use xlink:href=\"#DejaVuSans-30\" x=\"1036.666016\"/>\n      <use xlink:href=\"#DejaVuSans-30\" x=\"1100.289062\"/>\n      <use xlink:href=\"#DejaVuSans-30\" x=\"1163.912109\"/>\n      <use xlink:href=\"#DejaVuSans-29\" x=\"1227.535156\"/>\n     </g>\n    </g>\n    <g id=\"line2d_89\">\n     <path d=\"M 471.880143 177.494125 \nL 495.880143 177.494125 \n\" style=\"fill: none; stroke-dasharray: 5.55,2.4; stroke-dashoffset: 0; stroke: #f7931e; stroke-width: 1.5\"/>\n    </g>\n    <g id=\"text_29\">\n     <!-- nucleus threshold (p=0.95) -->\n     <g transform=\"translate(505.480143 181.694125) scale(0.12 -0.12)\">\n      <use xlink:href=\"#DejaVuSans-6e\"/>\n      <use xlink:href=\"#DejaVuSans-75\" x=\"63.378906\"/>\n      <use xlink:href=\"#DejaVuSans-63\" x=\"126.757812\"/>\n      <use xlink:href=\"#DejaVuSans-6c\" x=\"181.738281\"/>\n      <use xlink:href=\"#DejaVuSans-65\" x=\"209.521484\"/>\n      <use xlink:href=\"#DejaVuSans-75\" x=\"271.044922\"/>\n      <use xlink:href=\"#DejaVuSans-73\" x=\"334.423828\"/>\n      <use xlink:href=\"#DejaVuSans-20\" x=\"386.523438\"/>\n      <use xlink:href=\"#DejaVuSans-74\" x=\"418.310547\"/>\n      <use xlink:href=\"#DejaVuSans-68\" x=\"457.519531\"/>\n      <use xlink:href=\"#DejaVuSans-72\" x=\"520.898438\"/>\n      <use xlink:href=\"#DejaVuSans-65\" x=\"559.761719\"/>\n      <use xlink:href=\"#DejaVuSans-73\" x=\"621.285156\"/>\n      <use xlink:href=\"#DejaVuSans-68\" x=\"673.384766\"/>\n      <use xlink:href=\"#DejaVuSans-6f\" x=\"736.763672\"/>\n      <use xlink:href=\"#DejaVuSans-6c\" x=\"797.945312\"/>\n      <use xlink:href=\"#DejaVuSans-64\" x=\"825.728516\"/>\n      <use xlink:href=\"#DejaVuSans-20\" x=\"889.205078\"/>\n      <use xlink:href=\"#DejaVuSans-28\" x=\"920.992188\"/>\n      <use xlink:href=\"#DejaVuSans-70\" x=\"960.005859\"/>\n      <use xlink:href=\"#DejaVuSans-3d\" x=\"1023.482422\"/>\n      <use xlink:href=\"#DejaVuSans-30\" x=\"1107.271484\"/>\n      <use xlink:href=\"#DejaVuSans-2e\" x=\"1170.894531\"/>\n      <use xlink:href=\"#DejaVuSans-39\" x=\"1202.681641\"/>\n      <use xlink:href=\"#DejaVuSans-35\" x=\"1266.304688\"/>\n      <use xlink:href=\"#DejaVuSans-29\" x=\"1329.927734\"/>\n     </g>\n    </g>\n   </g>\n  </g>\n </g>\n <defs>\n  <clipPath id=\"p3e5ea75798\">\n   <rect x=\"50.93375\" y=\"24.14175\" width=\"281.736898\" height=\"170.848\"/>\n  </clipPath>\n  <clipPath id=\"p1b9654a962\">\n   <rect x=\"398.815744\" y=\"24.14175\" width=\"281.736898\" height=\"170.848\"/>\n  </clipPath>\n </defs>\n</svg>\n",
            "application/pdf": "[encoded data removed]"
          },
          "metadata": {}
        }
      ]
    },
    {
      "cell_type": "code",
      "source": [
        "output_topk = model_large.generate(input_ids, max_length=max_length, do_sample=True,\n",
        "                             top_k=50)\n",
        "print(tokenizer_large.decode(output_topk[0]))"
      ],
      "metadata": {
        "colab": {
          "base_uri": "https://localhost:8080/"
        },
        "id": "uE9WZIkASL66",
        "outputId": "d886935f-4fb5-4cce-91aa-5473f614ac10"
      },
      "execution_count": 49,
      "outputs": [
        {
          "output_type": "stream",
          "name": "stdout",
          "text": [
            "In a shocking finding, scientist discovered a herd of unicorns living in a\n",
            "remote, previously unexplored valley, in the Andes Mountains. Even more\n",
            "surprising to the researchers was the fact that the unicorns spoke perfect\n",
            "English.\n",
            "\n",
            "\n",
            "Scientists from the ICSR Ranch had been traveling to the remote valley looking\n",
            "for water for a massive project to restore water to an ancient lake that is only\n",
            "now being covered by the lush green vegetation once known as Pachamama. Their\n",
            "search for unicorns was sparked by a sighting of a white-cheeked and hornless\n",
            "animal, called a unicorn, among the vegetation on the bank of the\n"
          ]
        }
      ]
    },
    {
      "cell_type": "code",
      "source": [
        "output_topp = model_large.generate(input_ids, max_length=max_length, do_sample=True,\n",
        "                             top_p=0.90)\n",
        "print(tokenizer_large.decode(output_topp[0]))"
      ],
      "metadata": {
        "colab": {
          "base_uri": "https://localhost:8080/"
        },
        "id": "hJ31Yvv-SSWo",
        "outputId": "f717c63d-0822-4a6f-8a87-a82ea930a4a7"
      },
      "execution_count": 50,
      "outputs": [
        {
          "output_type": "stream",
          "name": "stdout",
          "text": [
            "In a shocking finding, scientist discovered a herd of unicorns living in a\n",
            "remote, previously unexplored valley, in the Andes Mountains. Even more\n",
            "surprising to the researchers was the fact that the unicorns spoke perfect\n",
            "English.\n",
            "\n",
            "\n",
            "Advertisement\n",
            "\n",
            "A group of biologists from the University of Connecticut and the Department of\n",
            "Energy's Idaho National Laboratory took note of the unicorns in order to better\n",
            "understand how animals communicate with each other. The animals, called Anzu,\n",
            "are not related to unicorns, but are much more similar to them in terms of how\n",
            "they communicate and how they look.\n",
            "\n",
            "Researchers were surprised by the findings, because\n"
          ]
        }
      ]
    }
  ],
  "metadata": {
    "kernelspec": {
      "display_name": "Python 3",
      "name": "python3"
    },
    "colab": {
      "provenance": [],
      "gpuType": "T4",
      "toc_visible": true
    },
    "accelerator": "GPU",
    "widgets": {
      "application/vnd.jupyter.widget-state+json": {
        "82c5f68d39ce49c883c7903ee532c4f0": {
          "model_module": "@jupyter-widgets/controls",
          "model_name": "HBoxModel",
          "model_module_version": "1.5.0",
          "state": {
            "_dom_classes": [],
            "_model_module": "@jupyter-widgets/controls",
            "_model_module_version": "1.5.0",
            "_model_name": "HBoxModel",
            "_view_count": null,
            "_view_module": "@jupyter-widgets/controls",
            "_view_module_version": "1.5.0",
            "_view_name": "HBoxView",
            "box_style": "",
            "children": [
              "IPY_MODEL_827f4ddef54a47fea7b0edd71d62c8e1",
              "IPY_MODEL_092487c8c47e4c8e8592c9912fad6941",
              "IPY_MODEL_829d36c5f4834bc9bffb530a9dec0af5"
            ],
            "layout": "IPY_MODEL_dc3596a69ddf4aaa97c2caf6219189bb"
          }
        },
        "827f4ddef54a47fea7b0edd71d62c8e1": {
          "model_module": "@jupyter-widgets/controls",
          "model_name": "HTMLModel",
          "model_module_version": "1.5.0",
          "state": {
            "_dom_classes": [],
            "_model_module": "@jupyter-widgets/controls",
            "_model_module_version": "1.5.0",
            "_model_name": "HTMLModel",
            "_view_count": null,
            "_view_module": "@jupyter-widgets/controls",
            "_view_module_version": "1.5.0",
            "_view_name": "HTMLView",
            "description": "",
            "description_tooltip": null,
            "layout": "IPY_MODEL_d37588b6720b401db0c4ef7a680ff175",
            "placeholder": "​",
            "style": "IPY_MODEL_9014da9c3b5f47589d8f2c890512773b",
            "value": "Downloading: 100%"
          }
        },
        "092487c8c47e4c8e8592c9912fad6941": {
          "model_module": "@jupyter-widgets/controls",
          "model_name": "FloatProgressModel",
          "model_module_version": "1.5.0",
          "state": {
            "_dom_classes": [],
            "_model_module": "@jupyter-widgets/controls",
            "_model_module_version": "1.5.0",
            "_model_name": "FloatProgressModel",
            "_view_count": null,
            "_view_module": "@jupyter-widgets/controls",
            "_view_module_version": "1.5.0",
            "_view_name": "ProgressView",
            "bar_style": "success",
            "description": "",
            "description_tooltip": null,
            "layout": "IPY_MODEL_127f5c69d6e74190a2f6be1029f63abd",
            "max": 718,
            "min": 0,
            "orientation": "horizontal",
            "style": "IPY_MODEL_1f675e7cfd3946ee8204435ff778c903",
            "value": 718
          }
        },
        "829d36c5f4834bc9bffb530a9dec0af5": {
          "model_module": "@jupyter-widgets/controls",
          "model_name": "HTMLModel",
          "model_module_version": "1.5.0",
          "state": {
            "_dom_classes": [],
            "_model_module": "@jupyter-widgets/controls",
            "_model_module_version": "1.5.0",
            "_model_name": "HTMLModel",
            "_view_count": null,
            "_view_module": "@jupyter-widgets/controls",
            "_view_module_version": "1.5.0",
            "_view_name": "HTMLView",
            "description": "",
            "description_tooltip": null,
            "layout": "IPY_MODEL_e7b98b14308e469882ef5003443e23ae",
            "placeholder": "​",
            "style": "IPY_MODEL_3a0a7ca3b8a74af09ec92349667e7b47",
            "value": " 718/718 [00:00&lt;00:00, 46.7kB/s]"
          }
        },
        "dc3596a69ddf4aaa97c2caf6219189bb": {
          "model_module": "@jupyter-widgets/base",
          "model_name": "LayoutModel",
          "model_module_version": "1.2.0",
          "state": {
            "_model_module": "@jupyter-widgets/base",
            "_model_module_version": "1.2.0",
            "_model_name": "LayoutModel",
            "_view_count": null,
            "_view_module": "@jupyter-widgets/base",
            "_view_module_version": "1.2.0",
            "_view_name": "LayoutView",
            "align_content": null,
            "align_items": null,
            "align_self": null,
            "border": null,
            "bottom": null,
            "display": null,
            "flex": null,
            "flex_flow": null,
            "grid_area": null,
            "grid_auto_columns": null,
            "grid_auto_flow": null,
            "grid_auto_rows": null,
            "grid_column": null,
            "grid_gap": null,
            "grid_row": null,
            "grid_template_areas": null,
            "grid_template_columns": null,
            "grid_template_rows": null,
            "height": null,
            "justify_content": null,
            "justify_items": null,
            "left": null,
            "margin": null,
            "max_height": null,
            "max_width": null,
            "min_height": null,
            "min_width": null,
            "object_fit": null,
            "object_position": null,
            "order": null,
            "overflow": null,
            "overflow_x": null,
            "overflow_y": null,
            "padding": null,
            "right": null,
            "top": null,
            "visibility": null,
            "width": null
          }
        },
        "d37588b6720b401db0c4ef7a680ff175": {
          "model_module": "@jupyter-widgets/base",
          "model_name": "LayoutModel",
          "model_module_version": "1.2.0",
          "state": {
            "_model_module": "@jupyter-widgets/base",
            "_model_module_version": "1.2.0",
            "_model_name": "LayoutModel",
            "_view_count": null,
            "_view_module": "@jupyter-widgets/base",
            "_view_module_version": "1.2.0",
            "_view_name": "LayoutView",
            "align_content": null,
            "align_items": null,
            "align_self": null,
            "border": null,
            "bottom": null,
            "display": null,
            "flex": null,
            "flex_flow": null,
            "grid_area": null,
            "grid_auto_columns": null,
            "grid_auto_flow": null,
            "grid_auto_rows": null,
            "grid_column": null,
            "grid_gap": null,
            "grid_row": null,
            "grid_template_areas": null,
            "grid_template_columns": null,
            "grid_template_rows": null,
            "height": null,
            "justify_content": null,
            "justify_items": null,
            "left": null,
            "margin": null,
            "max_height": null,
            "max_width": null,
            "min_height": null,
            "min_width": null,
            "object_fit": null,
            "object_position": null,
            "order": null,
            "overflow": null,
            "overflow_x": null,
            "overflow_y": null,
            "padding": null,
            "right": null,
            "top": null,
            "visibility": null,
            "width": null
          }
        },
        "9014da9c3b5f47589d8f2c890512773b": {
          "model_module": "@jupyter-widgets/controls",
          "model_name": "DescriptionStyleModel",
          "model_module_version": "1.5.0",
          "state": {
            "_model_module": "@jupyter-widgets/controls",
            "_model_module_version": "1.5.0",
            "_model_name": "DescriptionStyleModel",
            "_view_count": null,
            "_view_module": "@jupyter-widgets/base",
            "_view_module_version": "1.2.0",
            "_view_name": "StyleView",
            "description_width": ""
          }
        },
        "127f5c69d6e74190a2f6be1029f63abd": {
          "model_module": "@jupyter-widgets/base",
          "model_name": "LayoutModel",
          "model_module_version": "1.2.0",
          "state": {
            "_model_module": "@jupyter-widgets/base",
            "_model_module_version": "1.2.0",
            "_model_name": "LayoutModel",
            "_view_count": null,
            "_view_module": "@jupyter-widgets/base",
            "_view_module_version": "1.2.0",
            "_view_name": "LayoutView",
            "align_content": null,
            "align_items": null,
            "align_self": null,
            "border": null,
            "bottom": null,
            "display": null,
            "flex": null,
            "flex_flow": null,
            "grid_area": null,
            "grid_auto_columns": null,
            "grid_auto_flow": null,
            "grid_auto_rows": null,
            "grid_column": null,
            "grid_gap": null,
            "grid_row": null,
            "grid_template_areas": null,
            "grid_template_columns": null,
            "grid_template_rows": null,
            "height": null,
            "justify_content": null,
            "justify_items": null,
            "left": null,
            "margin": null,
            "max_height": null,
            "max_width": null,
            "min_height": null,
            "min_width": null,
            "object_fit": null,
            "object_position": null,
            "order": null,
            "overflow": null,
            "overflow_x": null,
            "overflow_y": null,
            "padding": null,
            "right": null,
            "top": null,
            "visibility": null,
            "width": null
          }
        },
        "1f675e7cfd3946ee8204435ff778c903": {
          "model_module": "@jupyter-widgets/controls",
          "model_name": "ProgressStyleModel",
          "model_module_version": "1.5.0",
          "state": {
            "_model_module": "@jupyter-widgets/controls",
            "_model_module_version": "1.5.0",
            "_model_name": "ProgressStyleModel",
            "_view_count": null,
            "_view_module": "@jupyter-widgets/base",
            "_view_module_version": "1.2.0",
            "_view_name": "StyleView",
            "bar_color": null,
            "description_width": ""
          }
        },
        "e7b98b14308e469882ef5003443e23ae": {
          "model_module": "@jupyter-widgets/base",
          "model_name": "LayoutModel",
          "model_module_version": "1.2.0",
          "state": {
            "_model_module": "@jupyter-widgets/base",
            "_model_module_version": "1.2.0",
            "_model_name": "LayoutModel",
            "_view_count": null,
            "_view_module": "@jupyter-widgets/base",
            "_view_module_version": "1.2.0",
            "_view_name": "LayoutView",
            "align_content": null,
            "align_items": null,
            "align_self": null,
            "border": null,
            "bottom": null,
            "display": null,
            "flex": null,
            "flex_flow": null,
            "grid_area": null,
            "grid_auto_columns": null,
            "grid_auto_flow": null,
            "grid_auto_rows": null,
            "grid_column": null,
            "grid_gap": null,
            "grid_row": null,
            "grid_template_areas": null,
            "grid_template_columns": null,
            "grid_template_rows": null,
            "height": null,
            "justify_content": null,
            "justify_items": null,
            "left": null,
            "margin": null,
            "max_height": null,
            "max_width": null,
            "min_height": null,
            "min_width": null,
            "object_fit": null,
            "object_position": null,
            "order": null,
            "overflow": null,
            "overflow_x": null,
            "overflow_y": null,
            "padding": null,
            "right": null,
            "top": null,
            "visibility": null,
            "width": null
          }
        },
        "3a0a7ca3b8a74af09ec92349667e7b47": {
          "model_module": "@jupyter-widgets/controls",
          "model_name": "DescriptionStyleModel",
          "model_module_version": "1.5.0",
          "state": {
            "_model_module": "@jupyter-widgets/controls",
            "_model_module_version": "1.5.0",
            "_model_name": "DescriptionStyleModel",
            "_view_count": null,
            "_view_module": "@jupyter-widgets/base",
            "_view_module_version": "1.2.0",
            "_view_name": "StyleView",
            "description_width": ""
          }
        },
        "c223c7353377451c9380719bcf3e9a2d": {
          "model_module": "@jupyter-widgets/controls",
          "model_name": "HBoxModel",
          "model_module_version": "1.5.0",
          "state": {
            "_dom_classes": [],
            "_model_module": "@jupyter-widgets/controls",
            "_model_module_version": "1.5.0",
            "_model_name": "HBoxModel",
            "_view_count": null,
            "_view_module": "@jupyter-widgets/controls",
            "_view_module_version": "1.5.0",
            "_view_name": "HBoxView",
            "box_style": "",
            "children": [
              "IPY_MODEL_9ed92fd1d7104ef3a425cd93debc18bd",
              "IPY_MODEL_cdca0d7650ba4d41be76257fb8e6f380",
              "IPY_MODEL_245c60a3785c4614af5c8bf22bc365bb"
            ],
            "layout": "IPY_MODEL_28dae8ebf82f427cb54a4ba42f84cf3a"
          }
        },
        "9ed92fd1d7104ef3a425cd93debc18bd": {
          "model_module": "@jupyter-widgets/controls",
          "model_name": "HTMLModel",
          "model_module_version": "1.5.0",
          "state": {
            "_dom_classes": [],
            "_model_module": "@jupyter-widgets/controls",
            "_model_module_version": "1.5.0",
            "_model_name": "HTMLModel",
            "_view_count": null,
            "_view_module": "@jupyter-widgets/controls",
            "_view_module_version": "1.5.0",
            "_view_name": "HTMLView",
            "description": "",
            "description_tooltip": null,
            "layout": "IPY_MODEL_c0002158de254c1c9e2b7dd1d8e1b5a2",
            "placeholder": "​",
            "style": "IPY_MODEL_9eb3543c64c24e00a1fb4a2b2d4ccf0b",
            "value": "Downloading: 100%"
          }
        },
        "cdca0d7650ba4d41be76257fb8e6f380": {
          "model_module": "@jupyter-widgets/controls",
          "model_name": "FloatProgressModel",
          "model_module_version": "1.5.0",
          "state": {
            "_dom_classes": [],
            "_model_module": "@jupyter-widgets/controls",
            "_model_module_version": "1.5.0",
            "_model_name": "FloatProgressModel",
            "_view_count": null,
            "_view_module": "@jupyter-widgets/controls",
            "_view_module_version": "1.5.0",
            "_view_name": "ProgressView",
            "bar_style": "success",
            "description": "",
            "description_tooltip": null,
            "layout": "IPY_MODEL_080e5f4394e649cea5ff34713a911a68",
            "max": 1042301,
            "min": 0,
            "orientation": "horizontal",
            "style": "IPY_MODEL_682f5faf7e3b4855bef52269643db96a",
            "value": 1042301
          }
        },
        "245c60a3785c4614af5c8bf22bc365bb": {
          "model_module": "@jupyter-widgets/controls",
          "model_name": "HTMLModel",
          "model_module_version": "1.5.0",
          "state": {
            "_dom_classes": [],
            "_model_module": "@jupyter-widgets/controls",
            "_model_module_version": "1.5.0",
            "_model_name": "HTMLModel",
            "_view_count": null,
            "_view_module": "@jupyter-widgets/controls",
            "_view_module_version": "1.5.0",
            "_view_name": "HTMLView",
            "description": "",
            "description_tooltip": null,
            "layout": "IPY_MODEL_aa68cedcc3054d8a9af9e02d9d5d75bc",
            "placeholder": "​",
            "style": "IPY_MODEL_1dade3e1351f4b35893dbf9aa3df8e16",
            "value": " 0.99M/0.99M [00:00&lt;00:00, 1.56MB/s]"
          }
        },
        "28dae8ebf82f427cb54a4ba42f84cf3a": {
          "model_module": "@jupyter-widgets/base",
          "model_name": "LayoutModel",
          "model_module_version": "1.2.0",
          "state": {
            "_model_module": "@jupyter-widgets/base",
            "_model_module_version": "1.2.0",
            "_model_name": "LayoutModel",
            "_view_count": null,
            "_view_module": "@jupyter-widgets/base",
            "_view_module_version": "1.2.0",
            "_view_name": "LayoutView",
            "align_content": null,
            "align_items": null,
            "align_self": null,
            "border": null,
            "bottom": null,
            "display": null,
            "flex": null,
            "flex_flow": null,
            "grid_area": null,
            "grid_auto_columns": null,
            "grid_auto_flow": null,
            "grid_auto_rows": null,
            "grid_column": null,
            "grid_gap": null,
            "grid_row": null,
            "grid_template_areas": null,
            "grid_template_columns": null,
            "grid_template_rows": null,
            "height": null,
            "justify_content": null,
            "justify_items": null,
            "left": null,
            "margin": null,
            "max_height": null,
            "max_width": null,
            "min_height": null,
            "min_width": null,
            "object_fit": null,
            "object_position": null,
            "order": null,
            "overflow": null,
            "overflow_x": null,
            "overflow_y": null,
            "padding": null,
            "right": null,
            "top": null,
            "visibility": null,
            "width": null
          }
        },
        "c0002158de254c1c9e2b7dd1d8e1b5a2": {
          "model_module": "@jupyter-widgets/base",
          "model_name": "LayoutModel",
          "model_module_version": "1.2.0",
          "state": {
            "_model_module": "@jupyter-widgets/base",
            "_model_module_version": "1.2.0",
            "_model_name": "LayoutModel",
            "_view_count": null,
            "_view_module": "@jupyter-widgets/base",
            "_view_module_version": "1.2.0",
            "_view_name": "LayoutView",
            "align_content": null,
            "align_items": null,
            "align_self": null,
            "border": null,
            "bottom": null,
            "display": null,
            "flex": null,
            "flex_flow": null,
            "grid_area": null,
            "grid_auto_columns": null,
            "grid_auto_flow": null,
            "grid_auto_rows": null,
            "grid_column": null,
            "grid_gap": null,
            "grid_row": null,
            "grid_template_areas": null,
            "grid_template_columns": null,
            "grid_template_rows": null,
            "height": null,
            "justify_content": null,
            "justify_items": null,
            "left": null,
            "margin": null,
            "max_height": null,
            "max_width": null,
            "min_height": null,
            "min_width": null,
            "object_fit": null,
            "object_position": null,
            "order": null,
            "overflow": null,
            "overflow_x": null,
            "overflow_y": null,
            "padding": null,
            "right": null,
            "top": null,
            "visibility": null,
            "width": null
          }
        },
        "9eb3543c64c24e00a1fb4a2b2d4ccf0b": {
          "model_module": "@jupyter-widgets/controls",
          "model_name": "DescriptionStyleModel",
          "model_module_version": "1.5.0",
          "state": {
            "_model_module": "@jupyter-widgets/controls",
            "_model_module_version": "1.5.0",
            "_model_name": "DescriptionStyleModel",
            "_view_count": null,
            "_view_module": "@jupyter-widgets/base",
            "_view_module_version": "1.2.0",
            "_view_name": "StyleView",
            "description_width": ""
          }
        },
        "080e5f4394e649cea5ff34713a911a68": {
          "model_module": "@jupyter-widgets/base",
          "model_name": "LayoutModel",
          "model_module_version": "1.2.0",
          "state": {
            "_model_module": "@jupyter-widgets/base",
            "_model_module_version": "1.2.0",
            "_model_name": "LayoutModel",
            "_view_count": null,
            "_view_module": "@jupyter-widgets/base",
            "_view_module_version": "1.2.0",
            "_view_name": "LayoutView",
            "align_content": null,
            "align_items": null,
            "align_self": null,
            "border": null,
            "bottom": null,
            "display": null,
            "flex": null,
            "flex_flow": null,
            "grid_area": null,
            "grid_auto_columns": null,
            "grid_auto_flow": null,
            "grid_auto_rows": null,
            "grid_column": null,
            "grid_gap": null,
            "grid_row": null,
            "grid_template_areas": null,
            "grid_template_columns": null,
            "grid_template_rows": null,
            "height": null,
            "justify_content": null,
            "justify_items": null,
            "left": null,
            "margin": null,
            "max_height": null,
            "max_width": null,
            "min_height": null,
            "min_width": null,
            "object_fit": null,
            "object_position": null,
            "order": null,
            "overflow": null,
            "overflow_x": null,
            "overflow_y": null,
            "padding": null,
            "right": null,
            "top": null,
            "visibility": null,
            "width": null
          }
        },
        "682f5faf7e3b4855bef52269643db96a": {
          "model_module": "@jupyter-widgets/controls",
          "model_name": "ProgressStyleModel",
          "model_module_version": "1.5.0",
          "state": {
            "_model_module": "@jupyter-widgets/controls",
            "_model_module_version": "1.5.0",
            "_model_name": "ProgressStyleModel",
            "_view_count": null,
            "_view_module": "@jupyter-widgets/base",
            "_view_module_version": "1.2.0",
            "_view_name": "StyleView",
            "bar_color": null,
            "description_width": ""
          }
        },
        "aa68cedcc3054d8a9af9e02d9d5d75bc": {
          "model_module": "@jupyter-widgets/base",
          "model_name": "LayoutModel",
          "model_module_version": "1.2.0",
          "state": {
            "_model_module": "@jupyter-widgets/base",
            "_model_module_version": "1.2.0",
            "_model_name": "LayoutModel",
            "_view_count": null,
            "_view_module": "@jupyter-widgets/base",
            "_view_module_version": "1.2.0",
            "_view_name": "LayoutView",
            "align_content": null,
            "align_items": null,
            "align_self": null,
            "border": null,
            "bottom": null,
            "display": null,
            "flex": null,
            "flex_flow": null,
            "grid_area": null,
            "grid_auto_columns": null,
            "grid_auto_flow": null,
            "grid_auto_rows": null,
            "grid_column": null,
            "grid_gap": null,
            "grid_row": null,
            "grid_template_areas": null,
            "grid_template_columns": null,
            "grid_template_rows": null,
            "height": null,
            "justify_content": null,
            "justify_items": null,
            "left": null,
            "margin": null,
            "max_height": null,
            "max_width": null,
            "min_height": null,
            "min_width": null,
            "object_fit": null,
            "object_position": null,
            "order": null,
            "overflow": null,
            "overflow_x": null,
            "overflow_y": null,
            "padding": null,
            "right": null,
            "top": null,
            "visibility": null,
            "width": null
          }
        },
        "1dade3e1351f4b35893dbf9aa3df8e16": {
          "model_module": "@jupyter-widgets/controls",
          "model_name": "DescriptionStyleModel",
          "model_module_version": "1.5.0",
          "state": {
            "_model_module": "@jupyter-widgets/controls",
            "_model_module_version": "1.5.0",
            "_model_name": "DescriptionStyleModel",
            "_view_count": null,
            "_view_module": "@jupyter-widgets/base",
            "_view_module_version": "1.2.0",
            "_view_name": "StyleView",
            "description_width": ""
          }
        },
        "766bc824e083459793b9dffc65066fea": {
          "model_module": "@jupyter-widgets/controls",
          "model_name": "HBoxModel",
          "model_module_version": "1.5.0",
          "state": {
            "_dom_classes": [],
            "_model_module": "@jupyter-widgets/controls",
            "_model_module_version": "1.5.0",
            "_model_name": "HBoxModel",
            "_view_count": null,
            "_view_module": "@jupyter-widgets/controls",
            "_view_module_version": "1.5.0",
            "_view_name": "HBoxView",
            "box_style": "",
            "children": [
              "IPY_MODEL_218c52a954324308afd90b78b5c93af5",
              "IPY_MODEL_cb3ceb76a3754a9686a160c7768edd47",
              "IPY_MODEL_bd99f85b940a4041b7d77d0aa73f4bf3"
            ],
            "layout": "IPY_MODEL_6554a2c3f7974856b6ebfb7ff71382fa"
          }
        },
        "218c52a954324308afd90b78b5c93af5": {
          "model_module": "@jupyter-widgets/controls",
          "model_name": "HTMLModel",
          "model_module_version": "1.5.0",
          "state": {
            "_dom_classes": [],
            "_model_module": "@jupyter-widgets/controls",
            "_model_module_version": "1.5.0",
            "_model_name": "HTMLModel",
            "_view_count": null,
            "_view_module": "@jupyter-widgets/controls",
            "_view_module_version": "1.5.0",
            "_view_name": "HTMLView",
            "description": "",
            "description_tooltip": null,
            "layout": "IPY_MODEL_f2b03d4f81564892838b6323eb5d1272",
            "placeholder": "​",
            "style": "IPY_MODEL_9ad4c59882fb4a5585ca30674a64fa63",
            "value": "Downloading: 100%"
          }
        },
        "cb3ceb76a3754a9686a160c7768edd47": {
          "model_module": "@jupyter-widgets/controls",
          "model_name": "FloatProgressModel",
          "model_module_version": "1.5.0",
          "state": {
            "_dom_classes": [],
            "_model_module": "@jupyter-widgets/controls",
            "_model_module_version": "1.5.0",
            "_model_name": "FloatProgressModel",
            "_view_count": null,
            "_view_module": "@jupyter-widgets/controls",
            "_view_module_version": "1.5.0",
            "_view_name": "ProgressView",
            "bar_style": "success",
            "description": "",
            "description_tooltip": null,
            "layout": "IPY_MODEL_13430921143a4b34890221d8032a2661",
            "max": 456318,
            "min": 0,
            "orientation": "horizontal",
            "style": "IPY_MODEL_80a7e17aca604ad88b7c0585e8a41ba8",
            "value": 456318
          }
        },
        "bd99f85b940a4041b7d77d0aa73f4bf3": {
          "model_module": "@jupyter-widgets/controls",
          "model_name": "HTMLModel",
          "model_module_version": "1.5.0",
          "state": {
            "_dom_classes": [],
            "_model_module": "@jupyter-widgets/controls",
            "_model_module_version": "1.5.0",
            "_model_name": "HTMLModel",
            "_view_count": null,
            "_view_module": "@jupyter-widgets/controls",
            "_view_module_version": "1.5.0",
            "_view_name": "HTMLView",
            "description": "",
            "description_tooltip": null,
            "layout": "IPY_MODEL_6e0b7b42e1b84ff8b095b787791c59cc",
            "placeholder": "​",
            "style": "IPY_MODEL_9448bdd5da9b4bce9a19279c2f4798d1",
            "value": " 446k/446k [00:00&lt;00:00, 939kB/s]"
          }
        },
        "6554a2c3f7974856b6ebfb7ff71382fa": {
          "model_module": "@jupyter-widgets/base",
          "model_name": "LayoutModel",
          "model_module_version": "1.2.0",
          "state": {
            "_model_module": "@jupyter-widgets/base",
            "_model_module_version": "1.2.0",
            "_model_name": "LayoutModel",
            "_view_count": null,
            "_view_module": "@jupyter-widgets/base",
            "_view_module_version": "1.2.0",
            "_view_name": "LayoutView",
            "align_content": null,
            "align_items": null,
            "align_self": null,
            "border": null,
            "bottom": null,
            "display": null,
            "flex": null,
            "flex_flow": null,
            "grid_area": null,
            "grid_auto_columns": null,
            "grid_auto_flow": null,
            "grid_auto_rows": null,
            "grid_column": null,
            "grid_gap": null,
            "grid_row": null,
            "grid_template_areas": null,
            "grid_template_columns": null,
            "grid_template_rows": null,
            "height": null,
            "justify_content": null,
            "justify_items": null,
            "left": null,
            "margin": null,
            "max_height": null,
            "max_width": null,
            "min_height": null,
            "min_width": null,
            "object_fit": null,
            "object_position": null,
            "order": null,
            "overflow": null,
            "overflow_x": null,
            "overflow_y": null,
            "padding": null,
            "right": null,
            "top": null,
            "visibility": null,
            "width": null
          }
        },
        "f2b03d4f81564892838b6323eb5d1272": {
          "model_module": "@jupyter-widgets/base",
          "model_name": "LayoutModel",
          "model_module_version": "1.2.0",
          "state": {
            "_model_module": "@jupyter-widgets/base",
            "_model_module_version": "1.2.0",
            "_model_name": "LayoutModel",
            "_view_count": null,
            "_view_module": "@jupyter-widgets/base",
            "_view_module_version": "1.2.0",
            "_view_name": "LayoutView",
            "align_content": null,
            "align_items": null,
            "align_self": null,
            "border": null,
            "bottom": null,
            "display": null,
            "flex": null,
            "flex_flow": null,
            "grid_area": null,
            "grid_auto_columns": null,
            "grid_auto_flow": null,
            "grid_auto_rows": null,
            "grid_column": null,
            "grid_gap": null,
            "grid_row": null,
            "grid_template_areas": null,
            "grid_template_columns": null,
            "grid_template_rows": null,
            "height": null,
            "justify_content": null,
            "justify_items": null,
            "left": null,
            "margin": null,
            "max_height": null,
            "max_width": null,
            "min_height": null,
            "min_width": null,
            "object_fit": null,
            "object_position": null,
            "order": null,
            "overflow": null,
            "overflow_x": null,
            "overflow_y": null,
            "padding": null,
            "right": null,
            "top": null,
            "visibility": null,
            "width": null
          }
        },
        "9ad4c59882fb4a5585ca30674a64fa63": {
          "model_module": "@jupyter-widgets/controls",
          "model_name": "DescriptionStyleModel",
          "model_module_version": "1.5.0",
          "state": {
            "_model_module": "@jupyter-widgets/controls",
            "_model_module_version": "1.5.0",
            "_model_name": "DescriptionStyleModel",
            "_view_count": null,
            "_view_module": "@jupyter-widgets/base",
            "_view_module_version": "1.2.0",
            "_view_name": "StyleView",
            "description_width": ""
          }
        },
        "13430921143a4b34890221d8032a2661": {
          "model_module": "@jupyter-widgets/base",
          "model_name": "LayoutModel",
          "model_module_version": "1.2.0",
          "state": {
            "_model_module": "@jupyter-widgets/base",
            "_model_module_version": "1.2.0",
            "_model_name": "LayoutModel",
            "_view_count": null,
            "_view_module": "@jupyter-widgets/base",
            "_view_module_version": "1.2.0",
            "_view_name": "LayoutView",
            "align_content": null,
            "align_items": null,
            "align_self": null,
            "border": null,
            "bottom": null,
            "display": null,
            "flex": null,
            "flex_flow": null,
            "grid_area": null,
            "grid_auto_columns": null,
            "grid_auto_flow": null,
            "grid_auto_rows": null,
            "grid_column": null,
            "grid_gap": null,
            "grid_row": null,
            "grid_template_areas": null,
            "grid_template_columns": null,
            "grid_template_rows": null,
            "height": null,
            "justify_content": null,
            "justify_items": null,
            "left": null,
            "margin": null,
            "max_height": null,
            "max_width": null,
            "min_height": null,
            "min_width": null,
            "object_fit": null,
            "object_position": null,
            "order": null,
            "overflow": null,
            "overflow_x": null,
            "overflow_y": null,
            "padding": null,
            "right": null,
            "top": null,
            "visibility": null,
            "width": null
          }
        },
        "80a7e17aca604ad88b7c0585e8a41ba8": {
          "model_module": "@jupyter-widgets/controls",
          "model_name": "ProgressStyleModel",
          "model_module_version": "1.5.0",
          "state": {
            "_model_module": "@jupyter-widgets/controls",
            "_model_module_version": "1.5.0",
            "_model_name": "ProgressStyleModel",
            "_view_count": null,
            "_view_module": "@jupyter-widgets/base",
            "_view_module_version": "1.2.0",
            "_view_name": "StyleView",
            "bar_color": null,
            "description_width": ""
          }
        },
        "6e0b7b42e1b84ff8b095b787791c59cc": {
          "model_module": "@jupyter-widgets/base",
          "model_name": "LayoutModel",
          "model_module_version": "1.2.0",
          "state": {
            "_model_module": "@jupyter-widgets/base",
            "_model_module_version": "1.2.0",
            "_model_name": "LayoutModel",
            "_view_count": null,
            "_view_module": "@jupyter-widgets/base",
            "_view_module_version": "1.2.0",
            "_view_name": "LayoutView",
            "align_content": null,
            "align_items": null,
            "align_self": null,
            "border": null,
            "bottom": null,
            "display": null,
            "flex": null,
            "flex_flow": null,
            "grid_area": null,
            "grid_auto_columns": null,
            "grid_auto_flow": null,
            "grid_auto_rows": null,
            "grid_column": null,
            "grid_gap": null,
            "grid_row": null,
            "grid_template_areas": null,
            "grid_template_columns": null,
            "grid_template_rows": null,
            "height": null,
            "justify_content": null,
            "justify_items": null,
            "left": null,
            "margin": null,
            "max_height": null,
            "max_width": null,
            "min_height": null,
            "min_width": null,
            "object_fit": null,
            "object_position": null,
            "order": null,
            "overflow": null,
            "overflow_x": null,
            "overflow_y": null,
            "padding": null,
            "right": null,
            "top": null,
            "visibility": null,
            "width": null
          }
        },
        "9448bdd5da9b4bce9a19279c2f4798d1": {
          "model_module": "@jupyter-widgets/controls",
          "model_name": "DescriptionStyleModel",
          "model_module_version": "1.5.0",
          "state": {
            "_model_module": "@jupyter-widgets/controls",
            "_model_module_version": "1.5.0",
            "_model_name": "DescriptionStyleModel",
            "_view_count": null,
            "_view_module": "@jupyter-widgets/base",
            "_view_module_version": "1.2.0",
            "_view_name": "StyleView",
            "description_width": ""
          }
        },
        "479a01c111ec4a05bee056478aca7ae9": {
          "model_module": "@jupyter-widgets/controls",
          "model_name": "HBoxModel",
          "model_module_version": "1.5.0",
          "state": {
            "_dom_classes": [],
            "_model_module": "@jupyter-widgets/controls",
            "_model_module_version": "1.5.0",
            "_model_name": "HBoxModel",
            "_view_count": null,
            "_view_module": "@jupyter-widgets/controls",
            "_view_module_version": "1.5.0",
            "_view_name": "HBoxView",
            "box_style": "",
            "children": [
              "IPY_MODEL_70475e9529e348f08bef213c7ff21fd4",
              "IPY_MODEL_442dd1530b514b1aa9cec21b7cf01e76",
              "IPY_MODEL_dca66ef063ec4bb5ac9fee69af49adb9"
            ],
            "layout": "IPY_MODEL_d9685b8cfa44472a8b2d796fd9483f5e"
          }
        },
        "70475e9529e348f08bef213c7ff21fd4": {
          "model_module": "@jupyter-widgets/controls",
          "model_name": "HTMLModel",
          "model_module_version": "1.5.0",
          "state": {
            "_dom_classes": [],
            "_model_module": "@jupyter-widgets/controls",
            "_model_module_version": "1.5.0",
            "_model_name": "HTMLModel",
            "_view_count": null,
            "_view_module": "@jupyter-widgets/controls",
            "_view_module_version": "1.5.0",
            "_view_name": "HTMLView",
            "description": "",
            "description_tooltip": null,
            "layout": "IPY_MODEL_32f63e2aac6143718589f761818d8851",
            "placeholder": "​",
            "style": "IPY_MODEL_d3389704e53b45bc9f8a6efd2d3350e4",
            "value": "Downloading: 100%"
          }
        },
        "442dd1530b514b1aa9cec21b7cf01e76": {
          "model_module": "@jupyter-widgets/controls",
          "model_name": "FloatProgressModel",
          "model_module_version": "1.5.0",
          "state": {
            "_dom_classes": [],
            "_model_module": "@jupyter-widgets/controls",
            "_model_module_version": "1.5.0",
            "_model_name": "FloatProgressModel",
            "_view_count": null,
            "_view_module": "@jupyter-widgets/controls",
            "_view_module_version": "1.5.0",
            "_view_name": "ProgressView",
            "bar_style": "success",
            "description": "",
            "description_tooltip": null,
            "layout": "IPY_MODEL_7c3301ebf4184a159976f24f581f91b7",
            "max": 1355256,
            "min": 0,
            "orientation": "horizontal",
            "style": "IPY_MODEL_d05068c3696e4e4aa642a9c62d3a4f3f",
            "value": 1355256
          }
        },
        "dca66ef063ec4bb5ac9fee69af49adb9": {
          "model_module": "@jupyter-widgets/controls",
          "model_name": "HTMLModel",
          "model_module_version": "1.5.0",
          "state": {
            "_dom_classes": [],
            "_model_module": "@jupyter-widgets/controls",
            "_model_module_version": "1.5.0",
            "_model_name": "HTMLModel",
            "_view_count": null,
            "_view_module": "@jupyter-widgets/controls",
            "_view_module_version": "1.5.0",
            "_view_name": "HTMLView",
            "description": "",
            "description_tooltip": null,
            "layout": "IPY_MODEL_6b16a3ef222e48b4ac3de96fe8d5177e",
            "placeholder": "​",
            "style": "IPY_MODEL_3a7ef577357042f3af337090baff2cff",
            "value": " 1.29M/1.29M [00:00&lt;00:00, 2.23MB/s]"
          }
        },
        "d9685b8cfa44472a8b2d796fd9483f5e": {
          "model_module": "@jupyter-widgets/base",
          "model_name": "LayoutModel",
          "model_module_version": "1.2.0",
          "state": {
            "_model_module": "@jupyter-widgets/base",
            "_model_module_version": "1.2.0",
            "_model_name": "LayoutModel",
            "_view_count": null,
            "_view_module": "@jupyter-widgets/base",
            "_view_module_version": "1.2.0",
            "_view_name": "LayoutView",
            "align_content": null,
            "align_items": null,
            "align_self": null,
            "border": null,
            "bottom": null,
            "display": null,
            "flex": null,
            "flex_flow": null,
            "grid_area": null,
            "grid_auto_columns": null,
            "grid_auto_flow": null,
            "grid_auto_rows": null,
            "grid_column": null,
            "grid_gap": null,
            "grid_row": null,
            "grid_template_areas": null,
            "grid_template_columns": null,
            "grid_template_rows": null,
            "height": null,
            "justify_content": null,
            "justify_items": null,
            "left": null,
            "margin": null,
            "max_height": null,
            "max_width": null,
            "min_height": null,
            "min_width": null,
            "object_fit": null,
            "object_position": null,
            "order": null,
            "overflow": null,
            "overflow_x": null,
            "overflow_y": null,
            "padding": null,
            "right": null,
            "top": null,
            "visibility": null,
            "width": null
          }
        },
        "32f63e2aac6143718589f761818d8851": {
          "model_module": "@jupyter-widgets/base",
          "model_name": "LayoutModel",
          "model_module_version": "1.2.0",
          "state": {
            "_model_module": "@jupyter-widgets/base",
            "_model_module_version": "1.2.0",
            "_model_name": "LayoutModel",
            "_view_count": null,
            "_view_module": "@jupyter-widgets/base",
            "_view_module_version": "1.2.0",
            "_view_name": "LayoutView",
            "align_content": null,
            "align_items": null,
            "align_self": null,
            "border": null,
            "bottom": null,
            "display": null,
            "flex": null,
            "flex_flow": null,
            "grid_area": null,
            "grid_auto_columns": null,
            "grid_auto_flow": null,
            "grid_auto_rows": null,
            "grid_column": null,
            "grid_gap": null,
            "grid_row": null,
            "grid_template_areas": null,
            "grid_template_columns": null,
            "grid_template_rows": null,
            "height": null,
            "justify_content": null,
            "justify_items": null,
            "left": null,
            "margin": null,
            "max_height": null,
            "max_width": null,
            "min_height": null,
            "min_width": null,
            "object_fit": null,
            "object_position": null,
            "order": null,
            "overflow": null,
            "overflow_x": null,
            "overflow_y": null,
            "padding": null,
            "right": null,
            "top": null,
            "visibility": null,
            "width": null
          }
        },
        "d3389704e53b45bc9f8a6efd2d3350e4": {
          "model_module": "@jupyter-widgets/controls",
          "model_name": "DescriptionStyleModel",
          "model_module_version": "1.5.0",
          "state": {
            "_model_module": "@jupyter-widgets/controls",
            "_model_module_version": "1.5.0",
            "_model_name": "DescriptionStyleModel",
            "_view_count": null,
            "_view_module": "@jupyter-widgets/base",
            "_view_module_version": "1.2.0",
            "_view_name": "StyleView",
            "description_width": ""
          }
        },
        "7c3301ebf4184a159976f24f581f91b7": {
          "model_module": "@jupyter-widgets/base",
          "model_name": "LayoutModel",
          "model_module_version": "1.2.0",
          "state": {
            "_model_module": "@jupyter-widgets/base",
            "_model_module_version": "1.2.0",
            "_model_name": "LayoutModel",
            "_view_count": null,
            "_view_module": "@jupyter-widgets/base",
            "_view_module_version": "1.2.0",
            "_view_name": "LayoutView",
            "align_content": null,
            "align_items": null,
            "align_self": null,
            "border": null,
            "bottom": null,
            "display": null,
            "flex": null,
            "flex_flow": null,
            "grid_area": null,
            "grid_auto_columns": null,
            "grid_auto_flow": null,
            "grid_auto_rows": null,
            "grid_column": null,
            "grid_gap": null,
            "grid_row": null,
            "grid_template_areas": null,
            "grid_template_columns": null,
            "grid_template_rows": null,
            "height": null,
            "justify_content": null,
            "justify_items": null,
            "left": null,
            "margin": null,
            "max_height": null,
            "max_width": null,
            "min_height": null,
            "min_width": null,
            "object_fit": null,
            "object_position": null,
            "order": null,
            "overflow": null,
            "overflow_x": null,
            "overflow_y": null,
            "padding": null,
            "right": null,
            "top": null,
            "visibility": null,
            "width": null
          }
        },
        "d05068c3696e4e4aa642a9c62d3a4f3f": {
          "model_module": "@jupyter-widgets/controls",
          "model_name": "ProgressStyleModel",
          "model_module_version": "1.5.0",
          "state": {
            "_model_module": "@jupyter-widgets/controls",
            "_model_module_version": "1.5.0",
            "_model_name": "ProgressStyleModel",
            "_view_count": null,
            "_view_module": "@jupyter-widgets/base",
            "_view_module_version": "1.2.0",
            "_view_name": "StyleView",
            "bar_color": null,
            "description_width": ""
          }
        },
        "6b16a3ef222e48b4ac3de96fe8d5177e": {
          "model_module": "@jupyter-widgets/base",
          "model_name": "LayoutModel",
          "model_module_version": "1.2.0",
          "state": {
            "_model_module": "@jupyter-widgets/base",
            "_model_module_version": "1.2.0",
            "_model_name": "LayoutModel",
            "_view_count": null,
            "_view_module": "@jupyter-widgets/base",
            "_view_module_version": "1.2.0",
            "_view_name": "LayoutView",
            "align_content": null,
            "align_items": null,
            "align_self": null,
            "border": null,
            "bottom": null,
            "display": null,
            "flex": null,
            "flex_flow": null,
            "grid_area": null,
            "grid_auto_columns": null,
            "grid_auto_flow": null,
            "grid_auto_rows": null,
            "grid_column": null,
            "grid_gap": null,
            "grid_row": null,
            "grid_template_areas": null,
            "grid_template_columns": null,
            "grid_template_rows": null,
            "height": null,
            "justify_content": null,
            "justify_items": null,
            "left": null,
            "margin": null,
            "max_height": null,
            "max_width": null,
            "min_height": null,
            "min_width": null,
            "object_fit": null,
            "object_position": null,
            "order": null,
            "overflow": null,
            "overflow_x": null,
            "overflow_y": null,
            "padding": null,
            "right": null,
            "top": null,
            "visibility": null,
            "width": null
          }
        },
        "3a7ef577357042f3af337090baff2cff": {
          "model_module": "@jupyter-widgets/controls",
          "model_name": "DescriptionStyleModel",
          "model_module_version": "1.5.0",
          "state": {
            "_model_module": "@jupyter-widgets/controls",
            "_model_module_version": "1.5.0",
            "_model_name": "DescriptionStyleModel",
            "_view_count": null,
            "_view_module": "@jupyter-widgets/base",
            "_view_module_version": "1.2.0",
            "_view_name": "StyleView",
            "description_width": ""
          }
        },
        "927082aac830482494a972c4ae9561be": {
          "model_module": "@jupyter-widgets/controls",
          "model_name": "HBoxModel",
          "model_module_version": "1.5.0",
          "state": {
            "_dom_classes": [],
            "_model_module": "@jupyter-widgets/controls",
            "_model_module_version": "1.5.0",
            "_model_name": "HBoxModel",
            "_view_count": null,
            "_view_module": "@jupyter-widgets/controls",
            "_view_module_version": "1.5.0",
            "_view_name": "HBoxView",
            "box_style": "",
            "children": [
              "IPY_MODEL_fb2c5f198d30477898cb288c1b27b501",
              "IPY_MODEL_2d21d2653beb4617b5f5f9449ea0ae4d",
              "IPY_MODEL_9998960e41644f2ba25b4b48212c78e0"
            ],
            "layout": "IPY_MODEL_4e3ee4220d304b54b736ffb48d5b723d"
          }
        },
        "fb2c5f198d30477898cb288c1b27b501": {
          "model_module": "@jupyter-widgets/controls",
          "model_name": "HTMLModel",
          "model_module_version": "1.5.0",
          "state": {
            "_dom_classes": [],
            "_model_module": "@jupyter-widgets/controls",
            "_model_module_version": "1.5.0",
            "_model_name": "HTMLModel",
            "_view_count": null,
            "_view_module": "@jupyter-widgets/controls",
            "_view_module_version": "1.5.0",
            "_view_name": "HTMLView",
            "description": "",
            "description_tooltip": null,
            "layout": "IPY_MODEL_b62811e395a44be7998f7afc50adb5bf",
            "placeholder": "​",
            "style": "IPY_MODEL_507aa18e2cde4e07884dc0779664c9dd",
            "value": "Downloading: 100%"
          }
        },
        "2d21d2653beb4617b5f5f9449ea0ae4d": {
          "model_module": "@jupyter-widgets/controls",
          "model_name": "FloatProgressModel",
          "model_module_version": "1.5.0",
          "state": {
            "_dom_classes": [],
            "_model_module": "@jupyter-widgets/controls",
            "_model_module_version": "1.5.0",
            "_model_name": "FloatProgressModel",
            "_view_count": null,
            "_view_module": "@jupyter-widgets/controls",
            "_view_module_version": "1.5.0",
            "_view_name": "ProgressView",
            "bar_style": "success",
            "description": "",
            "description_tooltip": null,
            "layout": "IPY_MODEL_f88490001e8a43b19d106ad025cba47c",
            "max": 1520013706,
            "min": 0,
            "orientation": "horizontal",
            "style": "IPY_MODEL_c038f34f5b3845b39901cae1d53a222c",
            "value": 1520013706
          }
        },
        "9998960e41644f2ba25b4b48212c78e0": {
          "model_module": "@jupyter-widgets/controls",
          "model_name": "HTMLModel",
          "model_module_version": "1.5.0",
          "state": {
            "_dom_classes": [],
            "_model_module": "@jupyter-widgets/controls",
            "_model_module_version": "1.5.0",
            "_model_name": "HTMLModel",
            "_view_count": null,
            "_view_module": "@jupyter-widgets/controls",
            "_view_module_version": "1.5.0",
            "_view_name": "HTMLView",
            "description": "",
            "description_tooltip": null,
            "layout": "IPY_MODEL_b8b6b5c0fbf8414fa09f7b0ac7253538",
            "placeholder": "​",
            "style": "IPY_MODEL_2f41fb6a2c0943b1bd38e4134ebca767",
            "value": " 1.42G/1.42G [00:41&lt;00:00, 84.8MB/s]"
          }
        },
        "4e3ee4220d304b54b736ffb48d5b723d": {
          "model_module": "@jupyter-widgets/base",
          "model_name": "LayoutModel",
          "model_module_version": "1.2.0",
          "state": {
            "_model_module": "@jupyter-widgets/base",
            "_model_module_version": "1.2.0",
            "_model_name": "LayoutModel",
            "_view_count": null,
            "_view_module": "@jupyter-widgets/base",
            "_view_module_version": "1.2.0",
            "_view_name": "LayoutView",
            "align_content": null,
            "align_items": null,
            "align_self": null,
            "border": null,
            "bottom": null,
            "display": null,
            "flex": null,
            "flex_flow": null,
            "grid_area": null,
            "grid_auto_columns": null,
            "grid_auto_flow": null,
            "grid_auto_rows": null,
            "grid_column": null,
            "grid_gap": null,
            "grid_row": null,
            "grid_template_areas": null,
            "grid_template_columns": null,
            "grid_template_rows": null,
            "height": null,
            "justify_content": null,
            "justify_items": null,
            "left": null,
            "margin": null,
            "max_height": null,
            "max_width": null,
            "min_height": null,
            "min_width": null,
            "object_fit": null,
            "object_position": null,
            "order": null,
            "overflow": null,
            "overflow_x": null,
            "overflow_y": null,
            "padding": null,
            "right": null,
            "top": null,
            "visibility": null,
            "width": null
          }
        },
        "b62811e395a44be7998f7afc50adb5bf": {
          "model_module": "@jupyter-widgets/base",
          "model_name": "LayoutModel",
          "model_module_version": "1.2.0",
          "state": {
            "_model_module": "@jupyter-widgets/base",
            "_model_module_version": "1.2.0",
            "_model_name": "LayoutModel",
            "_view_count": null,
            "_view_module": "@jupyter-widgets/base",
            "_view_module_version": "1.2.0",
            "_view_name": "LayoutView",
            "align_content": null,
            "align_items": null,
            "align_self": null,
            "border": null,
            "bottom": null,
            "display": null,
            "flex": null,
            "flex_flow": null,
            "grid_area": null,
            "grid_auto_columns": null,
            "grid_auto_flow": null,
            "grid_auto_rows": null,
            "grid_column": null,
            "grid_gap": null,
            "grid_row": null,
            "grid_template_areas": null,
            "grid_template_columns": null,
            "grid_template_rows": null,
            "height": null,
            "justify_content": null,
            "justify_items": null,
            "left": null,
            "margin": null,
            "max_height": null,
            "max_width": null,
            "min_height": null,
            "min_width": null,
            "object_fit": null,
            "object_position": null,
            "order": null,
            "overflow": null,
            "overflow_x": null,
            "overflow_y": null,
            "padding": null,
            "right": null,
            "top": null,
            "visibility": null,
            "width": null
          }
        },
        "507aa18e2cde4e07884dc0779664c9dd": {
          "model_module": "@jupyter-widgets/controls",
          "model_name": "DescriptionStyleModel",
          "model_module_version": "1.5.0",
          "state": {
            "_model_module": "@jupyter-widgets/controls",
            "_model_module_version": "1.5.0",
            "_model_name": "DescriptionStyleModel",
            "_view_count": null,
            "_view_module": "@jupyter-widgets/base",
            "_view_module_version": "1.2.0",
            "_view_name": "StyleView",
            "description_width": ""
          }
        },
        "f88490001e8a43b19d106ad025cba47c": {
          "model_module": "@jupyter-widgets/base",
          "model_name": "LayoutModel",
          "model_module_version": "1.2.0",
          "state": {
            "_model_module": "@jupyter-widgets/base",
            "_model_module_version": "1.2.0",
            "_model_name": "LayoutModel",
            "_view_count": null,
            "_view_module": "@jupyter-widgets/base",
            "_view_module_version": "1.2.0",
            "_view_name": "LayoutView",
            "align_content": null,
            "align_items": null,
            "align_self": null,
            "border": null,
            "bottom": null,
            "display": null,
            "flex": null,
            "flex_flow": null,
            "grid_area": null,
            "grid_auto_columns": null,
            "grid_auto_flow": null,
            "grid_auto_rows": null,
            "grid_column": null,
            "grid_gap": null,
            "grid_row": null,
            "grid_template_areas": null,
            "grid_template_columns": null,
            "grid_template_rows": null,
            "height": null,
            "justify_content": null,
            "justify_items": null,
            "left": null,
            "margin": null,
            "max_height": null,
            "max_width": null,
            "min_height": null,
            "min_width": null,
            "object_fit": null,
            "object_position": null,
            "order": null,
            "overflow": null,
            "overflow_x": null,
            "overflow_y": null,
            "padding": null,
            "right": null,
            "top": null,
            "visibility": null,
            "width": null
          }
        },
        "c038f34f5b3845b39901cae1d53a222c": {
          "model_module": "@jupyter-widgets/controls",
          "model_name": "ProgressStyleModel",
          "model_module_version": "1.5.0",
          "state": {
            "_model_module": "@jupyter-widgets/controls",
            "_model_module_version": "1.5.0",
            "_model_name": "ProgressStyleModel",
            "_view_count": null,
            "_view_module": "@jupyter-widgets/base",
            "_view_module_version": "1.2.0",
            "_view_name": "StyleView",
            "bar_color": null,
            "description_width": ""
          }
        },
        "b8b6b5c0fbf8414fa09f7b0ac7253538": {
          "model_module": "@jupyter-widgets/base",
          "model_name": "LayoutModel",
          "model_module_version": "1.2.0",
          "state": {
            "_model_module": "@jupyter-widgets/base",
            "_model_module_version": "1.2.0",
            "_model_name": "LayoutModel",
            "_view_count": null,
            "_view_module": "@jupyter-widgets/base",
            "_view_module_version": "1.2.0",
            "_view_name": "LayoutView",
            "align_content": null,
            "align_items": null,
            "align_self": null,
            "border": null,
            "bottom": null,
            "display": null,
            "flex": null,
            "flex_flow": null,
            "grid_area": null,
            "grid_auto_columns": null,
            "grid_auto_flow": null,
            "grid_auto_rows": null,
            "grid_column": null,
            "grid_gap": null,
            "grid_row": null,
            "grid_template_areas": null,
            "grid_template_columns": null,
            "grid_template_rows": null,
            "height": null,
            "justify_content": null,
            "justify_items": null,
            "left": null,
            "margin": null,
            "max_height": null,
            "max_width": null,
            "min_height": null,
            "min_width": null,
            "object_fit": null,
            "object_position": null,
            "order": null,
            "overflow": null,
            "overflow_x": null,
            "overflow_y": null,
            "padding": null,
            "right": null,
            "top": null,
            "visibility": null,
            "width": null
          }
        },
        "2f41fb6a2c0943b1bd38e4134ebca767": {
          "model_module": "@jupyter-widgets/controls",
          "model_name": "DescriptionStyleModel",
          "model_module_version": "1.5.0",
          "state": {
            "_model_module": "@jupyter-widgets/controls",
            "_model_module_version": "1.5.0",
            "_model_name": "DescriptionStyleModel",
            "_view_count": null,
            "_view_module": "@jupyter-widgets/base",
            "_view_module_version": "1.2.0",
            "_view_name": "StyleView",
            "description_width": ""
          }
        },
        "700fce8ef748492186352283ba585331": {
          "model_module": "@jupyter-widgets/controls",
          "model_name": "HBoxModel",
          "model_module_version": "1.5.0",
          "state": {
            "_dom_classes": [],
            "_model_module": "@jupyter-widgets/controls",
            "_model_module_version": "1.5.0",
            "_model_name": "HBoxModel",
            "_view_count": null,
            "_view_module": "@jupyter-widgets/controls",
            "_view_module_version": "1.5.0",
            "_view_name": "HBoxView",
            "box_style": "",
            "children": [
              "IPY_MODEL_cf6527e83c4a43cc8c444ea4a17a1812",
              "IPY_MODEL_6ec40adc1b3b42c2be0c96653e7cd3cb",
              "IPY_MODEL_3b9fd7c0c49d4c9ea4463d54256704dd"
            ],
            "layout": "IPY_MODEL_26e91e18875940e28b694f0ff5da9287"
          }
        },
        "cf6527e83c4a43cc8c444ea4a17a1812": {
          "model_module": "@jupyter-widgets/controls",
          "model_name": "HTMLModel",
          "model_module_version": "1.5.0",
          "state": {
            "_dom_classes": [],
            "_model_module": "@jupyter-widgets/controls",
            "_model_module_version": "1.5.0",
            "_model_name": "HTMLModel",
            "_view_count": null,
            "_view_module": "@jupyter-widgets/controls",
            "_view_module_version": "1.5.0",
            "_view_name": "HTMLView",
            "description": "",
            "description_tooltip": null,
            "layout": "IPY_MODEL_8d2d5fa22f3f41cbadb2a5d393160bf8",
            "placeholder": "​",
            "style": "IPY_MODEL_5ab5d8ada85148b0be8a6f7d2067b36d",
            "value": "Downloading: 100%"
          }
        },
        "6ec40adc1b3b42c2be0c96653e7cd3cb": {
          "model_module": "@jupyter-widgets/controls",
          "model_name": "FloatProgressModel",
          "model_module_version": "1.5.0",
          "state": {
            "_dom_classes": [],
            "_model_module": "@jupyter-widgets/controls",
            "_model_module_version": "1.5.0",
            "_model_name": "FloatProgressModel",
            "_view_count": null,
            "_view_module": "@jupyter-widgets/controls",
            "_view_module_version": "1.5.0",
            "_view_name": "ProgressView",
            "bar_style": "success",
            "description": "",
            "description_tooltip": null,
            "layout": "IPY_MODEL_8ee0e5fef1814315ae757b96b02d2442",
            "max": 666,
            "min": 0,
            "orientation": "horizontal",
            "style": "IPY_MODEL_c4aaebf916d74747b18cf6b8015b3a6f",
            "value": 666
          }
        },
        "3b9fd7c0c49d4c9ea4463d54256704dd": {
          "model_module": "@jupyter-widgets/controls",
          "model_name": "HTMLModel",
          "model_module_version": "1.5.0",
          "state": {
            "_dom_classes": [],
            "_model_module": "@jupyter-widgets/controls",
            "_model_module_version": "1.5.0",
            "_model_name": "HTMLModel",
            "_view_count": null,
            "_view_module": "@jupyter-widgets/controls",
            "_view_module_version": "1.5.0",
            "_view_name": "HTMLView",
            "description": "",
            "description_tooltip": null,
            "layout": "IPY_MODEL_cd9436ee3b9b4b8baf6b242b66b4b9bf",
            "placeholder": "​",
            "style": "IPY_MODEL_8b795916ac1f4dd3a958315a2e4837d5",
            "value": " 666/666 [00:00&lt;00:00, 44.2kB/s]"
          }
        },
        "26e91e18875940e28b694f0ff5da9287": {
          "model_module": "@jupyter-widgets/base",
          "model_name": "LayoutModel",
          "model_module_version": "1.2.0",
          "state": {
            "_model_module": "@jupyter-widgets/base",
            "_model_module_version": "1.2.0",
            "_model_name": "LayoutModel",
            "_view_count": null,
            "_view_module": "@jupyter-widgets/base",
            "_view_module_version": "1.2.0",
            "_view_name": "LayoutView",
            "align_content": null,
            "align_items": null,
            "align_self": null,
            "border": null,
            "bottom": null,
            "display": null,
            "flex": null,
            "flex_flow": null,
            "grid_area": null,
            "grid_auto_columns": null,
            "grid_auto_flow": null,
            "grid_auto_rows": null,
            "grid_column": null,
            "grid_gap": null,
            "grid_row": null,
            "grid_template_areas": null,
            "grid_template_columns": null,
            "grid_template_rows": null,
            "height": null,
            "justify_content": null,
            "justify_items": null,
            "left": null,
            "margin": null,
            "max_height": null,
            "max_width": null,
            "min_height": null,
            "min_width": null,
            "object_fit": null,
            "object_position": null,
            "order": null,
            "overflow": null,
            "overflow_x": null,
            "overflow_y": null,
            "padding": null,
            "right": null,
            "top": null,
            "visibility": null,
            "width": null
          }
        },
        "8d2d5fa22f3f41cbadb2a5d393160bf8": {
          "model_module": "@jupyter-widgets/base",
          "model_name": "LayoutModel",
          "model_module_version": "1.2.0",
          "state": {
            "_model_module": "@jupyter-widgets/base",
            "_model_module_version": "1.2.0",
            "_model_name": "LayoutModel",
            "_view_count": null,
            "_view_module": "@jupyter-widgets/base",
            "_view_module_version": "1.2.0",
            "_view_name": "LayoutView",
            "align_content": null,
            "align_items": null,
            "align_self": null,
            "border": null,
            "bottom": null,
            "display": null,
            "flex": null,
            "flex_flow": null,
            "grid_area": null,
            "grid_auto_columns": null,
            "grid_auto_flow": null,
            "grid_auto_rows": null,
            "grid_column": null,
            "grid_gap": null,
            "grid_row": null,
            "grid_template_areas": null,
            "grid_template_columns": null,
            "grid_template_rows": null,
            "height": null,
            "justify_content": null,
            "justify_items": null,
            "left": null,
            "margin": null,
            "max_height": null,
            "max_width": null,
            "min_height": null,
            "min_width": null,
            "object_fit": null,
            "object_position": null,
            "order": null,
            "overflow": null,
            "overflow_x": null,
            "overflow_y": null,
            "padding": null,
            "right": null,
            "top": null,
            "visibility": null,
            "width": null
          }
        },
        "5ab5d8ada85148b0be8a6f7d2067b36d": {
          "model_module": "@jupyter-widgets/controls",
          "model_name": "DescriptionStyleModel",
          "model_module_version": "1.5.0",
          "state": {
            "_model_module": "@jupyter-widgets/controls",
            "_model_module_version": "1.5.0",
            "_model_name": "DescriptionStyleModel",
            "_view_count": null,
            "_view_module": "@jupyter-widgets/base",
            "_view_module_version": "1.2.0",
            "_view_name": "StyleView",
            "description_width": ""
          }
        },
        "8ee0e5fef1814315ae757b96b02d2442": {
          "model_module": "@jupyter-widgets/base",
          "model_name": "LayoutModel",
          "model_module_version": "1.2.0",
          "state": {
            "_model_module": "@jupyter-widgets/base",
            "_model_module_version": "1.2.0",
            "_model_name": "LayoutModel",
            "_view_count": null,
            "_view_module": "@jupyter-widgets/base",
            "_view_module_version": "1.2.0",
            "_view_name": "LayoutView",
            "align_content": null,
            "align_items": null,
            "align_self": null,
            "border": null,
            "bottom": null,
            "display": null,
            "flex": null,
            "flex_flow": null,
            "grid_area": null,
            "grid_auto_columns": null,
            "grid_auto_flow": null,
            "grid_auto_rows": null,
            "grid_column": null,
            "grid_gap": null,
            "grid_row": null,
            "grid_template_areas": null,
            "grid_template_columns": null,
            "grid_template_rows": null,
            "height": null,
            "justify_content": null,
            "justify_items": null,
            "left": null,
            "margin": null,
            "max_height": null,
            "max_width": null,
            "min_height": null,
            "min_width": null,
            "object_fit": null,
            "object_position": null,
            "order": null,
            "overflow": null,
            "overflow_x": null,
            "overflow_y": null,
            "padding": null,
            "right": null,
            "top": null,
            "visibility": null,
            "width": null
          }
        },
        "c4aaebf916d74747b18cf6b8015b3a6f": {
          "model_module": "@jupyter-widgets/controls",
          "model_name": "ProgressStyleModel",
          "model_module_version": "1.5.0",
          "state": {
            "_model_module": "@jupyter-widgets/controls",
            "_model_module_version": "1.5.0",
            "_model_name": "ProgressStyleModel",
            "_view_count": null,
            "_view_module": "@jupyter-widgets/base",
            "_view_module_version": "1.2.0",
            "_view_name": "StyleView",
            "bar_color": null,
            "description_width": ""
          }
        },
        "cd9436ee3b9b4b8baf6b242b66b4b9bf": {
          "model_module": "@jupyter-widgets/base",
          "model_name": "LayoutModel",
          "model_module_version": "1.2.0",
          "state": {
            "_model_module": "@jupyter-widgets/base",
            "_model_module_version": "1.2.0",
            "_model_name": "LayoutModel",
            "_view_count": null,
            "_view_module": "@jupyter-widgets/base",
            "_view_module_version": "1.2.0",
            "_view_name": "LayoutView",
            "align_content": null,
            "align_items": null,
            "align_self": null,
            "border": null,
            "bottom": null,
            "display": null,
            "flex": null,
            "flex_flow": null,
            "grid_area": null,
            "grid_auto_columns": null,
            "grid_auto_flow": null,
            "grid_auto_rows": null,
            "grid_column": null,
            "grid_gap": null,
            "grid_row": null,
            "grid_template_areas": null,
            "grid_template_columns": null,
            "grid_template_rows": null,
            "height": null,
            "justify_content": null,
            "justify_items": null,
            "left": null,
            "margin": null,
            "max_height": null,
            "max_width": null,
            "min_height": null,
            "min_width": null,
            "object_fit": null,
            "object_position": null,
            "order": null,
            "overflow": null,
            "overflow_x": null,
            "overflow_y": null,
            "padding": null,
            "right": null,
            "top": null,
            "visibility": null,
            "width": null
          }
        },
        "8b795916ac1f4dd3a958315a2e4837d5": {
          "model_module": "@jupyter-widgets/controls",
          "model_name": "DescriptionStyleModel",
          "model_module_version": "1.5.0",
          "state": {
            "_model_module": "@jupyter-widgets/controls",
            "_model_module_version": "1.5.0",
            "_model_name": "DescriptionStyleModel",
            "_view_count": null,
            "_view_module": "@jupyter-widgets/base",
            "_view_module_version": "1.2.0",
            "_view_name": "StyleView",
            "description_width": ""
          }
        },
        "8fe49ffeb3ec43d3b6dbaae062b51378": {
          "model_module": "@jupyter-widgets/controls",
          "model_name": "HBoxModel",
          "model_module_version": "1.5.0",
          "state": {
            "_dom_classes": [],
            "_model_module": "@jupyter-widgets/controls",
            "_model_module_version": "1.5.0",
            "_model_name": "HBoxModel",
            "_view_count": null,
            "_view_module": "@jupyter-widgets/controls",
            "_view_module_version": "1.5.0",
            "_view_name": "HBoxView",
            "box_style": "",
            "children": [
              "IPY_MODEL_d178b6e3bcf041fca233abf3fb07b1d6",
              "IPY_MODEL_d6428a3fed0944929cd641a16bfbfb5f",
              "IPY_MODEL_51b7056fafba4e26a539616c42568824"
            ],
            "layout": "IPY_MODEL_009cc1b8439444fd87b5c49a60d7bed6"
          }
        },
        "d178b6e3bcf041fca233abf3fb07b1d6": {
          "model_module": "@jupyter-widgets/controls",
          "model_name": "HTMLModel",
          "model_module_version": "1.5.0",
          "state": {
            "_dom_classes": [],
            "_model_module": "@jupyter-widgets/controls",
            "_model_module_version": "1.5.0",
            "_model_name": "HTMLModel",
            "_view_count": null,
            "_view_module": "@jupyter-widgets/controls",
            "_view_module_version": "1.5.0",
            "_view_name": "HTMLView",
            "description": "",
            "description_tooltip": null,
            "layout": "IPY_MODEL_7af711743cae4e1b95e3402c7214acb4",
            "placeholder": "​",
            "style": "IPY_MODEL_e8a49785ddff46a78bcc94de99ea3a36",
            "value": "Downloading: 100%"
          }
        },
        "d6428a3fed0944929cd641a16bfbfb5f": {
          "model_module": "@jupyter-widgets/controls",
          "model_name": "FloatProgressModel",
          "model_module_version": "1.5.0",
          "state": {
            "_dom_classes": [],
            "_model_module": "@jupyter-widgets/controls",
            "_model_module_version": "1.5.0",
            "_model_name": "FloatProgressModel",
            "_view_count": null,
            "_view_module": "@jupyter-widgets/controls",
            "_view_module_version": "1.5.0",
            "_view_name": "ProgressView",
            "bar_style": "success",
            "description": "",
            "description_tooltip": null,
            "layout": "IPY_MODEL_fc27d040b8cc4d989743d3bf25f9af0d",
            "max": 1042301,
            "min": 0,
            "orientation": "horizontal",
            "style": "IPY_MODEL_28197f0de53b45fcae5eafbd20aebcfb",
            "value": 1042301
          }
        },
        "51b7056fafba4e26a539616c42568824": {
          "model_module": "@jupyter-widgets/controls",
          "model_name": "HTMLModel",
          "model_module_version": "1.5.0",
          "state": {
            "_dom_classes": [],
            "_model_module": "@jupyter-widgets/controls",
            "_model_module_version": "1.5.0",
            "_model_name": "HTMLModel",
            "_view_count": null,
            "_view_module": "@jupyter-widgets/controls",
            "_view_module_version": "1.5.0",
            "_view_name": "HTMLView",
            "description": "",
            "description_tooltip": null,
            "layout": "IPY_MODEL_bd7d35050e5d4ef486b8736938e439f2",
            "placeholder": "​",
            "style": "IPY_MODEL_f78d1dde31654d61880e60b1fe88ad67",
            "value": " 0.99M/0.99M [00:00&lt;00:00, 1.54MB/s]"
          }
        },
        "009cc1b8439444fd87b5c49a60d7bed6": {
          "model_module": "@jupyter-widgets/base",
          "model_name": "LayoutModel",
          "model_module_version": "1.2.0",
          "state": {
            "_model_module": "@jupyter-widgets/base",
            "_model_module_version": "1.2.0",
            "_model_name": "LayoutModel",
            "_view_count": null,
            "_view_module": "@jupyter-widgets/base",
            "_view_module_version": "1.2.0",
            "_view_name": "LayoutView",
            "align_content": null,
            "align_items": null,
            "align_self": null,
            "border": null,
            "bottom": null,
            "display": null,
            "flex": null,
            "flex_flow": null,
            "grid_area": null,
            "grid_auto_columns": null,
            "grid_auto_flow": null,
            "grid_auto_rows": null,
            "grid_column": null,
            "grid_gap": null,
            "grid_row": null,
            "grid_template_areas": null,
            "grid_template_columns": null,
            "grid_template_rows": null,
            "height": null,
            "justify_content": null,
            "justify_items": null,
            "left": null,
            "margin": null,
            "max_height": null,
            "max_width": null,
            "min_height": null,
            "min_width": null,
            "object_fit": null,
            "object_position": null,
            "order": null,
            "overflow": null,
            "overflow_x": null,
            "overflow_y": null,
            "padding": null,
            "right": null,
            "top": null,
            "visibility": null,
            "width": null
          }
        },
        "7af711743cae4e1b95e3402c7214acb4": {
          "model_module": "@jupyter-widgets/base",
          "model_name": "LayoutModel",
          "model_module_version": "1.2.0",
          "state": {
            "_model_module": "@jupyter-widgets/base",
            "_model_module_version": "1.2.0",
            "_model_name": "LayoutModel",
            "_view_count": null,
            "_view_module": "@jupyter-widgets/base",
            "_view_module_version": "1.2.0",
            "_view_name": "LayoutView",
            "align_content": null,
            "align_items": null,
            "align_self": null,
            "border": null,
            "bottom": null,
            "display": null,
            "flex": null,
            "flex_flow": null,
            "grid_area": null,
            "grid_auto_columns": null,
            "grid_auto_flow": null,
            "grid_auto_rows": null,
            "grid_column": null,
            "grid_gap": null,
            "grid_row": null,
            "grid_template_areas": null,
            "grid_template_columns": null,
            "grid_template_rows": null,
            "height": null,
            "justify_content": null,
            "justify_items": null,
            "left": null,
            "margin": null,
            "max_height": null,
            "max_width": null,
            "min_height": null,
            "min_width": null,
            "object_fit": null,
            "object_position": null,
            "order": null,
            "overflow": null,
            "overflow_x": null,
            "overflow_y": null,
            "padding": null,
            "right": null,
            "top": null,
            "visibility": null,
            "width": null
          }
        },
        "e8a49785ddff46a78bcc94de99ea3a36": {
          "model_module": "@jupyter-widgets/controls",
          "model_name": "DescriptionStyleModel",
          "model_module_version": "1.5.0",
          "state": {
            "_model_module": "@jupyter-widgets/controls",
            "_model_module_version": "1.5.0",
            "_model_name": "DescriptionStyleModel",
            "_view_count": null,
            "_view_module": "@jupyter-widgets/base",
            "_view_module_version": "1.2.0",
            "_view_name": "StyleView",
            "description_width": ""
          }
        },
        "fc27d040b8cc4d989743d3bf25f9af0d": {
          "model_module": "@jupyter-widgets/base",
          "model_name": "LayoutModel",
          "model_module_version": "1.2.0",
          "state": {
            "_model_module": "@jupyter-widgets/base",
            "_model_module_version": "1.2.0",
            "_model_name": "LayoutModel",
            "_view_count": null,
            "_view_module": "@jupyter-widgets/base",
            "_view_module_version": "1.2.0",
            "_view_name": "LayoutView",
            "align_content": null,
            "align_items": null,
            "align_self": null,
            "border": null,
            "bottom": null,
            "display": null,
            "flex": null,
            "flex_flow": null,
            "grid_area": null,
            "grid_auto_columns": null,
            "grid_auto_flow": null,
            "grid_auto_rows": null,
            "grid_column": null,
            "grid_gap": null,
            "grid_row": null,
            "grid_template_areas": null,
            "grid_template_columns": null,
            "grid_template_rows": null,
            "height": null,
            "justify_content": null,
            "justify_items": null,
            "left": null,
            "margin": null,
            "max_height": null,
            "max_width": null,
            "min_height": null,
            "min_width": null,
            "object_fit": null,
            "object_position": null,
            "order": null,
            "overflow": null,
            "overflow_x": null,
            "overflow_y": null,
            "padding": null,
            "right": null,
            "top": null,
            "visibility": null,
            "width": null
          }
        },
        "28197f0de53b45fcae5eafbd20aebcfb": {
          "model_module": "@jupyter-widgets/controls",
          "model_name": "ProgressStyleModel",
          "model_module_version": "1.5.0",
          "state": {
            "_model_module": "@jupyter-widgets/controls",
            "_model_module_version": "1.5.0",
            "_model_name": "ProgressStyleModel",
            "_view_count": null,
            "_view_module": "@jupyter-widgets/base",
            "_view_module_version": "1.2.0",
            "_view_name": "StyleView",
            "bar_color": null,
            "description_width": ""
          }
        },
        "bd7d35050e5d4ef486b8736938e439f2": {
          "model_module": "@jupyter-widgets/base",
          "model_name": "LayoutModel",
          "model_module_version": "1.2.0",
          "state": {
            "_model_module": "@jupyter-widgets/base",
            "_model_module_version": "1.2.0",
            "_model_name": "LayoutModel",
            "_view_count": null,
            "_view_module": "@jupyter-widgets/base",
            "_view_module_version": "1.2.0",
            "_view_name": "LayoutView",
            "align_content": null,
            "align_items": null,
            "align_self": null,
            "border": null,
            "bottom": null,
            "display": null,
            "flex": null,
            "flex_flow": null,
            "grid_area": null,
            "grid_auto_columns": null,
            "grid_auto_flow": null,
            "grid_auto_rows": null,
            "grid_column": null,
            "grid_gap": null,
            "grid_row": null,
            "grid_template_areas": null,
            "grid_template_columns": null,
            "grid_template_rows": null,
            "height": null,
            "justify_content": null,
            "justify_items": null,
            "left": null,
            "margin": null,
            "max_height": null,
            "max_width": null,
            "min_height": null,
            "min_width": null,
            "object_fit": null,
            "object_position": null,
            "order": null,
            "overflow": null,
            "overflow_x": null,
            "overflow_y": null,
            "padding": null,
            "right": null,
            "top": null,
            "visibility": null,
            "width": null
          }
        },
        "f78d1dde31654d61880e60b1fe88ad67": {
          "model_module": "@jupyter-widgets/controls",
          "model_name": "DescriptionStyleModel",
          "model_module_version": "1.5.0",
          "state": {
            "_model_module": "@jupyter-widgets/controls",
            "_model_module_version": "1.5.0",
            "_model_name": "DescriptionStyleModel",
            "_view_count": null,
            "_view_module": "@jupyter-widgets/base",
            "_view_module_version": "1.2.0",
            "_view_name": "StyleView",
            "description_width": ""
          }
        },
        "34595063c757430791388d5e43d1b1f0": {
          "model_module": "@jupyter-widgets/controls",
          "model_name": "HBoxModel",
          "model_module_version": "1.5.0",
          "state": {
            "_dom_classes": [],
            "_model_module": "@jupyter-widgets/controls",
            "_model_module_version": "1.5.0",
            "_model_name": "HBoxModel",
            "_view_count": null,
            "_view_module": "@jupyter-widgets/controls",
            "_view_module_version": "1.5.0",
            "_view_name": "HBoxView",
            "box_style": "",
            "children": [
              "IPY_MODEL_5819c479c9b34cd386db5bc84387900f",
              "IPY_MODEL_bf3301b9893647bca006c9f54c9204bb",
              "IPY_MODEL_0432d919526642018da4c83f539f7b9d"
            ],
            "layout": "IPY_MODEL_faa96391f2b446ef87b1a750d05fd6c3"
          }
        },
        "5819c479c9b34cd386db5bc84387900f": {
          "model_module": "@jupyter-widgets/controls",
          "model_name": "HTMLModel",
          "model_module_version": "1.5.0",
          "state": {
            "_dom_classes": [],
            "_model_module": "@jupyter-widgets/controls",
            "_model_module_version": "1.5.0",
            "_model_name": "HTMLModel",
            "_view_count": null,
            "_view_module": "@jupyter-widgets/controls",
            "_view_module_version": "1.5.0",
            "_view_name": "HTMLView",
            "description": "",
            "description_tooltip": null,
            "layout": "IPY_MODEL_eeb4b1058f2b4a65b8a3599993abf38e",
            "placeholder": "​",
            "style": "IPY_MODEL_9e1c9384cf5c44e2beed91b26deee1e2",
            "value": "Downloading: 100%"
          }
        },
        "bf3301b9893647bca006c9f54c9204bb": {
          "model_module": "@jupyter-widgets/controls",
          "model_name": "FloatProgressModel",
          "model_module_version": "1.5.0",
          "state": {
            "_dom_classes": [],
            "_model_module": "@jupyter-widgets/controls",
            "_model_module_version": "1.5.0",
            "_model_name": "FloatProgressModel",
            "_view_count": null,
            "_view_module": "@jupyter-widgets/controls",
            "_view_module_version": "1.5.0",
            "_view_name": "ProgressView",
            "bar_style": "success",
            "description": "",
            "description_tooltip": null,
            "layout": "IPY_MODEL_1cbafd4785ad43f4b720090ecbf0d3da",
            "max": 456318,
            "min": 0,
            "orientation": "horizontal",
            "style": "IPY_MODEL_688ff622c85c40509ec4839ea9194f46",
            "value": 456318
          }
        },
        "0432d919526642018da4c83f539f7b9d": {
          "model_module": "@jupyter-widgets/controls",
          "model_name": "HTMLModel",
          "model_module_version": "1.5.0",
          "state": {
            "_dom_classes": [],
            "_model_module": "@jupyter-widgets/controls",
            "_model_module_version": "1.5.0",
            "_model_name": "HTMLModel",
            "_view_count": null,
            "_view_module": "@jupyter-widgets/controls",
            "_view_module_version": "1.5.0",
            "_view_name": "HTMLView",
            "description": "",
            "description_tooltip": null,
            "layout": "IPY_MODEL_d0753094fcde4936b1c41743a18707d1",
            "placeholder": "​",
            "style": "IPY_MODEL_281d9198e61342388713f3aa21fbd35a",
            "value": " 446k/446k [00:00&lt;00:00, 10.8MB/s]"
          }
        },
        "faa96391f2b446ef87b1a750d05fd6c3": {
          "model_module": "@jupyter-widgets/base",
          "model_name": "LayoutModel",
          "model_module_version": "1.2.0",
          "state": {
            "_model_module": "@jupyter-widgets/base",
            "_model_module_version": "1.2.0",
            "_model_name": "LayoutModel",
            "_view_count": null,
            "_view_module": "@jupyter-widgets/base",
            "_view_module_version": "1.2.0",
            "_view_name": "LayoutView",
            "align_content": null,
            "align_items": null,
            "align_self": null,
            "border": null,
            "bottom": null,
            "display": null,
            "flex": null,
            "flex_flow": null,
            "grid_area": null,
            "grid_auto_columns": null,
            "grid_auto_flow": null,
            "grid_auto_rows": null,
            "grid_column": null,
            "grid_gap": null,
            "grid_row": null,
            "grid_template_areas": null,
            "grid_template_columns": null,
            "grid_template_rows": null,
            "height": null,
            "justify_content": null,
            "justify_items": null,
            "left": null,
            "margin": null,
            "max_height": null,
            "max_width": null,
            "min_height": null,
            "min_width": null,
            "object_fit": null,
            "object_position": null,
            "order": null,
            "overflow": null,
            "overflow_x": null,
            "overflow_y": null,
            "padding": null,
            "right": null,
            "top": null,
            "visibility": null,
            "width": null
          }
        },
        "eeb4b1058f2b4a65b8a3599993abf38e": {
          "model_module": "@jupyter-widgets/base",
          "model_name": "LayoutModel",
          "model_module_version": "1.2.0",
          "state": {
            "_model_module": "@jupyter-widgets/base",
            "_model_module_version": "1.2.0",
            "_model_name": "LayoutModel",
            "_view_count": null,
            "_view_module": "@jupyter-widgets/base",
            "_view_module_version": "1.2.0",
            "_view_name": "LayoutView",
            "align_content": null,
            "align_items": null,
            "align_self": null,
            "border": null,
            "bottom": null,
            "display": null,
            "flex": null,
            "flex_flow": null,
            "grid_area": null,
            "grid_auto_columns": null,
            "grid_auto_flow": null,
            "grid_auto_rows": null,
            "grid_column": null,
            "grid_gap": null,
            "grid_row": null,
            "grid_template_areas": null,
            "grid_template_columns": null,
            "grid_template_rows": null,
            "height": null,
            "justify_content": null,
            "justify_items": null,
            "left": null,
            "margin": null,
            "max_height": null,
            "max_width": null,
            "min_height": null,
            "min_width": null,
            "object_fit": null,
            "object_position": null,
            "order": null,
            "overflow": null,
            "overflow_x": null,
            "overflow_y": null,
            "padding": null,
            "right": null,
            "top": null,
            "visibility": null,
            "width": null
          }
        },
        "9e1c9384cf5c44e2beed91b26deee1e2": {
          "model_module": "@jupyter-widgets/controls",
          "model_name": "DescriptionStyleModel",
          "model_module_version": "1.5.0",
          "state": {
            "_model_module": "@jupyter-widgets/controls",
            "_model_module_version": "1.5.0",
            "_model_name": "DescriptionStyleModel",
            "_view_count": null,
            "_view_module": "@jupyter-widgets/base",
            "_view_module_version": "1.2.0",
            "_view_name": "StyleView",
            "description_width": ""
          }
        },
        "1cbafd4785ad43f4b720090ecbf0d3da": {
          "model_module": "@jupyter-widgets/base",
          "model_name": "LayoutModel",
          "model_module_version": "1.2.0",
          "state": {
            "_model_module": "@jupyter-widgets/base",
            "_model_module_version": "1.2.0",
            "_model_name": "LayoutModel",
            "_view_count": null,
            "_view_module": "@jupyter-widgets/base",
            "_view_module_version": "1.2.0",
            "_view_name": "LayoutView",
            "align_content": null,
            "align_items": null,
            "align_self": null,
            "border": null,
            "bottom": null,
            "display": null,
            "flex": null,
            "flex_flow": null,
            "grid_area": null,
            "grid_auto_columns": null,
            "grid_auto_flow": null,
            "grid_auto_rows": null,
            "grid_column": null,
            "grid_gap": null,
            "grid_row": null,
            "grid_template_areas": null,
            "grid_template_columns": null,
            "grid_template_rows": null,
            "height": null,
            "justify_content": null,
            "justify_items": null,
            "left": null,
            "margin": null,
            "max_height": null,
            "max_width": null,
            "min_height": null,
            "min_width": null,
            "object_fit": null,
            "object_position": null,
            "order": null,
            "overflow": null,
            "overflow_x": null,
            "overflow_y": null,
            "padding": null,
            "right": null,
            "top": null,
            "visibility": null,
            "width": null
          }
        },
        "688ff622c85c40509ec4839ea9194f46": {
          "model_module": "@jupyter-widgets/controls",
          "model_name": "ProgressStyleModel",
          "model_module_version": "1.5.0",
          "state": {
            "_model_module": "@jupyter-widgets/controls",
            "_model_module_version": "1.5.0",
            "_model_name": "ProgressStyleModel",
            "_view_count": null,
            "_view_module": "@jupyter-widgets/base",
            "_view_module_version": "1.2.0",
            "_view_name": "StyleView",
            "bar_color": null,
            "description_width": ""
          }
        },
        "d0753094fcde4936b1c41743a18707d1": {
          "model_module": "@jupyter-widgets/base",
          "model_name": "LayoutModel",
          "model_module_version": "1.2.0",
          "state": {
            "_model_module": "@jupyter-widgets/base",
            "_model_module_version": "1.2.0",
            "_model_name": "LayoutModel",
            "_view_count": null,
            "_view_module": "@jupyter-widgets/base",
            "_view_module_version": "1.2.0",
            "_view_name": "LayoutView",
            "align_content": null,
            "align_items": null,
            "align_self": null,
            "border": null,
            "bottom": null,
            "display": null,
            "flex": null,
            "flex_flow": null,
            "grid_area": null,
            "grid_auto_columns": null,
            "grid_auto_flow": null,
            "grid_auto_rows": null,
            "grid_column": null,
            "grid_gap": null,
            "grid_row": null,
            "grid_template_areas": null,
            "grid_template_columns": null,
            "grid_template_rows": null,
            "height": null,
            "justify_content": null,
            "justify_items": null,
            "left": null,
            "margin": null,
            "max_height": null,
            "max_width": null,
            "min_height": null,
            "min_width": null,
            "object_fit": null,
            "object_position": null,
            "order": null,
            "overflow": null,
            "overflow_x": null,
            "overflow_y": null,
            "padding": null,
            "right": null,
            "top": null,
            "visibility": null,
            "width": null
          }
        },
        "281d9198e61342388713f3aa21fbd35a": {
          "model_module": "@jupyter-widgets/controls",
          "model_name": "DescriptionStyleModel",
          "model_module_version": "1.5.0",
          "state": {
            "_model_module": "@jupyter-widgets/controls",
            "_model_module_version": "1.5.0",
            "_model_name": "DescriptionStyleModel",
            "_view_count": null,
            "_view_module": "@jupyter-widgets/base",
            "_view_module_version": "1.2.0",
            "_view_name": "StyleView",
            "description_width": ""
          }
        },
        "78e85f092552499ea58ee861982f15fc": {
          "model_module": "@jupyter-widgets/controls",
          "model_name": "HBoxModel",
          "model_module_version": "1.5.0",
          "state": {
            "_dom_classes": [],
            "_model_module": "@jupyter-widgets/controls",
            "_model_module_version": "1.5.0",
            "_model_name": "HBoxModel",
            "_view_count": null,
            "_view_module": "@jupyter-widgets/controls",
            "_view_module_version": "1.5.0",
            "_view_name": "HBoxView",
            "box_style": "",
            "children": [
              "IPY_MODEL_59d458ae24e249dc947f8403defb8aeb",
              "IPY_MODEL_af892a335f8a4fb3adaab97ff95cc0d0",
              "IPY_MODEL_b64858eb48c849fca8533dec0f8817ba"
            ],
            "layout": "IPY_MODEL_295098aeee1b4d7cae5b80e65251327e"
          }
        },
        "59d458ae24e249dc947f8403defb8aeb": {
          "model_module": "@jupyter-widgets/controls",
          "model_name": "HTMLModel",
          "model_module_version": "1.5.0",
          "state": {
            "_dom_classes": [],
            "_model_module": "@jupyter-widgets/controls",
            "_model_module_version": "1.5.0",
            "_model_name": "HTMLModel",
            "_view_count": null,
            "_view_module": "@jupyter-widgets/controls",
            "_view_module_version": "1.5.0",
            "_view_name": "HTMLView",
            "description": "",
            "description_tooltip": null,
            "layout": "IPY_MODEL_e71136744ab64506aed75ff20d01a25b",
            "placeholder": "​",
            "style": "IPY_MODEL_d64d992bc39a4cbb9b4768a1c2010118",
            "value": "Downloading: 100%"
          }
        },
        "af892a335f8a4fb3adaab97ff95cc0d0": {
          "model_module": "@jupyter-widgets/controls",
          "model_name": "FloatProgressModel",
          "model_module_version": "1.5.0",
          "state": {
            "_dom_classes": [],
            "_model_module": "@jupyter-widgets/controls",
            "_model_module_version": "1.5.0",
            "_model_name": "FloatProgressModel",
            "_view_count": null,
            "_view_module": "@jupyter-widgets/controls",
            "_view_module_version": "1.5.0",
            "_view_name": "ProgressView",
            "bar_style": "success",
            "description": "",
            "description_tooltip": null,
            "layout": "IPY_MODEL_78a6e6453e0245dcbaf84741a7fadf4f",
            "max": 1355256,
            "min": 0,
            "orientation": "horizontal",
            "style": "IPY_MODEL_b1348517155e4d29a337972dda97cb89",
            "value": 1355256
          }
        },
        "b64858eb48c849fca8533dec0f8817ba": {
          "model_module": "@jupyter-widgets/controls",
          "model_name": "HTMLModel",
          "model_module_version": "1.5.0",
          "state": {
            "_dom_classes": [],
            "_model_module": "@jupyter-widgets/controls",
            "_model_module_version": "1.5.0",
            "_model_name": "HTMLModel",
            "_view_count": null,
            "_view_module": "@jupyter-widgets/controls",
            "_view_module_version": "1.5.0",
            "_view_name": "HTMLView",
            "description": "",
            "description_tooltip": null,
            "layout": "IPY_MODEL_6cd9a5eb915b493a97f52830b75cc5e1",
            "placeholder": "​",
            "style": "IPY_MODEL_3b6037edbec14a22a7adbcdaa484a996",
            "value": " 1.29M/1.29M [00:00&lt;00:00, 2.24MB/s]"
          }
        },
        "295098aeee1b4d7cae5b80e65251327e": {
          "model_module": "@jupyter-widgets/base",
          "model_name": "LayoutModel",
          "model_module_version": "1.2.0",
          "state": {
            "_model_module": "@jupyter-widgets/base",
            "_model_module_version": "1.2.0",
            "_model_name": "LayoutModel",
            "_view_count": null,
            "_view_module": "@jupyter-widgets/base",
            "_view_module_version": "1.2.0",
            "_view_name": "LayoutView",
            "align_content": null,
            "align_items": null,
            "align_self": null,
            "border": null,
            "bottom": null,
            "display": null,
            "flex": null,
            "flex_flow": null,
            "grid_area": null,
            "grid_auto_columns": null,
            "grid_auto_flow": null,
            "grid_auto_rows": null,
            "grid_column": null,
            "grid_gap": null,
            "grid_row": null,
            "grid_template_areas": null,
            "grid_template_columns": null,
            "grid_template_rows": null,
            "height": null,
            "justify_content": null,
            "justify_items": null,
            "left": null,
            "margin": null,
            "max_height": null,
            "max_width": null,
            "min_height": null,
            "min_width": null,
            "object_fit": null,
            "object_position": null,
            "order": null,
            "overflow": null,
            "overflow_x": null,
            "overflow_y": null,
            "padding": null,
            "right": null,
            "top": null,
            "visibility": null,
            "width": null
          }
        },
        "e71136744ab64506aed75ff20d01a25b": {
          "model_module": "@jupyter-widgets/base",
          "model_name": "LayoutModel",
          "model_module_version": "1.2.0",
          "state": {
            "_model_module": "@jupyter-widgets/base",
            "_model_module_version": "1.2.0",
            "_model_name": "LayoutModel",
            "_view_count": null,
            "_view_module": "@jupyter-widgets/base",
            "_view_module_version": "1.2.0",
            "_view_name": "LayoutView",
            "align_content": null,
            "align_items": null,
            "align_self": null,
            "border": null,
            "bottom": null,
            "display": null,
            "flex": null,
            "flex_flow": null,
            "grid_area": null,
            "grid_auto_columns": null,
            "grid_auto_flow": null,
            "grid_auto_rows": null,
            "grid_column": null,
            "grid_gap": null,
            "grid_row": null,
            "grid_template_areas": null,
            "grid_template_columns": null,
            "grid_template_rows": null,
            "height": null,
            "justify_content": null,
            "justify_items": null,
            "left": null,
            "margin": null,
            "max_height": null,
            "max_width": null,
            "min_height": null,
            "min_width": null,
            "object_fit": null,
            "object_position": null,
            "order": null,
            "overflow": null,
            "overflow_x": null,
            "overflow_y": null,
            "padding": null,
            "right": null,
            "top": null,
            "visibility": null,
            "width": null
          }
        },
        "d64d992bc39a4cbb9b4768a1c2010118": {
          "model_module": "@jupyter-widgets/controls",
          "model_name": "DescriptionStyleModel",
          "model_module_version": "1.5.0",
          "state": {
            "_model_module": "@jupyter-widgets/controls",
            "_model_module_version": "1.5.0",
            "_model_name": "DescriptionStyleModel",
            "_view_count": null,
            "_view_module": "@jupyter-widgets/base",
            "_view_module_version": "1.2.0",
            "_view_name": "StyleView",
            "description_width": ""
          }
        },
        "78a6e6453e0245dcbaf84741a7fadf4f": {
          "model_module": "@jupyter-widgets/base",
          "model_name": "LayoutModel",
          "model_module_version": "1.2.0",
          "state": {
            "_model_module": "@jupyter-widgets/base",
            "_model_module_version": "1.2.0",
            "_model_name": "LayoutModel",
            "_view_count": null,
            "_view_module": "@jupyter-widgets/base",
            "_view_module_version": "1.2.0",
            "_view_name": "LayoutView",
            "align_content": null,
            "align_items": null,
            "align_self": null,
            "border": null,
            "bottom": null,
            "display": null,
            "flex": null,
            "flex_flow": null,
            "grid_area": null,
            "grid_auto_columns": null,
            "grid_auto_flow": null,
            "grid_auto_rows": null,
            "grid_column": null,
            "grid_gap": null,
            "grid_row": null,
            "grid_template_areas": null,
            "grid_template_columns": null,
            "grid_template_rows": null,
            "height": null,
            "justify_content": null,
            "justify_items": null,
            "left": null,
            "margin": null,
            "max_height": null,
            "max_width": null,
            "min_height": null,
            "min_width": null,
            "object_fit": null,
            "object_position": null,
            "order": null,
            "overflow": null,
            "overflow_x": null,
            "overflow_y": null,
            "padding": null,
            "right": null,
            "top": null,
            "visibility": null,
            "width": null
          }
        },
        "b1348517155e4d29a337972dda97cb89": {
          "model_module": "@jupyter-widgets/controls",
          "model_name": "ProgressStyleModel",
          "model_module_version": "1.5.0",
          "state": {
            "_model_module": "@jupyter-widgets/controls",
            "_model_module_version": "1.5.0",
            "_model_name": "ProgressStyleModel",
            "_view_count": null,
            "_view_module": "@jupyter-widgets/base",
            "_view_module_version": "1.2.0",
            "_view_name": "StyleView",
            "bar_color": null,
            "description_width": ""
          }
        },
        "6cd9a5eb915b493a97f52830b75cc5e1": {
          "model_module": "@jupyter-widgets/base",
          "model_name": "LayoutModel",
          "model_module_version": "1.2.0",
          "state": {
            "_model_module": "@jupyter-widgets/base",
            "_model_module_version": "1.2.0",
            "_model_name": "LayoutModel",
            "_view_count": null,
            "_view_module": "@jupyter-widgets/base",
            "_view_module_version": "1.2.0",
            "_view_name": "LayoutView",
            "align_content": null,
            "align_items": null,
            "align_self": null,
            "border": null,
            "bottom": null,
            "display": null,
            "flex": null,
            "flex_flow": null,
            "grid_area": null,
            "grid_auto_columns": null,
            "grid_auto_flow": null,
            "grid_auto_rows": null,
            "grid_column": null,
            "grid_gap": null,
            "grid_row": null,
            "grid_template_areas": null,
            "grid_template_columns": null,
            "grid_template_rows": null,
            "height": null,
            "justify_content": null,
            "justify_items": null,
            "left": null,
            "margin": null,
            "max_height": null,
            "max_width": null,
            "min_height": null,
            "min_width": null,
            "object_fit": null,
            "object_position": null,
            "order": null,
            "overflow": null,
            "overflow_x": null,
            "overflow_y": null,
            "padding": null,
            "right": null,
            "top": null,
            "visibility": null,
            "width": null
          }
        },
        "3b6037edbec14a22a7adbcdaa484a996": {
          "model_module": "@jupyter-widgets/controls",
          "model_name": "DescriptionStyleModel",
          "model_module_version": "1.5.0",
          "state": {
            "_model_module": "@jupyter-widgets/controls",
            "_model_module_version": "1.5.0",
            "_model_name": "DescriptionStyleModel",
            "_view_count": null,
            "_view_module": "@jupyter-widgets/base",
            "_view_module_version": "1.2.0",
            "_view_name": "StyleView",
            "description_width": ""
          }
        },
        "d0b04601e1944c58bf7733246612b0ad": {
          "model_module": "@jupyter-widgets/controls",
          "model_name": "HBoxModel",
          "model_module_version": "1.5.0",
          "state": {
            "_dom_classes": [],
            "_model_module": "@jupyter-widgets/controls",
            "_model_module_version": "1.5.0",
            "_model_name": "HBoxModel",
            "_view_count": null,
            "_view_module": "@jupyter-widgets/controls",
            "_view_module_version": "1.5.0",
            "_view_name": "HBoxView",
            "box_style": "",
            "children": [
              "IPY_MODEL_4e8a0e4a548c4e918b3ce9770f6c301f",
              "IPY_MODEL_391ab36b29cf41808389a4262c3d9e4d",
              "IPY_MODEL_06fe90a935144b8786c132b770a5043a"
            ],
            "layout": "IPY_MODEL_3ef9defaf876457e8bb13221a1f25539"
          }
        },
        "4e8a0e4a548c4e918b3ce9770f6c301f": {
          "model_module": "@jupyter-widgets/controls",
          "model_name": "HTMLModel",
          "model_module_version": "1.5.0",
          "state": {
            "_dom_classes": [],
            "_model_module": "@jupyter-widgets/controls",
            "_model_module_version": "1.5.0",
            "_model_name": "HTMLModel",
            "_view_count": null,
            "_view_module": "@jupyter-widgets/controls",
            "_view_module_version": "1.5.0",
            "_view_name": "HTMLView",
            "description": "",
            "description_tooltip": null,
            "layout": "IPY_MODEL_50b3b5cbd7d04dce81ac5624f733999c",
            "placeholder": "​",
            "style": "IPY_MODEL_a83258b3a9ab4ea1babf8128b65f31a6",
            "value": "Downloading: 100%"
          }
        },
        "391ab36b29cf41808389a4262c3d9e4d": {
          "model_module": "@jupyter-widgets/controls",
          "model_name": "FloatProgressModel",
          "model_module_version": "1.5.0",
          "state": {
            "_dom_classes": [],
            "_model_module": "@jupyter-widgets/controls",
            "_model_module_version": "1.5.0",
            "_model_name": "FloatProgressModel",
            "_view_count": null,
            "_view_module": "@jupyter-widgets/controls",
            "_view_module_version": "1.5.0",
            "_view_name": "ProgressView",
            "bar_style": "success",
            "description": "",
            "description_tooltip": null,
            "layout": "IPY_MODEL_aa0c10cfc8a44cbdbaf5ac164caf5fc7",
            "max": 3247202234,
            "min": 0,
            "orientation": "horizontal",
            "style": "IPY_MODEL_699f315b24ad4a71822962795aae108c",
            "value": 3247202234
          }
        },
        "06fe90a935144b8786c132b770a5043a": {
          "model_module": "@jupyter-widgets/controls",
          "model_name": "HTMLModel",
          "model_module_version": "1.5.0",
          "state": {
            "_dom_classes": [],
            "_model_module": "@jupyter-widgets/controls",
            "_model_module_version": "1.5.0",
            "_model_name": "HTMLModel",
            "_view_count": null,
            "_view_module": "@jupyter-widgets/controls",
            "_view_module_version": "1.5.0",
            "_view_name": "HTMLView",
            "description": "",
            "description_tooltip": null,
            "layout": "IPY_MODEL_f02d0f1db0e948bab9b3a5b1c319fbaa",
            "placeholder": "​",
            "style": "IPY_MODEL_26221c6bdfef4fe0998b0be6228c11bb",
            "value": " 3.02G/3.02G [00:59&lt;00:00, 28.7MB/s]"
          }
        },
        "3ef9defaf876457e8bb13221a1f25539": {
          "model_module": "@jupyter-widgets/base",
          "model_name": "LayoutModel",
          "model_module_version": "1.2.0",
          "state": {
            "_model_module": "@jupyter-widgets/base",
            "_model_module_version": "1.2.0",
            "_model_name": "LayoutModel",
            "_view_count": null,
            "_view_module": "@jupyter-widgets/base",
            "_view_module_version": "1.2.0",
            "_view_name": "LayoutView",
            "align_content": null,
            "align_items": null,
            "align_self": null,
            "border": null,
            "bottom": null,
            "display": null,
            "flex": null,
            "flex_flow": null,
            "grid_area": null,
            "grid_auto_columns": null,
            "grid_auto_flow": null,
            "grid_auto_rows": null,
            "grid_column": null,
            "grid_gap": null,
            "grid_row": null,
            "grid_template_areas": null,
            "grid_template_columns": null,
            "grid_template_rows": null,
            "height": null,
            "justify_content": null,
            "justify_items": null,
            "left": null,
            "margin": null,
            "max_height": null,
            "max_width": null,
            "min_height": null,
            "min_width": null,
            "object_fit": null,
            "object_position": null,
            "order": null,
            "overflow": null,
            "overflow_x": null,
            "overflow_y": null,
            "padding": null,
            "right": null,
            "top": null,
            "visibility": null,
            "width": null
          }
        },
        "50b3b5cbd7d04dce81ac5624f733999c": {
          "model_module": "@jupyter-widgets/base",
          "model_name": "LayoutModel",
          "model_module_version": "1.2.0",
          "state": {
            "_model_module": "@jupyter-widgets/base",
            "_model_module_version": "1.2.0",
            "_model_name": "LayoutModel",
            "_view_count": null,
            "_view_module": "@jupyter-widgets/base",
            "_view_module_version": "1.2.0",
            "_view_name": "LayoutView",
            "align_content": null,
            "align_items": null,
            "align_self": null,
            "border": null,
            "bottom": null,
            "display": null,
            "flex": null,
            "flex_flow": null,
            "grid_area": null,
            "grid_auto_columns": null,
            "grid_auto_flow": null,
            "grid_auto_rows": null,
            "grid_column": null,
            "grid_gap": null,
            "grid_row": null,
            "grid_template_areas": null,
            "grid_template_columns": null,
            "grid_template_rows": null,
            "height": null,
            "justify_content": null,
            "justify_items": null,
            "left": null,
            "margin": null,
            "max_height": null,
            "max_width": null,
            "min_height": null,
            "min_width": null,
            "object_fit": null,
            "object_position": null,
            "order": null,
            "overflow": null,
            "overflow_x": null,
            "overflow_y": null,
            "padding": null,
            "right": null,
            "top": null,
            "visibility": null,
            "width": null
          }
        },
        "a83258b3a9ab4ea1babf8128b65f31a6": {
          "model_module": "@jupyter-widgets/controls",
          "model_name": "DescriptionStyleModel",
          "model_module_version": "1.5.0",
          "state": {
            "_model_module": "@jupyter-widgets/controls",
            "_model_module_version": "1.5.0",
            "_model_name": "DescriptionStyleModel",
            "_view_count": null,
            "_view_module": "@jupyter-widgets/base",
            "_view_module_version": "1.2.0",
            "_view_name": "StyleView",
            "description_width": ""
          }
        },
        "aa0c10cfc8a44cbdbaf5ac164caf5fc7": {
          "model_module": "@jupyter-widgets/base",
          "model_name": "LayoutModel",
          "model_module_version": "1.2.0",
          "state": {
            "_model_module": "@jupyter-widgets/base",
            "_model_module_version": "1.2.0",
            "_model_name": "LayoutModel",
            "_view_count": null,
            "_view_module": "@jupyter-widgets/base",
            "_view_module_version": "1.2.0",
            "_view_name": "LayoutView",
            "align_content": null,
            "align_items": null,
            "align_self": null,
            "border": null,
            "bottom": null,
            "display": null,
            "flex": null,
            "flex_flow": null,
            "grid_area": null,
            "grid_auto_columns": null,
            "grid_auto_flow": null,
            "grid_auto_rows": null,
            "grid_column": null,
            "grid_gap": null,
            "grid_row": null,
            "grid_template_areas": null,
            "grid_template_columns": null,
            "grid_template_rows": null,
            "height": null,
            "justify_content": null,
            "justify_items": null,
            "left": null,
            "margin": null,
            "max_height": null,
            "max_width": null,
            "min_height": null,
            "min_width": null,
            "object_fit": null,
            "object_position": null,
            "order": null,
            "overflow": null,
            "overflow_x": null,
            "overflow_y": null,
            "padding": null,
            "right": null,
            "top": null,
            "visibility": null,
            "width": null
          }
        },
        "699f315b24ad4a71822962795aae108c": {
          "model_module": "@jupyter-widgets/controls",
          "model_name": "ProgressStyleModel",
          "model_module_version": "1.5.0",
          "state": {
            "_model_module": "@jupyter-widgets/controls",
            "_model_module_version": "1.5.0",
            "_model_name": "ProgressStyleModel",
            "_view_count": null,
            "_view_module": "@jupyter-widgets/base",
            "_view_module_version": "1.2.0",
            "_view_name": "StyleView",
            "bar_color": null,
            "description_width": ""
          }
        },
        "f02d0f1db0e948bab9b3a5b1c319fbaa": {
          "model_module": "@jupyter-widgets/base",
          "model_name": "LayoutModel",
          "model_module_version": "1.2.0",
          "state": {
            "_model_module": "@jupyter-widgets/base",
            "_model_module_version": "1.2.0",
            "_model_name": "LayoutModel",
            "_view_count": null,
            "_view_module": "@jupyter-widgets/base",
            "_view_module_version": "1.2.0",
            "_view_name": "LayoutView",
            "align_content": null,
            "align_items": null,
            "align_self": null,
            "border": null,
            "bottom": null,
            "display": null,
            "flex": null,
            "flex_flow": null,
            "grid_area": null,
            "grid_auto_columns": null,
            "grid_auto_flow": null,
            "grid_auto_rows": null,
            "grid_column": null,
            "grid_gap": null,
            "grid_row": null,
            "grid_template_areas": null,
            "grid_template_columns": null,
            "grid_template_rows": null,
            "height": null,
            "justify_content": null,
            "justify_items": null,
            "left": null,
            "margin": null,
            "max_height": null,
            "max_width": null,
            "min_height": null,
            "min_width": null,
            "object_fit": null,
            "object_position": null,
            "order": null,
            "overflow": null,
            "overflow_x": null,
            "overflow_y": null,
            "padding": null,
            "right": null,
            "top": null,
            "visibility": null,
            "width": null
          }
        },
        "26221c6bdfef4fe0998b0be6228c11bb": {
          "model_module": "@jupyter-widgets/controls",
          "model_name": "DescriptionStyleModel",
          "model_module_version": "1.5.0",
          "state": {
            "_model_module": "@jupyter-widgets/controls",
            "_model_module_version": "1.5.0",
            "_model_name": "DescriptionStyleModel",
            "_view_count": null,
            "_view_module": "@jupyter-widgets/base",
            "_view_module_version": "1.2.0",
            "_view_name": "StyleView",
            "description_width": ""
          }
        }
      }
    }
  },
  "nbformat": 4,
  "nbformat_minor": 0
}